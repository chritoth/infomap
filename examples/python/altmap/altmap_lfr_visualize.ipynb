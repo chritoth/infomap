{
 "cells": [
  {
   "cell_type": "markdown",
   "metadata": {},
   "source": [
    "## LFR benchmark for Altmap vs Map Eq\n",
    "### Compare altmap to map eq using networkx"
   ]
  },
  {
   "cell_type": "code",
   "execution_count": 3,
   "outputs": [
    {
     "name": "stdout",
     "text": [
      "Using matplotlib backend: Qt5Agg\n",
      "Populating the interactive namespace from numpy and matplotlib\n"
     ],
     "output_type": "stream"
    }
   ],
   "source": [
    "from matplotlib.pyplot import Line2D\n",
    "from matplotlib.colors import ListedColormap\n",
    "\n",
    "from altmap.altmap_helpers.lfr import *\n",
    "\n",
    "# show plots in separate window\n",
    "%pylab\n",
    "\n",
    "# init rc params\n",
    "init_plt_params()\n",
    "\n",
    "# define colormap\n",
    "colors = np.array([[255,   0,   0, 255],\n",
    "                   [  0, 255,   0, 255],\n",
    "                   [100,   0, 100, 255],\n",
    "                   [  0,   0, 255, 255],\n",
    "                   [255, 255,   0, 255],\n",
    "                   [  0, 255, 255, 255],\n",
    "                   [200,   0, 100, 255],\n",
    "                   [  0,   0, 100, 255],\n",
    "                   [240, 130,   0, 255],\n",
    "                   [255,   0, 255, 255],\n",
    "                   [  0, 100,   0, 255],\n",
    "                   [100,   0,   0, 255],\n",
    "                   [  0,   0,   0, 255]]) / 255.0\n",
    "commColors = ListedColormap(colors, name='commColors', N=len(colors))"
   ],
   "metadata": {
    "collapsed": false,
    "pycharm": {
     "name": "#%% imports\n",
     "is_executing": false
    }
   }
  },
  {
   "cell_type": "code",
   "execution_count": 114,
   "outputs": [
    {
     "name": "stdout",
     "text": [
      "There are 8 ground truth communities.\n",
      "Community sizes are [ 79  64 106  60  42  81 118  50]\n",
      "Spectral clustering finished in 0.6184749999999894 seconds.\n"
     ],
     "output_type": "stream"
    },
    {
     "name": "stderr",
     "text": [
      "/home/chri/python_environments/myDevEnv/lib/python3.7/site-packages/networkx/readwrite/pajek.py:77: UserWarning: Node attribute community is not processed. Non-string attribute.\n",
      "  'Non-string attribute'))\n"
     ],
     "output_type": "stream"
    }
   ],
   "source": [
    "G, communities_true, num_communities_true = generate_LFR_benchmark(N=600, mu=0.35)\n",
    "_, _, comm_sizes = nodes_per_community(communities_true)\n",
    "print (f'There are {num_communities_true} ground truth communities.')\n",
    "print (f'Community sizes are {comm_sizes}')\n",
    "\n",
    "communities_infomap, _, _, _ = infomap(G, altmap=False)\n",
    "communities_altmap, _, _, _ = infomap(G, altmap=True, update_inputfile=False)\n",
    "communities_altmap_sci, _, communities_sci, _ = infomap(G, altmap=True, init='sc', update_inputfile=False)\n",
    "#             \n",
    "# print(f'Altmap cost for true partition is {altmap_cost(G, communities_true)}')"
   ],
   "metadata": {
    "collapsed": false,
    "pycharm": {
     "name": "#%% run detection on lfr graph\n",
     "is_executing": false
    }
   }
  },
  {
   "cell_type": "code",
   "execution_count": 116,
   "outputs": [],
   "source": [
    "def relabel_communities_by_largest(communities):\n",
    "    comm_ids, comm_nodes, comm_sizes = nodes_per_community(communities)\n",
    "    tmp = sorted(zip(comm_sizes, comm_ids, comm_nodes), reverse = True)\n",
    "    sorted_nodes = [node for _,_,nodes in tmp for node in nodes]\n",
    "    sorted_comm_sizes = [comm_size for comm_size,_,_ in tmp]\n",
    "    sorted_comms = [i for i, comm_size in enumerate(sorted_comm_sizes) for j in range(comm_size)]\n",
    "    relabeled_communities = OrderedDict(zip(sorted_nodes, sorted_comms))\n",
    "    return sorted_nodes, sorted_comms, relabeled_communities\n",
    "\n",
    "def plot_communities(communities, pos, num_communities_true, aggregate_comms=True):\n",
    "    # plotting params\n",
    "    node_size = 250\n",
    "    edge_width = 0.2\n",
    "    font_size = 13\n",
    "    cmap = plt.get_cmap('Set3') # 'Set3' 'jet' 'hsv' commColors\n",
    "    \n",
    "    # plot communities\n",
    "    fig, ax = plt.subplots(figsize=(14,9))\n",
    "    ax.set_frame_on(False)\n",
    "    ax.set_yticklabels([])\n",
    "    ax.set_yticks([])\n",
    "    ax.set_xticklabels([])\n",
    "    ax.set_xticks([])\n",
    "    # ax.set_title('Ground truth')\n",
    "    # nx.draw_networkx_edges(G, pos, ax=ax, width=edge_width)\n",
    "    \n",
    "    num_colors_used = min(num_communities_true + 1, get_num_communities(communities))\n",
    "    _,_, relabeled_comms = relabel_communities_by_largest(communities)\n",
    "    comm_ids, comm_nodes, comm_sizes = nodes_per_community(relabeled_comms)\n",
    "    tmp = sorted(zip(comm_sizes, comm_ids, comm_nodes), reverse = True)\n",
    "    # print each community seperately with its own color\n",
    "    for _, comm_id, nodes in tmp:\n",
    "        c_idx = comm_id if comm_id < num_colors_used or not aggregate_comms else num_colors_used - 1\n",
    "        nx.draw_networkx_nodes(G, pos=pos, node_color=[cmap(c_idx)], cmap=cmap, ax=ax, node_size=node_size, \n",
    "                               nodelist=nodes)\n",
    "    # nx.draw_networkx_labels(G, pos, ax=ax, labels=communities, font_weight='bold', font_size=font_size)\n",
    "    \n",
    "    comm_sizes_aggregated = comm_sizes\n",
    "    if aggregate_comms:\n",
    "        comm_sizes_aggregated = sorted(comm_sizes, reverse=True)\n",
    "        comm_sizes_aggregated[num_colors_used-1] = sum(comm_sizes_aggregated[num_colors_used-1:])\n",
    "        comm_sizes_aggregated = comm_sizes_aggregated[:num_colors_used]\n",
    "\n",
    "    # assemble custom legend for community colors\n",
    "    custom_lines = [Line2D([], [], color=cmap(c), marker='o', ms=15, lw=0) for c in range(num_colors_used)]\n",
    "    custom_labels = [f'Community {id} ({size} nodes)' for id, size in enumerate(comm_sizes_aggregated)]\n",
    "    \n",
    "    if aggregate_comms:\n",
    "        custom_labels[-1] = f'Residual nodes ({comm_sizes_aggregated[-1]})'\n",
    "    \n",
    "    if num_colors_used >= 4:\n",
    "        res = num_colors_used % 4\n",
    "        split_size = int(num_colors_used / 4)\n",
    "        \n",
    "        start = 0; end = split_size + int(res > 0)\n",
    "        slc = slice(start, end)\n",
    "        leg3 = ax.legend(custom_lines[slc], custom_labels[slc], loc=2, fontsize='small')\n",
    "        \n",
    "        start += split_size + int(res > 0); end += split_size + int(res > 1)\n",
    "        slc = slice(start, end)\n",
    "        leg2 = ax.legend(custom_lines[slc], custom_labels[slc], loc=1, fontsize='small')\n",
    "        \n",
    "        start += split_size + int(res > 1); end += split_size + int(res > 2)\n",
    "        slc = slice(start, end)\n",
    "        leg1 = ax.legend(custom_lines[slc], custom_labels[slc], loc=3, fontsize='small')\n",
    "        \n",
    "        start += split_size + int(res > 2);\n",
    "        slc = slice(start, None)\n",
    "        ax.legend(custom_lines[slc], custom_labels[slc], loc=4, fontsize='small')\n",
    "        ax.add_artist(leg1)\n",
    "        ax.add_artist(leg2)\n",
    "        ax.add_artist(leg3)\n",
    "    else:\n",
    "        ax.legend(custom_lines, custom_labels, loc=2, fontsize='small')\n",
    "    \n",
    "    plt.tight_layout()\n",
    "    return fig\n",
    "        \n",
    "\n",
    "plt.close('all')\n",
    "pos = community_layout(communities_true)\n",
    "fig1 = plot_communities(communities_true, pos, num_communities_true, aggregate_comms=False)\n",
    "fig2 = plot_communities(communities_infomap, pos, num_communities_true, aggregate_comms=False)\n",
    "fig3 = plot_communities(communities_altmap, pos, num_communities_true)\n",
    "fig4 = plot_communities(communities_altmap_sci, pos, num_communities_true)"
   ],
   "metadata": {
    "collapsed": false,
    "pycharm": {
     "name": "#%% compare visually\n",
     "is_executing": false
    }
   }
  },
  {
   "cell_type": "code",
   "execution_count": 55,
   "outputs": [],
   "source": [
    "dpi = 400\n",
    "fig_path = '/home/chri/lfr_sample_true.png'\n",
    "fig1.savefig(fig_path, dpi=dpi, format='png')\n",
    "\n",
    "fig_path = '/home/chri/lfr_sample_infomap.png'\n",
    "fig2.savefig(fig_path, dpi=dpi, format='png')\n",
    "\n",
    "fig_path = '/home/chri/lfr_sample_altmap.png'\n",
    "fig3.savefig(fig_path, dpi=dpi, format='png')\n",
    "\n",
    "fig_path = '/home/chri/lfr_sample_altmap_sci.png'\n",
    "fig4.savefig(fig_path, dpi=dpi, format='png')"
   ],
   "metadata": {
    "collapsed": false,
    "pycharm": {
     "name": "#%% save figures as .png\n",
     "is_executing": false
    }
   }
  },
  {
   "cell_type": "code",
   "execution_count": 89,
   "outputs": [],
   "source": [
    "dpi = 600\n",
    "fig_path = '/home/chri/lfr_sample_true.pdf'\n",
    "fig1.savefig(fig_path, dpi=dpi, format='pdf')\n",
    "\n",
    "fig_path = '/home/chri/lfr_sample_infomap.pdf'\n",
    "fig2.savefig(fig_path, dpi=dpi, format='pdf')\n",
    "\n",
    "fig_path = '/home/chri/lfr_sample_altmap.pdf'\n",
    "fig3.savefig(fig_path, dpi=dpi, format='pdf')\n",
    "\n",
    "fig_path = '/home/chri/lfr_sample_altmap_sci.pdf'\n",
    "fig4.savefig(fig_path, dpi=dpi, format='pdf')"
   ],
   "metadata": {
    "collapsed": false,
    "pycharm": {
     "name": "#%% save figures as .pdf\n",
     "is_executing": false
    }
   }
  }
 ],
 "metadata": {
  "kernelspec": {
   "display_name": "Python 3",
   "language": "python",
   "name": "python3"
  },
  "language_info": {
   "codemirror_mode": {
    "name": "ipython",
    "version": 3
   },
   "file_extension": ".py",
   "mimetype": "text/x-python",
   "name": "python",
   "nbconvert_exporter": "python",
   "pygments_lexer": "ipython3",
   "version": "3.6.8"
  },
  "pycharm": {
   "stem_cell": {
    "cell_type": "raw",
    "source": [],
    "metadata": {
     "collapsed": false
    }
   }
  }
 },
 "nbformat": 4,
 "nbformat_minor": 1
}