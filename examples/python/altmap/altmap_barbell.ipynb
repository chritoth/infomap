{
 "cells": [
  {
   "cell_type": "markdown",
   "metadata": {
    "pycharm": {
     "name": "#%% md\n"
    }
   },
   "source": [
    "## Altmap Experiments\n",
    "### Examine altmap behaviour an barbell networks + compare to Infomap\n"
   ]
  },
  {
   "cell_type": "code",
   "execution_count": 1,
   "outputs": [
    {
     "name": "stdout",
     "text": [
      "Using matplotlib backend: Qt5Agg\n",
      "Populating the interactive namespace from numpy and matplotlib\n"
     ],
     "output_type": "stream"
    }
   ],
   "source": [
    "from matplotlib.ticker import (AutoMinorLocator)\n",
    "\n",
    "from altmap.altmap_helpers.general import *\n",
    "\n",
    "# show plots in separate window\n",
    "%pylab\n",
    "\n",
    "# init rc params\n",
    "init_plt_params()"
   ],
   "metadata": {
    "collapsed": false,
    "pycharm": {
     "name": "#%% imports\n",
     "is_executing": false
    }
   }
  },
  {
   "cell_type": "code",
   "execution_count": 2,
   "outputs": [
    {
     "name": "stdout",
     "text": [
      "Ground Truth Cost L = -0.9737686599571793\n",
      "\n",
      "Mixed Communities Cost L = -0.0021921002339283513\n",
      "\n",
      "Four Mixed Communities Cost L = -0.16604553583129333\n",
      "\n"
     ],
     "output_type": "stream"
    }
   ],
   "source": [
    "# generate network\n",
    "clique_size = 20\n",
    "nodes_connection = 0\n",
    "N = 2 * clique_size + nodes_connection # num nodes\n",
    "G = nx.barbell_graph(clique_size, nodes_connection)\n",
    "G = nx.convert_node_labels_to_integers(G, first_label=1)\n",
    "\n",
    "# compute altmap cost for different community setups\n",
    "nodes_ids = list(range(1, N+1))\n",
    "clique_half1_size = int(clique_size/2)\n",
    "clique_half2_size = clique_size - clique_half1_size\n",
    "\n",
    "# ground truth\n",
    "labels = [1] * clique_size + [2] * clique_size\n",
    "communities = dict(zip(nodes_ids, labels))\n",
    "\n",
    "cost = altmap_cost(G, communities)\n",
    "print (f'Ground Truth Cost L = {cost}\\n')\n",
    "\n",
    "# 2 mixed cliques\n",
    "labels = [1] * clique_half1_size + [2] * clique_half2_size + [1] * clique_half2_size + [2] * clique_half1_size\n",
    "communities = dict(zip(nodes_ids, labels))\n",
    "\n",
    "cost = altmap_cost(G, communities)\n",
    "print (f'Mixed Communities Cost L = {cost}\\n')\n",
    "\n",
    "# 4 mixed cliques\n",
    "labels = [1] * clique_half1_size + [2] * clique_half2_size + [3] * clique_half1_size + [4] * clique_half2_size\n",
    "communities = dict(zip(nodes_ids, labels))\n",
    "\n",
    "cost = altmap_cost(G, communities)\n",
    "print (f'Four Mixed Communities Cost L = {cost}\\n')\n"
   ],
   "metadata": {
    "collapsed": false,
    "pycharm": {
     "name": "#%% barbell network experiment\n",
     "is_executing": false
    }
   }
  },
  {
   "cell_type": "code",
   "execution_count": 3,
   "outputs": [
    {
     "name": "stdout",
     "text": [
      "Spectral clustering finished in 0.0031810000000001004 seconds.\n",
      "Spectral clustering finished in 0.002854000000000134 seconds.\n",
      "Spectral clustering finished in 0.0031850000000002154 seconds.\n",
      "Spectral clustering finished in 0.0035199999999999676 seconds.\n",
      "Spectral clustering finished in 0.003330999999999751 seconds.\n",
      "Spectral clustering finished in 0.0036079999999998336 seconds.\n",
      "Spectral clustering finished in 0.043258999999999936 seconds.\n",
      "Spectral clustering finished in 0.0301499999999999 seconds.\n",
      "Spectral clustering finished in 0.04449999999999976 seconds.\n",
      "Spectral clustering finished in 0.05149999999999988 seconds.\n",
      "Spectral clustering finished in 0.017217000000000038 seconds.\n",
      "Spectral clustering finished in 0.048976999999999826 seconds.\n",
      "Spectral clustering finished in 0.0482680000000002 seconds.\n",
      "Spectral clustering finished in 0.053815999999999864 seconds.\n",
      "Spectral clustering finished in 0.0860840000000005 seconds.\n",
      "Spectral clustering finished in 0.05492700000000017 seconds.\n",
      "Spectral clustering finished in 0.02971699999999977 seconds.\n",
      "Spectral clustering finished in 0.04563600000000001 seconds.\n",
      "Spectral clustering finished in 0.0546420000000003 seconds.\n",
      "Spectral clustering finished in 0.019572999999999396 seconds.\n",
      "Spectral clustering finished in 0.05572900000000036 seconds.\n",
      "Spectral clustering finished in 0.058866000000000085 seconds.\n",
      "Spectral clustering finished in 0.0332940000000006 seconds.\n",
      "Spectral clustering finished in 0.035055999999999976 seconds.\n",
      "Spectral clustering finished in 0.05984899999999982 seconds.\n",
      "Spectral clustering finished in 0.03124599999999944 seconds.\n",
      "Spectral clustering finished in 0.09514200000000006 seconds.\n",
      "Spectral clustering finished in 0.1271899999999997 seconds.\n"
     ],
     "output_type": "stream"
    }
   ],
   "source": [
    "# compute essential cost function values for a barbell network with\n",
    "# given clique size\n",
    "def barbell_cost(clique_size = 3, print_output=False):\n",
    "    nc = clique_size\n",
    "    m = nc*(nc-1)+1 # number of edges in the network\n",
    "    p0 = (nc - 1) /(2*m) # stat prob for 'normal' nodes\n",
    "    pc = nc / (2*m) # stat prob for the 2 connecting nodes\n",
    "\n",
    "    J_ind = 2.0 * ((nc -2)*p0*np.log2(1.0-2*p0) + (p0+pc)*np.log2(1-(p0+pc)))\n",
    "    J_true = np.log2(m) - 1.0 - (m-1) / m * np.log2(m-1)\n",
    "    J_init = -1 -np.log2(m) + 1/m * ((m - nc) * np.log2(3*m - nc**2) + nc*np.log2(2*m-nc))\n",
    "    J_lower_bound = (2*(nc - 1)*(nc - 1)/(2*m)*np.log2((nc - 1)/(2*m)) + 2*nc/(2*m)*np.log2(nc/(2*m)))\n",
    "    if print_output:\n",
    "        print (f\"\\nBarbell network with nc = {nc} nodes per clique:\\n\")\n",
    "        print (f\"Each node a module - cost = {J_init}\")\n",
    "        print (f\"Ground truth cost = {J_true}\")\n",
    "        print (f\"Independent sets cost = {J_ind}\\n\")\n",
    "        print (f\"Lower bound cost = {J_lower_bound}\\n\")\n",
    "    \n",
    "    return J_init, J_true, J_ind, J_lower_bound\n",
    "\n",
    "\n",
    "nc_max = 30\n",
    "nc_list = list(range(3, nc_max + 1))\n",
    "J_init_list = np.zeros((len(nc_list), 1))\n",
    "J_true_list = np.zeros_like(J_init_list)\n",
    "J_ind_list = np.zeros_like(J_init_list)\n",
    "J_lb_list = np.zeros_like(J_init_list)\n",
    "J_altmap_list = np.zeros_like(J_init_list)\n",
    "J_altmap_sci_list = np.zeros_like(J_init_list)\n",
    "for i,nc in enumerate(nc_list):\n",
    "    # compute analytical objectives\n",
    "    J_init_list[i], J_true_list[i], J_ind_list[i], J_lb_list[i] = barbell_cost(nc)\n",
    "    \n",
    "    # compute actual objectives achieved by altmap\n",
    "    G = nx.barbell_graph(nc, 0)\n",
    "    G = nx.convert_node_labels_to_integers(G, first_label=1)\n",
    "    communities_found, num_communities_found,_ ,_ = infomap(G, altmap=True)\n",
    "    J_altmap_list[i] = altmap_cost(G, communities_found)\n",
    "    \n",
    "    communities_found, num_communities_found,_ ,_ = infomap(G, altmap=True, init='sc')\n",
    "    J_altmap_sci_list[i] = altmap_cost(G, communities_found)\n",
    "    \n",
    "    \n",
    "\n",
    "    "
   ],
   "metadata": {
    "collapsed": false,
    "pycharm": {
     "name": "#%% cost over clique size \n",
     "is_executing": false
    }
   }
  },
  {
   "cell_type": "code",
   "execution_count": 4,
   "outputs": [],
   "source": [
    "plt.close('all')\n",
    "fig, ax = plt.subplots(figsize=(12,9))\n",
    "# plt.suptitle('Barbell network - objective over clique size')\n",
    "ax.plot(nc_list, -J_true_list, 'x-', label='Ground truth')\n",
    "ax.plot(nc_list, -J_init_list, '^--', label='Each node as a module')\n",
    "ax.plot(nc_list, -J_ind_list, 'o--', label='Maximum independet sets')\n",
    "# ax.plot(nc_list, -J_lb_list, 'o--', label='Upper bound')\n",
    "ax.plot(nc_list, -J_altmap_sci_list, '.--', ms=8, lw=2, label='Implementation with SCI')\n",
    "ax.plot(nc_list, -J_altmap_list, '.--', ms=8, lw=2, label='Implementation')\n",
    "ax.xaxis.set_minor_locator(AutoMinorLocator())\n",
    "ax.tick_params(which='both', width=2)\n",
    "ax.grid(which='both')\n",
    "ax.set_xlabel('Nodes per clique $n_c$', labelpad=20)\n",
    "ax.set_ylabel('Synthesizing Infomap objective $\\mathcal{J}(m)$', labelpad=20)\n",
    "ax.legend()\n",
    "plt.tight_layout()\n"
   ],
   "metadata": {
    "collapsed": false,
    "pycharm": {
     "name": "#%%\n",
     "is_executing": false
    }
   }
  },
  {
   "cell_type": "code",
   "execution_count": 2,
   "outputs": [
    {
     "name": "stdout",
     "text": [
      "OrderedDict([(1, 1), (2, 1), (3, 1), (4, 1), (5, 1), (6, 2), (7, 2), (8, 2), (9, 2), (10, 2)])\n",
      "We found 2 communities.\n",
      "Achieved cost L = -0.7253784700009026\n"
     ],
     "output_type": "stream"
    }
   ],
   "source": [
    "# generate network\n",
    "clique_size = 5\n",
    "nodes_connection = 0\n",
    "N = 2 * clique_size + nodes_connection # num nodes\n",
    "G = nx.barbell_graph(clique_size, nodes_connection)\n",
    "G = nx.convert_node_labels_to_integers(G, first_label=1)\n",
    "\n",
    "# run community detection\n",
    "communities_found, num_communities_found,_ ,_ = infomap(G, altmap=False)\n",
    "# communities_found, num_communities_found,_ ,_ = infomap(G, altmap=True)\n",
    "# communities_found, num_communities_found,_,_ = infomap(G, altmap=True, init='sc')\n",
    "\n",
    "# print results\n",
    "print (communities_found)\n",
    "print (f'We found {num_communities_found} communities.')\n",
    "\n",
    "cost = altmap_cost(G, communities_found)\n",
    "print (f'Achieved cost L = {cost}')\n"
   ],
   "metadata": {
    "collapsed": false,
    "pycharm": {
     "name": "#%% find communities\n",
     "is_executing": false
    }
   }
  },
  {
   "cell_type": "code",
   "execution_count": 6,
   "outputs": [],
   "source": [
    "plt.close('all')\n",
    "plt.figure()\n",
    "drawNetwork(G, communities_found)"
   ],
   "metadata": {
    "collapsed": false,
    "pycharm": {
     "name": "#%% print network\n",
     "is_executing": false
    }
   }
  },
  {
   "cell_type": "code",
   "execution_count": 7,
   "outputs": [],
   "source": [
    "# generate network\n",
    "clique_size = 5\n",
    "nodes_connection = 0\n",
    "N = 2 * clique_size + nodes_connection # num nodes\n",
    "G = nx.barbell_graph(clique_size, nodes_connection)\n",
    "G = nx.convert_node_labels_to_integers(G, first_label=1)\n",
    "\n",
    "# initial\n",
    "nodes_ids = list(range(1, N+1))\n",
    "communities_init = dict(zip(nodes_ids, nodes_ids))\n",
    "\n",
    "# ground truth\n",
    "labels = [1] * clique_size + [2] * clique_size\n",
    "communities_true = dict(zip(nodes_ids, labels))\n",
    "\n",
    "# independent sets\n",
    "labels = list(range(1,clique_size+1)) * 2\n",
    "communities_ind = dict(zip(nodes_ids, labels))\n",
    "\n",
    "\n",
    "plt.close('all')\n",
    "\n",
    "plt.figure(figsize=(5,8))\n",
    "drawNetwork(G, communities_true)\n",
    "plt.tight_layout()\n",
    "\n",
    "plt.figure(figsize=(5,8))\n",
    "drawNetwork(G, communities_init)\n",
    "plt.tight_layout()\n",
    "\n",
    "plt.figure(figsize=(5,8))\n",
    "drawNetwork(G, communities_ind)\n",
    "plt.tight_layout()\n",
    "\n",
    "\n",
    "# plt.close('all')\n",
    "# fig, axs = plt.subplots(1,3)\n",
    "# fig.suptitle(f'Sample Barbell networks')\n",
    "# \n",
    "# drawNetwork(G, communities_true, ax=axs[0])\n",
    "# axs[0].set_xlabel('Ground truth')\n",
    "# drawNetwork(G, communities_init, ax=axs[1])\n",
    "# axs[1].set_xlabel('Initial partition')\n",
    "# drawNetwork(G, communities_ind, ax=axs[2])\n",
    "# axs[2].set_xlabel('Maximum independent sets')"
   ],
   "metadata": {
    "collapsed": false,
    "pycharm": {
     "name": "#%% draw sample networks\n",
     "is_executing": false
    }
   }
  }
 ],
 "metadata": {
  "kernelspec": {
   "display_name": "Python 3",
   "language": "python",
   "name": "python3"
  },
  "language_info": {
   "codemirror_mode": {
    "name": "ipython",
    "version": 3
   },
   "file_extension": ".py",
   "mimetype": "text/x-python",
   "name": "python",
   "nbconvert_exporter": "python",
   "pygments_lexer": "ipython3",
   "version": "3.6.8"
  },
  "pycharm": {
   "stem_cell": {
    "cell_type": "raw",
    "source": [],
    "metadata": {
     "collapsed": false
    }
   }
  }
 },
 "nbformat": 4,
 "nbformat_minor": 1
}