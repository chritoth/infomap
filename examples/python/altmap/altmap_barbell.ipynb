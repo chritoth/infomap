{
 "cells": [
  {
   "cell_type": "markdown",
   "metadata": {
    "pycharm": {
     "name": "#%% md\n"
    }
   },
   "source": [
    "## Altmap Experiments\n",
    "### Compare altmap to map eq using networkx\n"
   ]
  },
  {
   "cell_type": "code",
   "execution_count": 4,
   "outputs": [
    {
     "name": "stdout",
     "text": [
      "Using matplotlib backend: Qt5Agg\nPopulating the interactive namespace from numpy and matplotlib\n"
     ],
     "output_type": "stream"
    }
   ],
   "source": [
    "import networkx as nx\n",
    "import matplotlib.pyplot as plt\n",
    "from matplotlib.ticker import (AutoMinorLocator)\n",
    "import numpy as np\n",
    "\n",
    "# show plots in separate window\n",
    "%pylab\n",
    "# load helpers and wrappers\n",
    "%run helpers.py "
   ],
   "metadata": {
    "collapsed": false,
    "pycharm": {
     "name": "#%% imports\n",
     "is_executing": false
    }
   }
  },
  {
   "cell_type": "code",
   "execution_count": 3,
   "outputs": [
    {
     "name": "stdout",
     "text": [
      "Ground Truth Cost L = -0.9737686599571793\n\nMixed Communities Cost L = -0.0021921002339283513\n\nFour Mixed Communities Cost L = -0.16604553583129333\n\n"
     ],
     "output_type": "stream"
    }
   ],
   "source": [
    "# generate network\n",
    "clique_size = 20\n",
    "nodes_connection = 0\n",
    "N = 2 * clique_size + nodes_connection # num nodes\n",
    "G = nx.barbell_graph(clique_size, nodes_connection)\n",
    "G = nx.convert_node_labels_to_integers(G, first_label=1)\n",
    "\n",
    "# compute altmap cost for different community setups\n",
    "nodes_ids = list(range(1, N+1))\n",
    "clique_half1_size = int(clique_size/2)\n",
    "clique_half2_size = clique_size - clique_half1_size\n",
    "\n",
    "# ground truth\n",
    "labels = [1] * clique_size + [2] * clique_size\n",
    "communities = dict(zip(nodes_ids, labels))\n",
    "\n",
    "cost = altmap_cost(G, communities)\n",
    "print (f'Ground Truth Cost L = {cost}\\n')\n",
    "\n",
    "# 2 mixed cliques\n",
    "labels = [1] * clique_half1_size + [2] * clique_half2_size + [1] * clique_half2_size + [2] * clique_half1_size\n",
    "communities = dict(zip(nodes_ids, labels))\n",
    "\n",
    "cost = altmap_cost(G, communities)\n",
    "print (f'Mixed Communities Cost L = {cost}\\n')\n",
    "\n",
    "# 4 mixed cliques\n",
    "labels = [1] * clique_half1_size + [2] * clique_half2_size + [3] * clique_half1_size + [4] * clique_half2_size\n",
    "communities = dict(zip(nodes_ids, labels))\n",
    "\n",
    "cost = altmap_cost(G, communities)\n",
    "print (f'Four Mixed Communities Cost L = {cost}\\n')\n"
   ],
   "metadata": {
    "collapsed": false,
    "pycharm": {
     "name": "#%% barbell network experiment\n",
     "is_executing": false
    }
   }
  },
  {
   "cell_type": "code",
   "execution_count": 5,
   "outputs": [
    {
     "data": {
      "text/plain": "<matplotlib.legend.Legend at 0x7fde40786240>"
     },
     "metadata": {},
     "output_type": "execute_result",
     "execution_count": 5
    }
   ],
   "source": [
    "# compute essential cost function values for a barbell network with\n",
    "# given clique size\n",
    "def barbell_cost(clique_size = 3, print_output=False):\n",
    "    nc = clique_size\n",
    "    m = nc*(nc-1)+1 # number of edges in the network\n",
    "    p0 = (nc - 1) /(2*m) # stat prob for 'normal' nodes\n",
    "    pc = nc / (2*m) # stat prob for the 2 connecting nodes\n",
    "\n",
    "    J_ind = 2.0 * ((nc -2)*p0*np.log2(1.0-2*p0) + (p0+pc)*np.log2(1-(p0+pc)))\n",
    "    J_true = np.log2(m) - 1.0 - (m-1) / m * np.log2(m-1)\n",
    "    J_init = -1 -np.log2(m) + 1/m * ((m - nc) * np.log2(3*m - nc**2) + nc*np.log2(2*m-nc))\n",
    "    \n",
    "    if print_output:\n",
    "        print (f\"\\nBarbell network with nc = {nc} nodes per clique:\\n\")\n",
    "        print (f\"Each node a module - cost = {J_init}\")\n",
    "        print (f\"Ground truth cost = {J_true}\")\n",
    "        print (f\"Independent sets cost = {J_ind}\\n\")\n",
    "    \n",
    "    return J_init, J_true, J_ind\n",
    "\n",
    "\n",
    "nc_max = 50\n",
    "nc_list = list(range(3, nc_max + 1))\n",
    "J_init_list = np.zeros((len(nc_list), 1))\n",
    "J_true_list = np.zeros_like(J_init_list)\n",
    "J_ind_list = np.zeros_like(J_init_list)\n",
    "for i,nc in enumerate(nc_list):\n",
    "    J_init_list[i], J_true_list[i], J_ind_list[i] = barbell_cost(nc)\n",
    "\n",
    "\n",
    "plt.close('all')\n",
    "fig, ax = plt.subplots()\n",
    "plt.suptitle('Barbell network - cost over clique size')\n",
    "ax.plot(nc_list, J_true_list, 'x--', label='Ground truth')\n",
    "ax.plot(nc_list, J_init_list, '^--', label='Each node as a module')\n",
    "ax.plot(nc_list, J_ind_list, 'o--', label='Maximum independet set')\n",
    "ax.xaxis.set_minor_locator(AutoMinorLocator())\n",
    "ax.tick_params(which='both', width=2)\n",
    "ax.grid(which='both')\n",
    "ax.set_xlabel('Nodes per clique $n_c$')\n",
    "ax.set_ylabel('Altmap cost $\\mathcal{J}(m)$')\n",
    "ax.legend()\n"
   ],
   "metadata": {
    "collapsed": false,
    "pycharm": {
     "name": "#%% cost over clique size \n",
     "is_executing": false
    }
   }
  },
  {
   "cell_type": "code",
   "execution_count": 10,
   "outputs": [
    {
     "name": "stdout",
     "text": [
      "OrderedDict([(1, 1), (2, 1), (3, 1), (4, 1), (5, 1), (6, 2), (7, 2), (8, 2), (9, 2), (10, 2)])\nWe found 2 communities.\n"
     ],
     "output_type": "stream"
    }
   ],
   "source": [
    "# generate network\n",
    "clique_size = 5\n",
    "nodes_connection = 0\n",
    "N = 2 * clique_size + nodes_connection # num nodes\n",
    "G = nx.barbell_graph(clique_size, nodes_connection)\n",
    "G = nx.convert_node_labels_to_integers(G, first_label=1)\n",
    "\n",
    "# run community detection\n",
    "# communities_found, num_communities_found = infomap(G, altmap=False)\n",
    "# communities_found, num_communities_found = infomap(G, altmap=True)\n",
    "communities_found, num_communities_found = infomap(G, altmap=True, init='sc')\n",
    "\n",
    "# print results\n",
    "print (communities_found)\n",
    "print (f'We found {num_communities_found} communities.')\n",
    "\n",
    "# cost = altmap_cost(G, communities_found)\n",
    "# print (f'Achieved cost L = {cost}')\n"
   ],
   "metadata": {
    "collapsed": false,
    "pycharm": {
     "name": "#%% find communities\n",
     "is_executing": false
    }
   }
  },
  {
   "cell_type": "code",
   "execution_count": 30,
   "outputs": [
    {
     "name": "stderr",
     "text": [
      "/home/chri/anaconda3/lib/python3.6/site-packages/networkx/drawing/nx_pylab.py:579: MatplotlibDeprecationWarning: \nThe iterable function was deprecated in Matplotlib 3.1 and will be removed in 3.3. Use np.iterable instead.\n  if not cb.iterable(width):\n"
     ],
     "output_type": "stream"
    }
   ],
   "source": [
    "plt.close('all')\n",
    "plt.figure()\n",
    "drawNetwork(G, communities_found)\n"
   ],
   "metadata": {
    "collapsed": false,
    "pycharm": {
     "name": "#%% print network\n",
     "is_executing": false
    }
   }
  }
 ],
 "metadata": {
  "kernelspec": {
   "display_name": "Python 3",
   "language": "python",
   "name": "python3"
  },
  "language_info": {
   "codemirror_mode": {
    "name": "ipython",
    "version": 3
   },
   "file_extension": ".py",
   "mimetype": "text/x-python",
   "name": "python",
   "nbconvert_exporter": "python",
   "pygments_lexer": "ipython3",
   "version": "3.6.8"
  },
  "pycharm": {
   "stem_cell": {
    "cell_type": "raw",
    "source": [],
    "metadata": {
     "collapsed": false
    }
   }
  }
 },
 "nbformat": 4,
 "nbformat_minor": 1
}