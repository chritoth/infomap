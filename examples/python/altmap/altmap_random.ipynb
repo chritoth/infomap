{
 "cells": [
  {
   "cell_type": "markdown",
   "metadata": {
    "pycharm": {
     "name": "#%% md\n"
    }
   },
   "source": [
    "## Altmap Experiments\n",
    "### Examine altmap behaviour an barbell networks + compare to Infomap\n"
   ]
  },
  {
   "cell_type": "code",
   "execution_count": 31,
   "outputs": [
    {
     "name": "stdout",
     "text": [
      "Using matplotlib backend: Qt5Agg\n",
      "Populating the interactive namespace from numpy and matplotlib\n"
     ],
     "output_type": "stream"
    }
   ],
   "source": [
    "from matplotlib.ticker import (AutoMinorLocator)\n",
    "\n",
    "from altmap.altmap_helpers.general import *\n",
    "\n",
    "# show plots in separate window\n",
    "%pylab\n",
    "\n",
    "# init rc params\n",
    "init_plt_params()\n",
    "\n"
   ],
   "metadata": {
    "collapsed": false,
    "pycharm": {
     "name": "#%% imports\n",
     "is_executing": false
    }
   }
  },
  {
   "cell_type": "code",
   "execution_count": 38,
   "outputs": [],
   "source": [
    "num_realizations = 20\n",
    "n = 100\n",
    "p_list = np.linspace(0, 1, 20)\n",
    "infomap_list = np.zeros((len(p_list), num_realizations))\n",
    "altmap_list =np.zeros_like(infomap_list)\n",
    "altmap_sci_list = np.zeros_like(infomap_list)\n",
    "for i in range(num_realizations):\n",
    "    for p_idx,p in enumerate(p_list):\n",
    "        G = nx.erdos_renyi_graph(n, p)\n",
    "        G = nx.convert_node_labels_to_integers(G, first_label=1)\n",
    "        \n",
    "        _, num_communities_found,_ ,_ = infomap(G, altmap=False)\n",
    "        infomap_list[p_idx, i] = num_communities_found\n",
    "        \n",
    "        _, num_communities_found,_ ,_ = infomap(G, altmap=True, update_inputfile=False)\n",
    "        altmap_list[p_idx, i] = num_communities_found\n",
    "        \n",
    "        # _, num_communities_found,_ ,_ = infomap(G, altmap=True, init='sc', update_inputfile=False)\n",
    "        # altmap_sci_list[p_idx, i] = num_communities_found\n",
    "    \n",
    "    "
   ],
   "metadata": {
    "collapsed": false,
    "pycharm": {
     "name": "#%% cost over clique size \n",
     "is_executing": false
    }
   }
  },
  {
   "cell_type": "code",
   "execution_count": 39,
   "outputs": [],
   "source": [
    "plt.close('all')\n",
    "fig, ax = plt.subplots(figsize=(12,9))\n",
    "# plt.suptitle('Erdos-Renyi graph')\n",
    "ax.plot(p_list, np.mean(infomap_list, axis=1), 'o--', label='Infomap')\n",
    "ax.plot(p_list, np.mean(altmap_list, axis=1), '^--', label='Synthesizing Infomap')\n",
    "ax.plot(p_list, np.mean(altmap_sci_list, axis=1), 's--', label='Synthesizing Infomap with SCI')\n",
    "ax.xaxis.set_minor_locator(AutoMinorLocator())\n",
    "ax.tick_params(which='both', width=2)\n",
    "ax.grid(which='both')\n",
    "ax.set_xlabel('Nodes per clique $n_c$')\n",
    "ax.set_ylabel('Synthesizing Infomap objective $\\mathcal{J}(m)$')\n",
    "ax.legend()\n",
    "plt.tight_layout()\n"
   ],
   "metadata": {
    "collapsed": false,
    "pycharm": {
     "name": "#%%\n",
     "is_executing": false
    }
   }
  },
  {
   "cell_type": "code",
   "execution_count": 24,
   "outputs": [
    {
     "name": "stdout",
     "text": [
      "We found 1 communities.\n",
      "Achieved cost L = 1.1193942540681987e-13\n"
     ],
     "output_type": "stream"
    }
   ],
   "source": [
    "# generate network\n",
    "n = 100\n",
    "G = nx.erdos_renyi_graph(n, 0.2)\n",
    "G = nx.convert_node_labels_to_integers(G, first_label=1)\n",
    "\n",
    "# run community detection\n",
    "communities_found, num_communities_found,_ ,_ = infomap(G, altmap=False)\n",
    "# communities_found, num_communities_found,_ ,_ = infomap(G, altmap=True)\n",
    "# communities_found, num_communities_found,_,_ = infomap(G, altmap=True, init='sc')\n",
    "\n",
    "# print results\n",
    "print (f'We found {num_communities_found} communities.')\n",
    "\n",
    "cost = altmap_cost(G, communities_found)\n",
    "print (f'Achieved cost L = {cost}')\n"
   ],
   "metadata": {
    "collapsed": false,
    "pycharm": {
     "name": "#%% find communities\n",
     "is_executing": false
    }
   }
  },
  {
   "cell_type": "code",
   "execution_count": 21,
   "outputs": [],
   "source": [
    "plt.close('all')\n",
    "plt.figure()\n",
    "drawNetwork(G, communities_found)\n"
   ],
   "metadata": {
    "collapsed": false,
    "pycharm": {
     "name": "#%% print network\n",
     "is_executing": false
    }
   }
  }
 ],
 "metadata": {
  "kernelspec": {
   "display_name": "Python 3",
   "language": "python",
   "name": "python3"
  },
  "language_info": {
   "codemirror_mode": {
    "name": "ipython",
    "version": 3
   },
   "file_extension": ".py",
   "mimetype": "text/x-python",
   "name": "python",
   "nbconvert_exporter": "python",
   "pygments_lexer": "ipython3",
   "version": "3.6.8"
  },
  "pycharm": {
   "stem_cell": {
    "cell_type": "raw",
    "source": [],
    "metadata": {
     "collapsed": false
    }
   }
  }
 },
 "nbformat": 4,
 "nbformat_minor": 1
}