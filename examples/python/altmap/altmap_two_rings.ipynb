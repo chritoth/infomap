{
 "cells": [
  {
   "cell_type": "markdown",
   "metadata": {},
   "source": [
    "## Altmap Experiments\n",
    "### Compare altmap to map eq using networkx\n"
   ]
  },
  {
   "cell_type": "code",
   "execution_count": 3,
   "outputs": [
    {
     "name": "stdout",
     "text": [
      "Using matplotlib backend: Qt5Agg\nPopulating the interactive namespace from numpy and matplotlib\n"
     ],
     "output_type": "stream"
    }
   ],
   "source": [
    "import networkx as nx\n",
    "import matplotlib.pyplot as plt\n",
    "import numpy as np\n",
    "from collections import OrderedDict\n",
    "\n",
    "plt.rcParams.update({'font.size': 14})\n",
    "%pylab\n",
    "\n",
    "%run helpers.py\n",
    "# loads the following helper functions:\n",
    "# infomap(net_path, altmap=False, additional_args='')\n",
    "# read_tree(tree_path)\n",
    "# drawNetwork(G, communities)\n",
    "# altmap_cost(G, communities)\n",
    "# create_initfile(G, N_partitions=None, randomized=True)\n",
    "\n",
    "def generate_two_rings(n_ring=10):\n",
    "    N = 2 * n_ring  # num nodes\n",
    "    G = nx.MultiGraph()\n",
    "    G.add_nodes_from(range(1, N + 1))\n",
    "\n",
    "    for n in range(1, N):\n",
    "        G.add_edge(n, n + 1, weight=1)\n",
    "\n",
    "    G.add_edge(1, int(N / 2), weight=1)\n",
    "    G.add_edge(int(N / 2) + 1, N, weight=1)\n",
    "    return G\n"
   ],
   "metadata": {
    "collapsed": false,
    "pycharm": {
     "name": "#%%\n",
     "is_executing": false
    }
   }
  },
  {
   "cell_type": "code",
   "execution_count": 4,
   "metadata": {
    "pycharm": {
     "is_executing": false,
     "name": "#%% Two Rings\n"
    }
   },
   "outputs": [
    {
     "name": "stdout",
     "text": [
      "Initial Cost L = -0.00724344653766134\n\nGround Truth Cost L = -0.9574362123777358\n\n",
      "Mixed Communities Cost L = -0.8367058739707411\n\nFour Mixed Communities Cost L = -1.7993140655681912\n\n"
     ],
     "output_type": "stream"
    }
   ],
   "source": [
    "n_ring = 100\n",
    "N = 2*n_ring # num nodes\n",
    "G = generate_two_rings(n_ring)\n",
    "\n",
    "# init\n",
    "communities = {}\n",
    "for n in range(1, N+1 ):\n",
    "    communities[n] = n\n",
    "    \n",
    "cost = altmap_cost(G, communities)\n",
    "print (f'Initial Cost L = {cost}\\n')\n",
    "\n",
    "# ground truth\n",
    "communities = {}\n",
    "for n in range(1, int(N / 2)+1 ):\n",
    "    communities[n] = 1\n",
    "    \n",
    "for n in range(int(N / 2)+1, N+1 ):\n",
    "    communities[n] = 2\n",
    "\n",
    "cost = altmap_cost(G, communities)\n",
    "print (f'Ground Truth Cost L = {cost}\\n')\n",
    "\n",
    "# 2 mixed cliques\n",
    "communities = {}\n",
    "for n in range(1, int(N / 4)+1 ):\n",
    "    communities[n] = 1\n",
    "\n",
    "for n in range(int(N / 2) + 1, int(N / 2) + int(N / 4) + 1 ):\n",
    "    communities[n] = 1\n",
    "    \n",
    "for n in range(int(N / 4)+1, int(N / 2) + 1 ):\n",
    "    communities[n] = 2\n",
    "    \n",
    "for n in range(int(N / 2) + int(N / 4) + 1, N + 1 ):\n",
    "    communities[n] = 2\n",
    "\n",
    "cost = altmap_cost(G, communities)\n",
    "print (f'Mixed Communities Cost L = {cost}\\n')\n",
    "\n",
    "# 4 mixed cliques\n",
    "communities = {}\n",
    "for n in range(1, int(N / 4)+1 ):\n",
    "    communities[n] = 1\n",
    "\n",
    "for n in range(int(N / 2) + 1, int(N / 2) + int(N / 4) + 1 ):\n",
    "    communities[n] = 2\n",
    "    \n",
    "for n in range(int(N / 4)+1, int(N / 2) + 1 ):\n",
    "    communities[n] = 3\n",
    "    \n",
    "for n in range(int(N / 2) + int(N / 4) + 1, N + 1 ):\n",
    "    communities[n] = 4\n",
    "\n",
    "cost = altmap_cost(G, communities)\n",
    "print (f'Four Mixed Communities Cost L = {cost}\\n')"
   ]
  },
  {
   "cell_type": "code",
   "execution_count": 5,
   "outputs": [
    {
     "data": {
      "text/plain": "<matplotlib.legend.Legend at 0x7fb69818b7b8>"
     },
     "metadata": {},
     "output_type": "execute_result",
     "execution_count": 5
    }
   ],
   "source": [
    "# compute essential cost function values for a network of two rings with\n",
    "# given ring size\n",
    "def two_rings_cost(ring_size = 3, print_output=False):\n",
    "    n = ring_size\n",
    "    m = 2*n+1 # number of edges in the network\n",
    "\n",
    "    J_init = ((m-3)*np.log2(m-1) + 3*np.log2(2*m-3) - 3) / m - np.log2(m)\n",
    "    J_true = np.log2(m) - 1.0 - (m-1) / m * np.log2(m-1)\n",
    "    J_ind = -1.0\n",
    "    J_lower_bound = -(3 - 3*np.log2(3) + m*np.log2(m))/m\n",
    "    \n",
    "    p1 =n/(2*m); p2 = (n+1)/(2*m)\n",
    "    p1not1 = 1/m; p11 = p1 - p1not1; \n",
    "    p2not2 = 3/(2*m); p22 = p2 - p2not2; \n",
    "    J_4_comms = -2*(p11*np.log2(p11 / (p1**2)) + p1not1*np.log2(p1not1 / (p1*(1-p1))) +\n",
    "                    p22*np.log2(p22 / (p2**2)) + p2not2*np.log2(p2not2 / (p2*(1-p2))))\n",
    "    \n",
    "    if print_output:\n",
    "        print (f\"\\n2 Rings network with nc = {nc} nodes per clique:\\n\")\n",
    "        print (f\"Each node a module - cost = {J_init}\")\n",
    "        print (f\"Ground truth cost = {J_true}\")\n",
    "        print (f\"Independent sets cost = {J_ind}\\n\")\n",
    "        print (f\"4 communities = {J_4_comms}\\n\")\n",
    "        print (f\"Lower bound = {J_lower_bound}\\n\")\n",
    "    \n",
    "    return J_init, J_true, J_ind, J_4_comms\n",
    "\n",
    "n_max = 50\n",
    "n_list = list(range(3, n_max + 1))\n",
    "J_init_list = np.zeros((len(n_list), 1))\n",
    "J_true_list = np.zeros((len(n_list), 1))\n",
    "J_ind_list = np.zeros((len(n_list), 1))\n",
    "J_4comms_list = np.zeros((len(n_list), 1))\n",
    "for i, n in enumerate(n_list):\n",
    "    J_init_list[i], J_true_list[i], J_ind_list[i], J_4comms_list[i] = two_rings_cost(n)\n",
    "\n",
    "plt.figure()\n",
    "plt.plot(n_list, J_init_list, 'b', label='Initial cost (N ind sets)')\n",
    "plt.plot(n_list, J_true_list, 'm', label='Ground truth cost')\n",
    "plt.plot(n_list, J_ind_list, 'r', label='2 Independent sets cost')\n",
    "plt.plot(n_list, J_4comms_list, 'c', label='4 Communities')\n",
    "plt.grid()\n",
    "plt.title('2 Rings network - cost over size')\n",
    "plt.xlabel('Nodes per clique')\n",
    "plt.ylabel('Altmap cost')\n",
    "plt.legend()"
   ],
   "metadata": {
    "collapsed": false,
    "pycharm": {
     "name": "#%%\n",
     "is_executing": false
    }
   }
  },
  {
   "cell_type": "code",
   "execution_count": 6,
   "outputs": [
    {
     "name": "stdout",
     "text": [
      "OrderedDict([(1, 5), (2, 5), (3, 5), (4, 1), (5, 1), (6, 1), (7, 1), (8, 1), (9, 5), (10, 5), (11, 5), (12, 5), (13, 5), (14, 5), (15, 5), (16, 6), (17, 6), (18, 6), (19, 1), (20, 1), (21, 1), (22, 1), (23, 6), (24, 6), (25, 2), (26, 2), (27, 2), (28, 2), (29, 2), (30, 2), (31, 2), (32, 2), (33, 2), (34, 2), (35, 2), (36, 2), (37, 2), (38, 3), (39, 3), (40, 3), (41, 3), (42, 3), (43, 1), (44, 1), (45, 6), (46, 6), (47, 6), (48, 6), (49, 6), (50, 4), (51, 4), (52, 4), (53, 4), (54, 4), (55, 4), (56, 1), (57, 1), (58, 5), (59, 5), (60, 5), (61, 3), (62, 3), (63, 3), (64, 3), (65, 3), (66, 3), (67, 3), (68, 3), (69, 3), (70, 3), (71, 3), (72, 3), (73, 7), (74, 7), (75, 7), (76, 7), (77, 7), (78, 7), (79, 7), (80, 7), (81, 7), (82, 6), (83, 6), (84, 6), (85, 6), (86, 6), (87, 7), (88, 7), (89, 7), (90, 1), (91, 1), (92, 1), (93, 1), (94, 1), (95, 1), (96, 1), (97, 1), (98, 1), (99, 1), (100, 5), (101, 5), (102, 6), (103, 6), (104, 6), (105, 6), (106, 6), (107, 6), (108, 6), (109, 6), (110, 6), (111, 6), (112, 1), (113, 1), (114, 1), (115, 1), (116, 1), (117, 1), (118, 6), (119, 6), (120, 6), (121, 5), (122, 5), (123, 5), (124, 5), (125, 5), (126, 5), (127, 5), (128, 5), (129, 7), (130, 7), (131, 7), (132, 7), (133, 3), (134, 3), (135, 3), (136, 3), (137, 3), (138, 3), (139, 7), (140, 7), (141, 7), (142, 7), (143, 7), (144, 7), (145, 4), (146, 4), (147, 4), (148, 4), (149, 4), (150, 4), (151, 4), (152, 4), (153, 7), (154, 7), (155, 4), (156, 4), (157, 4), (158, 4), (159, 4), (160, 4), (161, 3), (162, 3), (163, 3), (164, 3), (165, 3), (166, 3), (167, 2), (168, 2), (169, 2), (170, 2), (171, 2), (172, 2), (173, 2), (174, 2), (175, 2), (176, 2), (177, 2), (178, 2), (179, 2), (180, 2), (181, 2), (182, 2), (183, 7), (184, 7), (185, 7), (186, 7), (187, 4), (188, 4), (189, 4), (190, 4), (191, 4), (192, 4), (193, 4), (194, 4), (195, 4), (196, 5), (197, 5), (198, 5), (199, 5), (200, 5)])\nWe found 7 communities.\n",
      "Achieved cost L = -1.752314529755137\n"
     ],
     "output_type": "stream"
    }
   ],
   "source": [
    "nx.write_pajek(G, workspace_path +  filename + '.net')\n",
    "# infomap(workspace_path +  filename + '.net', altmap=False)\n",
    "# infomap(workspace_path +  filename + '.net', altmap=True)\n",
    "communities = create_initfile(G, randomized=True)\n",
    "infomap(workspace_path +  filename + '.net', altmap=True, additional_args=' --cluster-data ./workspace/init.tree')\n",
    "\n",
    "# read results\n",
    "communities_found, num_communities_found = read_communities_from_tree_file()\n",
    "print (communities_found)\n",
    "print (f'We found {num_communities_found} communities.')\n",
    "\n",
    "cost = altmap_cost(G, communities_found)\n",
    "print (f'Achieved cost L = {cost}')\n"
   ],
   "metadata": {
    "collapsed": false,
    "pycharm": {
     "name": "#%% find communities\n",
     "is_executing": false
    }
   }
  },
  {
   "cell_type": "code",
   "execution_count": 7,
   "outputs": [],
   "source": [
    "plt.close('all')\n",
    "plt.figure()\n",
    "drawNetwork(G, communities_found)"
   ],
   "metadata": {
    "collapsed": false,
    "pycharm": {
     "name": "#%% print network\n",
     "is_executing": false
    }
   }
  }
 ],
 "metadata": {
  "kernelspec": {
   "display_name": "Python 3",
   "language": "python",
   "name": "python3"
  },
  "language_info": {
   "codemirror_mode": {
    "name": "ipython",
    "version": 3
   },
   "file_extension": ".py",
   "mimetype": "text/x-python",
   "name": "python",
   "nbconvert_exporter": "python",
   "pygments_lexer": "ipython3",
   "version": "3.6.8"
  },
  "pycharm": {
   "stem_cell": {
    "cell_type": "raw",
    "source": [],
    "metadata": {
     "collapsed": false
    }
   }
  }
 },
 "nbformat": 4,
 "nbformat_minor": 1
}