{
 "cells": [
  {
   "cell_type": "markdown",
   "metadata": {},
   "source": [
    "## Altmap Experiments\n",
    "### Compare altmap to map eq using networkx\n"
   ]
  },
  {
   "cell_type": "code",
   "execution_count": 3,
   "outputs": [
    {
     "name": "stdout",
     "text": [
      "Using matplotlib backend: Qt5Agg\nPopulating the interactive namespace from numpy and matplotlib\n"
     ],
     "output_type": "stream"
    }
   ],
   "source": [
    "import networkx as nx\n",
    "import matplotlib.pyplot as plt\n",
    "from matplotlib.ticker import (AutoMinorLocator)\n",
    "import numpy as np\n",
    "\n",
    "# show plots in separate window\n",
    "%pylab\n",
    "# load helpers and wrappers\n",
    "%run helpers.py \n",
    "\n",
    "def generate_two_rings(n_ring=10):\n",
    "    N = 2 * n_ring  # num nodes\n",
    "    G = nx.MultiGraph()\n",
    "    G.add_nodes_from(range(1, N + 1))\n",
    "\n",
    "    for n in range(1, N):\n",
    "        G.add_edge(n, n + 1, weight=1)\n",
    "\n",
    "    G.add_edge(1, int(N / 2), weight=1)\n",
    "    G.add_edge(int(N / 2) + 1, N, weight=1)\n",
    "    return G\n"
   ],
   "metadata": {
    "collapsed": false,
    "pycharm": {
     "name": "#%% imports\n",
     "is_executing": false
    }
   }
  },
  {
   "cell_type": "code",
   "execution_count": 4,
   "metadata": {
    "pycharm": {
     "is_executing": false,
     "name": "#%% Two Rings\n"
    }
   },
   "outputs": [
    {
     "name": "stdout",
     "text": [
      "Initial Cost L = -0.00724344653766134\n\n",
      "Ground Truth Cost L = -0.9574362123777358\n\nMixed Communities Cost L = -0.8367058739707411\n\n",
      "Four Mixed Communities Cost L = -1.7993140655681912\n\n"
     ],
     "output_type": "stream"
    }
   ],
   "source": [
    "n_ring = 100\n",
    "N = 2*n_ring # num nodes\n",
    "G = generate_two_rings(n_ring)\n",
    "\n",
    "# init\n",
    "communities = {}\n",
    "for n in range(1, N+1 ):\n",
    "    communities[n] = n\n",
    "    \n",
    "cost = altmap_cost(G, communities)\n",
    "print (f'Initial Cost L = {cost}\\n')\n",
    "\n",
    "# ground truth\n",
    "communities = {}\n",
    "for n in range(1, int(N / 2)+1 ):\n",
    "    communities[n] = 1\n",
    "    \n",
    "for n in range(int(N / 2)+1, N+1 ):\n",
    "    communities[n] = 2\n",
    "\n",
    "cost = altmap_cost(G, communities)\n",
    "print (f'Ground Truth Cost L = {cost}\\n')\n",
    "\n",
    "# 2 mixed cliques\n",
    "communities = {}\n",
    "for n in range(1, int(N / 4)+1 ):\n",
    "    communities[n] = 1\n",
    "\n",
    "for n in range(int(N / 2) + 1, int(N / 2) + int(N / 4) + 1 ):\n",
    "    communities[n] = 1\n",
    "    \n",
    "for n in range(int(N / 4)+1, int(N / 2) + 1 ):\n",
    "    communities[n] = 2\n",
    "    \n",
    "for n in range(int(N / 2) + int(N / 4) + 1, N + 1 ):\n",
    "    communities[n] = 2\n",
    "\n",
    "cost = altmap_cost(G, communities)\n",
    "print (f'Mixed Communities Cost L = {cost}\\n')\n",
    "\n",
    "# 4 mixed cliques\n",
    "communities = {}\n",
    "for n in range(1, int(N / 4)+1 ):\n",
    "    communities[n] = 1\n",
    "\n",
    "for n in range(int(N / 2) + 1, int(N / 2) + int(N / 4) + 1 ):\n",
    "    communities[n] = 2\n",
    "    \n",
    "for n in range(int(N / 4)+1, int(N / 2) + 1 ):\n",
    "    communities[n] = 3\n",
    "    \n",
    "for n in range(int(N / 2) + int(N / 4) + 1, N + 1 ):\n",
    "    communities[n] = 4\n",
    "\n",
    "cost = altmap_cost(G, communities)\n",
    "print (f'Four Mixed Communities Cost L = {cost}\\n')"
   ]
  },
  {
   "cell_type": "code",
   "execution_count": 5,
   "outputs": [
    {
     "data": {
      "text/plain": "<matplotlib.legend.Legend at 0x7fb69818b7b8>"
     },
     "metadata": {},
     "output_type": "execute_result",
     "execution_count": 5
    }
   ],
   "source": [
    "# compute essential cost function values for a network of two rings with\n",
    "# given ring size\n",
    "def two_rings_cost(ring_size = 3, print_output=False):\n",
    "    n = ring_size\n",
    "    m = 2*n+1 # number of edges in the network\n",
    "\n",
    "    J_init = ((m-3)*np.log2(m-1) + 3*np.log2(2*m-3) - 3) / m - np.log2(m)\n",
    "    J_true = np.log2(m) - 1.0 - (m-1) / m * np.log2(m-1)\n",
    "    J_ind = -1.0\n",
    "    J_lower_bound = -(3 - 3*np.log2(3) + m*np.log2(m))/m\n",
    "    \n",
    "    p1 =n/(2*m); p2 = (n+1)/(2*m)\n",
    "    p1not1 = 1/m; p11 = p1 - p1not1; \n",
    "    p2not2 = 3/(2*m); p22 = p2 - p2not2; \n",
    "    J_4_comms = -2*(p11*np.log2(p11 / (p1**2)) + p1not1*np.log2(p1not1 / (p1*(1-p1))) +\n",
    "                    p22*np.log2(p22 / (p2**2)) + p2not2*np.log2(p2not2 / (p2*(1-p2))))\n",
    "    \n",
    "    if print_output:\n",
    "        print (f\"\\n2 Rings network with nc = {nc} nodes per clique:\\n\")\n",
    "        print (f\"Each node a module - cost = {J_init}\")\n",
    "        print (f\"Ground truth cost = {J_true}\")\n",
    "        print (f\"Independent sets cost = {J_ind}\\n\")\n",
    "        print (f\"4 communities = {J_4_comms}\\n\")\n",
    "        print (f\"Lower bound = {J_lower_bound}\\n\")\n",
    "    \n",
    "    return J_init, J_true, J_ind, J_4_comms\n",
    "\n",
    "n_max = 50\n",
    "n_list = list(range(3, n_max + 1))\n",
    "J_init_list = np.zeros((len(n_list), 1))\n",
    "J_true_list = np.zeros((len(n_list), 1))\n",
    "J_ind_list = np.zeros((len(n_list), 1))\n",
    "J_4comms_list = np.zeros((len(n_list), 1))\n",
    "for i, n in enumerate(n_list):\n",
    "    J_init_list[i], J_true_list[i], J_ind_list[i], J_4comms_list[i] = two_rings_cost(n)\n",
    "\n",
    "plt.figure()\n",
    "plt.plot(n_list, J_init_list, 'b', label='Initial cost (N ind sets)')\n",
    "plt.plot(n_list, J_true_list, 'm', label='Ground truth cost')\n",
    "plt.plot(n_list, J_ind_list, 'r', label='2 Independent sets cost')\n",
    "plt.plot(n_list, J_4comms_list, 'c', label='4 Communities')\n",
    "plt.grid()\n",
    "plt.title('2 Rings network - cost over size')\n",
    "plt.xlabel('Nodes per clique')\n",
    "plt.ylabel('Altmap cost')\n",
    "plt.legend()"
   ],
   "metadata": {
    "collapsed": false,
    "pycharm": {
     "name": "#%%\n",
     "is_executing": false
    }
   }
  },
  {
   "cell_type": "code",
   "execution_count": 17,
   "outputs": [
    {
     "name": "stdout",
     "text": [
      "OrderedDict([(1, 12), (2, 12), (3, 12), (4, 12), (5, 12), (6, 7), (7, 7), (8, 7), (9, 7), (10, 7), (11, 7), (12, 7), (13, 7), (14, 7), (15, 7), (16, 7), (17, 7), (18, 7), (19, 7), (20, 3), (21, 3), (22, 3), (23, 3), (24, 3), (25, 3), (26, 3), (27, 3), (28, 3), (29, 3), (30, 3), (31, 3), (32, 3), (33, 3), (34, 3), (35, 1), (36, 1), (37, 1), (38, 1), (39, 1), (40, 1), (41, 1), (42, 1), (43, 1), (44, 1), (45, 1), (46, 1), (47, 1), (48, 1), (49, 1), (50, 1), (51, 4), (52, 4), (53, 4), (54, 4), (55, 4), (56, 4), (57, 4), (58, 4), (59, 4), (60, 4), (61, 4), (62, 4), (63, 4), (64, 4), (65, 4), (66, 2), (67, 2), (68, 2), (69, 2), (70, 2), (71, 2), (72, 2), (73, 2), (74, 2), (75, 2), (76, 2), (77, 2), (78, 2), (79, 2), (80, 2), (81, 2), (82, 5), (83, 5), (84, 5), (85, 5), (86, 5), (87, 5), (88, 5), (89, 5), (90, 5), (91, 5), (92, 5), (93, 5), (94, 5), (95, 5), (96, 5), (97, 12), (98, 12), (99, 12), (100, 12), (101, 12), (102, 8), (103, 8), (104, 8), (105, 8), (106, 8), (107, 8), (108, 8), (109, 8), (110, 8), (111, 8), (112, 8), (113, 8), (114, 8), (115, 8), (116, 9), (117, 9), (118, 9), (119, 9), (120, 9), (121, 9), (122, 9), (123, 9), (124, 9), (125, 9), (126, 9), (127, 9), (128, 9), (129, 9), (130, 13), (131, 13), (132, 13), (133, 13), (134, 13), (135, 13), (136, 13), (137, 13), (138, 13), (139, 13), (140, 13), (141, 13), (142, 13), (143, 14), (144, 14), (145, 14), (146, 14), (147, 14), (148, 14), (149, 14), (150, 14), (151, 14), (152, 14), (153, 14), (154, 14), (155, 14), (156, 10), (157, 10), (158, 10), (159, 10), (160, 10), (161, 10), (162, 10), (163, 10), (164, 10), (165, 10), (166, 10), (167, 10), (168, 10), (169, 10), (170, 11), (171, 11), (172, 11), (173, 11), (174, 11), (175, 11), (176, 11), (177, 11), (178, 11), (179, 11), (180, 11), (181, 11), (182, 11), (183, 11), (184, 6), (185, 6), (186, 6), (187, 6), (188, 6), (189, 6), (190, 6), (191, 6), (192, 6), (193, 6), (194, 6), (195, 6), (196, 6), (197, 6), (198, 6), (199, 12), (200, 12)])\nWe found 14 communities.\n",
      "Achieved cost L = -3.149182856356126\n"
     ],
     "output_type": "stream"
    }
   ],
   "source": [
    "# run community detection\n",
    "# communities_found, num_communities_found = infomap(G, altmap=False)\n",
    "# communities_found, num_communities_found = infomap(G, altmap=True)\n",
    "communities_found, num_communities_found = infomap(G, altmap=True, init='sc')\n",
    "\n",
    "# print results\n",
    "print (communities_found)\n",
    "print (f'We found {num_communities_found} communities.')\n",
    "\n",
    "# cost = altmap_cost(G, communities_found)\n",
    "# print (f'Achieved cost L = {cost}')\n"
   ],
   "metadata": {
    "collapsed": false,
    "pycharm": {
     "name": "#%% find communities\n",
     "is_executing": false
    }
   }
  },
  {
   "cell_type": "code",
   "execution_count": 18,
   "outputs": [],
   "source": [
    "plt.close('all')\n",
    "plt.figure()\n",
    "drawNetwork(G, communities_found)"
   ],
   "metadata": {
    "collapsed": false,
    "pycharm": {
     "name": "#%% print network\n",
     "is_executing": false
    }
   }
  }
 ],
 "metadata": {
  "kernelspec": {
   "display_name": "Python 3",
   "language": "python",
   "name": "python3"
  },
  "language_info": {
   "codemirror_mode": {
    "name": "ipython",
    "version": 3
   },
   "file_extension": ".py",
   "mimetype": "text/x-python",
   "name": "python",
   "nbconvert_exporter": "python",
   "pygments_lexer": "ipython3",
   "version": "3.6.8"
  },
  "pycharm": {
   "stem_cell": {
    "cell_type": "raw",
    "source": [],
    "metadata": {
     "collapsed": false
    }
   }
  }
 },
 "nbformat": 4,
 "nbformat_minor": 1
}