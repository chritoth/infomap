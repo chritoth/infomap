{
 "cells": [
  {
   "cell_type": "markdown",
   "metadata": {},
   "source": [
    "## Altmap Experiments\n",
    "### Altmap experiments on a network of two rings\n"
   ]
  },
  {
   "cell_type": "code",
   "execution_count": 1,
   "outputs": [
    {
     "name": "stdout",
     "text": [
      "Using matplotlib backend: Qt5Agg\n",
      "Populating the interactive namespace from numpy and matplotlib\n"
     ],
     "output_type": "stream"
    }
   ],
   "source": [
    "from matplotlib.ticker import (AutoMinorLocator)\n",
    "from numpy import log2 as ld\n",
    "\n",
    "from altmap.altmap_helpers.general import *\n",
    "\n",
    "# show plots in separate window\n",
    "%pylab\n",
    "\n",
    "# init rc params\n",
    "init_plt_params()\n",
    "fig_dir = '../../../../'\n",
    "\n",
    "def generate_two_rings(n_ring=10):\n",
    "    N = 2 * n_ring  # num nodes\n",
    "    G = nx.Graph()\n",
    "    G.add_nodes_from(range(1, N + 1))\n",
    "    \n",
    "    edges = [(n, n+1) for n in range(1,N)]\n",
    "    edges += [(1, int(N / 2)), (int(N / 2) + 1, N)]\n",
    "    G.add_edges_from(edges)\n",
    "    \n",
    "    return G\n",
    "\n",
    "# compute objective for given ring size\n",
    "def two_rings_cost(ring_size = 3, c = 2):\n",
    "    n = ring_size\n",
    "    m = 2*n+1 # number of edges in the network\n",
    "\n",
    "    J_true = np.log2(m) - 1.0 - (m-1) / m * np.log2(m-1)\n",
    "    J_init = (2*(n-1)*ld(1-1/m)+3*ld(1-3/(2*m)))/m\n",
    "    # J_lower_bound = -(3 - 3*np.log2(3) + m*np.log2(m))/m\n",
    "    alpha = (n%2 != 0) # 1 if odd (3 ind sets), 0 if even (2 ind sets)\n",
    "    J_ind = -(1 - np.log2(1+2*alpha/m) - 2*alpha/m*np.log2((m-2*alpha)/(m+2*alpha)) - 2*alpha/m)\n",
    "    \n",
    "    # c modules per ring\n",
    "    if c <= n:\n",
    "        nm = int(n/c); delta = n-c*nm\n",
    "        p1=(nm+1)/m; p1not1=1/m; p2=nm/m; p2not2=1/m; p3=(2*nm+1)/(2*m); p3not3=3/(2*m)\n",
    "        J_c_comms = 2*(c-delta-1)*altmap_module_cost(p2, p2not2)\\\n",
    "                     + 2*altmap_module_cost(p3, p3not3)\n",
    "        if delta > 0:\n",
    "            J_c_comms += 2*delta*altmap_module_cost(p1, p1not1)\n",
    "    else:\n",
    "        J_c_comms = None\n",
    "        \n",
    "    return J_init, J_true, J_ind, J_c_comms\n",
    "\n",
    "# compute altmap objective for given ring size as a function of the number of ring segments\n",
    "def two_rings_cost_c_modules(ring_size = 3, c_list = None):\n",
    "    n = ring_size\n",
    "    m = 2*n+1 # number of edges in the network\n",
    "    \n",
    "    if c_list is None :\n",
    "        c_list = np.asarray(range(2,31))\n",
    "    \n",
    "    J_c_comms_list = []\n",
    "    for i,c in enumerate(c_list):\n",
    "        if c <= n:\n",
    "            nm = int(n/c); delta = n-c*nm\n",
    "            p1=(nm+1)/m; p1not1=1/m; p2=nm/m; p2not2=1/m; p3=(2*nm+1)/(2*m); p3not3=3/(2*m)\n",
    "            J_c_comms = 2*(c-delta-1)*altmap_module_cost(p2, p2not2)\\\n",
    "                         + 2*altmap_module_cost(p3, p3not3)\n",
    "            if delta > 0:\n",
    "                J_c_comms += 2*delta*altmap_module_cost(p1, p1not1)\n",
    "            J_c_comms = -J_c_comms\n",
    "        else:\n",
    "            J_c_comms = None\n",
    "        \n",
    "        J_c_comms_list.append(J_c_comms)\n",
    "    \n",
    "    return J_c_comms_list, c_list\n"
   ],
   "metadata": {
    "collapsed": false,
    "pycharm": {
     "name": "#%% imports\n",
     "is_executing": false
    }
   }
  },
  {
   "cell_type": "markdown",
   "source": [
    "n_ring = 20\n",
    "N = 2*n_ring # num nodes\n",
    "G = generate_two_rings(n_ring)\n",
    "\n",
    "# compute altmap cost for different community setups\n",
    "nodes_ids = list(range(1, N+1))\n",
    "ring_half1_size = int(n_ring/2)\n",
    "ring_half2_size = n_ring - ring_half1_size\n",
    "\n",
    "# initial cost\n",
    "communities = dict(zip(nodes_ids, nodes_ids))\n",
    "cost = altmap_cost(G, communities)\n",
    "print (f'Initial Cost L = {cost}\\n')\n",
    "\n",
    "# ground truth\n",
    "labels = [1] * n_ring + [2] * n_ring\n",
    "communities = dict(zip(nodes_ids, labels))\n",
    "cost = altmap_cost(G, communities)\n",
    "print (f'Ground Truth Cost L = {cost}\\n')\n",
    "\n",
    "# 2 mixed cliques\n",
    "labels = [1] * ring_half1_size + [2] * ring_half2_size + [1] * ring_half2_size + [2] * ring_half1_size\n",
    "communities = dict(zip(nodes_ids, labels))\n",
    "\n",
    "cost = altmap_cost(G, communities)\n",
    "print (f'Mixed Communities Cost L = {cost}\\n')\n",
    "\n",
    "# 4 mixed cliques\n",
    "labels = [1] * ring_half1_size + [2] * ring_half2_size + [3] * ring_half1_size + [4] * ring_half2_size\n",
    "communities = dict(zip(nodes_ids, labels))\n",
    "\n",
    "cost = altmap_cost(G, communities)\n",
    "print (f'Four Mixed Communities Cost L = {cost}\\n')"
   ],
   "metadata": {
    "collapsed": false
   }
  },
  {
   "cell_type": "code",
   "execution_count": 5,
   "outputs": [],
   "source": [
    "### Compute analytical altmap objective as a function of ring size"
   ],
   "metadata": {
    "collapsed": false,
    "pycharm": {
     "name": "#%% compute analytical altmap objective as a function of ring size\n",
     "is_executing": false
    }
   }
  },
  {
   "cell_type": "code",
   "execution_count": 6,
   "outputs": [],
   "source": [
    "modules_per_ring=2\n",
    "\n",
    "n_list = np.logspace(0,3,30, endpoint=False, dtype=int)\n",
    "n_list = list(map(lambda x: x+x%2, n_list))\n",
    "n_list = np.unique(n_list) + 3\n",
    "\n",
    "J_init_list = np.zeros((len(n_list), 1))\n",
    "J_true_list = np.zeros_like(J_init_list)\n",
    "J_ind_even_list = np.zeros_like(J_init_list)\n",
    "J_ind_odd_list = np.zeros_like(J_init_list)\n",
    "J_c_comms_list = np.zeros_like(J_init_list)\n",
    "J_altmap_list = np.zeros_like(J_init_list)\n",
    "J_altmap_sci_list = np.zeros_like(J_init_list)\n",
    "for i, n in enumerate(n_list):\n",
    "    # print (f'Iteration {i+1}/{len(n_list)}')\n",
    "    J_init_list[i], J_true_list[i], J_ind_odd_list[i], J_c_comms_list[i] = two_rings_cost(n, c=modules_per_ring)\n",
    "    _, _, J_ind_even_list[i], _ = two_rings_cost(n+1, c=modules_per_ring)\n",
    "    \n",
    "\n",
    "# plot altmap objective as a function of ring size on a semilog scale\n",
    "fig, ax = plt.subplots(figsize=(12,9))\n",
    "# plt.suptitle('Network of two rings - objective over ring size')\n",
    "ax.plot(n_list, -J_true_list, 'x--', label='Ground truth')\n",
    "ax.plot(n_list, -J_init_list, '^--', label='Each node as a module')\n",
    "ax.plot(n_list, -J_ind_even_list, 'o--', label='Maximum independent sets - $n_c$ even')\n",
    "ax.plot(n_list, -J_ind_odd_list, 'o--', label='Maximum independent sets - $n_c$ odd')\n",
    "ax.plot(n_list, -J_c_comms_list, 's--', label=f'{modules_per_ring} modules per ring')\n",
    "ax.xaxis.set_minor_locator(AutoMinorLocator())\n",
    "ax.tick_params(which='both', width=2)\n",
    "ax.grid(which='both')\n",
    "ax.set_xlabel('Nodes per clique $n_c$')\n",
    "ax.set_ylabel('Synthesizing Infomap objective $\\mathcal{J}(\\mathcal{Y})$')\n",
    "ax.legend()\n",
    "ax.semilogx()\n",
    "plt.tight_layout()"
   ],
   "metadata": {
    "collapsed": false,
    "pycharm": {
     "name": "#%% save figure as .pdf\n",
     "is_executing": false
    }
   }
  },
  {
   "cell_type": "markdown",
   "source": [
    "fig_path = fig_dir + 'tworings_objective1.pdf'\n",
    "plt.savefig(fig_path, dpi=600, format='pdf')\n"
   ],
   "metadata": {
    "collapsed": false
   }
  },
  {
   "cell_type": "code",
   "execution_count": 7,
   "outputs": [
    {
     "name": "stdout",
     "text": [
      "Iteration 1/24\n",
      "Spectral clustering finished in 0.0035760000000006897 seconds.\n",
      "Iteration 2/24\n",
      "Spectral clustering finished in 0.0033609999999999474 seconds.\n",
      "Iteration 3/24\n",
      "Spectral clustering finished in 0.022215000000000096 seconds.\n",
      "Iteration 4/24\n",
      "Spectral clustering finished in 0.034112999999999616 seconds.\n",
      "Iteration 5/24\n",
      "Spectral clustering finished in 0.0760550000000002 seconds.\n",
      "Iteration 6/24\n",
      "Spectral clustering finished in 0.057269999999999044 seconds.\n",
      "Iteration 7/24\n",
      "Spectral clustering finished in 0.057836 seconds.\n",
      "Iteration 8/24\n",
      "Spectral clustering finished in 0.09070100000000103 seconds.\n",
      "Iteration 9/24\n",
      "Spectral clustering finished in 0.07571700000000092 seconds.\n",
      "Iteration 10/24\n",
      "Spectral clustering finished in 0.14422800000000002 seconds.\n",
      "Iteration 11/24\n",
      "Spectral clustering finished in 0.24141899999999872 seconds.\n",
      "Iteration 12/24\n",
      "Spectral clustering finished in 0.12329300000000032 seconds.\n",
      "Iteration 13/24\n",
      "Spectral clustering finished in 0.21632799999999897 seconds.\n",
      "Iteration 14/24\n",
      "Spectral clustering finished in 0.34900900000000057 seconds.\n",
      "Iteration 15/24\n",
      "Spectral clustering finished in 0.24185100000000048 seconds.\n",
      "Iteration 16/24\n",
      "Spectral clustering finished in 0.25859599999999894 seconds.\n",
      "Iteration 17/24\n",
      "Spectral clustering finished in 0.3862039999999993 seconds.\n",
      "Iteration 18/24\n",
      "Spectral clustering finished in 0.7628620000000002 seconds.\n",
      "Iteration 19/24\n",
      "Spectral clustering finished in 1.167314000000001 seconds.\n",
      "Iteration 20/24\n",
      "Spectral clustering finished in 4.743632 seconds.\n",
      "Iteration 21/24\n",
      "Spectral clustering finished in 6.096676000000002 seconds.\n",
      "Iteration 22/24\n",
      "Spectral clustering finished in 7.4683969999999995 seconds.\n",
      "Iteration 23/24\n",
      "Spectral clustering finished in 9.383789 seconds.\n",
      "Iteration 24/24\n",
      "Spectral clustering finished in 15.615575 seconds.\n"
     ],
     "output_type": "stream"
    }
   ],
   "source": [
    "### Compare analytical cost for c modules to implementation cost"
   ],
   "metadata": {
    "collapsed": false,
    "pycharm": {
     "name": "#%% compute analytical altmap objective as a function of ring size\n",
     "is_executing": false
    }
   }
  },
  {
   "cell_type": "code",
   "execution_count": 9,
   "outputs": [],
   "source": [
    "\n",
    "n_list = np.logspace(0,3,30, endpoint=False, dtype=int)\n",
    "n_list = list(map(lambda x: x+x%2, n_list))\n",
    "n_list = np.unique(n_list) + 3\n",
    "\n",
    "c_list = [2, 4, 8, 16, 32]\n",
    "\n",
    "J_c_comms_arr = np.zeros((len(c_list), len(n_list)))\n",
    "J_altmap_list = np.zeros_like(J_init_list)\n",
    "J_altmap_sci_list = np.zeros_like(J_init_list)\n",
    "for i, n in enumerate(n_list):\n",
    "    print (f'Iteration {i+1}/{len(n_list)}')\n",
    "    J_c_comms_list,_ = two_rings_cost_c_modules(n, c_list)\n",
    "    J_c_comms_arr[:, i] = J_c_comms_list\n",
    "    \n",
    "    # compute actual objectives achieved by altmap\n",
    "    G = generate_two_rings(n)\n",
    "    G = nx.convert_node_labels_to_integers(G, first_label=1)\n",
    "    communities_found,_ ,_ ,_ = infomap(G, altmap=True)\n",
    "    J_altmap_list[i] = altmap_cost(G, communities_found)\n",
    "\n",
    "    # communities_found,_ ,_ ,_ = infomap(G, altmap=True, init='sc', update_inputfile=False)\n",
    "    # J_altmap_sci_list[i] = altmap_cost(G, communities_found)"
   ],
   "metadata": {
    "collapsed": false,
    "pycharm": {
     "name": "#%% plot altmap objective as a function of ring size on a semilog scale\n",
     "is_executing": false
    }
   }
  },
  {
   "cell_type": "code",
   "execution_count": 10,
   "outputs": [],
   "source": [
    "fig, ax = plt.subplots(figsize=(12,9))\n",
    "# plt.suptitle('Network of two rings - objective over ring size')\n",
    "ax.plot(n_list, -J_altmap_list, 's--', label='Implementation')\n",
    "# ax.plot(n_list, -J_altmap_sci_list, '^--', label='Implementation with SCI')\n",
    "for i,_ in enumerate(c_list):\n",
    "    ax.plot(n_list, J_c_comms_arr[i,:], 'x--',  label=f'{c_list[i]} modules per ring')\n",
    "\n",
    "ax.xaxis.set_minor_locator(AutoMinorLocator())\n",
    "ax.tick_params(which='both', width=2)\n",
    "ax.grid(which='both')\n",
    "ax.set_xlabel('Nodes per clique $n_c$')\n",
    "ax.set_ylabel('Synthesizing Infomap objective $\\mathcal{J}(\\mathcal{Y})$')\n",
    "ax.legend()\n",
    "ax.semilogx()\n",
    "plt.tight_layout()"
   ],
   "metadata": {
    "collapsed": false,
    "pycharm": {
     "name": "#%% save figure as .pdf\n",
     "is_executing": false
    }
   }
  },
  {
   "cell_type": "markdown",
   "source": [
    "fig_path = fig_dir + 'tworings_objective2.pdf'\n",
    "plt.savefig(fig_path, dpi=600, format='pdf')\n"
   ],
   "metadata": {
    "collapsed": false
   }
  },
  {
   "cell_type": "code",
   "execution_count": 11,
   "outputs": [],
   "source": [
    "### Analytical objective for c rings as a function of ring size\n"
   ],
   "metadata": {
    "collapsed": false,
    "pycharm": {
     "name": "#%% plot altmap objective as a function of modules per ring\n",
     "is_executing": false
    }
   }
  },
  {
   "cell_type": "code",
   "execution_count": 12,
   "outputs": [],
   "source": [
    "nc = 50\n",
    "results = []\n",
    "for nc in [10,20, 30, 50, 70, 100]:\n",
    "    J_c_comms_list, c_list = two_rings_cost_c_modules(nc)\n",
    "    results.append({'nc':nc, 'J_list':J_c_comms_list, 'c_list':c_list})\n",
    "        \n",
    "plt.close('all')\n",
    "fig, ax = plt.subplots(figsize=(12,9))\n",
    "\n",
    "result = results[0]; nc=result['nc']\n",
    "ax.plot(result['c_list'], result['J_list'], 'x--', label=f'$n_c$ = {nc}')\n",
    "result = results[1]; nc=result['nc']\n",
    "ax.plot(result['c_list'], result['J_list'], '^--', label=f'$n_c$ = {nc}')\n",
    "result = results[2]; nc=result['nc']\n",
    "ax.plot(result['c_list'], result['J_list'], 'o--', label=f'$n_c$ = {nc}')\n",
    "result = results[3]; nc=result['nc']\n",
    "ax.plot(result['c_list'], result['J_list'], 's--', label=f'$n_c$ = {nc}')\n",
    "result = results[4]; nc=result['nc']\n",
    "ax.plot(result['c_list'], result['J_list'], 'x--', label=f'$n_c$ = {nc}')\n",
    "result = results[5]; nc=result['nc']\n",
    "ax.plot(result['c_list'], result['J_list'], '^--', label=f'$n_c$ = {nc}')\n",
    "\n",
    "ax.xaxis.set_minor_locator(AutoMinorLocator())\n",
    "ax.tick_params(which='both', width=2)\n",
    "ax.grid(which='both')\n",
    "ax.set_xlabel('Modules per ring $c$')\n",
    "ax.set_ylabel('Synthesizing Infomap objective $\\mathcal{J}(\\mathcal{Y}_c)$')\n",
    "ax.legend(loc=4)\n",
    "plt.tight_layout()\n"
   ],
   "metadata": {
    "collapsed": false,
    "pycharm": {
     "name": "#%% save figure as .pdf\n",
     "is_executing": false
    }
   }
  },
  {
   "cell_type": "code",
   "execution_count": 54,
   "outputs": [
    {
     "name": "stdout",
     "text": [
      "OrderedDict([(1, 1), (2, 1), (3, 1), (4, 1), (5, 1), (6, 2), (7, 2), (8, 2), (9, 2), (10, 2)])\n",
      "We found 2 communities.\n",
      "Achieved cost L = -0.5658680991051533\n"
     ],
     "output_type": "stream"
    }
   ],
   "source": [
    "fig_path = fig_dir + 'tworings_mc.pdf'\n",
    "plt.savefig(fig_path, dpi=600, format='pdf')"
   ],
   "metadata": {
    "collapsed": false,
    "pycharm": {
     "name": "#%% find communities\n",
     "is_executing": false
    }
   }
  },
  {
   "cell_type": "code",
   "execution_count": 55,
   "outputs": [],
   "source": [
    "plt.close('all')\n",
    "plt.figure()\n",
    "drawNetwork(G, communities_found)"
   ],
   "metadata": {
    "collapsed": false,
    "pycharm": {
     "name": "#%% print network\n",
     "is_executing": false
    }
   }
  },
  {
   "cell_type": "code",
   "execution_count": 6,
   "outputs": [],
   "source": [
    "\n",
    "# generate network\n",
    "n_ring = 10\n",
    "N = 2*n_ring # num nodes\n",
    "G = generate_two_rings(n_ring)\n",
    "nodes_ids = list(range(1, N+1))\n",
    "ring_half1_size = int(n_ring/2)\n",
    "ring_half2_size = n_ring - ring_half1_size\n",
    "\n",
    "n_ring_odd = n_ring+1\n",
    "G_odd = generate_two_rings(n_ring_odd)\n",
    "nodes_ids_odd = list(range(1, 2*n_ring_odd+1))\n",
    "\n",
    "# initial\n",
    "nodes_ids = list(range(1, N+1))\n",
    "communities_init = dict(zip(nodes_ids, nodes_ids))\n",
    "\n",
    "# ground truth\n",
    "labels = [1] * n_ring + [2] * n_ring\n",
    "communities_true = dict(zip(nodes_ids, labels))\n",
    "\n",
    "# independent sets\n",
    "labels = [1,2] * n_ring\n",
    "communities_ind_even = dict(zip(nodes_ids, labels))\n",
    "\n",
    "# labels = [1,2] * int(n_ring/2) + [3] + [1,2] * int(n_ring/2) + [3]\n",
    "labels = [1,2] * (int(n_ring_odd/2) - 1) + [1,3,2] + [1,2] * int(n_ring_odd/2) + [3]\n",
    "communities_ind_odd = dict(zip(nodes_ids_odd, labels))\n",
    "\n",
    "# c modules per ring\n",
    "c=4\n",
    "nm = int(n_ring/c); delta = n_ring-c*nm\n",
    "labels = [module for module in range(1,delta+1) for i in range(0,nm+1)]\n",
    "labels.extend([module for module in range(delta+1,c+1) for i in range(0,nm)])\n",
    "labels.extend([module for module in range(c+1,2*c-delta+1) for i in range(0,nm)])\n",
    "labels.extend([module for module in range(2*c-delta+1,2*c+1) for i in range(0,nm+1)])\n",
    "communities_c_modules = dict(zip(nodes_ids, labels))\n",
    "\n",
    "\n",
    "plt.close('all')\n",
    "\n",
    "plt.figure(figsize=(5,8))\n",
    "drawNetwork(G, communities_true)\n",
    "plt.tight_layout()\n",
    "\n",
    "plt.figure(figsize=(5,8))\n",
    "drawNetwork(G, communities_init)\n",
    "plt.tight_layout()\n",
    "\n",
    "plt.figure(figsize=(5,8))\n",
    "drawNetwork(G, communities_ind_even)\n",
    "plt.tight_layout()\n",
    "\n",
    "plt.figure(figsize=(5,8))\n",
    "drawNetwork(G_odd, communities_ind_odd)\n",
    "plt.tight_layout()\n",
    "\n",
    "plt.figure(figsize=(5,8))\n",
    "drawNetwork(G, communities_c_modules)\n",
    "plt.tight_layout()\n",
    "\n",
    "# fig, axs = plt.subplots(1,5)\n",
    "# fig.suptitle(f'Sample two rings networks')\n",
    "# \n",
    "# drawNetwork(G, communities_true, ax=axs[0])\n",
    "# axs[0].set_xlabel('Ground truth')\n",
    "# drawNetwork(G, communities_init, ax=axs[1])\n",
    "# axs[1].set_xlabel('Initial partition')\n",
    "# drawNetwork(G, communities_ind_even, ax=axs[2])\n",
    "# axs[2].set_xlabel('Max independent sets\\n$n_c$ even')\n",
    "# drawNetwork(G_odd, communities_ind_odd, ax=axs[3])\n",
    "# axs[3].set_xlabel('Max independent sets\\n$n_c$ odd')\n",
    "# drawNetwork(G, communities_c_modules, ax=axs[4])\n",
    "# axs[4].set_xlabel(f'{c} modules per ring')"
   ],
   "metadata": {
    "collapsed": false,
    "pycharm": {
     "name": "#%% draw sample networks\n",
     "is_executing": false
    }
   }
  }
 ],
 "metadata": {
  "kernelspec": {
   "display_name": "Python 3",
   "language": "python",
   "name": "python3"
  },
  "language_info": {
   "codemirror_mode": {
    "name": "ipython",
    "version": 3
   },
   "file_extension": ".py",
   "mimetype": "text/x-python",
   "name": "python",
   "nbconvert_exporter": "python",
   "pygments_lexer": "ipython3",
   "version": "3.6.8"
  },
  "pycharm": {
   "stem_cell": {
    "cell_type": "raw",
    "source": [],
    "metadata": {
     "collapsed": false
    }
   }
  }
 },
 "nbformat": 4,
 "nbformat_minor": 1
}