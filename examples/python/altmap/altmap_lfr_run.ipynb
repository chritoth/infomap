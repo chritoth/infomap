{
 "cells": [
  {
   "cell_type": "markdown",
   "metadata": {},
   "source": [
    "## LFR benchmark for Altmap vs Map Eq\n",
    "### Compare altmap to map eq using networkx"
   ]
  },
  {
   "cell_type": "code",
   "execution_count": 1,
   "outputs": [
    {
     "name": "stdout",
     "text": [
      "Using matplotlib backend: Qt5Agg\n",
      "Populating the interactive namespace from numpy and matplotlib\n"
     ],
     "output_type": "stream"
    }
   ],
   "source": [
    "from altmap.altmap_helpers.lfr import *\n",
    "\n",
    "# show plots in separate window\n",
    "%pylab\n"
   ],
   "metadata": {
    "collapsed": false,
    "pycharm": {
     "name": "#%% imports\n",
     "is_executing": false
    }
   }
  },
  {
   "cell_type": "code",
   "execution_count": null,
   "outputs": [
    {
     "name": "stdout",
     "text": [
      "Starting benchmark 1/25 for (N,mu) = (600,0.15)\n",
      "\n",
      "Infomap found 10 communities vs. 10 ground truth communities.\n",
      "\n",
      "Altmap found 10 communities vs. 10 ground truth communities.\n",
      "\n",
      "Spectral clustering finished in 0.7833950000000001 seconds.\n",
      "Altmap with SCI (24) found 10 communities vs. 10 ground truth communities.\n",
      "\n",
      "Avg community clustering is 0.3292779002214452, minimum is 0.1748527079880652.\n",
      "Starting benchmark 2/25 for (N,mu) = (600,0.175)\n",
      "\n",
      "Infomap found 12 communities vs. 12 ground truth communities.\n",
      "\n",
      "Altmap found 12 communities vs. 12 ground truth communities.\n",
      "\n",
      "Spectral clustering finished in 1.028642 seconds.\n",
      "Altmap with SCI (24) found 12 communities vs. 12 ground truth communities.\n",
      "\n",
      "Avg community clustering is 0.3663234022211208, minimum is 0.19845285564433252.\n",
      "Starting benchmark 3/25 for (N,mu) = (600,0.19999999999999998)\n",
      "\n",
      "Infomap found 9 communities vs. 9 ground truth communities.\n",
      "\n",
      "Altmap found 10 communities vs. 9 ground truth communities.\n",
      "\n",
      "Spectral clustering finished in 0.548381 seconds.\n",
      "Altmap with SCI (24) found 10 communities vs. 9 ground truth communities.\n",
      "\n",
      "Avg community clustering is 0.2643370341368073, minimum is 0.16344843470181727.\n",
      "Starting benchmark 4/25 for (N,mu) = (600,0.22499999999999998)\n",
      "\n",
      "Infomap found 14 communities vs. 14 ground truth communities.\n",
      "\n",
      "Altmap found 14 communities vs. 14 ground truth communities.\n",
      "\n",
      "Spectral clustering finished in 1.4150829999999992 seconds.\n",
      "Altmap with SCI (24) found 14 communities vs. 14 ground truth communities.\n",
      "\n",
      "Avg community clustering is 0.37037438626564495, minimum is 0.20647016885748512.\n",
      "Starting benchmark 5/25 for (N,mu) = (600,0.25)\n",
      "\n",
      "Infomap found 8 communities vs. 8 ground truth communities.\n",
      "\n",
      "Altmap found 13 communities vs. 8 ground truth communities.\n",
      "\n",
      "Spectral clustering finished in 0.832789 seconds.\n",
      "Altmap with SCI (24) found 13 communities vs. 8 ground truth communities.\n",
      "\n",
      "Avg community clustering is 0.22528802875914145, minimum is 0.1275317318247209.\n",
      "Starting benchmark 6/25 for (N,mu) = (600,0.27499999999999997)\n",
      "\n",
      "Infomap found 9 communities vs. 9 ground truth communities.\n",
      "\n",
      "Altmap found 21 communities vs. 9 ground truth communities.\n",
      "\n",
      "Spectral clustering finished in 1.3419939999999997 seconds.\n",
      "Altmap with SCI (24) found 14 communities vs. 9 ground truth communities.\n",
      "\n",
      "Avg community clustering is 0.2721116013644852, minimum is 0.1189031843893667.\n",
      "Starting benchmark 7/25 for (N,mu) = (600,0.3)\n",
      "\n",
      "Infomap found 10 communities vs. 10 ground truth communities.\n",
      "\n",
      "Altmap found 19 communities vs. 10 ground truth communities.\n",
      "\n",
      "Spectral clustering finished in 1.5947139999999997 seconds.\n",
      "Altmap with SCI (24) found 17 communities vs. 10 ground truth communities.\n",
      "\n",
      "Avg community clustering is 0.2642597248111302, minimum is 0.101552763527366.\n",
      "Starting benchmark 8/25 for (N,mu) = (600,0.32499999999999996)\n",
      "\n",
      "Infomap found 10 communities vs. 10 ground truth communities.\n",
      "\n",
      "Altmap found 20 communities vs. 10 ground truth communities.\n",
      "\n",
      "Spectral clustering finished in 0.9799249999999997 seconds.\n",
      "Altmap with SCI (24) found 21 communities vs. 10 ground truth communities.\n",
      "\n",
      "Avg community clustering is 0.24139250381925953, minimum is 0.12594225090355113.\n",
      "Starting benchmark 9/25 for (N,mu) = (600,0.35)\n",
      "\n",
      "Infomap found 1 communities vs. 11 ground truth communities.\n",
      "\n",
      "Altmap found 25 communities vs. 11 ground truth communities.\n",
      "\n",
      "Spectral clustering finished in 1.0223910000000025 seconds.\n",
      "Altmap with SCI (24) found 22 communities vs. 11 ground truth communities.\n",
      "\n",
      "Avg community clustering is 0.24886322470566374, minimum is 0.12832549490861508.\n",
      "Starting benchmark 10/25 for (N,mu) = (600,0.375)\n",
      "\n",
      "Infomap found 1 communities vs. 9 ground truth communities.\n",
      "\n",
      "Altmap found 40 communities vs. 9 ground truth communities.\n",
      "\n",
      "Spectral clustering finished in 1.5217279999999995 seconds.\n",
      "Altmap with SCI (24) found 27 communities vs. 9 ground truth communities.\n",
      "\n",
      "Avg community clustering is 0.17645336664084404, minimum is 0.06914842601117105.\n",
      "Starting benchmark 11/25 for (N,mu) = (600,0.39999999999999997)\n",
      "\n",
      "Infomap found 1 communities vs. 10 ground truth communities.\n",
      "\n",
      "Altmap found 48 communities vs. 10 ground truth communities.\n",
      "\n",
      "Spectral clustering finished in 1.1407319999999999 seconds.\n",
      "Altmap with SCI (24) found 46 communities vs. 10 ground truth communities.\n",
      "\n",
      "Avg community clustering is 0.21685936297711156, minimum is 0.11267315587749022.\n",
      "Starting benchmark 12/25 for (N,mu) = (600,0.42499999999999993)\n",
      "\n",
      "Infomap found 1 communities vs. 9 ground truth communities.\n",
      "\n",
      "Altmap found 62 communities vs. 9 ground truth communities.\n",
      "\n",
      "Spectral clustering finished in 0.6738510000000026 seconds.\n",
      "Altmap with SCI (24) found 53 communities vs. 9 ground truth communities.\n",
      "\n",
      "Avg community clustering is 0.17918532126269732, minimum is 0.08167726125242464.\n",
      "Starting benchmark 13/25 for (N,mu) = (600,0.44999999999999996)\n",
      "\n",
      "Infomap found 1 communities vs. 9 ground truth communities.\n",
      "\n",
      "Altmap found 76 communities vs. 9 ground truth communities.\n",
      "\n",
      "Spectral clustering finished in 0.7511930000000007 seconds.\n",
      "Altmap with SCI (24) found 56 communities vs. 9 ground truth communities.\n",
      "\n",
      "Avg community clustering is 0.142589274763261, minimum is 0.07720174091141833.\n",
      "Starting benchmark 14/25 for (N,mu) = (600,0.475)\n",
      "\n",
      "Infomap found 1 communities vs. 10 ground truth communities.\n",
      "\n",
      "Altmap found 72 communities vs. 10 ground truth communities.\n",
      "\n",
      "Spectral clustering finished in 1.0346110000000017 seconds.\n",
      "Altmap with SCI (24) found 72 communities vs. 10 ground truth communities.\n",
      "\n",
      "Avg community clustering is 0.17450940387707886, minimum is 0.03490308362103234.\n",
      "Starting benchmark 15/25 for (N,mu) = (600,0.5)\n",
      "\n",
      "Infomap found 1 communities vs. 10 ground truth communities.\n",
      "\n",
      "Altmap found 74 communities vs. 10 ground truth communities.\n",
      "\n",
      "Spectral clustering finished in 1.7309339999999978 seconds.\n"
     ],
     "output_type": "stream"
    }
   ],
   "source": [
    "import warnings\n",
    "warnings.filterwarnings('ignore')\n",
    "\n",
    "# benchmark params\n",
    "N_list = [600]\n",
    "mu_list = np.linspace(0.15, 0.75, 25)\n",
    "# N_list = [200, 300, 400, 500, 700, 900, 1200]#, 1500, 2000]\n",
    "# mu_list = [0.35]\n",
    "num_realizations = 1\n",
    "\n",
    "infomap_results, altmap_results, altmap_sci_results, sci_results, acc_results = run_benchmark(N_list, mu_list, \n",
    "                                                                                       num_realizations)"
   ],
   "metadata": {
    "collapsed": false,
    "pycharm": {
     "name": "#%% run LFR benchmarks\n",
     "is_executing": true
    }
   }
  },
  {
   "cell_type": "code",
   "execution_count": 3,
   "outputs": [
    {
     "name": "stdout",
     "text": [
      "Minimum number of realizations is 1.\n",
      "Actual realizations are [1 1 1 1 1 1 1 1 1 1 1 1 1 1 1 1 1 1 1 1 1 1 1 1 1].\n",
      "Average realizations are 1.0.\n"
     ],
     "output_type": "stream"
    }
   ],
   "source": [
    "infomap_results.evaluate_results()\n",
    "altmap_results.evaluate_results()\n",
    "altmap_sci_results.evaluate_results()\n",
    "sci_results.evaluate_results()\n",
    "acc_results.evaluate_results()\n",
    "\n",
    "print (f'Minimum number of realizations is {np.min(infomap_results.actual_realizations)}.')\n",
    "print (f'Actual realizations are {infomap_results.actual_realizations}.')\n",
    "print (f'Average realizations are {np.mean(infomap_results.actual_realizations)}.')"
   ],
   "metadata": {
    "collapsed": false,
    "pycharm": {
     "name": "#%% evaluate results\n",
     "is_executing": false
    }
   }
  },
  {
   "cell_type": "code",
   "execution_count": 4,
   "outputs": [],
   "source": [
    "bench_type_str = f'{N_list[0]}n'\n",
    "if len(N_list) > 1:\n",
    "    bench_type_str = f'{int(mu_list[0] * 100)}mu'\n",
    "\n",
    "infomap_results.write_csv(f'./lfr_results/infomap_' + bench_type_str + '.csv')\n",
    "altmap_results.write_csv(f'./lfr_results/altmap_' + bench_type_str + '.csv')\n",
    "altmap_sci_results.write_csv(f'./lfr_results/altmap_sci_' + bench_type_str + '.csv')\n",
    "sci_results.write_csv(f'./lfr_results/sci_' + bench_type_str + '.csv')\n",
    "acc_results.write_csv(f'./lfr_results/acc_' + bench_type_str + '.csv')\n",
    "\n"
   ],
   "metadata": {
    "collapsed": false,
    "pycharm": {
     "name": "#%% save benchmark results as csv - !overwrites existing files!\n",
     "is_executing": false
    }
   }
  },
  {
   "cell_type": "code",
   "execution_count": 28,
   "outputs": [],
   "source": [
    "# LFR params\n",
    "N = 5000\n",
    "mu = 0.01\n",
    "max_community = int(0.5*N)\n",
    "min_community = int(max_community * 0.25)\n",
    "max_degree = int(max_community * 0.3)\n",
    "min_degree = int(min_community * 0.4)\n",
    "gamma = 3.5 # Power law exponent for the degree distribution \n",
    "beta = 1.1 # Power law exponent for the community size distribution\n",
    "max_iter = 500\n",
    "\n",
    "# generate LFR benchmark graph\n",
    "G = LFR_benchmark_graph(N, gamma, beta, mu, min_degree=min_degree, max_degree=max_degree, \n",
    "                        max_community=max_community, min_community=min_community, max_iters=max_iter, tol=1)\n",
    "\n"
   ],
   "metadata": {
    "collapsed": false,
    "pycharm": {
     "name": "#%% param search\n",
     "is_executing": false
    }
   }
  }
 ],
 "metadata": {
  "kernelspec": {
   "display_name": "Python 3",
   "language": "python",
   "name": "python3"
  },
  "language_info": {
   "codemirror_mode": {
    "name": "ipython",
    "version": 3
   },
   "file_extension": ".py",
   "mimetype": "text/x-python",
   "name": "python",
   "nbconvert_exporter": "python",
   "pygments_lexer": "ipython3",
   "version": "3.6.8"
  },
  "pycharm": {
   "stem_cell": {
    "cell_type": "raw",
    "source": [],
    "metadata": {
     "collapsed": false
    }
   }
  }
 },
 "nbformat": 4,
 "nbformat_minor": 1
}