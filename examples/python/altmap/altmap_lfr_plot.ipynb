{
 "cells": [
  {
   "cell_type": "markdown",
   "metadata": {},
   "source": [
    "## LFR benchmark for Altmap vs Map Eq\n",
    "### Compare altmap to map eq using networkx"
   ]
  },
  {
   "cell_type": "code",
   "execution_count": 1,
   "outputs": [
    {
     "name": "stdout",
     "text": [
      "Using matplotlib backend: Qt5Agg\n",
      "Populating the interactive namespace from numpy and matplotlib\n"
     ],
     "output_type": "stream"
    }
   ],
   "source": [
    "from altmap.altmap_helpers.lfr import *\n",
    "\n",
    "# show plots in separate window\n",
    "%pylab\n",
    "\n",
    "# init rc params\n",
    "init_plt_params()"
   ],
   "metadata": {
    "collapsed": false,
    "pycharm": {
     "name": "#%% imports\n",
     "is_executing": false
    }
   }
  },
  {
   "cell_type": "code",
   "execution_count": 2,
   "outputs": [
    {
     "name": "stdout",
     "text": [
      "Minimum number of realizations is 1.\n",
      "Actual realizations are [1 1 1 1 1 1 1 1 1 1 1 1 1 1 1 1 1 1 1 1 1 1 1 1 1].\n",
      "Average realizations are 1.0.\n"
     ],
     "output_type": "stream"
    }
   ],
   "source": [
    "bench_type_str = '600n'\n",
    "# bench_type_str = '20mu'\n",
    "acc_results = BenchmarkResults.read_csv(f'./lfr_results/acc_' + bench_type_str + '.csv')\n",
    "infomap_results = BenchmarkResults.read_csv(f'./lfr_results/infomap_' + bench_type_str + '.csv')\n",
    "altmap_results = BenchmarkResults.read_csv(f'./lfr_results/altmap_' + bench_type_str + '.csv')\n",
    "altmap_sci_results = BenchmarkResults.read_csv(f'./lfr_results/altmap_sci_' + bench_type_str + '.csv')\n",
    "sci_results = BenchmarkResults.read_csv(f'./lfr_results/sci_' + bench_type_str + '.csv')\n",
    "\n",
    "print (f'Minimum number of realizations is {np.min(infomap_results.actual_realizations)}.')\n",
    "print (f'Actual realizations are {infomap_results.actual_realizations}.')\n",
    "print (f'Average realizations are {np.mean(infomap_results.actual_realizations)}.')\n"
   ],
   "metadata": {
    "collapsed": false,
    "pycharm": {
     "name": "#%% read benchmark results from csv\n",
     "is_executing": false
    }
   }
  },
  {
   "cell_type": "code",
   "execution_count": 3,
   "outputs": [
    {
     "name": "stderr",
     "text": [
      "/home/chri/infomap/examples/python/altmap/altmap_helpers/lfr.py:232: RuntimeWarning: invalid value encountered in less\n",
      "  lower[lower < lower_bound] = lower_bound\n",
      "/home/chri/infomap/examples/python/altmap/altmap_helpers/lfr.py:234: RuntimeWarning: invalid value encountered in greater\n",
      "  upper[upper > upper_bound] = upper_bound\n"
     ],
     "output_type": "stream"
    }
   ],
   "source": [
    "plt.close('all')\n",
    "fig, ax = plt.subplots(figsize=(12,9))\n",
    "# plt.title(f'LFR benchmark, N = {N} nodes')\n",
    "plt.plot([0.5, 0.5], [0,1], 'r')\n",
    "\n",
    "plot_benchmark_results(infomap_results, color='royalblue', marker='x', label='Infomap', lower_bound=0.0, \n",
    "                       upper_bound=1.0)\n",
    "# plot_benchmark_results(sci_results, color='crimson', marker='s', label='SCI')\n",
    "plot_benchmark_results(altmap_results, color='darkorange', marker='^', label='Synthesizing Infomap')\n",
    "plot_benchmark_results(altmap_sci_results, color='seagreen', marker='o', label='Synthesizing Infomap with SCI')\n",
    "ax_acc = ax.twinx()\n",
    "ln4=plot_benchmark_results(acc_results, color='crimson', marker='s', label='Average Community Clustering', plot_uncertainty=False)\n",
    "\n",
    "plt.grid()\n",
    "plt.xlabel('Mixing parameter $\\mu$')\n",
    "plt.ylabel(r'$\\mathrm{AMI}(\\mathcal{Y},\\mathcal{Y}_{true})$')\n",
    "plt.legend()\n",
    "plt.tight_layout()"
   ],
   "metadata": {
    "collapsed": false,
    "pycharm": {
     "name": "#%% Plot mean score over mixing parameter\n",
     "is_executing": false
    }
   }
  },
  {
   "cell_type": "code",
   "execution_count": 5,
   "outputs": [
    {
     "name": "stderr",
     "text": [
      "/home/chri/infomap/examples/python/altmap/altmap_helpers/lfr.py:232: RuntimeWarning: invalid value encountered in less\n",
      "  lower[lower < lower_bound] = lower_bound\n"
     ],
     "output_type": "stream"
    }
   ],
   "source": [
    "min_err = np.min(np.min([infomap_results.mean_errors - infomap_results.std_errors,\\\n",
    "                         altmap_results.mean_errors - altmap_results.std_errors,\\\n",
    "                         altmap_sci_results.mean_errors - altmap_sci_results.std_errors]))\n",
    "\n",
    "max_err = np.max(np.max([infomap_results.mean_errors + infomap_results.std_errors,\\\n",
    "                         altmap_results.mean_errors + altmap_results.std_errors,\\\n",
    "                         altmap_sci_results.mean_errors + altmap_sci_results.std_errors]))\n",
    "                                                  \n",
    "plt.close('all')\n",
    "fig, ax = plt.subplots(figsize=(12,9))\n",
    "# plt.title(f'LFR benchmark, N = {N} nodes')\n",
    "plt.plot([0.5, 0.5], [min_err-0.2, max_err+0.2], 'r')\n",
    "\n",
    "plot_benchmark_results(infomap_results, type='errors', color='royalblue', marker='x', label='Infomap', lower_bound=-1.0)\n",
    "# plot_benchmark_results(sci_results, type='errors', color='crimson', marker='s', label='SCI')\n",
    "plot_benchmark_results(altmap_results, type='errors', color='darkorange', marker='^', label='Synthesizing Infomap')\n",
    "plot_benchmark_results(altmap_sci_results, type='errors', color='seagreen', marker='o', label='Synthesizing Infomap '\n",
    "                                                                                              'with SCI')\n",
    "plt.grid()\n",
    "plt.xlabel('Mixing parameter $\\mu$')\n",
    "plt.ylabel(r'Mean relative error $\\bar{e}_\\theta$')\n",
    "plt.legend(loc='upper left')\n",
    "plt.tight_layout()"
   ],
   "metadata": {
    "collapsed": false,
    "pycharm": {
     "name": "#%% Plot mean relative #communities error over mixing parameter\n",
     "is_executing": false
    }
   }
  },
  {
   "cell_type": "code",
   "execution_count": 6,
   "outputs": [
    {
     "name": "stderr",
     "text": [
      "/home/chri/infomap/examples/python/altmap/altmap_helpers/lfr.py:232: RuntimeWarning: invalid value encountered in less\n",
      "  lower[lower < lower_bound] = lower_bound\n",
      "/home/chri/infomap/examples/python/altmap/altmap_helpers/lfr.py:234: RuntimeWarning: invalid value encountered in greater\n",
      "  upper[upper > upper_bound] = upper_bound\n"
     ],
     "output_type": "stream"
    }
   ],
   "source": [
    "plt.close('all')\n",
    "fig, ax = plt.subplots(figsize=(12,9))\n",
    "\n",
    "ln1=plot_benchmark_results(infomap_results, color='royalblue', marker='x', label='Infomap', lower_bound=0.0, \n",
    "                       upper_bound=1.0)\n",
    "ln2=plot_benchmark_results(altmap_results, color='darkorange', marker='^', label='Synthesizing Infomap')\n",
    "ln3=plot_benchmark_results(altmap_sci_results, color='seagreen', marker='o', label='Synthesizing Infomap with SCI')\n",
    "ax_acc = ax.twinx()\n",
    "ln4=plot_benchmark_results(acc_results, color='crimson', marker='s', label='Average Community Clustering', \n",
    "                           plot_uncertainty=False)\n",
    "\n",
    "altmap_span = np.max(altmap_results.mean_scores) - np.min(altmap_results.mean_scores)\n",
    "acc_span = np.max(acc_results.mean_scores) - np.min(acc_results.mean_scores)\n",
    "acc_ax_span = acc_span / altmap_span\n",
    "ax_lower = np.min(acc_results.mean_scores) - acc_ax_span / 2\n",
    "ax_upper = np.max(acc_results.mean_scores) + acc_ax_span / 2\n",
    "# ax_acc.set_ylim([ax_lower, ax_upper])\n",
    "\n",
    "plt.grid()\n",
    "ax.set_xlabel('Number of nodes $N$')\n",
    "ax.set_ylabel(r'$\\mathrm{AMI}(\\mathcal{Y},\\mathcal{Y}_{true})$')\n",
    "ax_acc.set_ylabel(r'$\\mathrm{ACC}(\\mathcal{Y}_{true})$', color='crimson')\n",
    "ax_acc.tick_params(axis='y', labelcolor='crimson')\n",
    "leg = ln1 + ln2 + ln3 + ln4\n",
    "labs = [l.get_label() for l in leg]\n",
    "ax.legend(leg, labs, loc=5)\n",
    "plt.tight_layout()\n"
   ],
   "metadata": {
    "collapsed": false,
    "pycharm": {
     "name": "#%% Plot mean score over N\n",
     "is_executing": false
    }
   }
  }
 ],
 "metadata": {
  "kernelspec": {
   "display_name": "Python 3",
   "language": "python",
   "name": "python3"
  },
  "language_info": {
   "codemirror_mode": {
    "name": "ipython",
    "version": 3
   },
   "file_extension": ".py",
   "mimetype": "text/x-python",
   "name": "python",
   "nbconvert_exporter": "python",
   "pygments_lexer": "ipython3",
   "version": "3.6.8"
  },
  "pycharm": {
   "stem_cell": {
    "cell_type": "raw",
    "source": [],
    "metadata": {
     "collapsed": false
    }
   }
  }
 },
 "nbformat": 4,
 "nbformat_minor": 1
}