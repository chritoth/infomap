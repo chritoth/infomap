{
 "cells": [
  {
   "cell_type": "markdown",
   "metadata": {},
   "source": [
    "## LFR benchmark for Altmap vs Map Eq\n",
    "### Compare altmap to map eq using networkx"
   ]
  },
  {
   "cell_type": "code",
   "execution_count": 2,
   "outputs": [
    {
     "name": "stdout",
     "text": [
      "Using matplotlib backend: Qt5Agg\n",
      "Populating the interactive namespace from numpy and matplotlib\n"
     ],
     "output_type": "stream"
    }
   ],
   "source": [
    "from altmap.altmap_helpers.lfr import *\n",
    "\n",
    "# show plots in separate window\n",
    "%pylab\n",
    "\n",
    "# init rc params\n",
    "init_plt_params()\n",
    "fig_dir = '../../../../'"
   ],
   "metadata": {
    "collapsed": false,
    "pycharm": {
     "name": "#%% imports\n",
     "is_executing": false
    }
   }
  },
  {
   "cell_type": "code",
   "execution_count": 14,
   "outputs": [
    {
     "name": "stdout",
     "text": [
      "Minimum number of realizations is 77.\n",
      "Actual realizations are [88 90 82 88 86 82 87 77 89 87 86 84 87 88 86 81 86 91 86 86 84 87 83 89\n",
      " 87].\n",
      "Average realizations are 85.88.\n",
      "Critical point is at mu = 0.30061583846775763.\n"
     ],
     "output_type": "stream"
    }
   ],
   "source": [
    "bench_type_str = '2400n'\n",
    "# bench_type_str = '25mu'\n",
    "acc_results = BenchmarkResults.read_csv(f'./lfr_results/acc_' + bench_type_str + '.csv')\n",
    "infomap_results = BenchmarkResults.read_csv(f'./lfr_results/infomap_' + bench_type_str + '.csv')\n",
    "altmap_results = BenchmarkResults.read_csv(f'./lfr_results/altmap_' + bench_type_str + '.csv')\n",
    "altmap_sci_results = BenchmarkResults.read_csv(f'./lfr_results/altmap_sci_' + bench_type_str + '.csv')\n",
    "sci_results = BenchmarkResults.read_csv(f'./lfr_results/sci_' + bench_type_str + '.csv')\n",
    "\n",
    "print (f'Minimum number of realizations is {np.min(infomap_results.actual_realizations)}.')\n",
    "print (f'Actual realizations are {infomap_results.actual_realizations}.')\n",
    "print (f'Average realizations are {np.mean(infomap_results.actual_realizations)}.')\n",
    "\n",
    "\n",
    "# LS linear fit to acc data\n",
    "A = np.ones((acc_results.num_datapoints, 2))\n",
    "A[:,0] = acc_results.var_list\n",
    "y = acc_results.mean_scores.reshape((acc_results.num_datapoints, 1))\n",
    "theta = np.linalg.pinv(A).dot(y)\n",
    "\n",
    "# compute linear approximation\n",
    "mu_list = np.linspace(0.15, 0.75, 25)\n",
    "acc_approx = mu_list * theta[0] + theta[1]\n",
    "mu_cp = (0.26 - theta[1]) / theta[0] # compute 'critical point' of acc where ami performance starts dropping\n",
    "print (f'Critical point is at mu = {mu_cp[0]}.')\n"
   ],
   "metadata": {
    "collapsed": false,
    "pycharm": {
     "name": "#%% read benchmark results from csv\n",
     "is_executing": false
    }
   }
  },
  {
   "cell_type": "code",
   "execution_count": 18,
   "outputs": [],
   "source": [
    "plt.close('all')\n",
    "fig, ax = plt.subplots(figsize=(12,9))\n",
    "# plt.title(f'LFR benchmark, N = {N} nodes')\n",
    "# ax.plot([0.5, 0.5], [0, 1], color='k')\n",
    "ax.plot([mu_cp, mu_cp], [0,1], color='k', zorder = 11)\n",
    "\n",
    "ln1 = plot_benchmark_results(infomap_results, color='royalblue', marker='x', label='Infomap', lower_bound=0.0, \n",
    "                       upper_bound=1.0)\n",
    "# plot_benchmark_results(sci_results, color='crimson', marker='s', label='SCI')\n",
    "ln2 = plot_benchmark_results(altmap_results, color='darkorange', marker='^', label='Synthesizing Infomap')\n",
    "ln3 = plot_benchmark_results(altmap_sci_results, color='seagreen', marker='o', label='Synthesizing Infomap with SCI')\n",
    "\n",
    "ax_acc = ax.twinx()\n",
    "ax.patch.set_alpha(0)\n",
    "ax.set_zorder(10)\n",
    "ax_acc.set_zorder(1)\n",
    "ax_acc.set_ylim([0, 0.35])\n",
    "ax_acc.plot(acc_results.var_list, acc_results.mean_scores, 's', color='crimson')\n",
    "ax_acc.plot(mu_list, acc_approx, '--', color='crimson', linewidth=2)\n",
    "ln4 = [plt.Line2D([0], [0], linestyle='--', marker='s', color='crimson', lw=2, label='ACC with linear approximation')]\n",
    "\n",
    "ax.grid('both')\n",
    "ax.set_xlabel('Mixing parameter $\\mu$')\n",
    "ax.set_ylabel(r'$\\mathrm{AMI}(\\mathcal{Y},\\mathcal{Y}_{true})$')\n",
    "ax_acc.set_ylabel(r'$\\mathrm{ACC}(\\mathcal{Y}_{true})$', color='crimson')\n",
    "ax_acc.tick_params(axis='y', labelcolor='crimson')\n",
    "leg = ln1 + ln2 + ln3 + ln4\n",
    "labels = [l.get_label() for l in leg]\n",
    "ax.legend(leg, labels, loc=1)\n",
    "plt.tight_layout()"
   ],
   "metadata": {
    "collapsed": false,
    "pycharm": {
     "name": "#%% Plot mean score over mixing parameter\n",
     "is_executing": false
    }
   }
  },
  {
   "cell_type": "code",
   "execution_count": 19,
   "outputs": [],
   "source": [
    "fig_path = fig_dir + 'lfr_' + bench_type_str + '_ami.pdf'\n",
    "plt.savefig(fig_path, dpi=1200, format='pdf')\n"
   ],
   "metadata": {
    "collapsed": false,
    "pycharm": {
     "name": "#%% save figure as .pdf\n",
     "is_executing": false
    }
   }
  },
  {
   "cell_type": "code",
   "execution_count": 15,
   "outputs": [],
   "source": [
    "min_err = np.min(np.min([infomap_results.mean_errors - infomap_results.std_errors,\\\n",
    "                         altmap_results.mean_errors - altmap_results.std_errors,\\\n",
    "                         altmap_sci_results.mean_errors - altmap_sci_results.std_errors]))\n",
    "\n",
    "max_err = np.max(np.max([infomap_results.mean_errors + infomap_results.std_errors,\\\n",
    "                         altmap_results.mean_errors + altmap_results.std_errors,\\\n",
    "                         altmap_sci_results.mean_errors + altmap_sci_results.std_errors]))\n",
    "                                                  \n",
    "plt.close('all')\n",
    "fig, ax = plt.subplots(figsize=(12,9))\n",
    "# plt.title(f'LFR benchmark, N = {N} nodes')\n",
    "# plt.plot([0.5, 0.5], [min_err-0.2, max_err+0.2], 'r')\n",
    "ax.plot([mu_cp, mu_cp], [min_err-0.2, max_err+0.2], color='k')\n",
    "\n",
    "plot_benchmark_results(infomap_results, type='errors', color='royalblue', marker='x', label='Infomap', lower_bound=-1.0)\n",
    "# plot_benchmark_results(sci_results, type='errors', color='crimson', marker='s', label='SCI')\n",
    "plot_benchmark_results(altmap_results, type='errors', color='darkorange', marker='^', label='Synthesizing Infomap')\n",
    "plot_benchmark_results(altmap_sci_results, type='errors', color='seagreen', marker='o', label='Synthesizing Infomap '\n",
    "                                                                                              'with SCI')\n",
    "plt.grid()\n",
    "plt.xlabel('Mixing parameter $\\mu$')\n",
    "plt.ylabel(r'Mean relative error $\\bar{e}_\\theta$')\n",
    "plt.legend(loc='upper left')\n",
    "plt.tight_layout()"
   ],
   "metadata": {
    "collapsed": false,
    "pycharm": {
     "name": "#%% Plot mean relative #communities error over mixing parameter\n",
     "is_executing": false
    }
   }
  },
  {
   "cell_type": "code",
   "execution_count": 16,
   "outputs": [],
   "source": [
    "fig_path = fig_dir + 'lfr_' + bench_type_str + '_rendc.pdf'\n",
    "plt.savefig(fig_path, dpi=600, format='pdf')\n",
    "\n"
   ],
   "metadata": {
    "collapsed": false,
    "pycharm": {
     "name": "#%% save figure as .pdf\n",
     "is_executing": false
    }
   }
  },
  {
   "cell_type": "code",
   "execution_count": 112,
   "outputs": [],
   "source": [
    "plt.close('all')\n",
    "fig, ax = plt.subplots(figsize=(12,9))\n",
    "\n",
    "ln1=plot_benchmark_results(infomap_results, color='royalblue', marker='x', label='Infomap', lower_bound=0.0, \n",
    "                       upper_bound=1.0)\n",
    "ln2=plot_benchmark_results(altmap_results, color='darkorange', marker='^', label='Synthesizing Infomap')\n",
    "ln3=plot_benchmark_results(altmap_sci_results, color='seagreen', marker='o', label='Synthesizing Infomap with SCI')\n",
    "\n",
    "ax_acc = ax.twinx()\n",
    "ax.patch.set_alpha(0)\n",
    "ax.set_zorder(10)\n",
    "ax_acc.set_zorder(1)\n",
    "ln4=plot_benchmark_results(acc_results, color='crimson', marker='s', label='Average Community Clustering', \n",
    "                           plot_uncertainty=False)\n",
    "\n",
    "altmap_span = np.max(altmap_results.mean_scores) - np.min(altmap_results.mean_scores)\n",
    "acc_span = np.max(acc_results.mean_scores) - np.min(acc_results.mean_scores)\n",
    "acc_ax_span = acc_span / altmap_span\n",
    "ax_lower = np.min(acc_results.mean_scores) - acc_ax_span / 2\n",
    "ax_upper = np.max(acc_results.mean_scores) + acc_ax_span / 2\n",
    "# ax_acc.set_ylim([ax_lower, ax_upper])\n",
    "\n",
    "ax.grid('both')\n",
    "ax.set_xlabel('Number of nodes $N$')\n",
    "ax.set_ylabel(r'$\\mathrm{AMI}(\\mathcal{Y},\\mathcal{Y}_{true})$')\n",
    "ax_acc.set_ylabel(r'$\\mathrm{ACC}(\\mathcal{Y}_{true})$', color='crimson')\n",
    "ax_acc.tick_params(axis='y', labelcolor='crimson')\n",
    "leg = ln1 + ln2 + ln3 + ln4\n",
    "labs = [l.get_label() for l in leg]\n",
    "ax.legend(leg, labs, loc='best')\n",
    "plt.tight_layout()"
   ],
   "metadata": {
    "collapsed": false,
    "pycharm": {
     "name": "#%% Plot mean score over N\n",
     "is_executing": false
    }
   }
  },
  {
   "cell_type": "code",
   "execution_count": 53,
   "outputs": [],
   "source": [
    "fig_path = fig_dir + 'lfr_' + bench_type_str + '_ami.pdf'\n",
    "plt.savefig(fig_path, dpi=1200, format='pdf')"
   ],
   "metadata": {
    "collapsed": false,
    "pycharm": {
     "name": "#%% save figure as .pdf\n",
     "is_executing": false
    }
   }
  }
 ],
 "metadata": {
  "kernelspec": {
   "display_name": "Python 3",
   "language": "python",
   "name": "python3"
  },
  "language_info": {
   "codemirror_mode": {
    "name": "ipython",
    "version": 3
   },
   "file_extension": ".py",
   "mimetype": "text/x-python",
   "name": "python",
   "nbconvert_exporter": "python",
   "pygments_lexer": "ipython3",
   "version": "3.6.8"
  },
  "pycharm": {
   "stem_cell": {
    "cell_type": "raw",
    "source": [],
    "metadata": {
     "collapsed": false
    }
   }
  }
 },
 "nbformat": 4,
 "nbformat_minor": 1
}