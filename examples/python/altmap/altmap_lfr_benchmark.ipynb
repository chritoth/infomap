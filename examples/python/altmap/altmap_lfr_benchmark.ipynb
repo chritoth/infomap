{
 "cells": [
  {
   "cell_type": "markdown",
   "metadata": {},
   "source": [
    "## LFR benchmark for Altmap vs Map Eq\n",
    "### Compare altmap to map eq using networkx"
   ]
  },
  {
   "cell_type": "code",
   "execution_count": 70,
   "outputs": [
    {
     "name": "stdout",
     "text": [
      "Using matplotlib backend: Qt5Agg\nPopulating the interactive namespace from numpy and matplotlib\n"
     ],
     "output_type": "stream"
    }
   ],
   "source": [
    "import networkx as nx\n",
    "import matplotlib.pyplot as plt\n",
    "import pandas as pd\n",
    "import numpy as np\n",
    "from collections import OrderedDict\n",
    "\n",
    "# show plots in separate window\n",
    "%pylab\n",
    "# load helpers and wrappers\n",
    "%run helpers.py "
   ],
   "metadata": {
    "collapsed": false,
    "pycharm": {
     "name": "#%% imports\n",
     "is_executing": false
    }
   }
  },
  {
   "cell_type": "code",
   "execution_count": 114,
   "outputs": [],
   "source": [
    "from networkx.generators.community import LFR_benchmark_graph\n",
    "from sklearn.metrics import normalized_mutual_info_score as nmi_score\n",
    "from sklearn.metrics import adjusted_mutual_info_score as ami_score\n",
    "\n",
    "# generate LFR benchmark graph + extract ground truth communities\n",
    "def generate_LFR_benchmark(N = 500, mu = 0.1):\n",
    "    \n",
    "    # LFR params N=10000\n",
    "    # params = {'max_degree':50, 'max_community':100, 'min_community':50, 'average_degree':20, 'tau1':3.0, 'tau2':1.5}\n",
    "    \n",
    "    # LFR params generic\n",
    "    max_community = int(0.2*N)\n",
    "    min_community = int(max_community * 0.25) #0.5\n",
    "    max_degree = int(max_community * 0.3) # 0.6\n",
    "    min_degree = int(min_community * 0.4)\n",
    "    gamma = 3.5 # Power law exponent for the degree distribution \n",
    "    beta = 1.1 #3.0 # Power law exponent for the community size distribution\n",
    "    params = {'max_degree':max_degree, 'max_community':max_community, 'min_community':min_community,\n",
    "              'min_degree':min_degree, 'tau1':gamma, 'tau2':beta}\n",
    "    \n",
    "\n",
    "    max_degree = params['max_degree']\n",
    "    max_community = params['max_community']\n",
    "    min_community = params['min_community']\n",
    "    #average_degree = params['average_degree']\n",
    "    min_degree = params['min_degree']\n",
    "    tau1 = params['tau1'] # Power law exponent for the degree distribution \n",
    "    tau2 = params['tau2'] # Power law exponent for the community size distribution\n",
    "\n",
    "    # generate LFR benchmark graph\n",
    "    \n",
    "    G = LFR_benchmark_graph(N, tau1, tau2, mu, min_degree=min_degree, max_degree=max_degree, \n",
    "                            max_community=max_community, min_community=min_community)\n",
    "    G = nx.convert_node_labels_to_integers(G, first_label=1)\n",
    "    \n",
    "    # extract ground truth communities from networkx graph object\n",
    "    communities_true = {}\n",
    "    num_communities = 0\n",
    "    for n in range(1,N+1):\n",
    "        if n in communities_true:\n",
    "            continue\n",
    "            \n",
    "        num_communities = num_communities + 1\n",
    "        community = G.nodes[n]['community']\n",
    "        node_ids = np.asarray(list(community))\n",
    "        node_ids = node_ids + 1 # have node labels >= 1\n",
    "        communities_true.update(dict.fromkeys(node_ids , num_communities))\n",
    "        \n",
    "    communities_true = OrderedDict(sorted(communities_true.items()))\n",
    "    num_communities_true = max(communities_true.values()) - min(communities_true.values()) + 1\n",
    "    \n",
    "    return G, communities_true, num_communities_true\n",
    "\n",
    "# compute normalized mutual information between two partitions\n",
    "def compute_score(communities_true, communities_found):\n",
    "    labels_true = list(communities_true.values())\n",
    "    labels_found = list(communities_found.values())\n",
    "\n",
    "    # return nmi_score(labels_true,labels_found, average_method='arithmetic')\n",
    "    return ami_score(labels_true,labels_found, average_method='arithmetic')\n",
    "\n",
    "class BenchmarkResults:\n",
    "    def __init__(self, var_list, num_realizations):\n",
    "        self.var_list = var_list\n",
    "        self.num_datapoints = len(var_list)\n",
    "        self.num_realizations = num_realizations\n",
    "        self.actual_realizations = np.zeros((self.num_datapoints,), dtype=int)\n",
    "        self.scores = np.zeros((num_realizations, self.num_datapoints))\n",
    "        self.errors = np.zeros((num_realizations, self.num_datapoints))\n",
    "    \n",
    "    def evaluate_results(self):\n",
    "        self.mean_scores = np.empty((self.num_datapoints,))\n",
    "        self.mean_scores[:] = np.nan\n",
    "        self.std_scores = np.empty((self.num_datapoints,))\n",
    "        self.std_scores[:] = np.nan\n",
    "        self.mean_errors = np.empty((self.num_datapoints,))\n",
    "        self.mean_errors[:] = np.nan\n",
    "        self.std_errors = np.empty((self.num_datapoints,))\n",
    "        self.std_errors[:] = np.nan\n",
    "        \n",
    "        for i in range(self.num_datapoints):\n",
    "            nr = self.actual_realizations[i]\n",
    "            if nr == 0:\n",
    "                continue\n",
    "            \n",
    "            self.mean_scores[i] = np.mean(self.scores[:nr, i])\n",
    "            self.std_scores[i] = np.std(self.scores[:nr, i], ddof=1)\n",
    "            self.mean_errors[i] = np.mean(self.errors[:nr, i])\n",
    "            self.std_errors[i] = np.std(self.errors[:nr, i], ddof=1)\n",
    "    \n",
    "    def write_csv(self, path):\n",
    "        df = pd.DataFrame()\n",
    "        \n",
    "        df['var_list'] = self.var_list\n",
    "        df['actual_realizations'] = self.actual_realizations\n",
    "        df['mean_scores'] = self.mean_scores\n",
    "        df['std_scores'] = self.std_scores\n",
    "        df['mean_errors'] = self.mean_errors\n",
    "        df['std_errors'] = self.std_errors\n",
    "        \n",
    "        df.to_csv(path, index_label='id')\n",
    "            \n",
    "            \n",
    "        \n",
    "# LFR Benchmark\n",
    "# num_realizations .. number of network realizations for each parameter pair (mu, N)\n",
    "def run_benchmark(N, mu_list, num_realizations=10):\n",
    "    num_benchmarks = len(mu_list) * num_realizations\n",
    "    benchmark_id = 0\n",
    "           \n",
    "    infomap_results = BenchmarkResults(mu_list, num_realizations)\n",
    "    altmap_results = BenchmarkResults(mu_list, num_realizations)\n",
    "    altmap_sci_results = BenchmarkResults(mu_list, num_realizations)\n",
    "    sci_results = BenchmarkResults(mu_list, num_realizations)\n",
    "    for mu_idx, mu in enumerate(mu_list):\n",
    "        \n",
    "        realization_idx = -1\n",
    "        for _ in range(num_realizations):\n",
    "            benchmark_id = benchmark_id + 1\n",
    "            print(f'Starting benchmark {benchmark_id}/{num_benchmarks} for (N,mu) = ({N},{mu})\\n')\n",
    "            try:\n",
    "                G, communities_true, num_communities_true = generate_LFR_benchmark(N, mu)\n",
    "            except nx.ExceededMaxIterations as err:\n",
    "                print(f'Failed to generate network for (N,mu) = ({N},{mu}): ', err)\n",
    "                continue\n",
    "            \n",
    "            realization_idx += 1\n",
    "            \n",
    "            # test infomap\n",
    "            communities_found, num_communities_found, _, _ = infomap(G, altmap=False)\n",
    "            print (f'Infomap found {num_communities_found} communities vs. {num_communities_true} ground truth '\n",
    "                   f'communities.\\n')\n",
    "            \n",
    "            score = compute_score(communities_true, communities_found)\n",
    "            infomap_results.scores[realization_idx, mu_idx] = score\n",
    "            error = num_communities_found/num_communities_true - 1.0\n",
    "            infomap_results.errors[realization_idx, mu_idx] = error\n",
    "            \n",
    "            # test altmap\n",
    "            communities_found, num_communities_found, _, _ = infomap(G, altmap=True, update_inputfile=False)\n",
    "            print (f'Altmap found {num_communities_found} communities vs. {num_communities_true} ground truth '\n",
    "                   f'communities.\\n')\n",
    "            \n",
    "            score = compute_score(communities_true, communities_found)\n",
    "            altmap_results.scores[realization_idx, mu_idx] = score\n",
    "            error = num_communities_found/num_communities_true - 1.0\n",
    "            altmap_results.errors[realization_idx, mu_idx] = error\n",
    "        \n",
    "            # test altmap with SCI\n",
    "            communities_found, num_communities_found,\\\n",
    "            communities_init, num_communities_init = infomap(G, altmap=True, init='sc', update_inputfile=False)\n",
    "            print (f'Altmap with SCI ({num_communities_init}) found {num_communities_found} communities vs. '\n",
    "                   f'{num_communities_true} '\n",
    "                   f'ground truth communities.\\n')\n",
    "            \n",
    "            score = compute_score(communities_true, communities_found)\n",
    "            altmap_sci_results.scores[realization_idx, mu_idx] = score\n",
    "            error = num_communities_found/num_communities_true - 1.0\n",
    "            altmap_sci_results.errors[realization_idx, mu_idx] = error\n",
    "            \n",
    "            score = compute_score(communities_true, communities_init)\n",
    "            sci_results.scores[realization_idx, mu_idx] = score\n",
    "            error = num_communities_init/num_communities_true - 1.0\n",
    "            sci_results.errors[realization_idx, mu_idx] = error\n",
    "        \n",
    "        # store actual number of realizations    \n",
    "        infomap_results.actual_realizations[mu_idx] = realization_idx + 1\n",
    "        altmap_results.actual_realizations[mu_idx] = realization_idx + 1\n",
    "        altmap_sci_results.actual_realizations[mu_idx] = realization_idx + 1\n",
    "        sci_results.actual_realizations[mu_idx] = realization_idx + 1\n",
    "\n",
    "    print(f'Finished benchmark successfully!\\n')\n",
    "    return infomap_results, altmap_results, altmap_sci_results, sci_results\n",
    "\n",
    "def plot_benchmark_results(results: BenchmarkResults, type='scores', color='blue', marker=None, label=None, \n",
    "                           lower_bound=None, upper_bound=None):\n",
    "    \n",
    "    xdata = results.var_list\n",
    "    data = results.mean_scores\n",
    "    data_std = results.std_scores\n",
    "    \n",
    "    if type == 'errors':\n",
    "        data = results.mean_errors\n",
    "        data_std = results.std_errors\n",
    "        \n",
    "    lw = 2; ms = 10\n",
    "    plt.plot(xdata, data, '--', marker = marker, color=color, linewidth=lw, markersize=ms, label=label)\n",
    "    upper = data + data_std\n",
    "    lower = data - data_std\n",
    "    if lower_bound != None:\n",
    "        lower[lower < lower_bound] = lower_bound\n",
    "    if upper_bound != None:\n",
    "        upper[upper > upper_bound] = upper_bound\n",
    "        \n",
    "    plt.fill_between(xdata, upper, lower, color=color, alpha=0.25)\n",
    "    "
   ],
   "metadata": {
    "collapsed": false,
    "pycharm": {
     "name": "#%% helpers + wrappers\n",
     "is_executing": false
    }
   }
  },
  {
   "cell_type": "code",
   "execution_count": 105,
   "outputs": [
    {
     "name": "stdout",
     "text": [
      "[0.15 0.3  0.45 0.6  0.75]\nStarting benchmark 1/15 for (N,mu) = (500,0.15)\n\nInfomap found 9 communities vs. 9 ground truth communities.\n\n",
      "Altmap found 9 communities vs. 9 ground truth communities.\n\n",
      "Spectral clustering finished in 0.7457770000000892 seconds.\nAltmap with SCI (22) found 9 communities vs. 9 ground truth communities.\n\nStarting benchmark 2/15 for (N,mu) = (500,0.15)\n\n",
      "Infomap found 9 communities vs. 9 ground truth communities.\n\nAltmap found 9 communities vs. 9 ground truth communities.\n\nSpectral clustering finished in 0.3566960000002837 seconds.\n",
      "Altmap with SCI (22) found 9 communities vs. 9 ground truth communities.\n\nStarting benchmark 3/15 for (N,mu) = (500,0.15)\n\n",
      "Infomap found 8 communities vs. 8 ground truth communities.\n\nAltmap found 8 communities vs. 8 ground truth communities.\n\n",
      "Spectral clustering finished in 0.45636700000022756 seconds.\nAltmap with SCI (22) found 8 communities vs. 8 ground truth communities.\n\nStarting benchmark 4/15 for (N,mu) = (500,0.3)\n\n",
      "Infomap found 6 communities vs. 8 ground truth communities.\n\nAltmap found 30 communities vs. 8 ground truth communities.\n\nSpectral clustering finished in 0.3506430000002183 seconds.\n",
      "Altmap with SCI (22) found 19 communities vs. 8 ground truth communities.\n\nStarting benchmark 5/15 for (N,mu) = (500,0.3)\n\nInfomap found 12 communities vs. 12 ground truth communities.\n\n",
      "Altmap found 17 communities vs. 12 ground truth communities.\n\nSpectral clustering finished in 0.4476889999996274 seconds.\n",
      "Altmap with SCI (22) found 17 communities vs. 12 ground truth communities.\n\nStarting benchmark 6/15 for (N,mu) = (500,0.3)\n\n",
      "Infomap found 6 communities vs. 9 ground truth communities.\n\nAltmap found 24 communities vs. 9 ground truth communities.\n\n",
      "Spectral clustering finished in 0.4215129999997771 seconds.\nAltmap with SCI (22) found 13 communities vs. 9 ground truth communities.\n\nStarting benchmark 7/15 for (N,mu) = (500,0.44999999999999996)\n\n",
      "Infomap found 1 communities vs. 10 ground truth communities.\n\nAltmap found 58 communities vs. 10 ground truth communities.\n\n",
      "Spectral clustering finished in 0.6507489999999052 seconds.\nAltmap with SCI (22) found 25 communities vs. 10 ground truth communities.\n\nStarting benchmark 8/15 for (N,mu) = (500,0.44999999999999996)\n\n",
      "Infomap found 1 communities vs. 9 ground truth communities.\n\nAltmap found 57 communities vs. 9 ground truth communities.\n\n",
      "Spectral clustering finished in 0.6498599999999897 seconds.\nAltmap with SCI (22) found 23 communities vs. 9 ground truth communities.\n\nStarting benchmark 9/15 for (N,mu) = (500,0.44999999999999996)\n\n",
      "Infomap found 1 communities vs. 10 ground truth communities.\n\nAltmap found 61 communities vs. 10 ground truth communities.\n\n",
      "Spectral clustering finished in 0.44212000000015905 seconds.\nAltmap with SCI (22) found 29 communities vs. 10 ground truth communities.\n\nStarting benchmark 10/15 for (N,mu) = (500,0.6)\n\n",
      "Infomap found 1 communities vs. 8 ground truth communities.\n\nAltmap found 62 communities vs. 8 ground truth communities.\n\n",
      "Spectral clustering finished in 0.46566500000017186 seconds.\nAltmap with SCI (22) found 27 communities vs. 8 ground truth communities.\n\nStarting benchmark 11/15 for (N,mu) = (500,0.6)\n\n",
      "Infomap found 1 communities vs. 12 ground truth communities.\n\nAltmap found 63 communities vs. 12 ground truth communities.\n\n",
      "Spectral clustering finished in 0.8002799999999297 seconds.\nAltmap with SCI (22) found 28 communities vs. 12 ground truth communities.\n\nStarting benchmark 12/15 for (N,mu) = (500,0.6)\n\n",
      "Infomap found 1 communities vs. 10 ground truth communities.\n\nAltmap found 67 communities vs. 10 ground truth communities.\n\n",
      "Spectral clustering finished in 0.43095099999982267 seconds.\nAltmap with SCI (22) found 25 communities vs. 10 ground truth communities.\n\nStarting benchmark 13/15 for (N,mu) = (500,0.75)\n\n",
      "Infomap found 1 communities vs. 8 ground truth communities.\n\nAltmap found 61 communities vs. 8 ground truth communities.\n\n",
      "Spectral clustering finished in 0.6450930000000881 seconds.\nAltmap with SCI (22) found 25 communities vs. 8 ground truth communities.\n\nStarting benchmark 14/15 for (N,mu) = (500,0.75)\n\n",
      "Infomap found 1 communities vs. 10 ground truth communities.\n\nAltmap found 62 communities vs. 10 ground truth communities.\n\n",
      "Spectral clustering finished in 1.5008640000000923 seconds.\nAltmap with SCI (22) found 27 communities vs. 10 ground truth communities.\n\nStarting benchmark 15/15 for (N,mu) = (500,0.75)\n\n",
      "Infomap found 1 communities vs. 10 ground truth communities.\n\nAltmap found 64 communities vs. 10 ground truth communities.\n\n",
      "Spectral clustering finished in 0.4239850000003571 seconds.\n",
      "Altmap with SCI (22) found 26 communities vs. 10 ground truth communities.\n\nFinished benchmark successfully!\n\n"
     ],
     "output_type": "stream"
    }
   ],
   "source": [
    "import warnings\n",
    "warnings.filterwarnings('ignore')\n",
    "\n",
    "# benchmark params\n",
    "N = 500\n",
    "mu_list = np.linspace(0.15, 0.75, 5)\n",
    "num_realizations = 3\n",
    "print (mu_list)\n",
    "\n",
    "infomap_results, altmap_results, altmap_sci_results, sci_results = run_benchmark(N, mu_list, num_realizations)"
   ],
   "metadata": {
    "collapsed": false,
    "pycharm": {
     "name": "#%% run LFR benchmarks\n",
     "is_executing": false
    }
   }
  },
  {
   "cell_type": "code",
   "execution_count": 111,
   "outputs": [
    {
     "name": "stdout",
     "text": [
      "Minimum number of realizations is 3.\nActual realizations are [3 3 3 3 3].\n"
     ],
     "output_type": "stream"
    }
   ],
   "source": [
    "infomap_results.evaluate_results()\n",
    "altmap_results.evaluate_results()\n",
    "altmap_sci_results.evaluate_results()\n",
    "sci_results.evaluate_results()\n",
    "\n",
    "print (f'Minimum number of realizations is {np.min(infomap_results.actual_realizations)}.')\n",
    "print (f'Actual realizations are {infomap_results.actual_realizations}.')"
   ],
   "metadata": {
    "collapsed": false,
    "pycharm": {
     "name": "#%% evaluate results\n",
     "is_executing": false
    }
   }
  },
  {
   "cell_type": "code",
   "execution_count": 115,
   "outputs": [],
   "source": [
    "infomap_results.write_csv('./lfr_results/infomap_500n.csv')\n",
    "altmap_results.write_csv('./lfr_results/altmap_500n.csv')\n",
    "altmap_sci_results.write_csv('./lfr_results/altmap_sci_500n.csv')\n",
    "sci_results.write_csv('./lfr_results/sci_500n.csv')\n"
   ],
   "metadata": {
    "collapsed": false,
    "pycharm": {
     "name": "#%% save as benchmark results as csv - !overwrites existing files!\n",
     "is_executing": false
    }
   }
  },
  {
   "cell_type": "code",
   "execution_count": 116,
   "outputs": [
    {
     "data": {
      "text/plain": "<matplotlib.legend.Legend at 0x7f2594571510>"
     },
     "metadata": {},
     "output_type": "execute_result",
     "execution_count": 116
    }
   ],
   "source": [
    "plt.close('all')\n",
    "plt.figure()\n",
    "# plt.title(f'LFR benchmark, N = {N} nodes')\n",
    "plt.plot([0.5, 0.5], [0,1], 'r')\n",
    "\n",
    "plot_benchmark_results(infomap_results, color='royalblue', marker='x', label='Infomap', lower_bound=0.0, \n",
    "                       upper_bound=1.0)\n",
    "# plot_benchmark_results(sci_results, color='crimson', marker='s', label='SCI')\n",
    "plot_benchmark_results(altmap_results, color='darkorange', marker='^', label='Synthesizing Infomap')\n",
    "plot_benchmark_results(altmap_sci_results, color='seagreen', marker='o', label='Synthesizing Infomap with SCI')\n",
    "\n",
    "plt.grid()\n",
    "plt.xlabel('Mixing parameter $\\mu$')\n",
    "plt.ylabel(r'$\\mathrm{AMI}(\\mathcal{Y},\\mathcal{Y}_{true})$')\n",
    "plt.legend()"
   ],
   "metadata": {
    "collapsed": false,
    "pycharm": {
     "name": "#%% Plot mean score over mixing parameter\n",
     "is_executing": false
    }
   }
  },
  {
   "cell_type": "code",
   "execution_count": 121,
   "outputs": [
    {
     "data": {
      "text/plain": "<matplotlib.legend.Legend at 0x7f259476eb10>"
     },
     "metadata": {},
     "output_type": "execute_result",
     "execution_count": 121
    }
   ],
   "source": [
    "min_err = np.min(np.min([infomap_results.mean_errors - infomap_results.std_errors,\\\n",
    "                         altmap_results.mean_errors - altmap_results.std_errors,\\\n",
    "                         altmap_sci_results.mean_errors - altmap_sci_results.std_errors]))\n",
    "\n",
    "max_err = np.max(np.max([infomap_results.mean_errors + infomap_results.std_errors,\\\n",
    "                         altmap_results.mean_errors + altmap_results.std_errors,\\\n",
    "                         altmap_sci_results.mean_errors + altmap_sci_results.std_errors]))\n",
    "                                                  \n",
    "plt.close('all')\n",
    "plt.figure()\n",
    "# plt.title(f'LFR benchmark, N = {N} nodes')\n",
    "plt.plot([0.5, 0.5], [min_err-0.2, max_err+0.2], 'r')\n",
    "\n",
    "plot_benchmark_results(infomap_results, type='errors', color='royalblue', marker='x', label='Infomap', lower_bound=-1.0)\n",
    "# plot_benchmark_results(sci_results, type='errors', color='crimson', marker='s', label='SCI')\n",
    "plot_benchmark_results(altmap_results, type='errors', color='darkorange', marker='^', label='Synthesizing Infomap')\n",
    "plot_benchmark_results(altmap_sci_results, type='errors', color='seagreen', marker='o', label='Synthesizing Infomap '\n",
    "                                                                                              'with SCI')\n",
    "plt.grid()\n",
    "plt.xlabel('Mixing parameter $\\mu$')\n",
    "plt.ylabel(r'Mean relative error $\\bar{e}_\\theta$')\n",
    "plt.legend(loc='upper left')"
   ],
   "metadata": {
    "collapsed": false,
    "pycharm": {
     "name": "#%% Plot mean relative #communities error over mixing parameter\n",
     "is_executing": false
    }
   }
  },
  {
   "cell_type": "code",
   "execution_count": 28,
   "outputs": [],
   "source": [
    "# LFR params\n",
    "N = 5000\n",
    "mu = 0.01\n",
    "max_community = int(0.5*N)\n",
    "min_community = int(max_community * 0.25)\n",
    "max_degree = int(max_community * 0.3)\n",
    "min_degree = int(min_community * 0.4)\n",
    "gamma = 3.5 # Power law exponent for the degree distribution \n",
    "beta = 1.1 # Power law exponent for the community size distribution\n",
    "max_iter = 500\n",
    "\n",
    "# generate LFR benchmark graph\n",
    "G = LFR_benchmark_graph(N, gamma, beta, mu, min_degree=min_degree, max_degree=max_degree, \n",
    "                        max_community=max_community, min_community=min_community, max_iters=max_iter, tol=1)\n"
   ],
   "metadata": {
    "collapsed": false,
    "pycharm": {
     "name": "#%% param search\n",
     "is_executing": false
    }
   }
  },
  {
   "cell_type": "code",
   "execution_count": 122,
   "outputs": [
    {
     "name": "stdout",
     "text": [
      "[36 97 30 55 56 92 39 95]\n",
      "Spectral clustering finished in 0.8448590000002696 seconds.\n"
     ],
     "output_type": "stream"
    }
   ],
   "source": [
    "G, communities_true, num_communities_true = generate_LFR_benchmark(N=500, mu=0.35)\n",
    "\n",
    "_, _, comm_sizes = nodes_per_community(communities_true)\n",
    "print (comm_sizes)\n",
    "# plt.close('all')\n",
    "# drawNetwork(G, communities_true, labels=False)\n",
    "\n",
    "communities_infomap, _, _, _ = infomap(G, altmap=False)\n",
    "communities_altmap, _, _, _ = infomap(G, altmap=True, update_inputfile=False)\n",
    "communities_altmap_sci, _, communities_sci, _ = infomap(G, altmap=True, init='sc', update_inputfile=False)\n",
    "#             \n",
    "# print(f'Altmap cost for true partition is {altmap_cost(G, communities_true)}')"
   ],
   "metadata": {
    "collapsed": false,
    "pycharm": {
     "name": "#%% compare visually\n",
     "is_executing": false
    }
   }
  },
  {
   "cell_type": "code",
   "execution_count": 123,
   "outputs": [],
   "source": [
    "# plotting params\n",
    "node_size = 150\n",
    "edge_width = 0.2\n",
    "font_size = 13\n",
    "# pos = nx.spring_layout(G)\n",
    "# pos = nx.spectral_layout(G)\n",
    "pos = community_layout(communities_true)\n",
    "\n",
    "\n",
    "plt.close('all')\n",
    "fig, axs = plt.subplots(2,2)\n",
    "\n",
    "ax = axs[0,0]\n",
    "ax.set_frame_on(False)\n",
    "ax.set_yticklabels([])\n",
    "ax.set_yticks([])\n",
    "ax.set_xticklabels([])\n",
    "ax.set_xticks([])\n",
    "ax.set_title('Infomap')\n",
    "communities = communities_infomap\n",
    "color_idc = [v for v in communities.values()]\n",
    "# nx.draw_networkx_edges(G, pos, ax=ax, width=edge_width)\n",
    "nodeCollection = nx.draw_networkx_nodes(G, pos=pos, node_color=color_idc, cmap=plt.get_cmap('Set3'), ax=ax,\n",
    "                                        node_size=node_size)\n",
    "# nx.draw_networkx_labels(G, pos, ax=ax, labels=communities, font_weight='bold', font_size=font_size)\n",
    "\n",
    "\n",
    "ax = axs[0,1]\n",
    "ax.set_frame_on(False)\n",
    "ax.set_yticklabels([])\n",
    "ax.set_yticks([])\n",
    "ax.set_xticklabels([])\n",
    "ax.set_xticks([])\n",
    "ax.set_title('Synthesizing Infomap')\n",
    "communities = communities_altmap\n",
    "color_idc = [v for v in communities.values()]\n",
    "# nx.draw_networkx_edges(G, pos, ax=ax, width=edge_width)\n",
    "nodeCollection = nx.draw_networkx_nodes(G, pos=pos, node_color=color_idc, cmap=plt.get_cmap('Set3'), ax=ax,\n",
    "                                        node_size=node_size)\n",
    "# nx.draw_networkx_labels(G, pos, ax=ax, labels=communities, font_weight='bold', font_size=font_size)\n",
    "\n",
    "\n",
    "ax = axs[1,0]\n",
    "ax.set_frame_on(False)\n",
    "ax.set_yticklabels([])\n",
    "ax.set_yticks([])\n",
    "ax.set_xticklabels([])\n",
    "ax.set_xticks([])\n",
    "ax.set_title('Synthesizing Infomap with SCI')\n",
    "communities = communities_altmap_sci\n",
    "color_idc = [v for v in communities.values()]\n",
    "# nx.draw_networkx_edges(G, pos, ax=ax, width=edge_width)\n",
    "nodeCollection = nx.draw_networkx_nodes(G, pos=pos, node_color=color_idc, cmap=plt.get_cmap('Set3'), ax=ax,\n",
    "                                        node_size=node_size)\n",
    "# nx.draw_networkx_labels(G, pos, ax=ax, labels=communities, font_weight='bold', font_size=font_size)\n",
    "\n",
    "\n",
    "ax = axs[1,1]\n",
    "ax.set_frame_on(False)\n",
    "ax.set_yticklabels([])\n",
    "ax.set_yticks([])\n",
    "ax.set_xticklabels([])\n",
    "ax.set_xticks([])\n",
    "ax.set_title('Ground truth')\n",
    "communities = communities_true\n",
    "color_idc = [v for v in communities.values()]\n",
    "# nx.draw_networkx_edges(G, pos, ax=ax, width=edge_width)\n",
    "nodeCollection = nx.draw_networkx_nodes(G, pos=pos, node_color=color_idc, cmap=plt.get_cmap('Set3'), ax=ax,\n",
    "                                        node_size=node_size)\n",
    "# nx.draw_networkx_labels(G, pos, ax=ax, labels=communities, font_weight='bold', font_size=font_size)\n",
    "\n"
   ],
   "metadata": {
    "collapsed": false,
    "pycharm": {
     "name": "#%% plot the network with different communities                \n",
     "is_executing": false
    }
   }
  }
 ],
 "metadata": {
  "kernelspec": {
   "display_name": "Python 3",
   "language": "python",
   "name": "python3"
  },
  "language_info": {
   "codemirror_mode": {
    "name": "ipython",
    "version": 3
   },
   "file_extension": ".py",
   "mimetype": "text/x-python",
   "name": "python",
   "nbconvert_exporter": "python",
   "pygments_lexer": "ipython3",
   "version": "3.6.8"
  },
  "pycharm": {
   "stem_cell": {
    "cell_type": "raw",
    "source": [],
    "metadata": {
     "collapsed": false
    }
   }
  }
 },
 "nbformat": 4,
 "nbformat_minor": 1
}