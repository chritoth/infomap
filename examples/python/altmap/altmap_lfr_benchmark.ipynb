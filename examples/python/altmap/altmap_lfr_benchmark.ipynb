{
 "cells": [
  {
   "cell_type": "markdown",
   "metadata": {},
   "source": [
    "## LFR benchmark for Altmap vs Map Eq\n",
    "### Compare altmap to map eq using networkx\n"
   ]
  },
  {
   "cell_type": "code",
   "execution_count": 4,
   "outputs": [
    {
     "name": "stdout",
     "text": [
      "Using matplotlib backend: Qt5Agg\nPopulating the interactive namespace from numpy and matplotlib\n"
     ],
     "output_type": "stream"
    }
   ],
   "source": [
    "import networkx as nx\n",
    "import matplotlib.pyplot as plt\n",
    "import numpy as np\n",
    "from collections import OrderedDict\n",
    "\n",
    "plt.rcParams.update({'font.size': 20})\n",
    "%pylab\n",
    "\n",
    "%run helpers.py\n",
    "# loads the following helper functions:\n",
    "# infomap(net_path, altmap=False, additional_args='')\n",
    "# read_tree(tree_path)\n",
    "# plogq(p, q)\n",
    "# plogp(p)\n",
    "# drawNetwork(G, communities)\n",
    "# altmap_cost(G, communities)\n",
    "# create_initfile(G, N_partitions=None, randomized=True)\n",
    "# generate_two_rings(n_ring=10)\n",
    "# \n"
   ],
   "metadata": {
    "collapsed": false,
    "pycharm": {
     "name": "#%%\n",
     "is_executing": false
    }
   }
  },
  {
   "cell_type": "code",
   "execution_count": 35,
   "outputs": [],
   "source": [
    "from networkx.algorithms.community.community_generators import LFR_benchmark_graph\n",
    "from sklearn.metrics import normalized_mutual_info_score as nmi_score\n",
    "\n",
    "# generate LFR benchmark graph + extract ground truth communities\n",
    "def generate_LFR_benchmark(N = 250, mu = 0.1):\n",
    "    \n",
    "    # LFR params\n",
    "    max_degree = int(0.2*N)\n",
    "    max_community = int(0.2*N)\n",
    "    min_community = 20\n",
    "    average_degree = 10\n",
    "    tau1 = 2.1 # Power law exponent for the degree distribution \n",
    "    tau2 = 1.1 # Power law exponent for the community size distribution\n",
    "\n",
    "    # generate LFR benchmark graph\n",
    "    G = LFR_benchmark_graph(N, tau1, tau2, mu, average_degree=average_degree, max_degree=max_degree, \n",
    "                            max_community=max_community, min_community=min_community)\n",
    "    \n",
    "    G = nx.convert_node_labels_to_integers(G, first_label=1)\n",
    "    \n",
    "    # extract ground truth communities from networkx graph object\n",
    "    communities_true = {}\n",
    "    num_communities = 0\n",
    "    for n in range(1,N+1):\n",
    "        if n in communities_true:\n",
    "            continue\n",
    "            \n",
    "        num_communities = num_communities + 1\n",
    "        community = G.nodes[n]['community']\n",
    "        node_ids = np.asarray(list(community))\n",
    "        node_ids = node_ids + 1 # have node labels >= 1\n",
    "        communities_true.update(dict.fromkeys(node_ids , num_communities))\n",
    "        \n",
    "    communities_true = OrderedDict(sorted(communities_true.items()))\n",
    "    \n",
    "    return G, communities_true\n",
    "\n",
    "# compute normalized mutual information between two partitions\n",
    "def compute_nmi(communities_true, communities_found):\n",
    "    labels_true = list(communities_true.values())\n",
    "    labels_found = list(communities_found.values())\n",
    "\n",
    "    return nmi_score(labels_true,labels_found, average_method='arithmetic')\n",
    "\n",
    "# benchmark infomap\n",
    "def run_benchmark(cost_function = 'altmap', init='std'):\n",
    "    \n",
    "    if cost_function not in {'altmap', 'mapeq'}:\n",
    "        cost_function = 'altmap'\n",
    "    altmap = (cost_function == 'altmap')\n",
    "        \n",
    "    if init not in {'std', 'random'}:\n",
    "        init = 'std'\n",
    "        \n",
    "    N = 300\n",
    "    mus = [0.03, 0.1, 0.3, 0.5] # [0.03, 0.75]\n",
    "    for mu in mus:\n",
    "        G, communities_true = generate_LFR_benchmark(N, mu)\n",
    "        \n",
    "        nx.write_pajek(G, workspace_path +  filename + '.net')\n",
    "        \n",
    "        if init == 'random':\n",
    "            communities = create_initfile(G, randomized=True)\n",
    "            infomap(workspace_path +  filename + '.net', altmap=altmap, additional_args=' --cluster-data ./workspace/init.tree')\n",
    "        else:\n",
    "            infomap(workspace_path +  filename + '.net', altmap=altmap)\n",
    "            \n",
    "        communities_found = read_communities_from_tree_file()\n",
    "    \n",
    "        num_communities_found = max(communities_found.values()) - min(communities_found.values()) + 1\n",
    "        num_communities_true = max(communities_true.values()) - min(communities_true.values()) + 1\n",
    "        print (f'We found {num_communities_found} communities vs. {num_communities_true} ground truth communities.\\n')\n",
    "        \n",
    "        nmi = compute_nmi(communities_true, communities_found)\n",
    "        print (f'Normalized mutual information I(.,.) = {nmi}.\\n')\n"
   ],
   "metadata": {
    "collapsed": false,
    "pycharm": {
     "name": "#%% helpers + wrappers\n",
     "is_executing": false
    }
   }
  },
  {
   "cell_type": "code",
   "execution_count": 37,
   "outputs": [
    {
     "traceback": [
      "\u001b[0;31m---------------------------------------------------------------------------\u001b[0m",
      "\u001b[0;31mExceededMaxIterations\u001b[0m                     Traceback (most recent call last)",
      "\u001b[0;32m<ipython-input-37-5e83eed1c07b>\u001b[0m in \u001b[0;36m<module>\u001b[0;34m()\u001b[0m\n\u001b[1;32m      1\u001b[0m \u001b[0;34m\u001b[0m\u001b[0m\n\u001b[0;32m----> 2\u001b[0;31m \u001b[0mrun_benchmark\u001b[0m\u001b[0;34m(\u001b[0m\u001b[0mcost_function\u001b[0m \u001b[0;34m=\u001b[0m \u001b[0;34m'altmap'\u001b[0m\u001b[0;34m,\u001b[0m \u001b[0minit\u001b[0m\u001b[0;34m=\u001b[0m\u001b[0;34m'std'\u001b[0m\u001b[0;34m)\u001b[0m\u001b[0;34m\u001b[0m\u001b[0;34m\u001b[0m\u001b[0m\n\u001b[0m\u001b[1;32m      3\u001b[0m \u001b[0;34m\u001b[0m\u001b[0m\n",
      "\u001b[0;32m<ipython-input-35-98b7a502c7b9>\u001b[0m in \u001b[0;36mrun_benchmark\u001b[0;34m(cost_function, init)\u001b[0m\n\u001b[1;32m     57\u001b[0m     \u001b[0mmus\u001b[0m \u001b[0;34m=\u001b[0m \u001b[0;34m[\u001b[0m\u001b[0;36m0.03\u001b[0m\u001b[0;34m,\u001b[0m \u001b[0;36m0.1\u001b[0m\u001b[0;34m,\u001b[0m \u001b[0;36m0.3\u001b[0m\u001b[0;34m,\u001b[0m \u001b[0;36m0.5\u001b[0m\u001b[0;34m]\u001b[0m \u001b[0;31m# [0.03, 0.75]\u001b[0m\u001b[0;34m\u001b[0m\u001b[0;34m\u001b[0m\u001b[0m\n\u001b[1;32m     58\u001b[0m     \u001b[0;32mfor\u001b[0m \u001b[0mmu\u001b[0m \u001b[0;32min\u001b[0m \u001b[0mmus\u001b[0m\u001b[0;34m:\u001b[0m\u001b[0;34m\u001b[0m\u001b[0;34m\u001b[0m\u001b[0m\n\u001b[0;32m---> 59\u001b[0;31m         \u001b[0mG\u001b[0m\u001b[0;34m,\u001b[0m \u001b[0mcommunities_true\u001b[0m \u001b[0;34m=\u001b[0m \u001b[0mgenerate_LFR_benchmark\u001b[0m\u001b[0;34m(\u001b[0m\u001b[0mN\u001b[0m\u001b[0;34m,\u001b[0m \u001b[0mmu\u001b[0m\u001b[0;34m)\u001b[0m\u001b[0;34m\u001b[0m\u001b[0;34m\u001b[0m\u001b[0m\n\u001b[0m\u001b[1;32m     60\u001b[0m \u001b[0;34m\u001b[0m\u001b[0m\n\u001b[1;32m     61\u001b[0m         \u001b[0mnx\u001b[0m\u001b[0;34m.\u001b[0m\u001b[0mwrite_pajek\u001b[0m\u001b[0;34m(\u001b[0m\u001b[0mG\u001b[0m\u001b[0;34m,\u001b[0m \u001b[0mworkspace_path\u001b[0m \u001b[0;34m+\u001b[0m  \u001b[0mfilename\u001b[0m \u001b[0;34m+\u001b[0m \u001b[0;34m'.net'\u001b[0m\u001b[0;34m)\u001b[0m\u001b[0;34m\u001b[0m\u001b[0;34m\u001b[0m\u001b[0m\n",
      "\u001b[0;32m<ipython-input-35-98b7a502c7b9>\u001b[0m in \u001b[0;36mgenerate_LFR_benchmark\u001b[0;34m(N, mu)\u001b[0m\n\u001b[1;32m     16\u001b[0m     \u001b[0;31m# generate LFR benchmark graph\u001b[0m\u001b[0;34m\u001b[0m\u001b[0;34m\u001b[0m\u001b[0;34m\u001b[0m\u001b[0m\n\u001b[1;32m     17\u001b[0m     G = LFR_benchmark_graph(N, tau1, tau2, mu, average_degree=average_degree, max_degree=max_degree, \n\u001b[0;32m---> 18\u001b[0;31m                             max_community=max_community, min_community=min_community)\n\u001b[0m\u001b[1;32m     19\u001b[0m \u001b[0;34m\u001b[0m\u001b[0m\n\u001b[1;32m     20\u001b[0m     \u001b[0mG\u001b[0m \u001b[0;34m=\u001b[0m \u001b[0mnx\u001b[0m\u001b[0;34m.\u001b[0m\u001b[0mconvert_node_labels_to_integers\u001b[0m\u001b[0;34m(\u001b[0m\u001b[0mG\u001b[0m\u001b[0;34m,\u001b[0m \u001b[0mfirst_label\u001b[0m\u001b[0;34m=\u001b[0m\u001b[0;36m1\u001b[0m\u001b[0;34m)\u001b[0m\u001b[0;34m\u001b[0m\u001b[0;34m\u001b[0m\u001b[0m\n",
      "\u001b[0;32m</home/chri/anaconda3/lib/python3.6/site-packages/decorator.py:decorator-gen-584>\u001b[0m in \u001b[0;36mLFR_benchmark_graph\u001b[0;34m(n, tau1, tau2, mu, average_degree, min_degree, max_degree, min_community, max_community, tol, max_iters, seed)\u001b[0m\n",
      "\u001b[0;32m~/anaconda3/lib/python3.6/site-packages/networkx/utils/decorators.py\u001b[0m in \u001b[0;36m_random_state\u001b[0;34m(func, *args, **kwargs)\u001b[0m\n\u001b[1;32m    462\u001b[0m         \u001b[0mnew_args\u001b[0m \u001b[0;34m=\u001b[0m \u001b[0mlist\u001b[0m\u001b[0;34m(\u001b[0m\u001b[0margs\u001b[0m\u001b[0;34m)\u001b[0m\u001b[0;34m\u001b[0m\u001b[0;34m\u001b[0m\u001b[0m\n\u001b[1;32m    463\u001b[0m         \u001b[0mnew_args\u001b[0m\u001b[0;34m[\u001b[0m\u001b[0mrandom_state_index\u001b[0m\u001b[0;34m]\u001b[0m \u001b[0;34m=\u001b[0m \u001b[0mrandom_state\u001b[0m\u001b[0;34m\u001b[0m\u001b[0;34m\u001b[0m\u001b[0m\n\u001b[0;32m--> 464\u001b[0;31m         \u001b[0;32mreturn\u001b[0m \u001b[0mfunc\u001b[0m\u001b[0;34m(\u001b[0m\u001b[0;34m*\u001b[0m\u001b[0mnew_args\u001b[0m\u001b[0;34m,\u001b[0m \u001b[0;34m**\u001b[0m\u001b[0mkwargs\u001b[0m\u001b[0;34m)\u001b[0m\u001b[0;34m\u001b[0m\u001b[0;34m\u001b[0m\u001b[0m\n\u001b[0m\u001b[1;32m    465\u001b[0m     \u001b[0;32mreturn\u001b[0m \u001b[0m_random_state\u001b[0m\u001b[0;34m\u001b[0m\u001b[0;34m\u001b[0m\u001b[0m\n",
      "\u001b[0;32m~/anaconda3/lib/python3.6/site-packages/networkx/algorithms/community/community_generators.py\u001b[0m in \u001b[0;36mLFR_benchmark_graph\u001b[0;34m(n, tau1, tau2, mu, average_degree, min_degree, max_degree, min_community, max_community, tol, max_iters, seed)\u001b[0m\n\u001b[1;32m    398\u001b[0m     \u001b[0;31m# community sizes.\u001b[0m\u001b[0;34m\u001b[0m\u001b[0;34m\u001b[0m\u001b[0;34m\u001b[0m\u001b[0m\n\u001b[1;32m    399\u001b[0m     \u001b[0mmax_iters\u001b[0m \u001b[0;34m*=\u001b[0m \u001b[0;36m10\u001b[0m \u001b[0;34m*\u001b[0m \u001b[0mn\u001b[0m\u001b[0;34m\u001b[0m\u001b[0;34m\u001b[0m\u001b[0m\n\u001b[0;32m--> 400\u001b[0;31m     \u001b[0mcommunities\u001b[0m \u001b[0;34m=\u001b[0m \u001b[0m_generate_communities\u001b[0m\u001b[0;34m(\u001b[0m\u001b[0mdeg_seq\u001b[0m\u001b[0;34m,\u001b[0m \u001b[0mcomms\u001b[0m\u001b[0;34m,\u001b[0m \u001b[0mmu\u001b[0m\u001b[0;34m,\u001b[0m \u001b[0mmax_iters\u001b[0m\u001b[0;34m,\u001b[0m \u001b[0mseed\u001b[0m\u001b[0;34m)\u001b[0m\u001b[0;34m\u001b[0m\u001b[0;34m\u001b[0m\u001b[0m\n\u001b[0m\u001b[1;32m    401\u001b[0m \u001b[0;34m\u001b[0m\u001b[0m\n\u001b[1;32m    402\u001b[0m     \u001b[0;31m# Finally, generate the benchmark graph based on the given\u001b[0m\u001b[0;34m\u001b[0m\u001b[0;34m\u001b[0m\u001b[0;34m\u001b[0m\u001b[0m\n",
      "\u001b[0;32m~/anaconda3/lib/python3.6/site-packages/networkx/algorithms/community/community_generators.py\u001b[0m in \u001b[0;36m_generate_communities\u001b[0;34m(degree_seq, community_sizes, mu, max_iters, seed)\u001b[0m\n\u001b[1;32m    168\u001b[0m             \u001b[0;32mreturn\u001b[0m \u001b[0mresult\u001b[0m\u001b[0;34m\u001b[0m\u001b[0;34m\u001b[0m\u001b[0m\n\u001b[1;32m    169\u001b[0m     \u001b[0mmsg\u001b[0m \u001b[0;34m=\u001b[0m \u001b[0;34m'Could not assign communities; try increasing min_community'\u001b[0m\u001b[0;34m\u001b[0m\u001b[0;34m\u001b[0m\u001b[0m\n\u001b[0;32m--> 170\u001b[0;31m     \u001b[0;32mraise\u001b[0m \u001b[0mnx\u001b[0m\u001b[0;34m.\u001b[0m\u001b[0mExceededMaxIterations\u001b[0m\u001b[0;34m(\u001b[0m\u001b[0mmsg\u001b[0m\u001b[0;34m)\u001b[0m\u001b[0;34m\u001b[0m\u001b[0;34m\u001b[0m\u001b[0m\n\u001b[0m\u001b[1;32m    171\u001b[0m \u001b[0;34m\u001b[0m\u001b[0m\n\u001b[1;32m    172\u001b[0m \u001b[0;34m\u001b[0m\u001b[0m\n",
      "\u001b[0;31mExceededMaxIterations\u001b[0m: Could not assign communities; try increasing min_community"
     ],
     "ename": "ExceededMaxIterations",
     "evalue": "Could not assign communities; try increasing min_community",
     "output_type": "error"
    }
   ],
   "source": [
    "run_benchmark(cost_function = 'altmap', init='std')\n"
   ],
   "metadata": {
    "collapsed": false,
    "pycharm": {
     "name": "#%% run benchmarks\n",
     "is_executing": false
    }
   }
  },
  {
   "cell_type": "code",
   "execution_count": null,
   "outputs": [],
   "source": [
    "plt.close('all')\n",
    "plt.figure()\n",
    "plt.title('Ground Truth Communities')\n",
    "drawNetwork(G, communities_true, labels=False)\n",
    "\n",
    "# \n",
    "# plt.figure()\n",
    "# plt.title('Infomap/Altmap Communities')\n",
    "# drawNetwork(G, communities_found, labels=False)\n"
   ],
   "metadata": {
    "collapsed": false,
    "pycharm": {
     "name": "#%%\n",
     "is_executing": true
    }
   }
  }
 ],
 "metadata": {
  "kernelspec": {
   "display_name": "Python 3",
   "language": "python",
   "name": "python3"
  },
  "language_info": {
   "codemirror_mode": {
    "name": "ipython",
    "version": 3
   },
   "file_extension": ".py",
   "mimetype": "text/x-python",
   "name": "python",
   "nbconvert_exporter": "python",
   "pygments_lexer": "ipython3",
   "version": "3.6.8"
  },
  "pycharm": {
   "stem_cell": {
    "cell_type": "raw",
    "source": [],
    "metadata": {
     "collapsed": false
    }
   }
  }
 },
 "nbformat": 4,
 "nbformat_minor": 1
}