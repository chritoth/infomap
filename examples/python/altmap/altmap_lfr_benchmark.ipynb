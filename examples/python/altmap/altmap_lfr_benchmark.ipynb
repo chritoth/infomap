{
 "cells": [
  {
   "cell_type": "markdown",
   "metadata": {},
   "source": [
    "## LFR benchmark for Altmap vs Map Eq\n",
    "### Compare altmap to map eq using networkx"
   ]
  },
  {
   "cell_type": "code",
   "execution_count": 3,
   "outputs": [
    {
     "name": "stdout",
     "text": [
      "Using matplotlib backend: Qt5Agg\n",
      "Populating the interactive namespace from numpy and matplotlib\n"
     ],
     "output_type": "stream"
    }
   ],
   "source": [
    "import networkx as nx\n",
    "import matplotlib.pyplot as plt\n",
    "from matplotlib.pyplot import Line2D\n",
    "import pandas as pd\n",
    "import numpy as np\n",
    "from collections import OrderedDict\n",
    "\n",
    "# show plots in separate window\n",
    "%pylab\n",
    "# load helpers and wrappers\n",
    "%run helpers.py "
   ],
   "metadata": {
    "collapsed": false,
    "pycharm": {
     "name": "#%% imports\n",
     "is_executing": false
    }
   }
  },
  {
   "cell_type": "code",
   "execution_count": 2,
   "outputs": [],
   "source": [
    "from networkx.generators.community import LFR_benchmark_graph\n",
    "from sklearn.metrics import normalized_mutual_info_score as nmi_score\n",
    "from sklearn.metrics import adjusted_mutual_info_score as ami_score\n",
    "\n",
    "# generate LFR benchmark graph + extract ground truth communities\n",
    "def generate_LFR_benchmark(N = 500, mu = 0.1):\n",
    "    \n",
    "    # LFR params N=10000\n",
    "    # params = {'max_degree':50, 'max_community':100, 'min_community':50, 'average_degree':20, 'tau1':3.0, 'tau2':1.5}\n",
    "    \n",
    "    # LFR params generic\n",
    "    max_community = int(0.2*N)\n",
    "    min_community = int(max_community * 0.25) #0.5\n",
    "    max_degree = int(max_community * 0.3) # 0.6\n",
    "    min_degree = int(min_community * 0.4)\n",
    "    gamma = 3.5 # Power law exponent for the degree distribution \n",
    "    beta = 1.1 #3.0 # Power law exponent for the community size distribution\n",
    "    params = {'max_degree':max_degree, 'max_community':max_community, 'min_community':min_community,\n",
    "              'min_degree':min_degree, 'tau1':gamma, 'tau2':beta}\n",
    "    \n",
    "\n",
    "    max_degree = params['max_degree']\n",
    "    max_community = params['max_community']\n",
    "    min_community = params['min_community']\n",
    "    #average_degree = params['average_degree']\n",
    "    min_degree = params['min_degree']\n",
    "    tau1 = params['tau1'] # Power law exponent for the degree distribution \n",
    "    tau2 = params['tau2'] # Power law exponent for the community size distribution\n",
    "\n",
    "    # generate LFR benchmark graph\n",
    "    \n",
    "    G = LFR_benchmark_graph(N, tau1, tau2, mu, min_degree=min_degree, max_degree=max_degree, \n",
    "                            max_community=max_community, min_community=min_community)\n",
    "    G = nx.convert_node_labels_to_integers(G, first_label=1)\n",
    "    \n",
    "    # extract ground truth communities from networkx graph object\n",
    "    communities_true = {}\n",
    "    num_communities = 0\n",
    "    for n in range(1,N+1):\n",
    "        if n in communities_true:\n",
    "            continue\n",
    "            \n",
    "        num_communities = num_communities + 1\n",
    "        community = G.nodes[n]['community']\n",
    "        node_ids = np.asarray(list(community))\n",
    "        node_ids = node_ids + 1 # have node labels >= 1\n",
    "        communities_true.update(dict.fromkeys(node_ids , num_communities))\n",
    "        \n",
    "    communities_true = OrderedDict(sorted(communities_true.items()))\n",
    "    num_communities_true = max(communities_true.values()) - min(communities_true.values()) + 1\n",
    "    \n",
    "    return G, communities_true, num_communities_true\n",
    "\n",
    "# compute normalized mutual information between two partitions\n",
    "def compute_score(communities_true, communities_found):\n",
    "    labels_true = list(communities_true.values())\n",
    "    labels_found = list(communities_found.values())\n",
    "\n",
    "    # return nmi_score(labels_true,labels_found, average_method='arithmetic')\n",
    "    return ami_score(labels_true,labels_found, average_method='arithmetic')\n",
    "\n",
    "class BenchmarkResults:\n",
    "    def __init__(self, var_list, num_realizations):\n",
    "        self.var_list = var_list\n",
    "        self.num_datapoints = len(var_list)\n",
    "        self.num_realizations = num_realizations\n",
    "        self.actual_realizations = np.zeros((self.num_datapoints,), dtype=int)\n",
    "        self.scores = np.zeros((num_realizations, self.num_datapoints))\n",
    "        self.errors = np.zeros((num_realizations, self.num_datapoints))\n",
    "    \n",
    "    def evaluate_results(self):\n",
    "        self.mean_scores = np.empty((self.num_datapoints,))\n",
    "        self.mean_scores[:] = np.nan\n",
    "        self.std_scores = np.empty((self.num_datapoints,))\n",
    "        self.std_scores[:] = np.nan\n",
    "        self.mean_errors = np.empty((self.num_datapoints,))\n",
    "        self.mean_errors[:] = np.nan\n",
    "        self.std_errors = np.empty((self.num_datapoints,))\n",
    "        self.std_errors[:] = np.nan\n",
    "        \n",
    "        for i in range(self.num_datapoints):\n",
    "            nr = self.actual_realizations[i]\n",
    "            if nr == 0:\n",
    "                continue\n",
    "            \n",
    "            self.mean_scores[i] = np.mean(self.scores[:nr, i])\n",
    "            self.std_scores[i] = np.std(self.scores[:nr, i], ddof=1)\n",
    "            self.mean_errors[i] = np.mean(self.errors[:nr, i])\n",
    "            self.std_errors[i] = np.std(self.errors[:nr, i], ddof=1)\n",
    "    \n",
    "    def write_csv(self, path):\n",
    "        df = pd.DataFrame()\n",
    "        \n",
    "        df['var_list'] = self.var_list\n",
    "        df['actual_realizations'] = self.actual_realizations\n",
    "        df['mean_scores'] = self.mean_scores\n",
    "        df['std_scores'] = self.std_scores\n",
    "        df['mean_errors'] = self.mean_errors\n",
    "        df['std_errors'] = self.std_errors\n",
    "        \n",
    "        df.to_csv(path, index_label='id')\n",
    "    \n",
    "    @classmethod\n",
    "    def read_csv(cls, path):\n",
    "        df = pd.read_csv(path, index_col=0)\n",
    "        \n",
    "        num_realizations = int(np.max(df['actual_realizations'].values))\n",
    "        results = cls(df['var_list'].values, num_realizations)\n",
    "        \n",
    "        results.actual_realizations = df['actual_realizations'].values\n",
    "        results.mean_scores = df['mean_scores'].values\n",
    "        results.std_scores  = df['std_scores'].values\n",
    "        results.mean_errors = df['mean_errors'].values\n",
    "        results.std_errors  = df['std_errors'].values\n",
    "        \n",
    "        return results\n",
    "            \n",
    "            \n",
    "        \n",
    "# LFR Benchmark\n",
    "# num_realizations .. number of network realizations for each parameter pair (mu, N)\n",
    "def run_benchmark(N, mu_list, num_realizations=10):\n",
    "    num_benchmarks = len(mu_list) * num_realizations\n",
    "    benchmark_id = 0\n",
    "           \n",
    "    infomap_results = BenchmarkResults(mu_list, num_realizations)\n",
    "    altmap_results = BenchmarkResults(mu_list, num_realizations)\n",
    "    altmap_sci_results = BenchmarkResults(mu_list, num_realizations)\n",
    "    sci_results = BenchmarkResults(mu_list, num_realizations)\n",
    "    for mu_idx, mu in enumerate(mu_list):\n",
    "        \n",
    "        realization_idx = -1\n",
    "        for _ in range(num_realizations):\n",
    "            benchmark_id = benchmark_id + 1\n",
    "            print(f'Starting benchmark {benchmark_id}/{num_benchmarks} for (N,mu) = ({N},{mu})\\n')\n",
    "            try:\n",
    "                G, communities_true, num_communities_true = generate_LFR_benchmark(N, mu)\n",
    "            except nx.ExceededMaxIterations as err:\n",
    "                print(f'Failed to generate network for (N,mu) = ({N},{mu}): ', err)\n",
    "                continue\n",
    "            \n",
    "            realization_idx += 1\n",
    "            \n",
    "            # test infomap\n",
    "            communities_found, num_communities_found, _, _ = infomap(G, altmap=False)\n",
    "            print (f'Infomap found {num_communities_found} communities vs. {num_communities_true} ground truth '\n",
    "                   f'communities.\\n')\n",
    "            \n",
    "            score = compute_score(communities_true, communities_found)\n",
    "            infomap_results.scores[realization_idx, mu_idx] = score\n",
    "            error = num_communities_found/num_communities_true - 1.0\n",
    "            infomap_results.errors[realization_idx, mu_idx] = error\n",
    "            \n",
    "            # test altmap\n",
    "            communities_found, num_communities_found, _, _ = infomap(G, altmap=True, update_inputfile=False)\n",
    "            print (f'Altmap found {num_communities_found} communities vs. {num_communities_true} ground truth '\n",
    "                   f'communities.\\n')\n",
    "            \n",
    "            score = compute_score(communities_true, communities_found)\n",
    "            altmap_results.scores[realization_idx, mu_idx] = score\n",
    "            error = num_communities_found/num_communities_true - 1.0\n",
    "            altmap_results.errors[realization_idx, mu_idx] = error\n",
    "        \n",
    "            # test altmap with SCI\n",
    "            communities_found, num_communities_found,\\\n",
    "            communities_init, num_communities_init = infomap(G, altmap=True, init='sc', update_inputfile=False)\n",
    "            print (f'Altmap with SCI ({num_communities_init}) found {num_communities_found} communities vs. '\n",
    "                   f'{num_communities_true} '\n",
    "                   f'ground truth communities.\\n')\n",
    "            \n",
    "            score = compute_score(communities_true, communities_found)\n",
    "            altmap_sci_results.scores[realization_idx, mu_idx] = score\n",
    "            error = num_communities_found/num_communities_true - 1.0\n",
    "            altmap_sci_results.errors[realization_idx, mu_idx] = error\n",
    "            \n",
    "            score = compute_score(communities_true, communities_init)\n",
    "            sci_results.scores[realization_idx, mu_idx] = score\n",
    "            error = num_communities_init/num_communities_true - 1.0\n",
    "            sci_results.errors[realization_idx, mu_idx] = error\n",
    "        \n",
    "        # store actual number of realizations    \n",
    "        infomap_results.actual_realizations[mu_idx] = realization_idx + 1\n",
    "        altmap_results.actual_realizations[mu_idx] = realization_idx + 1\n",
    "        altmap_sci_results.actual_realizations[mu_idx] = realization_idx + 1\n",
    "        sci_results.actual_realizations[mu_idx] = realization_idx + 1\n",
    "\n",
    "    print(f'Finished benchmark successfully!\\n')\n",
    "    return infomap_results, altmap_results, altmap_sci_results, sci_results\n",
    "\n",
    "def plot_benchmark_results(results: BenchmarkResults, type='scores', color='blue', marker=None, label=None, \n",
    "                           lower_bound=None, upper_bound=None):\n",
    "    \n",
    "    xdata = results.var_list\n",
    "    data = results.mean_scores\n",
    "    data_std = results.std_scores\n",
    "    \n",
    "    if type == 'errors':\n",
    "        data = results.mean_errors\n",
    "        data_std = results.std_errors\n",
    "        \n",
    "    lw = 2; ms = 10\n",
    "    plt.plot(xdata, data, '--', marker = marker, color=color, linewidth=lw, markersize=ms, label=label)\n",
    "    upper = data + data_std\n",
    "    lower = data - data_std\n",
    "    if lower_bound != None:\n",
    "        lower[lower < lower_bound] = lower_bound\n",
    "    if upper_bound != None:\n",
    "        upper[upper > upper_bound] = upper_bound\n",
    "        \n",
    "    plt.fill_between(xdata, upper, lower, color=color, alpha=0.25)\n",
    "    "
   ],
   "metadata": {
    "collapsed": false,
    "pycharm": {
     "name": "#%% helpers + wrappers\n",
     "is_executing": false
    }
   }
  },
  {
   "cell_type": "code",
   "execution_count": 29,
   "outputs": [
    {
     "name": "stdout",
     "text": [
      "[0.15  0.175 0.2   0.225 0.25  0.275 0.3   0.325 0.35  0.375 0.4   0.425\n 0.45  0.475 0.5   0.525 0.55  0.575 0.6   0.625 0.65  0.675 0.7   0.725\n 0.75 ]\nStarting benchmark 1/1250 for (N,mu) = (8000,0.15)\n\n",
      "Infomap found 9 communities vs. 9 ground truth communities.\n\n",
      "Altmap found 9 communities vs. 9 ground truth communities.\n\n",
      "Spectral clustering finished in 277.18469500000003 seconds.\n",
      "Altmap with SCI (89) found 9 communities vs. 9 ground truth communities.\n\nStarting benchmark 2/1250 for (N,mu) = (8000,0.15)\n\n",
      "Infomap found 8 communities vs. 8 ground truth communities.\n\n",
      "Altmap found 8 communities vs. 8 ground truth communities.\n\n",
      "Spectral clustering finished in 288.9806330000001 seconds.\n",
      "Altmap with SCI (89) found 8 communities vs. 8 ground truth communities.\n\nStarting benchmark 3/1250 for (N,mu) = (8000,0.15)\n\n",
      "Failed to generate network for (N,mu) = (8000,0.15):  Could not create power law sequence\nStarting benchmark 4/1250 for (N,mu) = (8000,0.15)\n\nFailed to generate network for (N,mu) = (8000,0.15):  Could not create power law sequence\nStarting benchmark 5/1250 for (N,mu) = (8000,0.15)\n\n"
     ],
     "output_type": "stream"
    },
    {
     "traceback": [
      "\u001b[0;31m---------------------------------------------------------------------------\u001b[0m",
      "\u001b[0;31mKeyboardInterrupt\u001b[0m                         Traceback (most recent call last)",
      "\u001b[0;32m<ipython-input-29-d0fd140f9786>\u001b[0m in \u001b[0;36m<module>\u001b[0;34m\u001b[0m\n\u001b[1;32m      8\u001b[0m \u001b[0mprint\u001b[0m \u001b[0;34m(\u001b[0m\u001b[0mmu_list\u001b[0m\u001b[0;34m)\u001b[0m\u001b[0;34m\u001b[0m\u001b[0;34m\u001b[0m\u001b[0m\n\u001b[1;32m      9\u001b[0m \u001b[0;34m\u001b[0m\u001b[0m\n\u001b[0;32m---> 10\u001b[0;31m \u001b[0minfomap_results\u001b[0m\u001b[0;34m,\u001b[0m \u001b[0maltmap_results\u001b[0m\u001b[0;34m,\u001b[0m \u001b[0maltmap_sci_results\u001b[0m\u001b[0;34m,\u001b[0m \u001b[0msci_results\u001b[0m \u001b[0;34m=\u001b[0m \u001b[0mrun_benchmark\u001b[0m\u001b[0;34m(\u001b[0m\u001b[0mN\u001b[0m\u001b[0;34m,\u001b[0m \u001b[0mmu_list\u001b[0m\u001b[0;34m,\u001b[0m \u001b[0mnum_realizations\u001b[0m\u001b[0;34m)\u001b[0m\u001b[0;34m\u001b[0m\u001b[0;34m\u001b[0m\u001b[0m\n\u001b[0m\u001b[1;32m     11\u001b[0m \u001b[0;34m\u001b[0m\u001b[0m\n",
      "\u001b[0;32m<ipython-input-24-331e5d521fe2>\u001b[0m in \u001b[0;36mrun_benchmark\u001b[0;34m(N, mu_list, num_realizations)\u001b[0m\n\u001b[1;32m    143\u001b[0m \u001b[0;34m\u001b[0m\u001b[0m\n\u001b[1;32m    144\u001b[0m             \u001b[0;31m# test infomap\u001b[0m\u001b[0;34m\u001b[0m\u001b[0;34m\u001b[0m\u001b[0;34m\u001b[0m\u001b[0m\n\u001b[0;32m--> 145\u001b[0;31m             \u001b[0mcommunities_found\u001b[0m\u001b[0;34m,\u001b[0m \u001b[0mnum_communities_found\u001b[0m\u001b[0;34m,\u001b[0m \u001b[0m_\u001b[0m\u001b[0;34m,\u001b[0m \u001b[0m_\u001b[0m \u001b[0;34m=\u001b[0m \u001b[0minfomap\u001b[0m\u001b[0;34m(\u001b[0m\u001b[0mG\u001b[0m\u001b[0;34m,\u001b[0m \u001b[0maltmap\u001b[0m\u001b[0;34m=\u001b[0m\u001b[0;32mFalse\u001b[0m\u001b[0;34m)\u001b[0m\u001b[0;34m\u001b[0m\u001b[0;34m\u001b[0m\u001b[0m\n\u001b[0m\u001b[1;32m    146\u001b[0m             print (f'Infomap found {num_communities_found} communities vs. {num_communities_true} ground truth '\n\u001b[1;32m    147\u001b[0m                    f'communities.\\n')\n",
      "\u001b[0;32m~/infomap/examples/python/altmap/helpers.py\u001b[0m in \u001b[0;36minfomap\u001b[0;34m(G, altmap, init, update_inputfile, additional_args)\u001b[0m\n\u001b[1;32m    300\u001b[0m     \u001b[0minput_path\u001b[0m \u001b[0;34m=\u001b[0m \u001b[0mworkspace_path\u001b[0m \u001b[0;34m+\u001b[0m \u001b[0mfilename\u001b[0m \u001b[0;34m+\u001b[0m \u001b[0;34m'.net'\u001b[0m\u001b[0;34m\u001b[0m\u001b[0;34m\u001b[0m\u001b[0m\n\u001b[1;32m    301\u001b[0m     \u001b[0;32mif\u001b[0m \u001b[0mupdate_inputfile\u001b[0m\u001b[0;34m:\u001b[0m\u001b[0;34m\u001b[0m\u001b[0;34m\u001b[0m\u001b[0m\n\u001b[0;32m--> 302\u001b[0;31m         \u001b[0mnx\u001b[0m\u001b[0;34m.\u001b[0m\u001b[0mwrite_pajek\u001b[0m\u001b[0;34m(\u001b[0m\u001b[0mG\u001b[0m\u001b[0;34m,\u001b[0m \u001b[0minput_path\u001b[0m\u001b[0;34m)\u001b[0m\u001b[0;34m\u001b[0m\u001b[0;34m\u001b[0m\u001b[0m\n\u001b[0m\u001b[1;32m    303\u001b[0m \u001b[0;34m\u001b[0m\u001b[0m\n\u001b[1;32m    304\u001b[0m     \u001b[0;31m# construct argument string\u001b[0m\u001b[0;34m\u001b[0m\u001b[0;34m\u001b[0m\u001b[0;34m\u001b[0m\u001b[0m\n",
      "\u001b[0;32m</home/chri/python_environments/myDevEnv/lib/python3.7/site-packages/decorator.py:decorator-gen-749>\u001b[0m in \u001b[0;36mwrite_pajek\u001b[0;34m(G, path, encoding)\u001b[0m\n",
      "\u001b[0;32m~/python_environments/myDevEnv/lib/python3.7/site-packages/networkx/utils/decorators.py\u001b[0m in \u001b[0;36m_open_file\u001b[0;34m(func_to_be_decorated, *args, **kwargs)\u001b[0m\n\u001b[1;32m    238\u001b[0m         \u001b[0;31m# Finally, we call the original function, making sure to close the fobj\u001b[0m\u001b[0;34m\u001b[0m\u001b[0;34m\u001b[0m\u001b[0;34m\u001b[0m\u001b[0m\n\u001b[1;32m    239\u001b[0m         \u001b[0;32mtry\u001b[0m\u001b[0;34m:\u001b[0m\u001b[0;34m\u001b[0m\u001b[0;34m\u001b[0m\u001b[0m\n\u001b[0;32m--> 240\u001b[0;31m             \u001b[0mresult\u001b[0m \u001b[0;34m=\u001b[0m \u001b[0mfunc_to_be_decorated\u001b[0m\u001b[0;34m(\u001b[0m\u001b[0;34m*\u001b[0m\u001b[0mnew_args\u001b[0m\u001b[0;34m,\u001b[0m \u001b[0;34m**\u001b[0m\u001b[0mkwargs\u001b[0m\u001b[0;34m)\u001b[0m\u001b[0;34m\u001b[0m\u001b[0;34m\u001b[0m\u001b[0m\n\u001b[0m\u001b[1;32m    241\u001b[0m         \u001b[0;32mfinally\u001b[0m\u001b[0;34m:\u001b[0m\u001b[0;34m\u001b[0m\u001b[0;34m\u001b[0m\u001b[0m\n\u001b[1;32m    242\u001b[0m             \u001b[0;32mif\u001b[0m \u001b[0mclose_fobj\u001b[0m\u001b[0;34m:\u001b[0m\u001b[0;34m\u001b[0m\u001b[0;34m\u001b[0m\u001b[0m\n",
      "\u001b[0;32m~/python_environments/myDevEnv/lib/python3.7/site-packages/networkx/readwrite/pajek.py\u001b[0m in \u001b[0;36mwrite_pajek\u001b[0;34m(G, path, encoding)\u001b[0m\n\u001b[1;32m    126\u001b[0m     \u001b[0;32mfor\u001b[0m \u001b[0mformat\u001b[0m \u001b[0minformation\u001b[0m\u001b[0;34m.\u001b[0m\u001b[0;34m\u001b[0m\u001b[0;34m\u001b[0m\u001b[0m\n\u001b[1;32m    127\u001b[0m     \"\"\"\n\u001b[0;32m--> 128\u001b[0;31m     \u001b[0;32mfor\u001b[0m \u001b[0mline\u001b[0m \u001b[0;32min\u001b[0m \u001b[0mgenerate_pajek\u001b[0m\u001b[0;34m(\u001b[0m\u001b[0mG\u001b[0m\u001b[0;34m)\u001b[0m\u001b[0;34m:\u001b[0m\u001b[0;34m\u001b[0m\u001b[0;34m\u001b[0m\u001b[0m\n\u001b[0m\u001b[1;32m    129\u001b[0m         \u001b[0mline\u001b[0m \u001b[0;34m+=\u001b[0m \u001b[0;34m'\\n'\u001b[0m\u001b[0;34m\u001b[0m\u001b[0;34m\u001b[0m\u001b[0m\n\u001b[1;32m    130\u001b[0m         \u001b[0mpath\u001b[0m\u001b[0;34m.\u001b[0m\u001b[0mwrite\u001b[0m\u001b[0;34m(\u001b[0m\u001b[0mline\u001b[0m\u001b[0;34m.\u001b[0m\u001b[0mencode\u001b[0m\u001b[0;34m(\u001b[0m\u001b[0mencoding\u001b[0m\u001b[0;34m)\u001b[0m\u001b[0;34m)\u001b[0m\u001b[0;34m\u001b[0m\u001b[0;34m\u001b[0m\u001b[0m\n",
      "\u001b[0;32m~/python_environments/myDevEnv/lib/python3.7/site-packages/networkx/readwrite/pajek.py\u001b[0m in \u001b[0;36mgenerate_pajek\u001b[0;34m(G)\u001b[0m\n\u001b[1;32m     86\u001b[0m         \u001b[0md\u001b[0m \u001b[0;34m=\u001b[0m \u001b[0medgedata\u001b[0m\u001b[0;34m.\u001b[0m\u001b[0mcopy\u001b[0m\u001b[0;34m(\u001b[0m\u001b[0;34m)\u001b[0m\u001b[0;34m\u001b[0m\u001b[0;34m\u001b[0m\u001b[0m\n\u001b[1;32m     87\u001b[0m         \u001b[0mvalue\u001b[0m \u001b[0;34m=\u001b[0m \u001b[0md\u001b[0m\u001b[0;34m.\u001b[0m\u001b[0mpop\u001b[0m\u001b[0;34m(\u001b[0m\u001b[0;34m'weight'\u001b[0m\u001b[0;34m,\u001b[0m \u001b[0;36m1.0\u001b[0m\u001b[0;34m)\u001b[0m  \u001b[0;31m# use 1 as default edge value\u001b[0m\u001b[0;34m\u001b[0m\u001b[0;34m\u001b[0m\u001b[0m\n\u001b[0;32m---> 88\u001b[0;31m         \u001b[0ms\u001b[0m \u001b[0;34m=\u001b[0m \u001b[0;34m' '\u001b[0m\u001b[0;34m.\u001b[0m\u001b[0mjoin\u001b[0m\u001b[0;34m(\u001b[0m\u001b[0mmap\u001b[0m\u001b[0;34m(\u001b[0m\u001b[0mmake_qstr\u001b[0m\u001b[0;34m,\u001b[0m \u001b[0;34m(\u001b[0m\u001b[0mnodenumber\u001b[0m\u001b[0;34m[\u001b[0m\u001b[0mu\u001b[0m\u001b[0;34m]\u001b[0m\u001b[0;34m,\u001b[0m \u001b[0mnodenumber\u001b[0m\u001b[0;34m[\u001b[0m\u001b[0mv\u001b[0m\u001b[0;34m]\u001b[0m\u001b[0;34m,\u001b[0m \u001b[0mvalue\u001b[0m\u001b[0;34m)\u001b[0m\u001b[0;34m)\u001b[0m\u001b[0;34m)\u001b[0m\u001b[0;34m\u001b[0m\u001b[0;34m\u001b[0m\u001b[0m\n\u001b[0m\u001b[1;32m     89\u001b[0m         \u001b[0;32mfor\u001b[0m \u001b[0mk\u001b[0m\u001b[0;34m,\u001b[0m \u001b[0mv\u001b[0m \u001b[0;32min\u001b[0m \u001b[0md\u001b[0m\u001b[0;34m.\u001b[0m\u001b[0mitems\u001b[0m\u001b[0;34m(\u001b[0m\u001b[0;34m)\u001b[0m\u001b[0;34m:\u001b[0m\u001b[0;34m\u001b[0m\u001b[0;34m\u001b[0m\u001b[0m\n\u001b[1;32m     90\u001b[0m             \u001b[0;32mif\u001b[0m \u001b[0mis_string_like\u001b[0m\u001b[0;34m(\u001b[0m\u001b[0mv\u001b[0m\u001b[0;34m)\u001b[0m \u001b[0;32mand\u001b[0m \u001b[0mv\u001b[0m\u001b[0;34m.\u001b[0m\u001b[0mstrip\u001b[0m\u001b[0;34m(\u001b[0m\u001b[0;34m)\u001b[0m \u001b[0;34m!=\u001b[0m \u001b[0;34m''\u001b[0m\u001b[0;34m:\u001b[0m\u001b[0;34m\u001b[0m\u001b[0;34m\u001b[0m\u001b[0m\n",
      "\u001b[0;32m~/python_environments/myDevEnv/lib/python3.7/site-packages/networkx/readwrite/pajek.py\u001b[0m in \u001b[0;36mmake_qstr\u001b[0;34m(t)\u001b[0m\n\u001b[1;32m    275\u001b[0m     \"\"\"\n\u001b[1;32m    276\u001b[0m     \u001b[0;32mif\u001b[0m \u001b[0;32mnot\u001b[0m \u001b[0mis_string_like\u001b[0m\u001b[0;34m(\u001b[0m\u001b[0mt\u001b[0m\u001b[0;34m)\u001b[0m\u001b[0;34m:\u001b[0m\u001b[0;34m\u001b[0m\u001b[0;34m\u001b[0m\u001b[0m\n\u001b[0;32m--> 277\u001b[0;31m         \u001b[0mt\u001b[0m \u001b[0;34m=\u001b[0m \u001b[0mstr\u001b[0m\u001b[0;34m(\u001b[0m\u001b[0mt\u001b[0m\u001b[0;34m)\u001b[0m\u001b[0;34m\u001b[0m\u001b[0;34m\u001b[0m\u001b[0m\n\u001b[0m\u001b[1;32m    278\u001b[0m     \u001b[0;32mif\u001b[0m \u001b[0;34m\" \"\u001b[0m \u001b[0;32min\u001b[0m \u001b[0mt\u001b[0m\u001b[0;34m:\u001b[0m\u001b[0;34m\u001b[0m\u001b[0;34m\u001b[0m\u001b[0m\n\u001b[1;32m    279\u001b[0m         \u001b[0mt\u001b[0m \u001b[0;34m=\u001b[0m \u001b[0;34mr'\"%s\"'\u001b[0m \u001b[0;34m%\u001b[0m \u001b[0mt\u001b[0m\u001b[0;34m\u001b[0m\u001b[0;34m\u001b[0m\u001b[0m\n",
      "\u001b[0;31mKeyboardInterrupt\u001b[0m: "
     ],
     "ename": "KeyboardInterrupt",
     "evalue": "",
     "output_type": "error"
    }
   ],
   "source": [
    "import warnings\n",
    "warnings.filterwarnings('ignore')\n",
    "\n",
    "# benchmark params\n",
    "N = 8000\n",
    "mu_list = np.linspace(0.15, 0.75, 25)\n",
    "num_realizations = 50\n",
    "print (mu_list)\n",
    "\n",
    "infomap_results, altmap_results, altmap_sci_results, sci_results = run_benchmark(N, mu_list, num_realizations)"
   ],
   "metadata": {
    "collapsed": false,
    "pycharm": {
     "name": "#%% run LFR benchmarks\n",
     "is_executing": false
    }
   }
  },
  {
   "cell_type": "code",
   "execution_count": 11,
   "outputs": [
    {
     "name": "stdout",
     "text": [
      "Minimum number of realizations is 100.\nActual realizations are [100 100 100 100 100 100 100 100 100 100 100 100 100 100 100 100 100 100\n 100 100 100 100 100 100 100].\nAverage realizations are 100.0.\n"
     ],
     "output_type": "stream"
    }
   ],
   "source": [
    "infomap_results.evaluate_results()\n",
    "altmap_results.evaluate_results()\n",
    "altmap_sci_results.evaluate_results()\n",
    "sci_results.evaluate_results()\n",
    "\n",
    "print (f'Minimum number of realizations is {np.min(infomap_results.actual_realizations)}.')\n",
    "print (f'Actual realizations are {infomap_results.actual_realizations}.')\n",
    "print (f'Average realizations are {np.mean(infomap_results.actual_realizations)}.')"
   ],
   "metadata": {
    "collapsed": false,
    "pycharm": {
     "name": "#%% evaluate results\n",
     "is_executing": false
    }
   }
  },
  {
   "cell_type": "code",
   "execution_count": 12,
   "outputs": [],
   "source": [
    "infomap_results.write_csv(f'./lfr_results/infomap_{N}n.csv')\n",
    "altmap_results.write_csv(f'./lfr_results/altmap_{N}n.csv')\n",
    "altmap_sci_results.write_csv(f'./lfr_results/altmap_sci_{N}n.csv')\n",
    "sci_results.write_csv(f'./lfr_results/sci_{N}n.csv')\n"
   ],
   "metadata": {
    "collapsed": false,
    "pycharm": {
     "name": "#%% save as benchmark results as csv - !overwrites existing files!\n",
     "is_executing": false
    }
   }
  },
  {
   "cell_type": "code",
   "execution_count": 10,
   "outputs": [],
   "source": [
    "N = 2000\n",
    "infomap_results = BenchmarkResults.read_csv(f'./lfr_results/infomap_{N}n.csv')\n",
    "altmap_results = BenchmarkResults.read_csv(f'./lfr_results/altmap_{N}n.csv')\n",
    "altmap_sci_results = BenchmarkResults.read_csv(f'./lfr_results/altmap_sci_{N}n.csv')\n",
    "sci_results = BenchmarkResults.read_csv(f'./lfr_results/sci_{N}n.csv')"
   ],
   "metadata": {
    "collapsed": false,
    "pycharm": {
     "name": "#%% read benchmark results from csv\n",
     "is_executing": false
    }
   }
  },
  {
   "cell_type": "code",
   "execution_count": 11,
   "outputs": [],
   "source": [
    "plt.close('all')\n",
    "fig, ax = plt.subplots(figsize=(12,9))\n",
    "# plt.title(f'LFR benchmark, N = {N} nodes')\n",
    "plt.plot([0.5, 0.5], [0,1], 'r')\n",
    "\n",
    "plot_benchmark_results(infomap_results, color='royalblue', marker='x', label='Infomap', lower_bound=0.0, \n",
    "                       upper_bound=1.0)\n",
    "# plot_benchmark_results(sci_results, color='crimson', marker='s', label='SCI')\n",
    "plot_benchmark_results(altmap_results, color='darkorange', marker='^', label='Synthesizing Infomap')\n",
    "plot_benchmark_results(altmap_sci_results, color='seagreen', marker='o', label='Synthesizing Infomap with SCI')\n",
    "\n",
    "plt.grid()\n",
    "plt.xlabel('Mixing parameter $\\mu$')\n",
    "plt.ylabel(r'$\\mathrm{AMI}(\\mathcal{Y},\\mathcal{Y}_{true})$')\n",
    "plt.legend()\n",
    "plt.tight_layout()"
   ],
   "metadata": {
    "collapsed": false,
    "pycharm": {
     "name": "#%% Plot mean score over mixing parameter\n",
     "is_executing": false
    }
   }
  },
  {
   "cell_type": "code",
   "execution_count": 12,
   "outputs": [],
   "source": [
    "min_err = np.min(np.min([infomap_results.mean_errors - infomap_results.std_errors,\\\n",
    "                         altmap_results.mean_errors - altmap_results.std_errors,\\\n",
    "                         altmap_sci_results.mean_errors - altmap_sci_results.std_errors]))\n",
    "\n",
    "max_err = np.max(np.max([infomap_results.mean_errors + infomap_results.std_errors,\\\n",
    "                         altmap_results.mean_errors + altmap_results.std_errors,\\\n",
    "                         altmap_sci_results.mean_errors + altmap_sci_results.std_errors]))\n",
    "                                                  \n",
    "plt.close('all')\n",
    "fig, ax = plt.subplots(figsize=(12,9))\n",
    "# plt.title(f'LFR benchmark, N = {N} nodes')\n",
    "plt.plot([0.5, 0.5], [min_err-0.2, max_err+0.2], 'r')\n",
    "\n",
    "plot_benchmark_results(infomap_results, type='errors', color='royalblue', marker='x', label='Infomap', lower_bound=-1.0)\n",
    "# plot_benchmark_results(sci_results, type='errors', color='crimson', marker='s', label='SCI')\n",
    "plot_benchmark_results(altmap_results, type='errors', color='darkorange', marker='^', label='Synthesizing Infomap')\n",
    "plot_benchmark_results(altmap_sci_results, type='errors', color='seagreen', marker='o', label='Synthesizing Infomap '\n",
    "                                                                                              'with SCI')\n",
    "plt.grid()\n",
    "plt.xlabel('Mixing parameter $\\mu$')\n",
    "plt.ylabel(r'Mean relative error $\\bar{e}_\\theta$')\n",
    "plt.legend(loc='upper left')\n",
    "plt.tight_layout()"
   ],
   "metadata": {
    "collapsed": false,
    "pycharm": {
     "name": "#%% Plot mean relative #communities error over mixing parameter\n",
     "is_executing": false
    }
   }
  },
  {
   "cell_type": "code",
   "execution_count": 28,
   "outputs": [],
   "source": [
    "# LFR params\n",
    "N = 5000\n",
    "mu = 0.01\n",
    "max_community = int(0.5*N)\n",
    "min_community = int(max_community * 0.25)\n",
    "max_degree = int(max_community * 0.3)\n",
    "min_degree = int(min_community * 0.4)\n",
    "gamma = 3.5 # Power law exponent for the degree distribution \n",
    "beta = 1.1 # Power law exponent for the community size distribution\n",
    "max_iter = 500\n",
    "\n",
    "# generate LFR benchmark graph\n",
    "G = LFR_benchmark_graph(N, gamma, beta, mu, min_degree=min_degree, max_degree=max_degree, \n",
    "                        max_community=max_community, min_community=min_community, max_iters=max_iter, tol=1)\n"
   ],
   "metadata": {
    "collapsed": false,
    "pycharm": {
     "name": "#%% param search\n",
     "is_executing": false
    }
   }
  },
  {
   "cell_type": "code",
   "execution_count": 70,
   "outputs": [
    {
     "name": "stdout",
     "text": [
      "There are 8 ground truth communities.\n",
      "Community sizes are [91 46 37 53 94 68 79 32]\n",
      "Spectral clustering finished in 0.4075030000000197 seconds.\n"
     ],
     "output_type": "stream"
    },
    {
     "name": "stderr",
     "text": [
      "/home/chri/python_environments/myDevEnv/lib/python3.7/site-packages/networkx/readwrite/pajek.py:77: UserWarning: Node attribute community is not processed. Non-string attribute.\n",
      "  'Non-string attribute'))\n"
     ],
     "output_type": "stream"
    }
   ],
   "source": [
    "G, communities_true, num_communities_true = generate_LFR_benchmark(N=500, mu=0.35)\n",
    "\n",
    "_, _, comm_sizes = nodes_per_community(communities_true)\n",
    "print (f'There are {num_communities_true} ground truth communities.')\n",
    "print (f'Community sizes are {comm_sizes}')\n",
    "\n",
    "communities_infomap, _, _, _ = infomap(G, altmap=False)\n",
    "communities_altmap, _, _, _ = infomap(G, altmap=True, update_inputfile=False)\n",
    "communities_altmap_sci, _, communities_sci, _ = infomap(G, altmap=True, init='sc', update_inputfile=False)\n",
    "#             \n",
    "# print(f'Altmap cost for true partition is {altmap_cost(G, communities_true)}')"
   ],
   "metadata": {
    "collapsed": false,
    "pycharm": {
     "name": "#%% compare visually\n",
     "is_executing": false
    }
   }
  },
  {
   "cell_type": "code",
   "execution_count": 71,
   "outputs": [
    {
     "name": "stderr",
     "text": [
      "'c' argument looks like a single numeric RGB or RGBA sequence, which should be avoided as value-mapping will have precedence in case its length matches with 'x' & 'y'.  Please use a 2-D array with a single row if you really want to specify the same RGB or RGBA value for all points.\n",
      "'c' argument looks like a single numeric RGB or RGBA sequence, which should be avoided as value-mapping will have precedence in case its length matches with 'x' & 'y'.  Please use a 2-D array with a single row if you really want to specify the same RGB or RGBA value for all points.\n",
      "'c' argument looks like a single numeric RGB or RGBA sequence, which should be avoided as value-mapping will have precedence in case its length matches with 'x' & 'y'.  Please use a 2-D array with a single row if you really want to specify the same RGB or RGBA value for all points.\n",
      "'c' argument looks like a single numeric RGB or RGBA sequence, which should be avoided as value-mapping will have precedence in case its length matches with 'x' & 'y'.  Please use a 2-D array with a single row if you really want to specify the same RGB or RGBA value for all points.\n",
      "'c' argument looks like a single numeric RGB or RGBA sequence, which should be avoided as value-mapping will have precedence in case its length matches with 'x' & 'y'.  Please use a 2-D array with a single row if you really want to specify the same RGB or RGBA value for all points.\n",
      "'c' argument looks like a single numeric RGB or RGBA sequence, which should be avoided as value-mapping will have precedence in case its length matches with 'x' & 'y'.  Please use a 2-D array with a single row if you really want to specify the same RGB or RGBA value for all points.\n",
      "'c' argument looks like a single numeric RGB or RGBA sequence, which should be avoided as value-mapping will have precedence in case its length matches with 'x' & 'y'.  Please use a 2-D array with a single row if you really want to specify the same RGB or RGBA value for all points.\n",
      "'c' argument looks like a single numeric RGB or RGBA sequence, which should be avoided as value-mapping will have precedence in case its length matches with 'x' & 'y'.  Please use a 2-D array with a single row if you really want to specify the same RGB or RGBA value for all points.\n",
      "'c' argument looks like a single numeric RGB or RGBA sequence, which should be avoided as value-mapping will have precedence in case its length matches with 'x' & 'y'.  Please use a 2-D array with a single row if you really want to specify the same RGB or RGBA value for all points.\n",
      "'c' argument looks like a single numeric RGB or RGBA sequence, which should be avoided as value-mapping will have precedence in case its length matches with 'x' & 'y'.  Please use a 2-D array with a single row if you really want to specify the same RGB or RGBA value for all points.\n",
      "'c' argument looks like a single numeric RGB or RGBA sequence, which should be avoided as value-mapping will have precedence in case its length matches with 'x' & 'y'.  Please use a 2-D array with a single row if you really want to specify the same RGB or RGBA value for all points.\n",
      "'c' argument looks like a single numeric RGB or RGBA sequence, which should be avoided as value-mapping will have precedence in case its length matches with 'x' & 'y'.  Please use a 2-D array with a single row if you really want to specify the same RGB or RGBA value for all points.\n",
      "'c' argument looks like a single numeric RGB or RGBA sequence, which should be avoided as value-mapping will have precedence in case its length matches with 'x' & 'y'.  Please use a 2-D array with a single row if you really want to specify the same RGB or RGBA value for all points.\n",
      "'c' argument looks like a single numeric RGB or RGBA sequence, which should be avoided as value-mapping will have precedence in case its length matches with 'x' & 'y'.  Please use a 2-D array with a single row if you really want to specify the same RGB or RGBA value for all points.\n",
      "'c' argument looks like a single numeric RGB or RGBA sequence, which should be avoided as value-mapping will have precedence in case its length matches with 'x' & 'y'.  Please use a 2-D array with a single row if you really want to specify the same RGB or RGBA value for all points.\n",
      "'c' argument looks like a single numeric RGB or RGBA sequence, which should be avoided as value-mapping will have precedence in case its length matches with 'x' & 'y'.  Please use a 2-D array with a single row if you really want to specify the same RGB or RGBA value for all points.\n",
      "'c' argument looks like a single numeric RGB or RGBA sequence, which should be avoided as value-mapping will have precedence in case its length matches with 'x' & 'y'.  Please use a 2-D array with a single row if you really want to specify the same RGB or RGBA value for all points.\n",
      "'c' argument looks like a single numeric RGB or RGBA sequence, which should be avoided as value-mapping will have precedence in case its length matches with 'x' & 'y'.  Please use a 2-D array with a single row if you really want to specify the same RGB or RGBA value for all points.\n",
      "'c' argument looks like a single numeric RGB or RGBA sequence, which should be avoided as value-mapping will have precedence in case its length matches with 'x' & 'y'.  Please use a 2-D array with a single row if you really want to specify the same RGB or RGBA value for all points.\n",
      "'c' argument looks like a single numeric RGB or RGBA sequence, which should be avoided as value-mapping will have precedence in case its length matches with 'x' & 'y'.  Please use a 2-D array with a single row if you really want to specify the same RGB or RGBA value for all points.\n",
      "'c' argument looks like a single numeric RGB or RGBA sequence, which should be avoided as value-mapping will have precedence in case its length matches with 'x' & 'y'.  Please use a 2-D array with a single row if you really want to specify the same RGB or RGBA value for all points.\n",
      "'c' argument looks like a single numeric RGB or RGBA sequence, which should be avoided as value-mapping will have precedence in case its length matches with 'x' & 'y'.  Please use a 2-D array with a single row if you really want to specify the same RGB or RGBA value for all points.\n",
      "'c' argument looks like a single numeric RGB or RGBA sequence, which should be avoided as value-mapping will have precedence in case its length matches with 'x' & 'y'.  Please use a 2-D array with a single row if you really want to specify the same RGB or RGBA value for all points.\n",
      "'c' argument looks like a single numeric RGB or RGBA sequence, which should be avoided as value-mapping will have precedence in case its length matches with 'x' & 'y'.  Please use a 2-D array with a single row if you really want to specify the same RGB or RGBA value for all points.\n",
      "'c' argument looks like a single numeric RGB or RGBA sequence, which should be avoided as value-mapping will have precedence in case its length matches with 'x' & 'y'.  Please use a 2-D array with a single row if you really want to specify the same RGB or RGBA value for all points.\n",
      "'c' argument looks like a single numeric RGB or RGBA sequence, which should be avoided as value-mapping will have precedence in case its length matches with 'x' & 'y'.  Please use a 2-D array with a single row if you really want to specify the same RGB or RGBA value for all points.\n",
      "'c' argument looks like a single numeric RGB or RGBA sequence, which should be avoided as value-mapping will have precedence in case its length matches with 'x' & 'y'.  Please use a 2-D array with a single row if you really want to specify the same RGB or RGBA value for all points.\n",
      "'c' argument looks like a single numeric RGB or RGBA sequence, which should be avoided as value-mapping will have precedence in case its length matches with 'x' & 'y'.  Please use a 2-D array with a single row if you really want to specify the same RGB or RGBA value for all points.\n",
      "'c' argument looks like a single numeric RGB or RGBA sequence, which should be avoided as value-mapping will have precedence in case its length matches with 'x' & 'y'.  Please use a 2-D array with a single row if you really want to specify the same RGB or RGBA value for all points.\n",
      "'c' argument looks like a single numeric RGB or RGBA sequence, which should be avoided as value-mapping will have precedence in case its length matches with 'x' & 'y'.  Please use a 2-D array with a single row if you really want to specify the same RGB or RGBA value for all points.\n",
      "'c' argument looks like a single numeric RGB or RGBA sequence, which should be avoided as value-mapping will have precedence in case its length matches with 'x' & 'y'.  Please use a 2-D array with a single row if you really want to specify the same RGB or RGBA value for all points.\n",
      "'c' argument looks like a single numeric RGB or RGBA sequence, which should be avoided as value-mapping will have precedence in case its length matches with 'x' & 'y'.  Please use a 2-D array with a single row if you really want to specify the same RGB or RGBA value for all points.\n",
      "'c' argument looks like a single numeric RGB or RGBA sequence, which should be avoided as value-mapping will have precedence in case its length matches with 'x' & 'y'.  Please use a 2-D array with a single row if you really want to specify the same RGB or RGBA value for all points.\n",
      "'c' argument looks like a single numeric RGB or RGBA sequence, which should be avoided as value-mapping will have precedence in case its length matches with 'x' & 'y'.  Please use a 2-D array with a single row if you really want to specify the same RGB or RGBA value for all points.\n",
      "'c' argument looks like a single numeric RGB or RGBA sequence, which should be avoided as value-mapping will have precedence in case its length matches with 'x' & 'y'.  Please use a 2-D array with a single row if you really want to specify the same RGB or RGBA value for all points.\n",
      "'c' argument looks like a single numeric RGB or RGBA sequence, which should be avoided as value-mapping will have precedence in case its length matches with 'x' & 'y'.  Please use a 2-D array with a single row if you really want to specify the same RGB or RGBA value for all points.\n",
      "'c' argument looks like a single numeric RGB or RGBA sequence, which should be avoided as value-mapping will have precedence in case its length matches with 'x' & 'y'.  Please use a 2-D array with a single row if you really want to specify the same RGB or RGBA value for all points.\n",
      "'c' argument looks like a single numeric RGB or RGBA sequence, which should be avoided as value-mapping will have precedence in case its length matches with 'x' & 'y'.  Please use a 2-D array with a single row if you really want to specify the same RGB or RGBA value for all points.\n",
      "'c' argument looks like a single numeric RGB or RGBA sequence, which should be avoided as value-mapping will have precedence in case its length matches with 'x' & 'y'.  Please use a 2-D array with a single row if you really want to specify the same RGB or RGBA value for all points.\n",
      "'c' argument looks like a single numeric RGB or RGBA sequence, which should be avoided as value-mapping will have precedence in case its length matches with 'x' & 'y'.  Please use a 2-D array with a single row if you really want to specify the same RGB or RGBA value for all points.\n",
      "'c' argument looks like a single numeric RGB or RGBA sequence, which should be avoided as value-mapping will have precedence in case its length matches with 'x' & 'y'.  Please use a 2-D array with a single row if you really want to specify the same RGB or RGBA value for all points.\n",
      "'c' argument looks like a single numeric RGB or RGBA sequence, which should be avoided as value-mapping will have precedence in case its length matches with 'x' & 'y'.  Please use a 2-D array with a single row if you really want to specify the same RGB or RGBA value for all points.\n",
      "'c' argument looks like a single numeric RGB or RGBA sequence, which should be avoided as value-mapping will have precedence in case its length matches with 'x' & 'y'.  Please use a 2-D array with a single row if you really want to specify the same RGB or RGBA value for all points.\n",
      "'c' argument looks like a single numeric RGB or RGBA sequence, which should be avoided as value-mapping will have precedence in case its length matches with 'x' & 'y'.  Please use a 2-D array with a single row if you really want to specify the same RGB or RGBA value for all points.\n",
      "'c' argument looks like a single numeric RGB or RGBA sequence, which should be avoided as value-mapping will have precedence in case its length matches with 'x' & 'y'.  Please use a 2-D array with a single row if you really want to specify the same RGB or RGBA value for all points.\n",
      "'c' argument looks like a single numeric RGB or RGBA sequence, which should be avoided as value-mapping will have precedence in case its length matches with 'x' & 'y'.  Please use a 2-D array with a single row if you really want to specify the same RGB or RGBA value for all points.\n",
      "'c' argument looks like a single numeric RGB or RGBA sequence, which should be avoided as value-mapping will have precedence in case its length matches with 'x' & 'y'.  Please use a 2-D array with a single row if you really want to specify the same RGB or RGBA value for all points.\n",
      "'c' argument looks like a single numeric RGB or RGBA sequence, which should be avoided as value-mapping will have precedence in case its length matches with 'x' & 'y'.  Please use a 2-D array with a single row if you really want to specify the same RGB or RGBA value for all points.\n",
      "'c' argument looks like a single numeric RGB or RGBA sequence, which should be avoided as value-mapping will have precedence in case its length matches with 'x' & 'y'.  Please use a 2-D array with a single row if you really want to specify the same RGB or RGBA value for all points.\n",
      "'c' argument looks like a single numeric RGB or RGBA sequence, which should be avoided as value-mapping will have precedence in case its length matches with 'x' & 'y'.  Please use a 2-D array with a single row if you really want to specify the same RGB or RGBA value for all points.\n",
      "'c' argument looks like a single numeric RGB or RGBA sequence, which should be avoided as value-mapping will have precedence in case its length matches with 'x' & 'y'.  Please use a 2-D array with a single row if you really want to specify the same RGB or RGBA value for all points.\n",
      "'c' argument looks like a single numeric RGB or RGBA sequence, which should be avoided as value-mapping will have precedence in case its length matches with 'x' & 'y'.  Please use a 2-D array with a single row if you really want to specify the same RGB or RGBA value for all points.\n",
      "'c' argument looks like a single numeric RGB or RGBA sequence, which should be avoided as value-mapping will have precedence in case its length matches with 'x' & 'y'.  Please use a 2-D array with a single row if you really want to specify the same RGB or RGBA value for all points.\n",
      "'c' argument looks like a single numeric RGB or RGBA sequence, which should be avoided as value-mapping will have precedence in case its length matches with 'x' & 'y'.  Please use a 2-D array with a single row if you really want to specify the same RGB or RGBA value for all points.\n",
      "'c' argument looks like a single numeric RGB or RGBA sequence, which should be avoided as value-mapping will have precedence in case its length matches with 'x' & 'y'.  Please use a 2-D array with a single row if you really want to specify the same RGB or RGBA value for all points.\n",
      "'c' argument looks like a single numeric RGB or RGBA sequence, which should be avoided as value-mapping will have precedence in case its length matches with 'x' & 'y'.  Please use a 2-D array with a single row if you really want to specify the same RGB or RGBA value for all points.\n",
      "'c' argument looks like a single numeric RGB or RGBA sequence, which should be avoided as value-mapping will have precedence in case its length matches with 'x' & 'y'.  Please use a 2-D array with a single row if you really want to specify the same RGB or RGBA value for all points.\n",
      "'c' argument looks like a single numeric RGB or RGBA sequence, which should be avoided as value-mapping will have precedence in case its length matches with 'x' & 'y'.  Please use a 2-D array with a single row if you really want to specify the same RGB or RGBA value for all points.\n",
      "'c' argument looks like a single numeric RGB or RGBA sequence, which should be avoided as value-mapping will have precedence in case its length matches with 'x' & 'y'.  Please use a 2-D array with a single row if you really want to specify the same RGB or RGBA value for all points.\n",
      "'c' argument looks like a single numeric RGB or RGBA sequence, which should be avoided as value-mapping will have precedence in case its length matches with 'x' & 'y'.  Please use a 2-D array with a single row if you really want to specify the same RGB or RGBA value for all points.\n",
      "'c' argument looks like a single numeric RGB or RGBA sequence, which should be avoided as value-mapping will have precedence in case its length matches with 'x' & 'y'.  Please use a 2-D array with a single row if you really want to specify the same RGB or RGBA value for all points.\n",
      "'c' argument looks like a single numeric RGB or RGBA sequence, which should be avoided as value-mapping will have precedence in case its length matches with 'x' & 'y'.  Please use a 2-D array with a single row if you really want to specify the same RGB or RGBA value for all points.\n",
      "'c' argument looks like a single numeric RGB or RGBA sequence, which should be avoided as value-mapping will have precedence in case its length matches with 'x' & 'y'.  Please use a 2-D array with a single row if you really want to specify the same RGB or RGBA value for all points.\n",
      "'c' argument looks like a single numeric RGB or RGBA sequence, which should be avoided as value-mapping will have precedence in case its length matches with 'x' & 'y'.  Please use a 2-D array with a single row if you really want to specify the same RGB or RGBA value for all points.\n",
      "'c' argument looks like a single numeric RGB or RGBA sequence, which should be avoided as value-mapping will have precedence in case its length matches with 'x' & 'y'.  Please use a 2-D array with a single row if you really want to specify the same RGB or RGBA value for all points.\n",
      "'c' argument looks like a single numeric RGB or RGBA sequence, which should be avoided as value-mapping will have precedence in case its length matches with 'x' & 'y'.  Please use a 2-D array with a single row if you really want to specify the same RGB or RGBA value for all points.\n",
      "'c' argument looks like a single numeric RGB or RGBA sequence, which should be avoided as value-mapping will have precedence in case its length matches with 'x' & 'y'.  Please use a 2-D array with a single row if you really want to specify the same RGB or RGBA value for all points.\n",
      "'c' argument looks like a single numeric RGB or RGBA sequence, which should be avoided as value-mapping will have precedence in case its length matches with 'x' & 'y'.  Please use a 2-D array with a single row if you really want to specify the same RGB or RGBA value for all points.\n",
      "'c' argument looks like a single numeric RGB or RGBA sequence, which should be avoided as value-mapping will have precedence in case its length matches with 'x' & 'y'.  Please use a 2-D array with a single row if you really want to specify the same RGB or RGBA value for all points.\n",
      "'c' argument looks like a single numeric RGB or RGBA sequence, which should be avoided as value-mapping will have precedence in case its length matches with 'x' & 'y'.  Please use a 2-D array with a single row if you really want to specify the same RGB or RGBA value for all points.\n",
      "'c' argument looks like a single numeric RGB or RGBA sequence, which should be avoided as value-mapping will have precedence in case its length matches with 'x' & 'y'.  Please use a 2-D array with a single row if you really want to specify the same RGB or RGBA value for all points.\n"
     ],
     "output_type": "stream"
    },
    {
     "name": "stdout",
     "text": [
      "slice(0, 2, None)\n",
      "slice(2, 4, None)\n",
      "slice(4, 6, None)\n",
      "slice(6, None, None)\n",
      "slice(0, 3, None)\n",
      "slice(3, 5, None)\n",
      "slice(5, 7, None)\n",
      "slice(7, None, None)\n",
      "slice(0, 3, None)\n",
      "slice(3, 5, None)\n",
      "slice(5, 7, None)\n",
      "slice(7, None, None)\n"
     ],
     "output_type": "stream"
    }
   ],
   "source": [
    "def relabel_communities_by_largest(communities):\n",
    "    comm_ids, comm_nodes, comm_sizes = nodes_per_community(communities)\n",
    "    tmp = sorted(zip(comm_sizes, comm_ids, comm_nodes), reverse = True)\n",
    "    sorted_nodes = [node for _,_,nodes in tmp for node in nodes]\n",
    "    sorted_comm_sizes = [comm_size for comm_size,_,_ in tmp]\n",
    "    sorted_comms = [i for i, comm_size in enumerate(sorted_comm_sizes) for j in range(comm_size)]\n",
    "    relabeled_communities = OrderedDict(zip(sorted_nodes, sorted_comms))\n",
    "    return sorted_nodes, sorted_comms, relabeled_communities\n",
    "\n",
    "def plot_communities(communities, pos, num_communities_true, aggregate_comms=True):\n",
    "    # plotting params\n",
    "    node_size = 250\n",
    "    edge_width = 0.2\n",
    "    font_size = 13\n",
    "    cmap = plt.get_cmap('Set3') # 'Set3' 'jet' 'hsv' commColors\n",
    "    \n",
    "    # plot communities\n",
    "    fig, ax = plt.subplots(figsize=(14,9))\n",
    "    ax.set_frame_on(False)\n",
    "    ax.set_yticklabels([])\n",
    "    ax.set_yticks([])\n",
    "    ax.set_xticklabels([])\n",
    "    ax.set_xticks([])\n",
    "    # ax.set_title('Ground truth')\n",
    "    nx.draw_networkx_edges(G, pos, ax=ax, width=edge_width)\n",
    "    \n",
    "    num_colors_used = min(num_communities_true + 1, get_num_communities(communities))\n",
    "    _,_, relabeled_comms = relabel_communities_by_largest(communities)\n",
    "    comm_ids, comm_nodes, comm_sizes = nodes_per_community(relabeled_comms)\n",
    "    tmp = sorted(zip(comm_sizes, comm_ids, comm_nodes), reverse = True)\n",
    "    # print each community seperately with its own color\n",
    "    for _, comm_id, nodes in tmp:\n",
    "        c_idx = comm_id if comm_id < num_colors_used or not aggregate_comms else num_colors_used - 1\n",
    "        nx.draw_networkx_nodes(G, pos=pos, node_color=cmap(c_idx), cmap=cmap, ax=ax, node_size=node_size, \n",
    "                               nodelist=nodes)\n",
    "    # nx.draw_networkx_labels(G, pos, ax=ax, labels=communities, font_weight='bold', font_size=font_size)\n",
    "    \n",
    "    comm_sizes_aggregated = comm_sizes\n",
    "    if aggregate_comms == True:\n",
    "        comm_sizes_aggregated = sorted(comm_sizes, reverse=True)\n",
    "        comm_sizes_aggregated[num_colors_used-1] = sum(comm_sizes_aggregated[num_colors_used-1:])\n",
    "        comm_sizes_aggregated = comm_sizes_aggregated[:num_colors_used]\n",
    "\n",
    "    # assemble custom legend for community colors\n",
    "    custom_lines = [Line2D([], [], color=cmap(c), marker='o', ms=15, lw=0) for c in range(num_colors_used)]\n",
    "    custom_labels = [f'Community {id} ({size} nodes)' for id, size in enumerate(comm_sizes_aggregated)]\n",
    "    \n",
    "    if aggregate_comms == True:\n",
    "        custom_labels[-1] = f'Residual nodes ({comm_sizes_aggregated[-1]})'\n",
    "    \n",
    "    if num_colors_used >= 4:\n",
    "        res = num_colors_used % 4\n",
    "        split_size = int(num_colors_used / 4)\n",
    "        \n",
    "        start = 0; end = split_size + int(res > 0)\n",
    "        slc = slice(start, end)\n",
    "        print (slc)\n",
    "        leg3 = ax.legend(custom_lines[slc], custom_labels[slc], loc=2, fontsize='small')\n",
    "        \n",
    "        start += split_size + int(res > 0); end += split_size + int(res > 1)\n",
    "        slc = slice(start, end)\n",
    "        print (slc)\n",
    "        leg2 = ax.legend(custom_lines[slc], custom_labels[slc], loc=1, fontsize='small')\n",
    "        \n",
    "        start += split_size + int(res > 1); end += split_size + int(res > 2)\n",
    "        slc = slice(start, end)\n",
    "        print (slc)\n",
    "        leg1 = ax.legend(custom_lines[slc], custom_labels[slc], loc=3, fontsize='small')\n",
    "        \n",
    "        start += split_size + int(res > 2);\n",
    "        slc = slice(start, None)\n",
    "        print (slc)\n",
    "        ax.legend(custom_lines[slc], custom_labels[slc], loc=4, fontsize='small')\n",
    "        ax.add_artist(leg1)\n",
    "        ax.add_artist(leg2)\n",
    "        ax.add_artist(leg3)\n",
    "    else:\n",
    "        ax.legend(custom_lines, custom_labels, loc=2, fontsize='small')\n",
    "    \n",
    "    plt.tight_layout()\n",
    "        \n",
    "    \n",
    "    \n",
    "plt.close('all')\n",
    "pos = community_layout(communities_true)\n",
    "plot_communities(communities_true, pos, num_communities_true, aggregate_comms=False)\n",
    "plot_communities(communities_infomap, pos, num_communities_true, aggregate_comms=False)\n",
    "plot_communities(communities_altmap, pos, num_communities_true)\n",
    "plot_communities(communities_altmap_sci, pos, num_communities_true)"
   ],
   "metadata": {
    "collapsed": false,
    "pycharm": {
     "name": "#%% plot detected communities\n",
     "is_executing": false
    }
   }
  }
 ],
 "metadata": {
  "kernelspec": {
   "display_name": "Python 3",
   "language": "python",
   "name": "python3"
  },
  "language_info": {
   "codemirror_mode": {
    "name": "ipython",
    "version": 3
   },
   "file_extension": ".py",
   "mimetype": "text/x-python",
   "name": "python",
   "nbconvert_exporter": "python",
   "pygments_lexer": "ipython3",
   "version": "3.6.8"
  },
  "pycharm": {
   "stem_cell": {
    "cell_type": "raw",
    "source": [],
    "metadata": {
     "collapsed": false
    }
   }
  }
 },
 "nbformat": 4,
 "nbformat_minor": 1
}