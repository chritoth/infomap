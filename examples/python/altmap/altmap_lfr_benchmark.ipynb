{
 "cells": [
  {
   "cell_type": "markdown",
   "metadata": {},
   "source": [
    "## LFR benchmark for Altmap vs Map Eq\n",
    "### Compare altmap to map eq using networkx\n"
   ]
  },
  {
   "cell_type": "code",
   "execution_count": 3,
   "outputs": [
    {
     "name": "stdout",
     "text": [
      "Using matplotlib backend: Qt5Agg\nPopulating the interactive namespace from numpy and matplotlib\n"
     ],
     "output_type": "stream"
    }
   ],
   "source": [
    "import networkx as nx\n",
    "import matplotlib.pyplot as plt\n",
    "import numpy as np\n",
    "from collections import OrderedDict\n",
    "\n",
    "plt.rcParams.update({'font.size': 20})\n",
    "plt.rcParams.update({'text.usetex': True})\n",
    "plt.rcParams.update({'font.family': 'sans-serif'})\n",
    "plt.rcParams['text.latex.preamble'] = [\n",
    "       r'\\usepackage{siunitx}',   # i need upright \\micro symbols, but you need...\n",
    "       r'\\sisetup{detect-all}',   # ...this to force siunitx to actually use your fonts\n",
    "       r'\\usepackage{helvet}',    # set the normal font here\n",
    "       r'\\usepackage{sansmath}',  # load up the sansmath so that math -> helvet\n",
    "       r'\\sansmath'               # <- tricky! -- gotta actually tell tex to use!\n",
    "] \n",
    "%pylab\n",
    "\n",
    "%run helpers.py\n",
    "# loads the following helper functions:\n",
    "# infomap(net_path, altmap=False, additional_args='')\n",
    "# read_tree(tree_path)\n",
    "# plogq(p, q)\n",
    "# plogp(p)\n",
    "# drawNetwork(G, communities)\n",
    "# altmap_cost(G, communities)\n",
    "# create_initfile(G, N_partitions=None, randomized=True)\n",
    "# generate_two_rings(n_ring=10)\n",
    "# \n"
   ],
   "metadata": {
    "collapsed": false,
    "pycharm": {
     "name": "#%%\n",
     "is_executing": false
    }
   }
  },
  {
   "cell_type": "code",
   "execution_count": 23,
   "outputs": [],
   "source": [
    "from networkx.algorithms.community.community_generators import LFR_benchmark_graph\n",
    "from sklearn.metrics import normalized_mutual_info_score as nmi_score\n",
    "\n",
    "# generate LFR benchmark graph + extract ground truth communities\n",
    "def generate_LFR_benchmark(N = 250, mu = 0.1):\n",
    "    \n",
    "    # LFR params N=10000\n",
    "    #params = {'max_degree':50, 'max_community':100, 'min_community':50, 'average_degree':20, 'tau1':3.0, 'tau2':1.5}\n",
    "    # LFR params N=5000\n",
    "    params = {'max_degree':50, 'max_community':100, 'min_community':50, 'average_degree':20, 'tau1':2.5, 'tau2':1.5}\n",
    "    # LFR params N<1000\n",
    "    #params = {'max_degree':50, 'max_community':50, 'min_community':20, 'average_degree':10, 'tau1':3.0, 'tau2':1.5}\n",
    "\n",
    "    max_degree = params['max_degree']\n",
    "    max_community = params['max_community']\n",
    "    min_community = params['min_community']\n",
    "    average_degree = params['average_degree']\n",
    "    tau1 = params['tau1'] # Power law exponent for the degree distribution \n",
    "    tau2 = params['tau2'] # Power law exponent for the community size distribution\n",
    "\n",
    "    # generate LFR benchmark graph\n",
    "    \n",
    "    G = LFR_benchmark_graph(N, tau1, tau2, mu, average_degree=average_degree, max_degree=max_degree, \n",
    "                            max_community=max_community, min_community=min_community, max_iters=200)\n",
    "    G = nx.convert_node_labels_to_integers(G, first_label=1)\n",
    "    \n",
    "    # extract ground truth communities from networkx graph object\n",
    "    communities_true = {}\n",
    "    num_communities = 0\n",
    "    for n in range(1,N+1):\n",
    "        if n in communities_true:\n",
    "            continue\n",
    "            \n",
    "        num_communities = num_communities + 1\n",
    "        community = G.nodes[n]['community']\n",
    "        node_ids = np.asarray(list(community))\n",
    "        node_ids = node_ids + 1 # have node labels >= 1\n",
    "        communities_true.update(dict.fromkeys(node_ids , num_communities))\n",
    "        \n",
    "    communities_true = OrderedDict(sorted(communities_true.items()))\n",
    "    \n",
    "    return G, communities_true\n",
    "\n",
    "# compute normalized mutual information between two partitions\n",
    "def compute_nmi(communities_true, communities_found):\n",
    "    labels_true = list(communities_true.values())\n",
    "    labels_found = list(communities_found.values())\n",
    "\n",
    "    return nmi_score(labels_true,labels_found, average_method='arithmetic')\n",
    "\n",
    "# LFR Benchmark\n",
    "# num_realizations .. number of network realizations for each parameter pair (mu, N)\n",
    "def run_benchmark(N_list, mu_list, num_realizations=10):\n",
    "    num_benchmarks = len(N_list) * len(mu_list) * num_realizations\n",
    "    benchmark_id = 0\n",
    "    \n",
    "    mean_nmi_infomap = np.zeros((len(mu_list), len(N_list)))\n",
    "    std_infomap = np.zeros((len(mu_list), len(N_list)))\n",
    "    mean_nmi_altmap = np.zeros((len(mu_list), len(N_list)))\n",
    "    std_altmap = np.zeros((len(mu_list), len(N_list)))\n",
    "    for mu_idx, mu in enumerate(mu_list):\n",
    "        for N_idx, N in enumerate(N_list):\n",
    "            nmi_list_infomap = []\n",
    "            nmi_list_altmap = []\n",
    "            for realization in range(0, num_realizations):\n",
    "                benchmark_id = benchmark_id + 1\n",
    "                print(f'Starting benchmark {benchmark_id}/{num_benchmarks} for (N,mu) = ({N},{mu})\\n')\n",
    "                try:\n",
    "                    G, communities_true = generate_LFR_benchmark(N, mu)\n",
    "                    num_communities_true = max(communities_true.values()) - min(communities_true.values()) + 1\n",
    "                except nx.ExceededMaxIterations as err:\n",
    "                    print(f'Failed to generate network for (N,mu) = ({N},{mu}): ', err)\n",
    "                    continue\n",
    "                \n",
    "                nx.write_pajek(G, workspace_path +  filename + '.net')\n",
    "                \n",
    "                # communities = create_initfile(G, randomized=True)\n",
    "                # infomap(workspace_path +  filename + '.net', altmap=altmap, additional_args=' --cluster-data ./workspace/init.tree')\n",
    "                \n",
    "                # test infomap\n",
    "                infomap(workspace_path +  filename + '.net', altmap=False)\n",
    "                communities_found, num_communities_found = read_communities_from_tree_file()\n",
    "                # print (f'Infomap found {num_communities_found} communities vs. {num_communities_true} ground truth '\n",
    "                #        f'communities.\\n')\n",
    "                \n",
    "                nmi = compute_nmi(communities_true, communities_found)\n",
    "                nmi_list_infomap.append(nmi)\n",
    "                \n",
    "                # test altmap\n",
    "                infomap(workspace_path +  filename + '.net', altmap=True)\n",
    "                communities_found, num_communities_found = read_communities_from_tree_file()\n",
    "                # print (f'Altmap found {num_communities_found} communities vs. {num_communities_true} ground truth '\n",
    "                #        f'communities.\\n')\n",
    "                \n",
    "                nmi = compute_nmi(communities_true, communities_found)\n",
    "                nmi_list_altmap.append(nmi)\n",
    "            \n",
    "            if nmi_list_infomap:\n",
    "                mean_nmi_infomap[mu_idx, N_idx] = np.mean(nmi_list_infomap)\n",
    "                std_infomap[mu_idx, N_idx] = np.std(nmi_list_infomap, ddof=1)\n",
    "            else:\n",
    "                mean_nmi_infomap[mu_idx, N_idx] = None\n",
    "                std_infomap[mu_idx, N_idx] = None\n",
    "                \n",
    "            if nmi_list_altmap:\n",
    "                mean_nmi_altmap[mu_idx, N_idx] = np.mean(nmi_list_altmap)\n",
    "                std_altmap[mu_idx, N_idx] = np.std(nmi_list_altmap, ddof=1)\n",
    "            else:\n",
    "                mean_nmi_altmap[mu_idx, N_idx] = None\n",
    "                std_altmap[mu_idx, N_idx] = None\n",
    "    \n",
    "    print(f'Finished benchmark successfully!\\n')\n",
    "    return mean_nmi_infomap, std_infomap, mean_nmi_altmap, std_altmap\n"
   ],
   "metadata": {
    "collapsed": false,
    "pycharm": {
     "name": "#%% helpers + wrappers\n",
     "is_executing": false
    }
   }
  },
  {
   "cell_type": "code",
   "execution_count": 22,
   "outputs": [],
   "source": [
    "# LFR params\n",
    "N = 5000\n",
    "mu = 0.3\n",
    "max_degree = 50\n",
    "max_community = 100\n",
    "min_community = 50\n",
    "average_degree = 20\n",
    "gamma = 2.5 # Power law exponent for the degree distribution \n",
    "beta = 1.5 # Power law exponent for the community size distribution\n",
    "max_iter = 100\n",
    "\n",
    "# generate LFR benchmark graph\n",
    "G = LFR_benchmark_graph(N, gamma, beta, mu, average_degree=average_degree, max_degree=max_degree, \n",
    "                        max_community=max_community, min_community=min_community, max_iters=max_iter)\n",
    "    \n",
    "    "
   ],
   "metadata": {
    "collapsed": false,
    "pycharm": {
     "name": "#%% params for n=10000\n",
     "is_executing": false
    }
   }
  },
  {
   "cell_type": "code",
   "execution_count": 24,
   "outputs": [
    {
     "name": "stdout",
     "text": [
      "[0.15       0.21666667 0.28333333 0.35       0.41666667 0.48333333\n 0.55       0.61666667 0.68333333 0.75      ]\nStarting benchmark 1/100 for (N,mu) = (5000,0.15)\n\n",
      "Starting benchmark 2/100 for (N,mu) = (5000,0.15)\n\n",
      "Starting benchmark 3/100 for (N,mu) = (5000,0.15)\n\n",
      "Starting benchmark 4/100 for (N,mu) = (5000,0.15)\n\n",
      "Starting benchmark 5/100 for (N,mu) = (5000,0.15)\n\n",
      "Starting benchmark 6/100 for (N,mu) = (5000,0.15)\n\n",
      "Starting benchmark 7/100 for (N,mu) = (5000,0.15)\n\n",
      "Starting benchmark 8/100 for (N,mu) = (5000,0.15)\n\n",
      "Starting benchmark 9/100 for (N,mu) = (5000,0.15)\n\n",
      "Starting benchmark 10/100 for (N,mu) = (5000,0.15)\n\n",
      "Starting benchmark 11/100 for (N,mu) = (5000,0.21666666666666667)\n\n",
      "Failed to generate network for (N,mu) = (5000,0.21666666666666667):  Could not create power law sequence\nStarting benchmark 12/100 for (N,mu) = (5000,0.21666666666666667)\n\n",
      "Starting benchmark 13/100 for (N,mu) = (5000,0.21666666666666667)\n\n",
      "Starting benchmark 14/100 for (N,mu) = (5000,0.21666666666666667)\n\n",
      "Starting benchmark 15/100 for (N,mu) = (5000,0.21666666666666667)\n\n",
      "Failed to generate network for (N,mu) = (5000,0.21666666666666667):  Could not create power law sequence\nStarting benchmark 16/100 for (N,mu) = (5000,0.21666666666666667)\n\n",
      "Starting benchmark 17/100 for (N,mu) = (5000,0.21666666666666667)\n\n",
      "Starting benchmark 18/100 for (N,mu) = (5000,0.21666666666666667)\n\n",
      "Starting benchmark 19/100 for (N,mu) = (5000,0.21666666666666667)\n\n",
      "Starting benchmark 20/100 for (N,mu) = (5000,0.21666666666666667)\n\n",
      "Starting benchmark 21/100 for (N,mu) = (5000,0.2833333333333333)\n\n",
      "Starting benchmark 22/100 for (N,mu) = (5000,0.2833333333333333)\n\n",
      "Starting benchmark 23/100 for (N,mu) = (5000,0.2833333333333333)\n\n",
      "Starting benchmark 24/100 for (N,mu) = (5000,0.2833333333333333)\n\n",
      "Starting benchmark 25/100 for (N,mu) = (5000,0.2833333333333333)\n\n",
      "Starting benchmark 26/100 for (N,mu) = (5000,0.2833333333333333)\n\n",
      "Starting benchmark 27/100 for (N,mu) = (5000,0.2833333333333333)\n\n",
      "Failed to generate network for (N,mu) = (5000,0.2833333333333333):  Could not create power law sequence\nStarting benchmark 28/100 for (N,mu) = (5000,0.2833333333333333)\n\n",
      "Starting benchmark 29/100 for (N,mu) = (5000,0.2833333333333333)\n\n",
      "Starting benchmark 30/100 for (N,mu) = (5000,0.2833333333333333)\n\n",
      "Starting benchmark 31/100 for (N,mu) = (5000,0.35)\n\n",
      "Starting benchmark 32/100 for (N,mu) = (5000,0.35)\n\n",
      "Starting benchmark 33/100 for (N,mu) = (5000,0.35)\n\n",
      "Starting benchmark 34/100 for (N,mu) = (5000,0.35)\n\n",
      "Starting benchmark 35/100 for (N,mu) = (5000,0.35)\n\n",
      "Starting benchmark 36/100 for (N,mu) = (5000,0.35)\n\n",
      "Failed to generate network for (N,mu) = (5000,0.35):  Could not create power law sequence\nStarting benchmark 37/100 for (N,mu) = (5000,0.35)\n\n",
      "Starting benchmark 38/100 for (N,mu) = (5000,0.35)\n\n",
      "Failed to generate network for (N,mu) = (5000,0.35):  Could not create power law sequence\nStarting benchmark 39/100 for (N,mu) = (5000,0.35)\n\n",
      "Starting benchmark 40/100 for (N,mu) = (5000,0.35)\n\n",
      "Starting benchmark 41/100 for (N,mu) = (5000,0.41666666666666663)\n\n",
      "Starting benchmark 42/100 for (N,mu) = (5000,0.41666666666666663)\n\n",
      "Starting benchmark 43/100 for (N,mu) = (5000,0.41666666666666663)\n\n",
      "Starting benchmark 44/100 for (N,mu) = (5000,0.41666666666666663)\n\n",
      "Starting benchmark 45/100 for (N,mu) = (5000,0.41666666666666663)\n\n",
      "Starting benchmark 46/100 for (N,mu) = (5000,0.41666666666666663)\n\n",
      "Starting benchmark 47/100 for (N,mu) = (5000,0.41666666666666663)\n\n",
      "Failed to generate network for (N,mu) = (5000,0.41666666666666663):  Could not create power law sequence\nStarting benchmark 48/100 for (N,mu) = (5000,0.41666666666666663)\n\n",
      "Starting benchmark 49/100 for (N,mu) = (5000,0.41666666666666663)\n\n",
      "Starting benchmark 50/100 for (N,mu) = (5000,0.41666666666666663)\n\n",
      "Starting benchmark 51/100 for (N,mu) = (5000,0.4833333333333333)\n\n",
      "Starting benchmark 52/100 for (N,mu) = (5000,0.4833333333333333)\n\n",
      "Starting benchmark 53/100 for (N,mu) = (5000,0.4833333333333333)\n\n",
      "Starting benchmark 54/100 for (N,mu) = (5000,0.4833333333333333)\n\n",
      "Starting benchmark 55/100 for (N,mu) = (5000,0.4833333333333333)\n\n",
      "Starting benchmark 56/100 for (N,mu) = (5000,0.4833333333333333)\n\n",
      "Starting benchmark 57/100 for (N,mu) = (5000,0.4833333333333333)\n\n",
      "Starting benchmark 58/100 for (N,mu) = (5000,0.4833333333333333)\n\n",
      "Starting benchmark 59/100 for (N,mu) = (5000,0.4833333333333333)\n\n",
      "Starting benchmark 60/100 for (N,mu) = (5000,0.4833333333333333)\n\n",
      "Starting benchmark 61/100 for (N,mu) = (5000,0.55)\n\n",
      "Starting benchmark 62/100 for (N,mu) = (5000,0.55)\n\n",
      "Starting benchmark 63/100 for (N,mu) = (5000,0.55)\n\n",
      "Starting benchmark 64/100 for (N,mu) = (5000,0.55)\n\n",
      "Starting benchmark 65/100 for (N,mu) = (5000,0.55)\n\n",
      "Starting benchmark 66/100 for (N,mu) = (5000,0.55)\n\n",
      "Starting benchmark 67/100 for (N,mu) = (5000,0.55)\n\n",
      "Starting benchmark 68/100 for (N,mu) = (5000,0.55)\n\n",
      "Starting benchmark 69/100 for (N,mu) = (5000,0.55)\n\n",
      "Starting benchmark 70/100 for (N,mu) = (5000,0.55)\n\n",
      "Starting benchmark 71/100 for (N,mu) = (5000,0.6166666666666667)\n\n",
      "Failed to generate network for (N,mu) = (5000,0.6166666666666667):  Could not create power law sequence\nStarting benchmark 72/100 for (N,mu) = (5000,0.6166666666666667)\n\n",
      "Starting benchmark 73/100 for (N,mu) = (5000,0.6166666666666667)\n\n",
      "Starting benchmark 74/100 for (N,mu) = (5000,0.6166666666666667)\n\n",
      "Starting benchmark 75/100 for (N,mu) = (5000,0.6166666666666667)\n\n",
      "Failed to generate network for (N,mu) = (5000,0.6166666666666667):  Could not create power law sequence\nStarting benchmark 76/100 for (N,mu) = (5000,0.6166666666666667)\n\n",
      "Starting benchmark 77/100 for (N,mu) = (5000,0.6166666666666667)\n\n",
      "Starting benchmark 78/100 for (N,mu) = (5000,0.6166666666666667)\n\n",
      "Starting benchmark 79/100 for (N,mu) = (5000,0.6166666666666667)\n\n",
      "Starting benchmark 80/100 for (N,mu) = (5000,0.6166666666666667)\n\n",
      "Starting benchmark 81/100 for (N,mu) = (5000,0.6833333333333333)\n\n",
      "Starting benchmark 82/100 for (N,mu) = (5000,0.6833333333333333)\n\n",
      "Starting benchmark 83/100 for (N,mu) = (5000,0.6833333333333333)\n\n",
      "Starting benchmark 84/100 for (N,mu) = (5000,0.6833333333333333)\n\n",
      "Starting benchmark 85/100 for (N,mu) = (5000,0.6833333333333333)\n\n",
      "Starting benchmark 86/100 for (N,mu) = (5000,0.6833333333333333)\n\n",
      "Starting benchmark 87/100 for (N,mu) = (5000,0.6833333333333333)\n\n",
      "Starting benchmark 88/100 for (N,mu) = (5000,0.6833333333333333)\n\n",
      "Starting benchmark 89/100 for (N,mu) = (5000,0.6833333333333333)\n\n",
      "Starting benchmark 90/100 for (N,mu) = (5000,0.6833333333333333)\n\n",
      "Starting benchmark 91/100 for (N,mu) = (5000,0.75)\n\n",
      "Failed to generate network for (N,mu) = (5000,0.75):  Could not create power law sequence\nStarting benchmark 92/100 for (N,mu) = (5000,0.75)\n\n",
      "Starting benchmark 93/100 for (N,mu) = (5000,0.75)\n\n",
      "Starting benchmark 94/100 for (N,mu) = (5000,0.75)\n\n",
      "Starting benchmark 95/100 for (N,mu) = (5000,0.75)\n\n",
      "Failed to generate network for (N,mu) = (5000,0.75):  Could not create power law sequence\nStarting benchmark 96/100 for (N,mu) = (5000,0.75)\n\n",
      "Starting benchmark 97/100 for (N,mu) = (5000,0.75)\n\n",
      "Starting benchmark 98/100 for (N,mu) = (5000,0.75)\n\n",
      "Starting benchmark 99/100 for (N,mu) = (5000,0.75)\n\n",
      "Starting benchmark 100/100 for (N,mu) = (5000,0.75)\n\n",
      "Finished benchmark successfully!\n\n"
     ],
     "output_type": "stream"
    },
    {
     "name": "stderr",
     "text": [
      "/home/chri/anaconda3/lib/python3.6/site-packages/networkx/readwrite/pajek.py:77: UserWarning: Node attribute community is not processed. Non-string attribute.\n  'Non-string attribute'))\n"
     ],
     "output_type": "stream"
    }
   ],
   "source": [
    "Ns = [5000]\n",
    "mus = np.linspace(0.15, 0.75, 10)\n",
    "num_realizations = 10   \n",
    "print (mus)\n",
    "\n",
    "mean_nmi_infomap, std_infomap, mean_nmi_altmap, std_altmap = run_benchmark(Ns, mus, num_realizations=num_realizations)"
   ],
   "metadata": {
    "collapsed": false,
    "pycharm": {
     "name": "#%% run benchmarks\n",
     "is_executing": false
    }
   }
  },
  {
   "cell_type": "code",
   "execution_count": 26,
   "outputs": [
    {
     "name": "stdout",
     "text": [
      "[[9.99975247e-01]\n [9.99937706e-01]\n [9.99918940e-01]\n [9.98724228e-01]\n [9.84945259e-01]\n [9.10716997e-01]\n [5.97776101e-01]\n [3.88839234e-16]\n [3.93871302e-16]\n [4.01727172e-16]]\n"
     ],
     "output_type": "stream"
    },
    {
     "data": {
      "text/plain": "<matplotlib.legend.Legend at 0x7fd5f99322e8>"
     },
     "metadata": {},
     "output_type": "execute_result",
     "execution_count": 26
    }
   ],
   "source": [
    "print (mean_nmi_infomap)\n",
    "\n",
    "plt.close('all')\n",
    "fig, axs = plt.subplots(2,1,sharex=True)\n",
    "fig.suptitle(f'LFR benchmark, N = {5000} nodes')\n",
    "\n",
    "axs[0].plot(mus, mean_nmi_infomap[:,0], 'x--', linewidth=2, markersize=12, label='Infomap')\n",
    "axs[0].plot(mus, mean_nmi_altmap[:,0], '^--', linewidth=2, markersize=12, label='Altmap')\n",
    "axs[0].plot([0.5, 0.5], [0,1], 'r')\n",
    "axs[0].grid()\n",
    "axs[0].set_xlabel('Mixing parameter $\\mu$')\n",
    "axs[0].set_ylabel('NMI')\n",
    "axs[0].legend()\n",
    "\n",
    "axs[1].plot(mus, std_infomap[:,0], 'x--', linewidth=2, markersize=12, label='Infomap')\n",
    "axs[1].plot(mus, std_altmap[:,0], '^--', linewidth=2, markersize=12, label='Altmap')\n",
    "# axs[1].plot(mus, benchmark_std_dev[:,1], label='N=1000')\n",
    "axs[1].plot([0.5, 0.5], [0,np.max(np.max(std_infomap))], 'r')\n",
    "axs[1].grid()\n",
    "axs[1].set_xlabel('Mixing parameter $\\mu$')\n",
    "axs[1].set_ylabel('Standard deviation')\n",
    "axs[1].legend()"
   ],
   "metadata": {
    "collapsed": false,
    "pycharm": {
     "name": "#%%\n",
     "is_executing": false
    }
   }
  },
  {
   "cell_type": "code",
   "execution_count": null,
   "outputs": [],
   "source": [
    "plt.close('all')\n",
    "plt.figure()\n",
    "plt.title('Ground Truth Communities')\n",
    "drawNetwork(G, communities_true, labels=False)\n",
    "\n",
    "# \n",
    "# plt.figure()\n",
    "# plt.title('Infomap/Altmap Communities')\n",
    "# drawNetwork(G, communities_found, labels=False)\n"
   ],
   "metadata": {
    "collapsed": false,
    "pycharm": {
     "name": "#%%\n",
     "is_executing": true
    }
   }
  }
 ],
 "metadata": {
  "kernelspec": {
   "display_name": "Python 3",
   "language": "python",
   "name": "python3"
  },
  "language_info": {
   "codemirror_mode": {
    "name": "ipython",
    "version": 3
   },
   "file_extension": ".py",
   "mimetype": "text/x-python",
   "name": "python",
   "nbconvert_exporter": "python",
   "pygments_lexer": "ipython3",
   "version": "3.6.8"
  },
  "pycharm": {
   "stem_cell": {
    "cell_type": "raw",
    "source": [],
    "metadata": {
     "collapsed": false
    }
   }
  }
 },
 "nbformat": 4,
 "nbformat_minor": 1
}