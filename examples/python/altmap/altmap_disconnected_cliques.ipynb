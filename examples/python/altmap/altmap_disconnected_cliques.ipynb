{
 "cells": [
  {
   "cell_type": "markdown",
   "metadata": {},
   "source": [
    "## Altmap Experiments\n",
    "### Compare altmap to map eq using networkx"
   ]
  },
  {
   "cell_type": "code",
   "execution_count": 48,
   "outputs": [
    {
     "name": "stdout",
     "text": [
      "Using matplotlib backend: Qt5Agg\n",
      "Populating the interactive namespace from numpy and matplotlib\n"
     ],
     "output_type": "stream"
    }
   ],
   "source": [
    "from matplotlib.ticker import (AutoMinorLocator)\n",
    "\n",
    "from altmap.altmap_helpers.general import *\n",
    "\n",
    "# show plots in separate window\n",
    "%pylab\n",
    "\n",
    "# init rc params\n",
    "init_plt_params()\n",
    "\n",
    "def generate_disconnected_cliques(num_cliques=3, clique_size=5):\n",
    "    N = num_cliques * clique_size\n",
    "    G = nx.Graph()\n",
    "    for i in range(num_cliques):\n",
    "        clique = nx.complete_graph(clique_size)\n",
    "        clique = nx.convert_node_labels_to_integers(clique, first_label=(1 + i*clique_size))\n",
    "        G.update(clique)\n",
    "    \n",
    "    nodes_ids = list(range(1, N+1))\n",
    "    labels = [comm+1 for comm in range(num_cliques) for _ in range(clique_size)]\n",
    "    communities_true = dict(zip(nodes_ids, labels))\n",
    "    return G, communities_true\n",
    "\n",
    "# compute essential cost function values for a barbell network with\n",
    "# given clique size\n",
    "def node_mvmt_delta(clique_size, number_of_cliques):\n",
    "    nc = clique_size\n",
    "    k = number_of_cliques\n",
    "    \n",
    "    p_alpha = 1.0 / (nc*k)\n",
    "    pi = pj = 1.0 / k\n",
    "    before_mvmt = -2.0 * altmap_module_cost(pi, pi)\n",
    "    \n",
    "    pi = pi - p_alpha\n",
    "    pj = pj + p_alpha\n",
    "    p_jtoj = 2.0 / (nc - 1) / (k + 1)\n",
    "    after_mvmt = -altmap_module_cost(pi, pi) - altmap_module_cost(pj, pj*(1.0 - p_jtoj))\n",
    "    \n",
    "    return after_mvmt - before_mvmt"
   ],
   "metadata": {
    "collapsed": false,
    "pycharm": {
     "name": "#%% imports\n",
     "is_executing": false
    }
   }
  },
  {
   "cell_type": "code",
   "execution_count": 80,
   "outputs": [
    {
     "name": "stdout",
     "text": [
      "Iteration 1/5\n",
      "Iteration 2/5\n",
      "Iteration 3/5\n",
      "Iteration 4/5\n",
      "Iteration 5/5\n"
     ],
     "output_type": "stream"
    }
   ],
   "source": [
    "n_list = np.logspace(0,3,30, endpoint=False, dtype=int)\n",
    "n_list = list(map(lambda x: x+x%2, n_list))\n",
    "n_list = np.unique(n_list) + 3\n",
    "\n",
    "k_list = [2, 3, 4, 8, 16]\n",
    "\n",
    "delta_J_arr = np.zeros((len(k_list), len(n_list)))\n",
    "for i, k in enumerate(k_list):\n",
    "    print (f'Iteration {i+1}/{len(k_list)}')\n",
    "    \n",
    "    delta_list = np.zeros((len(n_list),))\n",
    "    for j, n in enumerate(n_list):\n",
    "        delta_list[j] = node_mvmt_delta(n, k)\n",
    "        \n",
    "    delta_J_arr[i, :] = delta_list"
   ],
   "metadata": {
    "collapsed": false,
    "pycharm": {
     "name": "#%% compute analytical altmap objective \n",
     "is_executing": false
    }
   }
  },
  {
   "cell_type": "code",
   "execution_count": 81,
   "outputs": [],
   "source": [
    "plt.close('all')\n",
    "fig, ax = plt.subplots(figsize=(12,9))\n",
    "for i,_ in enumerate(k_list):\n",
    "    ax.plot(n_list, -delta_J_arr[i,:], 'x--',  label=f'{k_list[i]} cliques')\n",
    "\n",
    "ax.xaxis.set_minor_locator(AutoMinorLocator())\n",
    "ax.tick_params(which='both', width=2)\n",
    "ax.grid(which='both')\n",
    "ax.set_xlabel('Nodes per clique $n_c$')\n",
    "ax.set_ylabel(r'$\\mathcal{J}(\\mathcal{Y}^\\bullet) - \\mathcal{J}(\\mathcal{Y}^\\circ)$')\n",
    "ax.legend()\n",
    "ax.semilogx()\n",
    "plt.tight_layout()"
   ],
   "metadata": {
    "collapsed": false,
    "pycharm": {
     "name": "#%% plot altmap objective as a function of ring size on a semilog scale\n",
     "is_executing": false
    }
   }
  },
  {
   "cell_type": "code",
   "execution_count": 84,
   "outputs": [],
   "source": [
    "fig_path = '../../../../disjoint_cliques.pdf'\n",
    "plt.savefig(fig_path, dpi=600, format='pdf')"
   ],
   "metadata": {
    "collapsed": false,
    "pycharm": {
     "name": "#%% save figure as .pdf\n",
     "is_executing": false
    }
   }
  },
  {
   "cell_type": "code",
   "execution_count": 42,
   "metadata": {
    "pycharm": {
     "is_executing": false,
     "name": "#%% disconnected cliques\n"
    }
   },
   "outputs": [
    {
     "name": "stdout",
     "text": [
      "OrderedDict([(1, 1), (2, 1), (3, 1), (4, 1), (5, 1), (6, 1), (7, 1), (8, 1), (9, 1), (10, 1), (11, 2), (12, 2), (13, 2), (14, 2), (15, 2), (16, 2), (17, 2), (18, 2), (19, 2), (20, 2), (21, 3), (22, 3), (23, 3), (24, 3), (25, 3), (26, 3), (27, 3), (28, 3), (29, 3), (30, 3)])\n",
      "We found 3 communities.\n"
     ],
     "output_type": "stream"
    }
   ],
   "source": [
    "num_cliques = 3\n",
    "clique_size = 10\n",
    "G, communities_true = generate_disconnected_cliques(num_cliques, clique_size)\n",
    "\n",
    "# run community detection\n",
    "communities_found, num_communities_found,_,_ = infomap(G, altmap=False)\n",
    "# communities_found, num_communities_found,_,_ = infomap(G, altmap=True)\n",
    "# communities_found, num_communities_found,_,_ = infomap(G, altmap=True, init='sc')\n",
    "\n",
    "# print results\n",
    "print (communities_found)\n",
    "print (f'We found {num_communities_found} communities.')\n",
    "\n",
    "# cost = altmap_cost(G, communities_found)\n",
    "# print (f'Achieved cost L = {cost}')\n"
   ]
  },
  {
   "cell_type": "code",
   "execution_count": 109,
   "outputs": [],
   "source": [
    "plt.close('all')\n",
    "plt.figure()\n",
    "drawNetwork(G, communities_found)\n",
    "plt.tight_layout()"
   ],
   "metadata": {
    "collapsed": false,
    "pycharm": {
     "name": "#%%\n",
     "is_executing": false
    }
   }
  },
  {
   "cell_type": "code",
   "execution_count": 47,
   "outputs": [
    {
     "name": "stdout",
     "text": [
      "Ground truth cost L = -3.584962500721156\n",
      "Analytical = 3.584962500721156\n",
      "Initial cost L = -0.04064198449734591\n",
      "Maximal independent sets cost L = -0.5849625007211564\n",
      "Analytical = 0.5849625007211561\n"
     ],
     "output_type": "stream"
    }
   ],
   "source": [
    "# generate network\n",
    "num_cliques = 12\n",
    "clique_size = 3\n",
    "N = num_cliques * clique_size # num nodes\n",
    "G, communities_true = generate_disconnected_cliques(num_cliques, clique_size)\n",
    "\n",
    "cost = altmap_cost(G, communities_true)\n",
    "print (f'Ground truth cost L = {cost}')\n",
    "print (f'Analytical = {np.log2(num_cliques)}')\n",
    "\n",
    "# initial\n",
    "nodes_ids = list(range(1, N+1))\n",
    "communities_init = dict(zip(nodes_ids, nodes_ids))\n",
    "cost = altmap_cost(G, communities_init)\n",
    "print (f'Initial cost L = {cost}')\n",
    "\n",
    "# independent sets\n",
    "labels = list(range(1,clique_size+1)) * num_cliques\n",
    "communities_ind = dict(zip(nodes_ids, labels))\n",
    "cost = altmap_cost(G, communities_ind)\n",
    "print (f'Maximal independent sets cost L = {cost}')\n",
    "print (f'Analytical = {np.log2(clique_size) - np.log2(clique_size-1)}')\n"
   ],
   "metadata": {
    "collapsed": false,
    "pycharm": {
     "name": "#%% draw sample networks\n",
     "is_executing": false
    }
   }
  },
  {
   "cell_type": "code",
   "execution_count": null,
   "outputs": [],
   "source": [
    "plt.close('all')\n",
    "\n",
    "plt.figure(figsize=(5,8))\n",
    "drawNetwork(G, communities_true)\n",
    "plt.tight_layout()\n",
    "\n",
    "plt.figure(figsize=(5,8))\n",
    "drawNetwork(G, communities_init)\n",
    "plt.tight_layout()\n",
    "\n",
    "plt.figure(figsize=(5,8))\n",
    "drawNetwork(G, communities_ind)\n",
    "plt.tight_layout()\n",
    "\n",
    "# plt.close('all')\n",
    "# fig, axs = plt.subplots(1,3)\n",
    "# fig.suptitle(f'Sample ring of cliques networks')\n",
    "# \n",
    "# drawNetwork(G, communities_true, ax=axs[0])\n",
    "# axs[0].set_xlabel('Ground truth')\n",
    "# drawNetwork(G, communities_init, ax=axs[1])\n",
    "# axs[1].set_xlabel('Initial partition')\n",
    "# drawNetwork(G, communities_ind, ax=axs[2])\n",
    "# axs[2].set_xlabel('Maximum independent sets')"
   ],
   "metadata": {
    "collapsed": false,
    "pycharm": {
     "name": "#%% draw sample networks\n"
    }
   }
  }
 ],
 "metadata": {
  "kernelspec": {
   "display_name": "Python 3",
   "language": "python",
   "name": "python3"
  },
  "language_info": {
   "codemirror_mode": {
    "name": "ipython",
    "version": 3
   },
   "file_extension": ".py",
   "mimetype": "text/x-python",
   "name": "python",
   "nbconvert_exporter": "python",
   "pygments_lexer": "ipython3",
   "version": "3.6.8"
  },
  "pycharm": {
   "stem_cell": {
    "cell_type": "raw",
    "source": [],
    "metadata": {
     "collapsed": false
    }
   }
  }
 },
 "nbformat": 4,
 "nbformat_minor": 1
}