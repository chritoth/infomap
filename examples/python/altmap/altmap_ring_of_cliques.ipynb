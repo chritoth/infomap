{
 "cells": [
  {
   "cell_type": "markdown",
   "metadata": {},
   "source": [
    "## Altmap Experiments\n",
    "### Compare altmap to map eq using networkx\n"
   ]
  },
  {
   "cell_type": "code",
   "execution_count": 1,
   "outputs": [
    {
     "name": "stdout",
     "text": [
      "Using matplotlib backend: Qt5Agg\nPopulating the interactive namespace from numpy and matplotlib\n"
     ],
     "output_type": "stream"
    }
   ],
   "source": [
    "import networkx as nx\n",
    "import matplotlib.pyplot as plt\n",
    "import numpy as np\n",
    "from collections import OrderedDict\n",
    "\n",
    "plt.rcParams.update({'font.size': 14})\n",
    "%pylab\n",
    "\n",
    "%run helpers.py\n",
    "# loads the following helper functions:\n",
    "# infomap(net_path, altmap=False, additional_args='')\n",
    "# read_tree(tree_path)\n",
    "# drawNetwork(G, communities)\n",
    "# altmap_cost(G, communities)\n",
    "# generate_initfile(G, method='random')"
   ],
   "metadata": {
    "collapsed": false,
    "pycharm": {
     "name": "#%%\n",
     "is_executing": false
    }
   }
  },
  {
   "cell_type": "code",
   "execution_count": 2,
   "metadata": {
    "pycharm": {
     "is_executing": false,
     "name": "#%% ring of cliques\n"
    }
   },
   "outputs": [
    {
     "name": "stdout",
     "text": [
      "Ground Truth L = -2.310761626697072\n\n"
     ],
     "output_type": "stream"
    }
   ],
   "source": [
    "num_cliques = 5\n",
    "clique_size = 50\n",
    "N = num_cliques * clique_size # num nodes\n",
    "G = nx.ring_of_cliques(num_cliques, clique_size)\n",
    "G = nx.convert_node_labels_to_integers(G, first_label=1)\n",
    "\n",
    "communities = {}\n",
    "for c in range(num_cliques):\n",
    "    for n in range(1, clique_size+1):\n",
    "        communities[c*clique_size + n] = c\n",
    "        \n",
    "cost = altmap_cost(G, communities)\n",
    "print (f'Ground Truth L = {cost}\\n')\n"
   ]
  },
  {
   "cell_type": "code",
   "execution_count": 14,
   "metadata": {
    "pycharm": {
     "is_executing": false,
     "name": "#%% find communities\n"
    }
   },
   "outputs": [
    {
     "name": "stdout",
     "text": [
      "OrderedDict([(1, 1), (2, 1), (3, 1), (4, 1), (5, 1), (6, 1), (7, 1), (8, 1), (9, 1), (10, 1), (11, 1), (12, 1), (13, 1), (14, 1), (15, 1), (16, 1), (17, 1), (18, 1), (19, 1), (20, 1), (21, 1), (22, 1), (23, 1), (24, 1), (25, 1), (26, 1), (27, 1), (28, 1), (29, 1), (30, 1), (31, 1), (32, 1), (33, 1), (34, 1), (35, 1), (36, 1), (37, 1), (38, 1), (39, 1), (40, 1), (41, 1), (42, 1), (43, 1), (44, 1), (45, 1), (46, 1), (47, 1), (48, 1), (49, 1), (50, 1), (51, 2), (52, 2), (53, 2), (54, 2), (55, 2), (56, 2), (57, 2), (58, 2), (59, 2), (60, 2), (61, 2), (62, 2), (63, 2), (64, 2), (65, 2), (66, 2), (67, 2), (68, 2), (69, 2), (70, 2), (71, 2), (72, 2), (73, 2), (74, 2), (75, 2), (76, 2), (77, 2), (78, 2), (79, 2), (80, 2), (81, 2), (82, 2), (83, 2), (84, 2), (85, 2), (86, 2), (87, 2), (88, 2), (89, 2), (90, 2), (91, 2), (92, 2), (93, 2), (94, 2), (95, 2), (96, 2), (97, 2), (98, 2), (99, 2), (100, 2), (101, 3), (102, 3), (103, 3), (104, 3), (105, 3), (106, 3), (107, 3), (108, 3), (109, 3), (110, 3), (111, 3), (112, 3), (113, 3), (114, 3), (115, 3), (116, 3), (117, 3), (118, 3), (119, 3), (120, 3), (121, 3), (122, 3), (123, 3), (124, 3), (125, 3), (126, 3), (127, 3), (128, 3), (129, 3), (130, 3), (131, 3), (132, 3), (133, 3), (134, 3), (135, 3), (136, 3), (137, 3), (138, 3), (139, 3), (140, 3), (141, 3), (142, 3), (143, 3), (144, 3), (145, 3), (146, 3), (147, 3), (148, 3), (149, 3), (150, 3), (151, 4), (152, 4), (153, 4), (154, 4), (155, 4), (156, 4), (157, 4), (158, 4), (159, 4), (160, 4), (161, 4), (162, 4), (163, 4), (164, 4), (165, 4), (166, 4), (167, 4), (168, 4), (169, 4), (170, 4), (171, 4), (172, 4), (173, 4), (174, 4), (175, 4), (176, 4), (177, 4), (178, 4), (179, 4), (180, 4), (181, 4), (182, 4), (183, 4), (184, 4), (185, 4), (186, 4), (187, 4), (188, 4), (189, 4), (190, 4), (191, 4), (192, 4), (193, 4), (194, 4), (195, 4), (196, 4), (197, 4), (198, 4), (199, 4), (200, 4), (201, 5), (202, 5), (203, 5), (204, 5), (205, 5), (206, 5), (207, 5), (208, 5), (209, 5), (210, 5), (211, 5), (212, 5), (213, 5), (214, 5), (215, 5), (216, 5), (217, 5), (218, 5), (219, 5), (220, 5), (221, 5), (222, 5), (223, 5), (224, 5), (225, 5), (226, 5), (227, 5), (228, 5), (229, 5), (230, 5), (231, 5), (232, 5), (233, 5), (234, 5), (235, 5), (236, 5), (237, 5), (238, 5), (239, 5), (240, 5), (241, 5), (242, 5), (243, 5), (244, 5), (245, 5), (246, 5), (247, 5), (248, 5), (249, 5), (250, 5)])\nWe found 5 communities.\n",
      "Achieved cost L = -2.310761626697072\n"
     ],
     "output_type": "stream"
    }
   ],
   "source": [
    "nx.write_pajek(G, workspace_path +  filename + '.net')\n",
    "# infomap(altmap=False)\n",
    "# infomap(altmap=True)\n",
    "communities = generate_initfile(G, method='sc')\n",
    "infomap(altmap=True, additional_args=' --cluster-data ./workspace/init.tree')\n",
    "\n",
    "# read results\n",
    "communities_found, num_communities_found = read_communities_from_tree_file()\n",
    "print (communities_found)\n",
    "print (f'We found {num_communities_found} communities.')\n",
    "\n",
    "cost = altmap_cost(G, communities_found)\n",
    "print (f'Achieved cost L = {cost}')\n"
   ]
  },
  {
   "cell_type": "code",
   "execution_count": 6,
   "outputs": [
    {
     "data": {
      "text/plain": "<Figure size 432x288 with 1 Axes>",
      "image/png": "[encoded data removed]"
     },
     "metadata": {},
     "output_type": "display_data"
    }
   ],
   "source": [
    "plt.close('all')\n",
    "plt.figure()\n",
    "drawNetwork(G, communities_found)"
   ],
   "metadata": {
    "collapsed": false,
    "pycharm": {
     "name": "#%% print network\n",
     "is_executing": false
    }
   }
  }
 ],
 "metadata": {
  "kernelspec": {
   "display_name": "Python 3",
   "language": "python",
   "name": "python3"
  },
  "language_info": {
   "codemirror_mode": {
    "name": "ipython",
    "version": 3
   },
   "file_extension": ".py",
   "mimetype": "text/x-python",
   "name": "python",
   "nbconvert_exporter": "python",
   "pygments_lexer": "ipython3",
   "version": "3.6.8"
  },
  "pycharm": {
   "stem_cell": {
    "cell_type": "raw",
    "source": [],
    "metadata": {
     "collapsed": false
    }
   }
  }
 },
 "nbformat": 4,
 "nbformat_minor": 1
}