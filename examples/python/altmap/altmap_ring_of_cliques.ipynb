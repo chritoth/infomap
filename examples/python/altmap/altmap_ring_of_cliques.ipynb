{
 "cells": [
  {
   "cell_type": "markdown",
   "metadata": {},
   "source": [
    "## Altmap Experiments\n",
    "### Compare altmap to map eq using networkx"
   ]
  },
  {
   "cell_type": "code",
   "execution_count": 3,
   "outputs": [
    {
     "name": "stdout",
     "text": [
      "Using matplotlib backend: Qt5Agg\nPopulating the interactive namespace from numpy and matplotlib\n"
     ],
     "output_type": "stream"
    }
   ],
   "source": [
    "import networkx as nx\n",
    "import matplotlib.pyplot as plt\n",
    "from matplotlib.ticker import (AutoMinorLocator)\n",
    "import numpy as np\n",
    "\n",
    "# show plots in separate window\n",
    "%pylab\n",
    "# load helpers and wrappers\n",
    "%run helpers.py "
   ],
   "metadata": {
    "collapsed": false,
    "pycharm": {
     "name": "#%% imports\n",
     "is_executing": false
    }
   }
  },
  {
   "cell_type": "code",
   "execution_count": 43,
   "outputs": [
    {
     "data": {
      "text/plain": "<matplotlib.legend.Legend at 0x7fde2e571ef0>"
     },
     "metadata": {},
     "output_type": "execute_result",
     "execution_count": 43
    }
   ],
   "source": [
    "# compute essential cost function values for a barbell network with\n",
    "# given clique size\n",
    "def ring_of_cliques_cost(clique_size = 3, number_of_cliques = 5, print_output=False):\n",
    "    nc = clique_size\n",
    "    c = number_of_cliques\n",
    "    \n",
    "    m = (nc*(nc-1) + 2) * c / 2.0 # number of edges in the network\n",
    "    p0 = (nc - 1) /(2*m) # stat prob for 'normal' nodes\n",
    "    pc = nc / (2*m) # stat prob for the connecting nodes\n",
    "\n",
    "    # initial cost\n",
    "    J_init = c*(nc-1)*p0*np.log2(1.0-p0) + c*pc*np.log2(1.0-pc)\n",
    "    \n",
    "    # maximum independent sets cost\n",
    "    p1 = c*p0; p2 = (c-1)*p0+pc\n",
    "    J_ind = (nc-1)*p1*np.log2(1.0-p1) + c*p2*np.log2(1.0-p2)\n",
    "    \n",
    "    # ground truth cost\n",
    "    pi = (nc-1)*p0+pc; pnoti=1.0-pi; pinoti=1.0/(2*m); pii = pi - pinoti\n",
    "    J_true = -c*(pii*np.log2(pii/pi**2) + pinoti*np.log2(pinoti/(pi*pnoti)))\n",
    "    \n",
    "    if print_output:\n",
    "        print (f\"\\nRing of {c} cliques with nc = {nc} nodes per clique:\\n\")\n",
    "        print (f\"Each node a module - cost = {J_init}\")\n",
    "        print (f\"Ground truth cost = {J_true}\")\n",
    "        print (f\"Independent sets cost = {J_ind}\\n\")\n",
    "    \n",
    "    return J_init, J_true, J_ind\n",
    "\n",
    "num_cliques = 100\n",
    "nc_max = 50\n",
    "nc_list = list(range(3, nc_max + 1))\n",
    "J_init_list = np.zeros((len(nc_list), 1))\n",
    "J_true_list = np.zeros_like(J_init_list)\n",
    "J_ind_list = np.zeros_like(J_init_list)\n",
    "for i,nc in enumerate(nc_list):\n",
    "    J_init_list[i], J_true_list[i], J_ind_list[i] = ring_of_cliques_cost(nc, number_of_cliques=num_cliques)\n",
    "\n",
    "\n",
    "plt.close('all')\n",
    "fig, ax = plt.subplots()\n",
    "plt.suptitle(f'Ring of {num_cliques} cliques - cost over clique size')\n",
    "ax.plot(nc_list, J_true_list, 'x--', label='Ground truth')\n",
    "ax.plot(nc_list, J_init_list, '^--', label='Each node as a module')\n",
    "ax.plot(nc_list, J_ind_list, 'o--', label='Maximum independet set')\n",
    "ax.xaxis.set_minor_locator(AutoMinorLocator())\n",
    "ax.tick_params(which='both', width=2)\n",
    "ax.grid(which='both')\n",
    "ax.set_xlabel('Nodes per clique $n_c$')\n",
    "ax.set_ylabel('Altmap cost $\\mathcal{J}(m)$')\n",
    "ax.legend()\n"
   ],
   "metadata": {
    "collapsed": false,
    "pycharm": {
     "name": "#%% cost over clique size \n",
     "is_executing": false
    }
   }
  },
  {
   "cell_type": "code",
   "execution_count": 63,
   "metadata": {
    "pycharm": {
     "is_executing": false,
     "name": "#%% ring of cliques\n"
    }
   },
   "outputs": [
    {
     "name": "stdout",
     "text": [
      "Ground Truth L = -1.1979643381655696\n\nOrderedDict([(1, 5), (2, 5), (3, 5), (4, 5), (5, 5), (6, 5), (7, 1), (8, 1), (9, 1), (10, 1), (11, 1), (12, 1), (13, 1), (14, 6), (15, 6), (16, 6), (17, 6), (18, 6), (19, 6), (20, 2), (21, 2), (22, 2), (23, 2), (24, 2), (25, 2), (26, 2), (27, 3), (28, 3), (29, 3), (30, 3), (31, 3), (32, 3), (33, 3), (34, 4), (35, 4), (36, 4), (37, 4), (38, 4), (39, 4), (40, 4)])\nWe found 6 communities.\n"
     ],
     "output_type": "stream"
    }
   ],
   "source": [
    "num_cliques = 20\n",
    "clique_size = 2\n",
    "N = num_cliques * clique_size # num nodes\n",
    "G = nx.ring_of_cliques(num_cliques, clique_size)\n",
    "G = nx.convert_node_labels_to_integers(G, first_label=1)\n",
    "\n",
    "# compute ground truth cost\n",
    "nodes_ids = list(range(1, N+1))\n",
    "labels = [1] * clique_size\n",
    "for i in range(2, num_cliques+1):\n",
    "    labels += [i] * clique_size\n",
    "communities = dict(zip(nodes_ids, labels))        \n",
    "\n",
    "cost = altmap_cost(G, communities)\n",
    "print (f'Ground Truth L = {cost}\\n')\n",
    "\n",
    "\n",
    "# run community detection\n",
    "# communities_found, num_communities_found = infomap(G, altmap=False)\n",
    "# communities_found, num_communities_found = infomap(G, altmap=True)\n",
    "communities_found, num_communities_found = infomap(G, altmap=True, init='sc')\n",
    "\n",
    "# print results\n",
    "print (communities_found)\n",
    "print (f'We found {num_communities_found} communities.')\n",
    "\n",
    "# cost = altmap_cost(G, communities_found)\n",
    "# print (f'Achieved cost L = {cost}')\n"
   ]
  },
  {
   "cell_type": "code",
   "execution_count": 59,
   "metadata": {
    "pycharm": {
     "is_executing": false,
     "name": "#%% print network\n"
    }
   },
   "outputs": [
    {
     "name": "stderr",
     "text": [
      "/home/chri/anaconda3/lib/python3.6/site-packages/networkx/drawing/nx_pylab.py:579: MatplotlibDeprecationWarning: \nThe iterable function was deprecated in Matplotlib 3.1 and will be removed in 3.3. Use np.iterable instead.\n  if not cb.iterable(width):\n"
     ],
     "output_type": "stream"
    }
   ],
   "source": [
    "plt.close('all')\n",
    "plt.figure()\n",
    "drawNetwork(G, communities_found)"
   ]
  }
 ],
 "metadata": {
  "kernelspec": {
   "display_name": "Python 3",
   "language": "python",
   "name": "python3"
  },
  "language_info": {
   "codemirror_mode": {
    "name": "ipython",
    "version": 3
   },
   "file_extension": ".py",
   "mimetype": "text/x-python",
   "name": "python",
   "nbconvert_exporter": "python",
   "pygments_lexer": "ipython3",
   "version": "3.6.8"
  },
  "pycharm": {
   "stem_cell": {
    "cell_type": "raw",
    "source": [],
    "metadata": {
     "collapsed": false
    }
   }
  }
 },
 "nbformat": 4,
 "nbformat_minor": 1
}