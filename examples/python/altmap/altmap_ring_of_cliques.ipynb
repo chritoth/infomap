{
 "cells": [
  {
   "cell_type": "markdown",
   "metadata": {},
   "source": [
    "## Altmap Experiments\n",
    "### Compare altmap to map eq using networkx"
   ]
  },
  {
   "cell_type": "code",
   "execution_count": 6,
   "outputs": [
    {
     "name": "stdout",
     "text": [
      "Using matplotlib backend: Qt5Agg\nPopulating the interactive namespace from numpy and matplotlib\n"
     ],
     "output_type": "stream"
    }
   ],
   "source": [
    "import networkx as nx\n",
    "import matplotlib.pyplot as plt\n",
    "from matplotlib.ticker import (AutoMinorLocator)\n",
    "import numpy as np\n",
    "\n",
    "# show plots in separate window\n",
    "%pylab\n",
    "# load helpers and wrappers\n",
    "%run helpers.py "
   ],
   "metadata": {
    "collapsed": false,
    "pycharm": {
     "name": "#%% imports\n",
     "is_executing": false
    }
   }
  },
  {
   "cell_type": "code",
   "execution_count": 24,
   "outputs": [
    {
     "data": {
      "text/plain": "<matplotlib.legend.Legend at 0x7f36ec2b70b8>"
     },
     "metadata": {},
     "output_type": "execute_result",
     "execution_count": 24
    }
   ],
   "source": [
    "# compute essential cost function values for a barbell network with\n",
    "# given clique size\n",
    "def ring_of_cliques_cost(clique_size = 3, number_of_cliques = 5, print_output=False):\n",
    "    nc = clique_size\n",
    "    c = number_of_cliques\n",
    "    \n",
    "    m = (nc*(nc-1) + 2) * c / 2.0 # number of edges in the network\n",
    "    p0 = (nc - 1) /(2*m) # stat prob for 'normal' nodes\n",
    "    pc = nc / (2*m) # stat prob for the connecting nodes\n",
    "\n",
    "    # initial cost\n",
    "    J_init = c*(nc-1)*p0*np.log2(1.0-p0) + c*pc*np.log2(1.0-pc)\n",
    "    \n",
    "    # maximum independent sets cost\n",
    "    p1 = c*p0; p2 = (c-1)*p0+pc\n",
    "    J_ind = (nc-1)*p1*np.log2(1.0-p1) + c*p2*np.log2(1.0-p2)\n",
    "    \n",
    "    # ground truth cost\n",
    "    pi = (nc-1)*p0+pc; pnoti=1.0-pi; pinoti=1.0/(2*m); pii = pi - pinoti\n",
    "    J_true = -c*(pii*np.log2(pii/pi**2) + pinoti*np.log2(pinoti/(pi*pnoti)))\n",
    "    \n",
    "    if print_output:\n",
    "        print (f\"\\nRing of {c} cliques with nc = {nc} nodes per clique:\\n\")\n",
    "        print (f\"Each node a module - cost = {J_init}\")\n",
    "        print (f\"Ground truth cost = {J_true}\")\n",
    "        print (f\"Independent sets cost = {J_ind}\\n\")\n",
    "    \n",
    "    return J_init, J_true, J_ind\n",
    "\n",
    "num_cliques = 64\n",
    "nc_max = 50\n",
    "nc_list = list(range(3, nc_max + 1))\n",
    "J_init_list = np.zeros((len(nc_list), 1))\n",
    "J_true_list = np.zeros_like(J_init_list)\n",
    "J_ind_list = np.zeros_like(J_init_list)\n",
    "for i,nc in enumerate(nc_list):\n",
    "    J_init_list[i], J_true_list[i], J_ind_list[i] = ring_of_cliques_cost(nc, number_of_cliques=num_cliques)\n",
    "\n",
    "\n",
    "plt.close('all')\n",
    "fig, ax = plt.subplots()\n",
    "ax.set_title(f'Ring of {num_cliques} cliques - objective over clique size')\n",
    "ax.plot(nc_list, -J_true_list, 'x--', lw=3, ms=10, label='Ground truth')\n",
    "ax.plot(nc_list, -J_init_list, '^--', label='Each node as a module')\n",
    "ax.plot(nc_list, -J_ind_list, 'o--', label='Maximum independet sets')\n",
    "ax.xaxis.set_minor_locator(AutoMinorLocator())\n",
    "ax.tick_params(which='both', width=2)\n",
    "ax.grid(which='both')\n",
    "ax.set_xlabel('Nodes per clique $n_c$')\n",
    "ax.set_ylabel('Altmap objective $\\mathcal{G}(m)$')\n",
    "ax.legend()"
   ],
   "metadata": {
    "collapsed": false,
    "pycharm": {
     "name": "#%% cost over clique size \n",
     "is_executing": false
    }
   }
  },
  {
   "cell_type": "code",
   "execution_count": 85,
   "metadata": {
    "pycharm": {
     "is_executing": false,
     "name": "#%% ring of cliques\n"
    }
   },
   "outputs": [
    {
     "name": "stdout",
     "text": [
      "OrderedDict([(1, 1), (2, 1), (3, 1), (4, 2), (5, 2), (6, 2), (7, 2), (8, 2), (9, 2), (10, 2), (11, 2), (12, 2), (13, 2), (14, 2), (15, 2), (16, 3), (17, 3), (18, 3), (19, 3), (20, 3), (21, 3), (22, 3), (23, 3), (24, 3), (25, 3), (26, 3), (27, 3), (28, 5), (29, 5), (30, 5), (31, 5), (32, 5), (33, 5), (34, 5), (35, 5), (36, 5), (37, 6), (38, 6), (39, 6), (40, 6), (41, 6), (42, 6), (43, 6), (44, 6), (45, 6), (46, 9), (47, 9), (48, 9), (49, 9), (50, 9), (51, 9), (52, 7), (53, 7), (54, 7), (55, 7), (56, 7), (57, 7), (58, 7), (59, 7), (60, 7), (61, 8), (62, 8), (63, 8), (64, 8), (65, 8), (66, 8), (67, 8), (68, 8), (69, 8), (70, 4), (71, 4), (72, 4), (73, 4), (74, 4), (75, 4), (76, 4), (77, 4), (78, 4), (79, 4), (80, 4), (81, 4), (82, 1), (83, 1), (84, 1), (85, 1), (86, 1), (87, 1), (88, 1), (89, 1), (90, 1)])\nWe found 9 communities.\n"
     ],
     "output_type": "stream"
    }
   ],
   "source": [
    "num_cliques = 30\n",
    "clique_size = 3\n",
    "N = num_cliques * clique_size # num nodes\n",
    "G = nx.ring_of_cliques(num_cliques, clique_size)\n",
    "G = nx.convert_node_labels_to_integers(G, first_label=1)\n",
    "\n",
    "# run community detection\n",
    "# communities_found, num_communities_found = infomap(G, altmap=False)\n",
    "# communities_found, num_communities_found = infomap(G, altmap=True)\n",
    "communities_found, num_communities_found = infomap(G, altmap=True, init='sc')\n",
    "\n",
    "# print results\n",
    "print (communities_found)\n",
    "print (f'We found {num_communities_found} communities.')\n",
    "\n",
    "# cost = altmap_cost(G, communities_found)\n",
    "# print (f'Achieved cost L = {cost}')\n"
   ]
  },
  {
   "cell_type": "code",
   "execution_count": 86,
   "metadata": {
    "pycharm": {
     "is_executing": false,
     "name": "#%% print network\n"
    }
   },
   "outputs": [
    {
     "name": "stderr",
     "text": [
      "/home/chri/anaconda3/lib/python3.6/site-packages/networkx/drawing/nx_pylab.py:579: MatplotlibDeprecationWarning: \nThe iterable function was deprecated in Matplotlib 3.1 and will be removed in 3.3. Use np.iterable instead.\n  if not cb.iterable(width):\n"
     ],
     "output_type": "stream"
    }
   ],
   "source": [
    "plt.close('all')\n",
    "plt.figure()\n",
    "drawNetwork(G, communities_found)"
   ]
  },
  {
   "cell_type": "code",
   "execution_count": 78,
   "outputs": [
    {
     "name": "stderr",
     "text": [
      "/home/chri/anaconda3/lib/python3.6/site-packages/networkx/drawing/nx_pylab.py:579: MatplotlibDeprecationWarning: \nThe iterable function was deprecated in Matplotlib 3.1 and will be removed in 3.3. Use np.iterable instead.\n  if not cb.iterable(width):\n"
     ],
     "output_type": "stream"
    },
    {
     "data": {
      "text/plain": "Text(0.5, 0, 'Maximum independent sets')"
     },
     "metadata": {},
     "output_type": "execute_result",
     "execution_count": 78
    }
   ],
   "source": [
    "# generate network\n",
    "num_cliques = 3\n",
    "clique_size = 4\n",
    "N = num_cliques * clique_size # num nodes\n",
    "G = nx.ring_of_cliques(num_cliques, clique_size)\n",
    "G = nx.convert_node_labels_to_integers(G, first_label=1)\n",
    "\n",
    "# initial\n",
    "nodes_ids = list(range(1, N+1))\n",
    "communities_init = dict(zip(nodes_ids, nodes_ids))\n",
    "\n",
    "# ground truth\n",
    "labels = [1] * clique_size\n",
    "for c in range(2, num_cliques+1):\n",
    "    labels += [c]*clique_size\n",
    "communities_true = dict(zip(nodes_ids, labels))\n",
    "\n",
    "# independent sets\n",
    "labels = list(range(1,clique_size+1)) * num_cliques\n",
    "communities_ind = dict(zip(nodes_ids, labels))\n",
    "\n",
    "plt.close('all')\n",
    "fig, axs = plt.subplots(1,3)\n",
    "fig.suptitle(f'Sample ring of cliques networks')\n",
    "\n",
    "drawNetwork(G, communities_true, ax=axs[0])\n",
    "axs[0].set_xlabel('Ground truth')\n",
    "drawNetwork(G, communities_init, ax=axs[1])\n",
    "axs[1].set_xlabel('Initial partition')\n",
    "drawNetwork(G, communities_ind, ax=axs[2])\n",
    "axs[2].set_xlabel('Maximum independent sets')"
   ],
   "metadata": {
    "collapsed": false,
    "pycharm": {
     "name": "#%% draw sample networks\n",
     "is_executing": false
    }
   }
  }
 ],
 "metadata": {
  "kernelspec": {
   "display_name": "Python 3",
   "language": "python",
   "name": "python3"
  },
  "language_info": {
   "codemirror_mode": {
    "name": "ipython",
    "version": 3
   },
   "file_extension": ".py",
   "mimetype": "text/x-python",
   "name": "python",
   "nbconvert_exporter": "python",
   "pygments_lexer": "ipython3",
   "version": "3.6.8"
  },
  "pycharm": {
   "stem_cell": {
    "cell_type": "raw",
    "source": [],
    "metadata": {
     "collapsed": false
    }
   }
  }
 },
 "nbformat": 4,
 "nbformat_minor": 1
}