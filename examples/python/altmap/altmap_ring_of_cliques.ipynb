{
 "cells": [
  {
   "cell_type": "markdown",
   "metadata": {},
   "source": [
    "## Altmap Experiments\n",
    "### Compare altmap to map eq using networkx"
   ]
  },
  {
   "cell_type": "code",
   "execution_count": 3,
   "outputs": [
    {
     "name": "stdout",
     "text": [
      "Using matplotlib backend: Qt5Agg\n",
      "Populating the interactive namespace from numpy and matplotlib\n"
     ],
     "output_type": "stream"
    }
   ],
   "source": [
    "from matplotlib.ticker import (AutoMinorLocator)\n",
    "\n",
    "from altmap.altmap_helpers.general import *\n",
    "\n",
    "# show plots in separate window\n",
    "%pylab\n",
    "\n",
    "# init rc params\n",
    "init_plt_params()"
   ],
   "metadata": {
    "collapsed": false,
    "pycharm": {
     "name": "#%% imports\n",
     "is_executing": false
    }
   }
  },
  {
   "cell_type": "code",
   "execution_count": 103,
   "outputs": [],
   "source": [
    "# compute essential cost function values for a barbell network with\n",
    "# given clique size\n",
    "def ring_of_cliques_cost(clique_size = 3, number_of_cliques = 5, print_output=False):\n",
    "    nc = clique_size\n",
    "    c = number_of_cliques\n",
    "    \n",
    "    m = (nc*(nc-1) + 2) * c / 2.0 # number of edges in the network\n",
    "    p0 = (nc - 1) /(2*m) # stat prob for 'normal' nodes\n",
    "    pc = nc / (2*m) # stat prob for the connecting nodes\n",
    "\n",
    "    # initial cost\n",
    "    J_init = c*(nc-1)*p0*np.log2(1.0-p0) + c*pc*np.log2(1.0-pc)\n",
    "    \n",
    "    # maximum independent sets cost\n",
    "    p1 = c*p0; p2 = c*pc\n",
    "    J_ind = (nc-2)*p1*np.log2(1.0-p1) + 2*p2*np.log2(1.0-p2)\n",
    "    \n",
    "    # ground truth cost\n",
    "    pi = (nc-2)*p0+2*pc; pnoti=1.0-pi; pinoti=1.0/m; pii = pi - pinoti\n",
    "    J_true = -c*(pii*np.log2(pii/pi**2) + pinoti*np.log2(pinoti/(pi*pnoti)))\n",
    "    \n",
    "    if print_output:\n",
    "        print (f\"\\nRing of {c} cliques with nc = {nc} nodes per clique:\\n\")\n",
    "        print (f\"Each node a module - cost = {J_init}\")\n",
    "        print (f\"Ground truth cost = {J_true}\")\n",
    "        print (f\"Independent sets cost = {J_ind}\\n\")\n",
    "    \n",
    "    return J_init, J_true, J_ind\n",
    "\n",
    "num_cliques = 64\n",
    "nc_max = 30\n",
    "nc_list = list(range(3, nc_max + 1))\n",
    "J_init_list = np.zeros((len(nc_list), 1))\n",
    "J_true_list = np.zeros_like(J_init_list)\n",
    "J_ind_list = np.zeros_like(J_init_list)\n",
    "J_altmap_list = np.zeros_like(J_init_list)\n",
    "J_altmap_sci_list = np.zeros_like(J_init_list)\n",
    "for i,nc in enumerate(nc_list):\n",
    "    J_init_list[i], J_true_list[i], J_ind_list[i] = ring_of_cliques_cost(nc, number_of_cliques=num_cliques)\n",
    "    \n",
    "    # compute actual objectives achieved by altmap\n",
    "    # G = nx.ring_of_cliques(num_cliques, nc)\n",
    "    # G = nx.convert_node_labels_to_integers(G, first_label=1)\n",
    "    # communities_found, num_communities_found,_ ,_ = infomap(G, altmap=True)\n",
    "    # J_altmap_list[i] = altmap_cost(G, communities_found)\n",
    "    # \n",
    "    # communities_found, num_communities_found,_ ,_ = infomap(G, altmap=True, init='sc', update_inputfile=False)\n",
    "    # J_altmap_sci_list[i] = altmap_cost(G, communities_found)"
   ],
   "metadata": {
    "collapsed": false,
    "pycharm": {
     "name": "#%% cost over clique size \n",
     "is_executing": false
    }
   }
  },
  {
   "cell_type": "code",
   "execution_count": 104,
   "outputs": [],
   "source": [
    "plt.close('all')\n",
    "fig, ax = plt.subplots(figsize=(12,9))\n",
    "# ax.suptitle(f'Ring of {num_cliques} cliques - objective over clique size')\n",
    "ax.plot(nc_list, -J_true_list, 'x--', label='Ground truth')\n",
    "ax.plot(nc_list, -J_init_list, '^--', label='Each node as a module')\n",
    "ax.plot(nc_list, -J_ind_list, 'o--', label='Maximum independet sets')\n",
    "ax.plot(nc_list, -J_altmap_list, '.--', ms=8, lw=2, label='Implementation')\n",
    "ax.plot(nc_list, -J_altmap_sci_list, '.--', ms=8, lw=2, label='Implementation with SCI')\n",
    "ax.xaxis.set_minor_locator(AutoMinorLocator())\n",
    "ax.tick_params(which='both', width=2)\n",
    "ax.grid(which='both')\n",
    "ax.set_xlabel('Nodes per clique $n_c$', labelpad=20)\n",
    "ax.set_ylabel('Synthesizing Infomap objective $\\mathcal{J}(m)$', labelpad=20)\n",
    "ax.legend()\n",
    "plt.tight_layout()"
   ],
   "metadata": {
    "collapsed": false,
    "pycharm": {
     "name": "#%%\n",
     "is_executing": false
    }
   }
  },
  {
   "cell_type": "code",
   "execution_count": 108,
   "metadata": {
    "pycharm": {
     "is_executing": false,
     "name": "#%% ring of cliques\n"
    }
   },
   "outputs": [
    {
     "name": "stdout",
     "text": [
      "OrderedDict([(1, 1), (2, 1), (3, 1), (4, 2), (5, 2), (6, 2), (7, 2), (8, 2), (9, 2), (10, 16), (11, 16), (12, 16), (13, 3), (14, 3), (15, 3), (16, 3), (17, 3), (18, 3), (19, 4), (20, 4), (21, 4), (22, 4), (23, 4), (24, 4), (25, 5), (26, 5), (27, 5), (28, 5), (29, 5), (30, 5), (31, 6), (32, 6), (33, 6), (34, 6), (35, 6), (36, 6), (37, 7), (38, 7), (39, 7), (40, 7), (41, 7), (42, 7), (43, 8), (44, 8), (45, 8), (46, 8), (47, 8), (48, 8), (49, 9), (50, 9), (51, 9), (52, 9), (53, 9), (54, 9), (55, 17), (56, 17), (57, 17), (58, 10), (59, 10), (60, 10), (61, 10), (62, 10), (63, 10), (64, 11), (65, 11), (66, 11), (67, 11), (68, 11), (69, 11), (70, 12), (71, 12), (72, 12), (73, 12), (74, 12), (75, 12), (76, 13), (77, 13), (78, 13), (79, 13), (80, 13), (81, 13), (82, 14), (83, 14), (84, 14), (85, 14), (86, 14), (87, 14), (88, 15), (89, 15), (90, 15), (91, 15), (92, 15), (93, 15), (94, 1), (95, 1), (96, 1)])\n",
      "We found 17 communities.\n"
     ],
     "output_type": "stream"
    }
   ],
   "source": [
    "num_cliques = 32\n",
    "clique_size = 3\n",
    "N = num_cliques * clique_size # num nodes\n",
    "G = nx.ring_of_cliques(num_cliques, clique_size)\n",
    "G = nx.convert_node_labels_to_integers(G, first_label=1)\n",
    "\n",
    "# run community detection\n",
    "# communities_found, num_communities_found,_,_ = infomap(G, altmap=False)\n",
    "communities_found, num_communities_found,_,_ = infomap(G, altmap=True)\n",
    "# communities_found, num_communities_found,_,_ = infomap(G, altmap=True, init='sc')\n",
    "\n",
    "# print results\n",
    "print (communities_found)\n",
    "print (f'We found {num_communities_found} communities.')\n",
    "\n",
    "# cost = altmap_cost(G, communities_found)\n",
    "# print (f'Achieved cost L = {cost}')\n"
   ]
  },
  {
   "cell_type": "code",
   "execution_count": 109,
   "outputs": [],
   "source": [
    "plt.close('all')\n",
    "plt.figure()\n",
    "drawNetwork(G, communities_found)\n",
    "plt.tight_layout()"
   ],
   "metadata": {
    "collapsed": false,
    "pycharm": {
     "name": "#%%\n",
     "is_executing": false
    }
   }
  },
  {
   "cell_type": "code",
   "execution_count": 29,
   "outputs": [],
   "source": [
    "# generate network\n",
    "num_cliques = 4\n",
    "clique_size = 3\n",
    "N = num_cliques * clique_size # num nodes\n",
    "G = nx.ring_of_cliques(num_cliques, clique_size)\n",
    "G = nx.convert_node_labels_to_integers(G, first_label=1)\n",
    "\n",
    "# initial\n",
    "nodes_ids = list(range(1, N+1))\n",
    "communities_init = dict(zip(nodes_ids, nodes_ids))\n",
    "\n",
    "# ground truth\n",
    "labels = [1] * clique_size\n",
    "for c in range(2, num_cliques+1):\n",
    "    labels += [c]*clique_size\n",
    "communities_true = dict(zip(nodes_ids, labels))\n",
    "\n",
    "# independent sets\n",
    "labels = list(range(1,clique_size+1)) * num_cliques\n",
    "communities_ind = dict(zip(nodes_ids, labels))\n",
    "\n",
    "\n",
    "plt.close('all')\n",
    "\n",
    "plt.figure(figsize=(5,8))\n",
    "drawNetwork(G, communities_true)\n",
    "plt.tight_layout()\n",
    "\n",
    "plt.figure(figsize=(5,8))\n",
    "drawNetwork(G, communities_init)\n",
    "plt.tight_layout()\n",
    "\n",
    "plt.figure(figsize=(5,8))\n",
    "drawNetwork(G, communities_ind)\n",
    "plt.tight_layout()\n",
    "\n",
    "# plt.close('all')\n",
    "# fig, axs = plt.subplots(1,3)\n",
    "# fig.suptitle(f'Sample ring of cliques networks')\n",
    "# \n",
    "# drawNetwork(G, communities_true, ax=axs[0])\n",
    "# axs[0].set_xlabel('Ground truth')\n",
    "# drawNetwork(G, communities_init, ax=axs[1])\n",
    "# axs[1].set_xlabel('Initial partition')\n",
    "# drawNetwork(G, communities_ind, ax=axs[2])\n",
    "# axs[2].set_xlabel('Maximum independent sets')"
   ],
   "metadata": {
    "collapsed": false,
    "pycharm": {
     "name": "#%% draw sample networks\n",
     "is_executing": false
    }
   }
  }
 ],
 "metadata": {
  "kernelspec": {
   "display_name": "Python 3",
   "language": "python",
   "name": "python3"
  },
  "language_info": {
   "codemirror_mode": {
    "name": "ipython",
    "version": 3
   },
   "file_extension": ".py",
   "mimetype": "text/x-python",
   "name": "python",
   "nbconvert_exporter": "python",
   "pygments_lexer": "ipython3",
   "version": "3.6.8"
  },
  "pycharm": {
   "stem_cell": {
    "cell_type": "raw",
    "source": [],
    "metadata": {
     "collapsed": false
    }
   }
  }
 },
 "nbformat": 4,
 "nbformat_minor": 1
}