{
 "cells": [
  {
   "cell_type": "markdown",
   "metadata": {},
   "source": [
    "## Altmap Experiments\n",
    "### Compare altmap to map eq using networkx\n"
   ]
  },
  {
   "cell_type": "code",
   "execution_count": 5,
   "outputs": [
    {
     "name": "stdout",
     "text": [
      "Using matplotlib backend: Qt5Agg\nPopulating the interactive namespace from numpy and matplotlib\n"
     ],
     "output_type": "stream"
    }
   ],
   "source": [
    "import networkx as nx\n",
    "import matplotlib.pyplot as plt\n",
    "from matplotlib.ticker import (AutoMinorLocator)\n",
    "import numpy as np\n",
    "\n",
    "# show plots in separate window\n",
    "%pylab\n",
    "# load helpers and wrappers\n",
    "%run helpers.py \n"
   ],
   "metadata": {
    "collapsed": false,
    "pycharm": {
     "name": "#%% imports\n",
     "is_executing": false
    }
   }
  },
  {
   "cell_type": "code",
   "execution_count": 4,
   "outputs": [
    {
     "name": "stdout",
     "text": [
      "Ground Truth 2 communities L = -0.13539149546531296\nAnalytical: -0.3901596952835996\n\n",
      "Ground Truth each node L = -0.00612389163691027\nAnalytical: -0.005782352594006178\n\n"
     ],
     "output_type": "stream"
    }
   ],
   "source": [
    "epsilon = 0.15\n",
    "N1 = 200\n",
    "N2 = 50\n",
    "N = N1 + N2\n",
    "p_self = (1.0 - epsilon) / (N/2 - 1)\n",
    "p_ext = 2.0 *  epsilon / N\n",
    "\n",
    "# generate graph\n",
    "G = nx.MultiGraph()\n",
    "G.add_nodes_from(range(1, N+1))\n",
    "for n1 in range(1, N1+1):\n",
    "    for i in range(n1 + 1, N1+1):\n",
    "        G.add_edge(n1, i, weight=p_self)\n",
    "    \n",
    "    for n2 in range(N1+1, N1+N2+1):\n",
    "        G.add_edge(n1, n2, weight=p_ext)\n",
    "\n",
    "for n2 in range(N1+1, N1+N2+1):\n",
    "    for i in range(n2 + 1, N1+N2+1):\n",
    "        G.add_edge(n2, i, weight=p_self)\n",
    "\n",
    "# 2 communities\n",
    "communities = {}\n",
    "i = 1\n",
    "for c, n in enumerate([N1, N2]):\n",
    "    for a in range(1, n+1):\n",
    "        communities[i] =  c + 1\n",
    "        i = i + 1\n",
    "        \n",
    "cost = altmap_cost(G, communities)\n",
    "print (f'Ground Truth 2 communities L = {cost}')\n",
    "print (f'Analytical: {-1.0 - plogp(1.0-epsilon) - plogp(epsilon)}\\n')\n",
    "\n",
    "# each node a community\n",
    "communities = {}\n",
    "for n in range(1, N + 1):\n",
    "        communities[n] = n\n",
    "        \n",
    "cost = altmap_cost(G, communities)\n",
    "print (f'Ground Truth each node L = {cost}')\n",
    "print (f'Analytical: {-np.log2(N/(N - 1))}\\n')\n",
    "                "
   ],
   "metadata": {
    "collapsed": false,
    "pycharm": {
     "name": "#%% SBM\n",
     "is_executing": false
    }
   }
  },
  {
   "cell_type": "code",
   "execution_count": 19,
   "outputs": [
    {
     "name": "stdout",
     "text": [
      "OrderedDict([(1, 1), (2, 1), (3, 1), (4, 1), (5, 1), (6, 1), (7, 1), (8, 1), (9, 1), (10, 1), (11, 1), (12, 1), (13, 1), (14, 1), (15, 1), (16, 1), (17, 1), (18, 1), (19, 1), (20, 1), (21, 1), (22, 1), (23, 1), (24, 1), (25, 1), (26, 1), (27, 1), (28, 1), (29, 1), (30, 1), (31, 1), (32, 1), (33, 1), (34, 1), (35, 1), (36, 1), (37, 1), (38, 1), (39, 1), (40, 1), (41, 1), (42, 1), (43, 1), (44, 1), (45, 1), (46, 1), (47, 1), (48, 1), (49, 1), (50, 1), (51, 1), (52, 1), (53, 1), (54, 1), (55, 1), (56, 1), (57, 1), (58, 1), (59, 1), (60, 1), (61, 1), (62, 1), (63, 1), (64, 1), (65, 1), (66, 1), (67, 1), (68, 1), (69, 1), (70, 1), (71, 1), (72, 1), (73, 1), (74, 1), (75, 1), (76, 1), (77, 1), (78, 1), (79, 1), (80, 1), (81, 1), (82, 1), (83, 1), (84, 1), (85, 1), (86, 1), (87, 1), (88, 1), (89, 1), (90, 1), (91, 1), (92, 1), (93, 1), (94, 1), (95, 1), (96, 1), (97, 1), (98, 1), (99, 1), (100, 1), (101, 1), (102, 1), (103, 1), (104, 1), (105, 1), (106, 1), (107, 1), (108, 1), (109, 1), (110, 1), (111, 1), (112, 1), (113, 1), (114, 1), (115, 1), (116, 1), (117, 1), (118, 1), (119, 1), (120, 1), (121, 1), (122, 1), (123, 1), (124, 1), (125, 1), (126, 1), (127, 1), (128, 1), (129, 1), (130, 1), (131, 1), (132, 1), (133, 1), (134, 1), (135, 1), (136, 1), (137, 1), (138, 1), (139, 1), (140, 1), (141, 1), (142, 1), (143, 1), (144, 1), (145, 1), (146, 1), (147, 1), (148, 1), (149, 1), (150, 1), (151, 1), (152, 1), (153, 1), (154, 1), (155, 1), (156, 1), (157, 1), (158, 1), (159, 1), (160, 1), (161, 1), (162, 1), (163, 1), (164, 1), (165, 1), (166, 1), (167, 1), (168, 1), (169, 1), (170, 1), (171, 1), (172, 1), (173, 1), (174, 1), (175, 1), (176, 1), (177, 1), (178, 1), (179, 1), (180, 1), (181, 1), (182, 1), (183, 1), (184, 1), (185, 1), (186, 1), (187, 1), (188, 1), (189, 1), (190, 1), (191, 1), (192, 1), (193, 1), (194, 1), (195, 1), (196, 1), (197, 1), (198, 1), (199, 1), (200, 1), (201, 2), (202, 2), (203, 2), (204, 2), (205, 2), (206, 2), (207, 2), (208, 2), (209, 2), (210, 2), (211, 2), (212, 2), (213, 2), (214, 2), (215, 2), (216, 2), (217, 2), (218, 2), (219, 2), (220, 2), (221, 2), (222, 2), (223, 2), (224, 2), (225, 2), (226, 2), (227, 2), (228, 2), (229, 2), (230, 2), (231, 2), (232, 2), (233, 2), (234, 2), (235, 2), (236, 2), (237, 2), (238, 2), (239, 2), (240, 2), (241, 2), (242, 2), (243, 2), (244, 2), (245, 2), (246, 2), (247, 2), (248, 2), (249, 2), (250, 2)])\nWe found 2 communities.\n",
      "Achieved cost L = -0.13539149546531296\n"
     ],
     "output_type": "stream"
    }
   ],
   "source": [
    "# run community detection\n",
    "# communities_found, num_communities_found = infomap(G, altmap=False)\n",
    "# communities_found, num_communities_found = infomap(G, altmap=True)\n",
    "communities_found, num_communities_found = infomap(G, altmap=True, init='sc')\n",
    "\n",
    "# print results\n",
    "print (communities_found)\n",
    "print (f'We found {num_communities_found} communities.')\n",
    "\n",
    "# cost = altmap_cost(G, communities_found)\n",
    "# print (f'Achieved cost L = {cost}')\n"
   ],
   "metadata": {
    "collapsed": false,
    "pycharm": {
     "name": "#%% find communities\n",
     "is_executing": false
    }
   }
  },
  {
   "cell_type": "code",
   "execution_count": 7,
   "outputs": [],
   "source": [
    "plt.close('all')\n",
    "plt.figure()\n",
    "drawNetwork(G, communities_found)"
   ],
   "metadata": {
    "collapsed": false,
    "pycharm": {
     "name": "#%% print network\n",
     "is_executing": false
    }
   }
  }
 ],
 "metadata": {
  "kernelspec": {
   "display_name": "Python 3",
   "language": "python",
   "name": "python3"
  },
  "language_info": {
   "codemirror_mode": {
    "name": "ipython",
    "version": 3
   },
   "file_extension": ".py",
   "mimetype": "text/x-python",
   "name": "python",
   "nbconvert_exporter": "python",
   "pygments_lexer": "ipython3",
   "version": "3.6.8"
  },
  "pycharm": {
   "stem_cell": {
    "cell_type": "raw",
    "source": [],
    "metadata": {
     "collapsed": false
    }
   }
  }
 },
 "nbformat": 4,
 "nbformat_minor": 1
}