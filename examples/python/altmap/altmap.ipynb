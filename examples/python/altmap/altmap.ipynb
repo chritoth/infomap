{
 "cells": [
  {
   "cell_type": "markdown",
   "metadata": {},
   "source": [
    "## Infomap + NetworkX\n",
    "Generate and draw a network with NetworkX, colored\n",
    "according to the community structure found by Infomap.\n"
   ]
  },
  {
   "cell_type": "code",
   "execution_count": 140,
   "outputs": [
    {
     "name": "stderr",
     "text": [
      "UsageError: Line magic function `%pyplot` not found.\n"
     ],
     "output_type": "stream"
    }
   ],
   "source": [
    "import networkx as nx\n",
    "import matplotlib.pyplot as plt\n",
    "import matplotlib.colors as colors\n",
    "import os\n",
    "import pandas as pd\n",
    "%pyplot\n"
   ],
   "metadata": {
    "collapsed": false,
    "pycharm": {
     "name": "#%%\n",
     "is_executing": false
    }
   }
  },
  {
   "cell_type": "code",
   "execution_count": 141,
   "outputs": [],
   "source": [
    "infomap_path = '~/infomap/Infomap'\n",
    "\n",
    "def infomap(net_path, altmap=False):\n",
    "    out_path = './results/'\n",
    "    args = '-2 -u'\n",
    "    if altmap:\n",
    "        args += ' --altmap'\n",
    "        \n",
    "    os.system(infomap_path + ' ' + net_path + ' ' + out_path + ' ' + args)\n",
    "\n",
    "def read_tree(tree_path):    \n",
    "    df = pd.read_csv(tree_path, sep=' ', header = 1)\n",
    "    df.columns = ['community', 'flow', 'name', 'node', 'trash']\n",
    "    df = df.drop(['flow', 'trash'], axis=1)\n",
    "    \n",
    "    for i, path in enumerate(df['community']):\n",
    "        df.iloc[i,0] = path[0]\n",
    "        \n",
    "    return df\n",
    "\n",
    "def drawNetwork(G):\n",
    "    # position map\n",
    "    pos = nx.spring_layout(G)\n",
    "    # community ids\n",
    "    communities = [v for k,v in nx.get_node_attributes(G, 'community').items()]\n",
    "    numCommunities = max(communities) + 1\n",
    "    # color map from http://colorbrewer2.org/\n",
    "    cmapLight = colors.ListedColormap(['#a6cee3', '#b2df8a', '#fb9a99', '#fdbf6f', '#cab2d6'], 'indexed', numCommunities)\n",
    "    cmapDark = colors.ListedColormap(['#1f78b4', '#33a02c', '#e31a1c', '#ff7f00', '#6a3d9a'], 'indexed', numCommunities)\n",
    "\n",
    "    # Draw edges\n",
    "    nx.draw_networkx_edges(G, pos)\n",
    "\n",
    "    # Draw nodes\n",
    "    nodeCollection = nx.draw_networkx_nodes(G,\n",
    "        pos = pos,\n",
    "        node_color = communities,\n",
    "        cmap = cmapLight\n",
    "    )\n",
    "    # Set node border color to the darker shade\n",
    "    darkColors = [cmapDark(v) for v in communities]\n",
    "    nodeCollection.set_edgecolor(darkColors)\n",
    "\n",
    "    # Draw node labels\n",
    "    for n in G.nodes():\n",
    "        plt.annotate(n,\n",
    "            xy = pos[n],\n",
    "            textcoords = 'offset points',\n",
    "            horizontalalignment = 'center',\n",
    "            verticalalignment = 'center',\n",
    "            xytext = [0, 0],\n",
    "            color = cmapDark(communities[int(n) - 1])\n",
    "        )\n",
    "\n",
    "    plt.axis('off')\n",
    "    # plt.savefig(\"karate.png\")\n",
    "    plt.show()\n"
   ],
   "metadata": {
    "collapsed": false,
    "pycharm": {
     "name": "#%% infomap wrappers\n",
     "is_executing": false
    }
   }
  },
  {
   "cell_type": "code",
   "execution_count": 147,
   "outputs": [],
   "source": [
    "\n",
    "\n",
    "net_path = './rings.net'\n",
    "infomap(net_path, altmap=False)\n",
    "\n"
   ],
   "metadata": {
    "collapsed": false,
    "pycharm": {
     "name": "#%% find communities\n",
     "is_executing": false
    }
   }
  },
  {
   "cell_type": "code",
   "execution_count": 148,
   "outputs": [
    {
     "data": {
      "text/plain": "<Figure size 432x288 with 1 Axes>",
      "image/png": "[encoded data removed]"
     },
     "metadata": {},
     "output_type": "display_data"
    }
   ],
   "source": [
    "\n",
    "tree_path = './results/rings.tree'\n",
    "df = read_tree(tree_path)\n",
    "\n",
    "G = nx.read_pajek(net_path)\n",
    "\n",
    "communities = {}\n",
    "for index, row in df.iterrows():\n",
    "    node = str(row['node'])\n",
    "    communities[node] = int(row['community'])\n",
    "\n",
    "nx.set_node_attributes(G, name='community', values=communities)\n",
    "\n",
    "# print network\n",
    "drawNetwork(G)\n"
   ],
   "metadata": {
    "collapsed": false,
    "pycharm": {
     "name": "#%% read results and generate networkx graph\n",
     "is_executing": false
    }
   }
  }
 ],
 "metadata": {
  "kernelspec": {
   "display_name": "Python 3",
   "language": "python",
   "name": "python3"
  },
  "language_info": {
   "codemirror_mode": {
    "name": "ipython",
    "version": 3
   },
   "file_extension": ".py",
   "mimetype": "text/x-python",
   "name": "python",
   "nbconvert_exporter": "python",
   "pygments_lexer": "ipython3",
   "version": "3.6.3"
  },
  "pycharm": {
   "stem_cell": {
    "cell_type": "raw",
    "source": [],
    "metadata": {
     "collapsed": false
    }
   }
  }
 },
 "nbformat": 4,
 "nbformat_minor": 1
}