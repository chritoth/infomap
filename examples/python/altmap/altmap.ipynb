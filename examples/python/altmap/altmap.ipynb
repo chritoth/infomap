{
 "cells": [
  {
   "cell_type": "markdown",
   "metadata": {},
   "source": [
    "## Infomap + NetworkX\n",
    "Generate and draw a network with NetworkX, colored\n",
    "according to the community structure found by Infomap.\n"
   ]
  },
  {
   "cell_type": "code",
   "execution_count": 7,
   "outputs": [
    {
     "name": "stdout",
     "text": [
      "Using matplotlib backend: Qt5Agg\nPopulating the interactive namespace from numpy and matplotlib\n"
     ],
     "output_type": "stream"
    }
   ],
   "source": [
    "import networkx as nx\n",
    "import matplotlib.pyplot as plt\n",
    "import numpy as np\n",
    "import os\n",
    "\n",
    "import pandas as pd\n",
    "from collections import OrderedDict\n",
    "%pylab\n"
   ],
   "metadata": {
    "collapsed": false,
    "pycharm": {
     "name": "#%%\n",
     "is_executing": false
    }
   }
  },
  {
   "cell_type": "code",
   "execution_count": 2,
   "metadata": {
    "pycharm": {
     "is_executing": false,
     "name": "#%% infomap wrappers\n"
    }
   },
   "outputs": [],
   "source": [
    "infomap_path = '~/infomap/Infomap'\n",
    "\n",
    "def infomap(net_path, altmap=False, additional_args=''):\n",
    "    workspace_path = './workspace/'\n",
    "    args = ' -2 -u -vvv'\n",
    "    if altmap:\n",
    "        args += ' --altmap --to-nodes -p0.05 '\n",
    "    \n",
    "    args += additional_args\n",
    "    \n",
    "    os.system(infomap_path + ' ' + net_path + ' ' + workspace_path + ' ' + args)\n",
    "\n",
    "def read_tree(tree_path):    \n",
    "    df = pd.read_csv(tree_path, sep=' ', header = 1)\n",
    "    df.columns = ['community', 'flow', 'name', 'node', 'trash']\n",
    "    df = df.drop(['flow', 'trash'], axis=1)\n",
    "    \n",
    "    for i, path in enumerate(df['community']):\n",
    "        df.iloc[i,0] = path.split(':')[0]\n",
    "        \n",
    "    return df\n",
    "\n",
    "def plogq(p, q):\n",
    "    if q < 1e-18:\n",
    "        print (f'Unexpected zero operand in plogq: p={p}, q={q}\\n.')\n",
    "        return 0.0\n",
    "    \n",
    "    return p*np.log2(q)\n",
    "\n",
    "def plogp(p):\n",
    "    if p < 1e-18:\n",
    "        return 0.0\n",
    "    \n",
    "    return p*np.log2(p)\n",
    "\n",
    "def drawNetwork(G, communities):\n",
    "    # position map\n",
    "    pos = nx.spring_layout(G)\n",
    "    # community ids\n",
    "    communities = [v for v in communities.values()]\n",
    "   \n",
    "    # Draw edges\n",
    "    nx.draw_networkx_edges(G, pos)\n",
    "\n",
    "    # Draw nodes\n",
    "    nodeCollection = nx.draw_networkx_nodes(G,\n",
    "        pos = pos,\n",
    "        node_color = communities,\n",
    "        cmap = plt.get_cmap('Set3') \n",
    "    )\n",
    "\n",
    "    # Draw node labels\n",
    "    for n in G.nodes():\n",
    "        plt.annotate(n,\n",
    "            xy = pos[n],\n",
    "            textcoords = 'offset points',\n",
    "            horizontalalignment = 'center',\n",
    "            verticalalignment = 'center',\n",
    "            xytext = [0, 0],\n",
    "            color = 'k'\n",
    "        )\n",
    "\n",
    "    plt.axis('off')\n",
    "    plt.show()\n"
   ]
  },
  {
   "cell_type": "code",
   "execution_count": 3,
   "metadata": {
    "pycharm": {
     "is_executing": false,
     "name": "#%% compute altmap cost\n"
    }
   },
   "outputs": [],
   "source": [
    "def altmap_cost(G, communities):\n",
    "    # compute stationary and conditional distribution for the nodes\n",
    "    pagerank = nx.pagerank_numpy(G, alpha=0.95)\n",
    "    p_nodes = np.array([ [val] for val in pagerank.values()])\n",
    "    p_node_transitions = nx.google_matrix(G, alpha=1.0).T\n",
    "    \n",
    "    # print (f'Stationary distribution = {p_nodes}')\n",
    "    # print (f'Transition matrix = {p_node_transitions}')\n",
    "    # if we dont trust the page rank results (works for undir networks)\n",
    "    # p_nodes = np.linalg.matrix_power(p_node_transitions, 100000).dot(p_nodes)\n",
    "    # p_nodes /= np.sum(p_nodes)\n",
    "    \n",
    "    # compute stationary and joint distribution for the communities\n",
    "    num_communities = max(communities.values()) - min(communities.values()) + 1\n",
    "    p_comm = np.zeros(num_communities)\n",
    "    p_comm_stay = np.zeros(num_communities)\n",
    "    H_x = 0\n",
    "    H_nodes = 0\n",
    "    for alpha, node in enumerate(G.nodes):\n",
    "        comm_idx = communities[node] - 1\n",
    "        p_comm[comm_idx] += p_nodes[alpha]\n",
    "        H_nodes -= plogp(p_nodes[alpha])\n",
    "        \n",
    "        neighbors = nx.all_neighbors(G, node)\n",
    "        for neighbor in neighbors:\n",
    "            beta = neighbor - 1\n",
    "            H_x += p_nodes[alpha] * plogp(p_node_transitions[beta,alpha])            \n",
    "            if communities[node] == communities[neighbor]:\n",
    "                p_comm_stay[comm_idx] += p_nodes[alpha] * p_node_transitions[beta,alpha]\n",
    "                    \n",
    "    p_comm_leave = p_comm - p_comm_stay\n",
    "    \n",
    "    # print (f'P_comm is {p_comm}.\\n')\n",
    "    # print (f'P_comm_leave is {p_comm_leave}.\\n')\n",
    "    \n",
    "     # compute altmap cost\n",
    "    epsilon = 1e-18 # vicinity threshold for numerical stability\n",
    "    cost_per_module = np.zeros((num_communities,1))\n",
    "    for i in range(num_communities):\n",
    "        \n",
    "        # check for edge cases\n",
    "        if (p_comm[i] <= epsilon) or (p_comm[i] + epsilon >= 1.0):\n",
    "            continue\n",
    "        \n",
    "        cost_per_module[i] -= plogp(p_comm_stay[i])\n",
    "        cost_per_module[i] += 2.0 * plogq(p_comm_stay[i], p_comm[i])\n",
    "        cost_per_module[i] -= plogp(p_comm_leave[i]) \n",
    "        cost_per_module[i] += plogq(p_comm_leave[i], p_comm[i] * (1.0 - p_comm[i]))\n",
    "        #print (f'Cost for module {i+1} is {cost_per_module[i]}.\\n')\n",
    "    \n",
    "    cost = np.sum(cost_per_module)\n",
    "    max_cost = H_x + H_nodes\n",
    "    # print (f'Maximum cost is {max_cost}.\\n')\n",
    "    print (f'AltMap cost is {cost}.')\n",
    "    # print (f'Total cost would be {max_cost + cost}.\\n')\n",
    "    #print (f'Node entropy H(x) =  {H_x}.\\n')\n",
    "    return cost\n",
    "\n",
    "# create initial partition file (init.tree)\n",
    "def create_initfile(G, N_partitions = None, randomized=True):\n",
    "    \n",
    "    N = len(G.nodes())\n",
    "    node_ids = np.asarray(range(1,N+1))\n",
    "    if randomized:\n",
    "        np.random.shuffle(node_ids) # randomize node order \n",
    "    \n",
    "    pagerank = nx.pagerank_numpy(G, alpha=0.95)\n",
    "    p_nodes = np.array([ [val] for val in pagerank.values()])\n",
    "    \n",
    "    num_partitions = N_partitions\n",
    "    if num_partitions == None:\n",
    "        num_partitions = int(np.sqrt(N))\n",
    "        \n",
    "    partition_size = int(N / num_partitions)\n",
    "    communities = {}\n",
    "    \n",
    "    with open(workspace_path + 'init.tree', \"w+\") as init_file:\n",
    "        init_file.write('# path flow name node:\\n')\n",
    "        n = 0\n",
    "        for partition in range(1,num_partitions+1):\n",
    "            for node_rank in range(1, partition_size + 1):\n",
    "                if n >= N:\n",
    "                    break\n",
    "                node_id = node_ids[n]\n",
    "                n += 1\n",
    "                \n",
    "                node_flow = p_nodes[node_id-1,0]\n",
    "                init_file.write(str(partition) + ':' + str(node_rank) + ' ' + str(node_flow))\n",
    "                init_file.write(' ' + '\\\"' + str(node_id) + '\\\"' + ' ' +  str(node_id) + '\\n')\n",
    "                communities[node_id] = partition\n",
    "                \n",
    "                \n",
    "        while n < N:\n",
    "            node_rank += 1\n",
    "            node_id = node_ids[n]\n",
    "            n += 1\n",
    "            \n",
    "            node_flow = p_nodes[node_id-1,0]\n",
    "            init_file.write(str(partition) + ':' + str(node_rank) + ' ' + str(node_flow))\n",
    "            init_file.write(' ' + '\\\"' + str(node_id) + '\\\"' + ' ' +  str(node_id) + '\\n')\n",
    "            communities[node_id] = partition\n",
    "            \n",
    "    return communities\n"
   ]
  },
  {
   "cell_type": "code",
   "execution_count": 4,
   "metadata": {
    "pycharm": {
     "is_executing": false,
     "name": "#%% generate graph\n"
    }
   },
   "outputs": [],
   "source": [
    "# params\n",
    "workspace_path = './workspace/'\n",
    "filename = 'test'\n"
   ]
  },
  {
   "cell_type": "code",
   "execution_count": 8,
   "metadata": {
    "pycharm": {
     "is_executing": false,
     "name": "#%% ring of cliques\n"
    }
   },
   "outputs": [
    {
     "name": "stdout",
     "text": [
      "AltMap cost is -0.8493709549963584.\nGround Truth L = -0.8493709549963584\n\n"
     ],
     "output_type": "stream"
    }
   ],
   "source": [
    "num_cliques = 2\n",
    "clique_size = 10\n",
    "N = num_cliques * clique_size # num nodes\n",
    "G = nx.ring_of_cliques(num_cliques, clique_size)\n",
    "G = nx.convert_node_labels_to_integers(G, first_label=1)\n",
    "\n",
    "communities = {}\n",
    "for c in range(num_cliques):\n",
    "    for n in range(1, clique_size+1):\n",
    "        communities[c*clique_size + n] = c\n",
    "        \n",
    "cost = altmap_cost(G, communities)\n",
    "print (f'Ground Truth L = {cost}\\n')"
   ]
  },
  {
   "cell_type": "code",
   "execution_count": 12,
   "outputs": [
    {
     "name": "stdout",
     "text": [
      "{1: 1, 2: 1, 3: 1, 4: 1, 5: 1, 6: 1, 7: 1, 8: 1, 9: 1, 10: 1, 11: 2, 12: 2, 13: 2, 14: 2, 15: 2, 16: 2, 17: 2, 18: 2, 19: 2, 20: 2}\nAltMap cost is -0.9130372427733722.\nGround Truth Cost L = -0.9130372427733722\n\n"
     ],
     "output_type": "stream"
    },
    {
     "traceback": [
      "\u001b[0;31m---------------------------------------------------------------------------\u001b[0m",
      "\u001b[0;31mNameError\u001b[0m                                 Traceback (most recent call last)",
      "\u001b[0;32m<ipython-input-12-5bc027afca5e>\u001b[0m in \u001b[0;36m<module>\u001b[0;34m()\u001b[0m\n\u001b[1;32m     20\u001b[0m \u001b[0;31m# 2 mixed cliques\u001b[0m\u001b[0;34m\u001b[0m\u001b[0;34m\u001b[0m\u001b[0;34m\u001b[0m\u001b[0m\n\u001b[1;32m     21\u001b[0m \u001b[0mcommunities\u001b[0m \u001b[0;34m=\u001b[0m \u001b[0;34m{\u001b[0m\u001b[0;34m}\u001b[0m\u001b[0;34m\u001b[0m\u001b[0;34m\u001b[0m\u001b[0m\n\u001b[0;32m---> 22\u001b[0;31m \u001b[0;32mfor\u001b[0m \u001b[0mn\u001b[0m \u001b[0;32min\u001b[0m \u001b[0mrange\u001b[0m\u001b[0;34m(\u001b[0m\u001b[0;36m1\u001b[0m\u001b[0;34m,\u001b[0m \u001b[0mint\u001b[0m\u001b[0;34m(\u001b[0m\u001b[0mclique_size\u001b[0m\u001b[0;34m/\u001b[0m\u001b[0;36m2\u001b[0m\u001b[0;34m)\u001b[0m\u001b[0;34m+\u001b[0m\u001b[0;36m1\u001b[0m \u001b[0;34m)\u001b[0m\u001b[0;34m:\u001b[0m\u001b[0;34m\u001b[0m\u001b[0;34m\u001b[0m\u001b[0m\n\u001b[0m\u001b[1;32m     23\u001b[0m     \u001b[0mcommunities\u001b[0m\u001b[0;34m[\u001b[0m\u001b[0mn\u001b[0m\u001b[0;34m]\u001b[0m \u001b[0;34m=\u001b[0m \u001b[0;36m1\u001b[0m\u001b[0;34m\u001b[0m\u001b[0;34m\u001b[0m\u001b[0m\n\u001b[1;32m     24\u001b[0m \u001b[0;34m\u001b[0m\u001b[0m\n",
      "\u001b[0;31mNameError\u001b[0m: name 'clique_size' is not defined"
     ],
     "ename": "NameError",
     "evalue": "name 'clique_size' is not defined",
     "output_type": "error"
    }
   ],
   "source": [
    "nodes_graph1 = 10\n",
    "nodes_connection = 0\n",
    "N = 2 * nodes_graph1 + nodes_connection # num nodes\n",
    "G = nx.barbell_graph(nodes_graph1, nodes_connection)\n",
    "G = nx.convert_node_labels_to_integers(G, first_label=1)\n",
    "\n",
    "# ground truth\n",
    "communities = {}\n",
    "for n in range(1, nodes_graph1+1 ):\n",
    "    communities[n] = 1\n",
    "    \n",
    "for n in range(nodes_graph1+1, 2*nodes_graph1+1 ):\n",
    "    communities[n] = 2\n",
    "\n",
    "print (communities)\n",
    "cost = altmap_cost(G, communities)\n",
    "print (f'Ground Truth Cost L = {cost}\\n')\n",
    "\n",
    "# 2 mixed cliques\n",
    "communities = {}\n",
    "for n in range(1, int(clique_size/2)+1 ):\n",
    "    communities[n] = 1\n",
    "\n",
    "for n in range(clique_size + 1, clique_size + int(clique_size/2)+1 ):\n",
    "    communities[n] = 1\n",
    "    \n",
    "for n in range(int(clique_size/2) + 1, clique_size + 1 ):\n",
    "    communities[n] = 2\n",
    "    \n",
    "for n in range(clique_size + int(clique_size/2) + 1, 2*clique_size + 1 ):\n",
    "    communities[n] = 2\n",
    "\n",
    "print (communities)\n",
    "cost = altmap_cost(G, communities)\n",
    "print (f'Mixed Communities Cost L = {cost}\\n')\n",
    "\n",
    "# 4 mixed cliques\n",
    "communities = {}\n",
    "for n in range(1, int(clique_size/2)+1 ):\n",
    "    communities[n] = 1\n",
    "    \n",
    "for n in range(int(clique_size/2) + 1, clique_size + 1 ):\n",
    "    communities[n] = 2\n",
    "\n",
    "for n in range(clique_size + 1, clique_size + int(clique_size/2)+1 ):\n",
    "    communities[n] = 3\n",
    "    \n",
    "for n in range(clique_size + int(clique_size/2) + 1, 2*clique_size + 1 ):\n",
    "    communities[n] = 4\n",
    "\n",
    "print (communities)\n",
    "cost = altmap_cost(G, communities)\n",
    "print (f'Four Mixed Communities Cost L = {cost}\\n')"
   ],
   "metadata": {
    "collapsed": false,
    "pycharm": {
     "name": "#%% barbell network experiment\n",
     "is_executing": false
    }
   }
  },
  {
   "cell_type": "code",
   "execution_count": 8,
   "metadata": {
    "pycharm": {
     "is_executing": false,
     "name": "#%% barbell network\n"
    }
   },
   "outputs": [
    {
     "traceback": [
      "\u001b[0;31m---------------------------------------------------------------------------\u001b[0m",
      "\u001b[0;31mKeyError\u001b[0m                                  Traceback (most recent call last)",
      "\u001b[0;32m<ipython-input-8-e47fba006112>\u001b[0m in \u001b[0;36m<module>\u001b[0;34m()\u001b[0m\n\u001b[1;32m     13\u001b[0m \u001b[0mcommunities\u001b[0m\u001b[0;34m[\u001b[0m\u001b[0;36m5\u001b[0m\u001b[0;34m]\u001b[0m \u001b[0;34m=\u001b[0m \u001b[0;36m5\u001b[0m\u001b[0;34m\u001b[0m\u001b[0;34m\u001b[0m\u001b[0m\n\u001b[1;32m     14\u001b[0m \u001b[0mcommunities\u001b[0m\u001b[0;34m[\u001b[0m\u001b[0;36m6\u001b[0m\u001b[0;34m]\u001b[0m \u001b[0;34m=\u001b[0m \u001b[0;36m6\u001b[0m\u001b[0;34m\u001b[0m\u001b[0;34m\u001b[0m\u001b[0m\n\u001b[0;32m---> 15\u001b[0;31m \u001b[0minitial_cost\u001b[0m \u001b[0;34m=\u001b[0m \u001b[0maltmap_cost\u001b[0m\u001b[0;34m(\u001b[0m\u001b[0mG\u001b[0m\u001b[0;34m,\u001b[0m \u001b[0mcommunities\u001b[0m\u001b[0;34m)\u001b[0m\u001b[0;34m\u001b[0m\u001b[0;34m\u001b[0m\u001b[0m\n\u001b[0m\u001b[1;32m     16\u001b[0m \u001b[0mprint\u001b[0m \u001b[0;34m(\u001b[0m\u001b[0;34mf'Initial cost  = {initial_cost}\\n'\u001b[0m\u001b[0;34m)\u001b[0m\u001b[0;34m\u001b[0m\u001b[0;34m\u001b[0m\u001b[0m\n\u001b[1;32m     17\u001b[0m \u001b[0;31m#---\u001b[0m\u001b[0;34m\u001b[0m\u001b[0;34m\u001b[0m\u001b[0;34m\u001b[0m\u001b[0m\n",
      "\u001b[0;32m<ipython-input-3-d827cee6b9bd>\u001b[0m in \u001b[0;36maltmap_cost\u001b[0;34m(G, communities)\u001b[0m\n\u001b[1;32m     27\u001b[0m             \u001b[0mbeta\u001b[0m \u001b[0;34m=\u001b[0m \u001b[0mneighbor\u001b[0m \u001b[0;34m-\u001b[0m \u001b[0;36m1\u001b[0m\u001b[0;34m\u001b[0m\u001b[0;34m\u001b[0m\u001b[0m\n\u001b[1;32m     28\u001b[0m             \u001b[0mH_x\u001b[0m \u001b[0;34m+=\u001b[0m \u001b[0mp_nodes\u001b[0m\u001b[0;34m[\u001b[0m\u001b[0malpha\u001b[0m\u001b[0;34m]\u001b[0m \u001b[0;34m*\u001b[0m \u001b[0mplogp\u001b[0m\u001b[0;34m(\u001b[0m\u001b[0mp_node_transitions\u001b[0m\u001b[0;34m[\u001b[0m\u001b[0mbeta\u001b[0m\u001b[0;34m,\u001b[0m\u001b[0malpha\u001b[0m\u001b[0;34m]\u001b[0m\u001b[0;34m)\u001b[0m\u001b[0;34m\u001b[0m\u001b[0;34m\u001b[0m\u001b[0m\n\u001b[0;32m---> 29\u001b[0;31m             \u001b[0;32mif\u001b[0m \u001b[0mcommunities\u001b[0m\u001b[0;34m[\u001b[0m\u001b[0mnode\u001b[0m\u001b[0;34m]\u001b[0m \u001b[0;34m==\u001b[0m \u001b[0mcommunities\u001b[0m\u001b[0;34m[\u001b[0m\u001b[0mneighbor\u001b[0m\u001b[0;34m]\u001b[0m\u001b[0;34m:\u001b[0m\u001b[0;34m\u001b[0m\u001b[0;34m\u001b[0m\u001b[0m\n\u001b[0m\u001b[1;32m     30\u001b[0m                 \u001b[0mp_comm_stay\u001b[0m\u001b[0;34m[\u001b[0m\u001b[0mcomm_idx\u001b[0m\u001b[0;34m]\u001b[0m \u001b[0;34m+=\u001b[0m \u001b[0mp_nodes\u001b[0m\u001b[0;34m[\u001b[0m\u001b[0malpha\u001b[0m\u001b[0;34m]\u001b[0m \u001b[0;34m*\u001b[0m \u001b[0mp_node_transitions\u001b[0m\u001b[0;34m[\u001b[0m\u001b[0mbeta\u001b[0m\u001b[0;34m,\u001b[0m\u001b[0malpha\u001b[0m\u001b[0;34m]\u001b[0m\u001b[0;34m\u001b[0m\u001b[0;34m\u001b[0m\u001b[0m\n\u001b[1;32m     31\u001b[0m \u001b[0;34m\u001b[0m\u001b[0m\n",
      "\u001b[0;31mKeyError\u001b[0m: 7"
     ],
     "ename": "KeyError",
     "evalue": "7",
     "output_type": "error"
    }
   ],
   "source": [
    "nodes_graph1 = 10\n",
    "nodes_connection = 0\n",
    "N = 2 * nodes_graph1 + nodes_connection # num nodes\n",
    "G = nx.barbell_graph(nodes_graph1, nodes_connection)\n",
    "G = nx.convert_node_labels_to_integers(G, first_label=1)\n",
    "\n",
    "communities = {}\n",
    "communities[1] = 1\n",
    "communities[2] = 2\n",
    "communities[3] = 3\n",
    "communities[4] = 4\n",
    "communities[5] = 5\n",
    "communities[6] = 6  \n",
    "initial_cost = altmap_cost(G, communities)\n",
    "print (f'Initial cost  = {initial_cost}\\n')\n",
    "#---\n",
    "communities[1] = 3\n",
    "communities[2] = 1\n",
    "communities[3] = 3\n",
    "communities[4] = 2\n",
    "communities[5] = 4\n",
    "communities[6] = 5\n",
    "cost = altmap_cost(G, communities)\n",
    "print (f'(1-3) delta L = {cost - initial_cost}\\n')\n",
    "\n",
    "communities[1] = 1\n",
    "communities[2] = 3\n",
    "communities[3] = 3\n",
    "communities[4] = 2\n",
    "communities[5] = 4\n",
    "communities[6] = 5\n",
    "cost = altmap_cost(G, communities)\n",
    "print (f'(2-3) delta L = {cost - initial_cost}\\n')\n",
    "\n",
    "communities[1] = 1\n",
    "communities[2] = 2\n",
    "communities[3] = 3\n",
    "communities[4] = 3\n",
    "communities[5] = 4\n",
    "communities[6] = 5\n",
    "cost = altmap_cost(G, communities)\n",
    "print (f'(3-4) delta L = {cost - initial_cost}\\n')\n",
    "\n",
    "communities[1] = 1\n",
    "communities[2] = 2\n",
    "communities[3] = 3\n",
    "communities[4] = 4\n",
    "communities[5] = 3\n",
    "communities[6] = 5\n",
    "cost = altmap_cost(G, communities)\n",
    "print (f'(3-5) delta L = {cost - initial_cost}\\n')\n",
    "\n",
    "communities[1] = 1\n",
    "communities[2] = 2\n",
    "communities[3] = 3\n",
    "communities[4] = 4\n",
    "communities[5] = 5\n",
    "communities[6] = 3\n",
    "cost = altmap_cost(G, communities)\n",
    "print (f'(3-6) delta L = {cost - initial_cost}\\n')\n",
    "\n",
    "communities[1] = 1\n",
    "communities[2] = 2\n",
    "communities[3] = 3\n",
    "communities[4] = 4\n",
    "communities[5] = 5\n",
    "communities[6] = 5\n",
    "cost = altmap_cost(G, communities)\n",
    "print (f'(3-6) delta L = {cost - initial_cost}\\n')\n",
    "\n",
    "communities[1] = 1\n",
    "communities[2] = 2\n",
    "communities[3] = 3\n",
    "communities[4] = 4\n",
    "communities[5] = 5\n",
    "communities[6] = 4\n",
    "cost = altmap_cost(G, communities)\n",
    "print (f'(3-6) delta L = {cost - initial_cost}\\n')\n",
    "\n",
    "#-----\n",
    "print ('Best partition:')\n",
    "communities[1] = 1\n",
    "communities[2] = 1\n",
    "communities[3] = 1\n",
    "communities[4] = 2\n",
    "communities[5] = 2\n",
    "communities[6] = 2\n",
    "cost = altmap_cost(G, communities)\n",
    "print (f'(1-2) delta L = {cost - initial_cost}\\n')\n",
    "\n",
    "communities[1] = 1\n",
    "communities[2] = 1\n",
    "communities[3] = 1\n",
    "communities[4] = 1\n",
    "communities[5] = 2\n",
    "communities[6] = 2\n",
    "cost = altmap_cost(G, communities)\n",
    "print (f'(1-4) delta L = {cost - initial_cost}\\n')\n",
    "\n",
    "communities[1] = 1\n",
    "communities[2] = 1\n",
    "communities[3] = 1\n",
    "communities[4] = 2\n",
    "communities[5] = 1\n",
    "communities[6] = 2\n",
    "cost = altmap_cost(G, communities)\n",
    "print (f'(1-5) delta L = {cost - initial_cost}\\n')\n",
    "\n",
    "communities[1] = 1\n",
    "communities[2] = 1\n",
    "communities[3] = 1\n",
    "communities[4] = 2\n",
    "communities[5] = 2\n",
    "communities[6] = 1\n",
    "cost = altmap_cost(G, communities)\n",
    "print (f'(1-6) delta L = {cost - initial_cost}\\n')\n"
   ]
  },
  {
   "cell_type": "code",
   "execution_count": 55,
   "metadata": {
    "pycharm": {
     "is_executing": false,
     "name": "#%% Two Rings\n"
    }
   },
   "outputs": [
    {
     "name": "stdout",
     "text": [
      "{1: 1, 2: 1, 3: 1, 4: 1, 5: 1, 6: 1, 7: 1, 8: 1, 9: 1, 10: 1, 11: 1, 12: 1, 13: 1, 14: 1, 15: 1, 16: 1, 17: 1, 18: 1, 19: 1, 20: 1, 21: 2, 22: 2, 23: 2, 24: 2, 25: 2, 26: 2, 27: 2, 28: 2, 29: 2, 30: 2, 31: 2, 32: 2, 33: 2, 34: 2, 35: 2, 36: 2, 37: 2, 38: 2, 39: 2, 40: 2}\nAltMap cost is -0.8412673009000788.\nGround Truth Cost L = -0.8412673009000788\n\n{1: 1, 2: 1, 3: 1, 4: 1, 5: 1, 6: 1, 7: 1, 8: 1, 9: 1, 10: 1, 21: 1, 22: 1, 23: 1, 24: 1, 25: 1, 26: 1, 27: 1, 28: 1, 29: 1, 30: 1, 11: 2, 12: 2, 13: 2, 14: 2, 15: 2, 16: 2, 17: 2, 18: 2, 19: 2, 20: 2, 31: 2, 32: 2, 33: 2, 34: 2, 35: 2, 36: 2, 37: 2, 38: 2, 39: 2, 40: 2}\nAltMap cost is -0.4716917484229587.\nMixed Communities Cost L = -0.4716917484229587\n\n{1: 1, 2: 1, 3: 1, 4: 1, 5: 1, 6: 1, 7: 1, 8: 1, 9: 1, 10: 1, 21: 2, 22: 2, 23: 2, 24: 2, 25: 2, 26: 2, 27: 2, 28: 2, 29: 2, 30: 2, 11: 3, 12: 3, 13: 3, 14: 3, 15: 3, 16: 3, 17: 3, 18: 3, 19: 3, 20: 3, 31: 4, 32: 4, 33: 4, 34: 4, 35: 4, 36: 4, 37: 4, 38: 4, 39: 4, 40: 4}\nAltMap cost is -1.28545490767805.\nFour Mixed Communities Cost L = -1.28545490767805\n\n{2: 1, 1: 2, 4: 1, 3: 2, 6: 1, 5: 2, 8: 1, 7: 2, 10: 1, 9: 2, 12: 1, 11: 2, 14: 1, 13: 2, 16: 1, 15: 2, 18: 1, 17: 2, 20: 1, 19: 2, 22: 1, 21: 2, 24: 1, 23: 2, 26: 1, 25: 2, 28: 1, 27: 2, 30: 1, 29: 2, 32: 1, 31: 2, 34: 1, 33: 2, 36: 1, 35: 2, 38: 1, 37: 2, 40: 1, 39: 2}\nAltMap cost is -0.9999999999999997.\nTwo Alternating Communities Cost L = -0.9999999999999997\n\n"
     ],
     "output_type": "stream"
    }
   ],
   "source": [
    "N = 40 # num nodes\n",
    "G = nx.MultiGraph()\n",
    "G.add_nodes_from(range(1, N+1))\n",
    "\n",
    "for n in range(1,N):\n",
    "    G.add_edge(n, n+1, weight=1)\n",
    "\n",
    "G.add_edge(1, int(N/2), weight=1)\n",
    "G.add_edge(int(N/2) + 1, N, weight=1)\n",
    "\n",
    "# ground truth\n",
    "communities = {}\n",
    "for n in range(1, int(N / 2)+1 ):\n",
    "    communities[n] = 1\n",
    "    \n",
    "for n in range(int(N / 2)+1, N+1 ):\n",
    "    communities[n] = 2\n",
    "\n",
    "print (communities)\n",
    "cost = altmap_cost(G, communities)\n",
    "print (f'Ground Truth Cost L = {cost}\\n')\n",
    "\n",
    "# 2 mixed cliques\n",
    "communities = {}\n",
    "for n in range(1, int(N / 4)+1 ):\n",
    "    communities[n] = 1\n",
    "\n",
    "for n in range(int(N / 2) + 1, int(N / 2) + int(N / 4) + 1 ):\n",
    "    communities[n] = 1\n",
    "    \n",
    "for n in range(int(N / 4)+1, int(N / 2) + 1 ):\n",
    "    communities[n] = 2\n",
    "    \n",
    "for n in range(int(N / 2) + int(N / 4) + 1, N + 1 ):\n",
    "    communities[n] = 2\n",
    "\n",
    "print (communities)\n",
    "cost = altmap_cost(G, communities)\n",
    "print (f'Mixed Communities Cost L = {cost}\\n')\n",
    "\n",
    "# 4 mixed cliques\n",
    "communities = {}\n",
    "for n in range(1, int(N / 4)+1 ):\n",
    "    communities[n] = 1\n",
    "\n",
    "for n in range(int(N / 2) + 1, int(N / 2) + int(N / 4) + 1 ):\n",
    "    communities[n] = 2\n",
    "    \n",
    "for n in range(int(N / 4)+1, int(N / 2) + 1 ):\n",
    "    communities[n] = 3\n",
    "    \n",
    "for n in range(int(N / 2) + int(N / 4) + 1, N + 1 ):\n",
    "    communities[n] = 4\n",
    "\n",
    "print (communities)\n",
    "cost = altmap_cost(G, communities)\n",
    "print (f'Four Mixed Communities Cost L = {cost}\\n')\n",
    "\n",
    "# 2 alternating communities\n",
    "communities = {}\n",
    "for n in range(1, int(N / 2) + 1):\n",
    "    communities[2*n] = 1\n",
    "    communities[2*n - 1] = 2\n",
    "\n",
    "\n",
    "print (communities)\n",
    "cost = altmap_cost(G, communities)\n",
    "print (f'Two Alternating Communities Cost L = {cost}\\n')"
   ]
  },
  {
   "cell_type": "code",
   "execution_count": 63,
   "outputs": [
    {
     "name": "stdout",
     "text": [
      "{1: 1, 2: 1, 3: 1, 4: 1, 5: 1, 6: 1, 7: 1, 8: 1, 9: 1, 10: 1, 11: 1, 12: 1, 13: 1, 14: 1, 15: 1, 16: 1, 17: 1, 18: 1, 19: 1, 20: 1, 21: 1, 22: 1, 23: 1, 24: 1, 25: 1, 26: 1, 27: 1, 28: 1, 29: 1, 30: 1, 31: 2, 32: 2, 33: 2, 34: 2, 35: 2, 36: 2, 37: 2, 38: 2, 39: 2, 40: 2, 41: 2, 42: 2, 43: 2, 44: 2, 45: 2}\nAltMap cost is -0.7911272499706904.\nGround Truth 2 communities L = -0.7911272499706904\nAnalytical: -0.9192068641040888\n\n{1: 1, 2: 2, 3: 3, 4: 4, 5: 5, 6: 6, 7: 7, 8: 8, 9: 9, 10: 10, 11: 11, 12: 12, 13: 13, 14: 14, 15: 15, 16: 16, 17: 17, 18: 18, 19: 19, 20: 20, 21: 21, 22: 22, 23: 23, 24: 24, 25: 25, 26: 26, 27: 27, 28: 28, 29: 29, 30: 30, 31: 31, 32: 32, 33: 33, 34: 34, 35: 35, 36: 36, 37: 37, 38: 38, 39: 39, 40: 40, 41: 41, 42: 42, 43: 43, 44: 44, 45: 45}\nAltMap cost is -0.03271301250772696.\nGround Truth each node L = -0.03271301250772696\nAnalytical: -0.03242147769237743\n\n"
     ],
     "output_type": "stream"
    }
   ],
   "source": [
    "epsilon = 0.01\n",
    "N1 = 30\n",
    "N2 = 15\n",
    "N = N1 + N2\n",
    "p_self = (1.0 - epsilon) / (N/2 - 1)\n",
    "p_ext = 2.0 *  epsilon / N\n",
    "\n",
    "# generate graph\n",
    "G = nx.MultiGraph()\n",
    "G.add_nodes_from(range(1, N+1))\n",
    "for n1 in range(1, N1+1):\n",
    "    for i in range(n1 + 1, N1+1):\n",
    "        G.add_edge(n1, i, weight=p_self)\n",
    "    \n",
    "    for n2 in range(N1+1, N1+N2+1):\n",
    "        G.add_edge(n1, n2, weight=p_ext)\n",
    "\n",
    "for n2 in range(N1+1, N1+N2+1):\n",
    "    for i in range(n2 + 1, N1+N2+1):\n",
    "        G.add_edge(n2, i, weight=p_self)\n",
    "\n",
    "# 2 communities\n",
    "communities = {}\n",
    "i = 1\n",
    "for c, n in enumerate([N1, N2]):\n",
    "    for a in range(1, n+1):\n",
    "        communities[i] =  c + 1\n",
    "        i = i + 1\n",
    "        \n",
    "print (communities)\n",
    "cost = altmap_cost(G, communities)\n",
    "print (f'Ground Truth 2 communities L = {cost}')\n",
    "print (f'Analytical: {-1.0 - plogp(1.0-epsilon) - plogp(epsilon)}\\n')\n",
    "\n",
    "# each node a community\n",
    "communities = {}\n",
    "for n in range(1, N + 1):\n",
    "        communities[n] = n\n",
    "        \n",
    "print (communities)\n",
    "cost = altmap_cost(G, communities)\n",
    "print (f'Ground Truth each node L = {cost}')\n",
    "print (f'Analytical: {-np.log2(N/(N - 1))}\\n')\n",
    "                "
   ],
   "metadata": {
    "collapsed": false,
    "pycharm": {
     "name": "#%% SBM\n",
     "is_executing": false
    }
   }
  },
  {
   "cell_type": "code",
   "execution_count": 100,
   "metadata": {
    "pycharm": {
     "is_executing": false,
     "name": "#%% find communities\n"
    }
   },
   "outputs": [
    {
     "name": "stdout",
     "text": [
      "{23: 1, 24: 1, 25: 1, 26: 1, 27: 1, 28: 1, 20: 2, 16: 2, 17: 2, 18: 2, 19: 2, 1: 3, 2: 3, 3: 3, 4: 3, 5: 3, 6: 4, 7: 4, 8: 4, 9: 4, 10: 4, 11: 5, 12: 5, 13: 5, 14: 5, 15: 5, 29: 6, 30: 6, 31: 6, 32: 6, 33: 6, 34: 7, 35: 7, 36: 7, 37: 7, 38: 7, 21: 8, 22: 8, 39: 8, 40: 8}\nWe found 8 communities.\n",
      "AltMap cost is -1.6318967055818243.\n"
     ],
     "output_type": "stream"
    },
    {
     "name": "stderr",
     "text": [
      "/home/chri/anaconda3/lib/python3.6/site-packages/networkx/readwrite/pajek.py:77: UserWarning: Node attribute community is not processed. Non-string attribute.\n  'Non-string attribute'))\n"
     ],
     "output_type": "stream"
    },
    {
     "data": {
      "text/plain": "-1.6318967055818243"
     },
     "metadata": {},
     "output_type": "execute_result",
     "execution_count": 100
    }
   ],
   "source": [
    "nx.write_pajek(G, workspace_path +  filename + '.net')\n",
    "infomap(workspace_path +  filename + '.net', altmap=False)\n",
    "# infomap(workspace_path +  filename + '.net', altmap=True)\n",
    "# communities = create_initfile(G, randomized=True)\n",
    "# altmap_cost(G, communities)\n",
    "# infomap(workspace_path +  filename + '.net', altmap=True, additional_args=' --cluster-data ./workspace/init.tree')\n",
    "\n",
    "# read results and generate networkx graph\n",
    "\n",
    "#G = nx.read_pajek(net_path)\n",
    "df = read_tree(workspace_path +  filename + '.tree')\n",
    "\n",
    "\n",
    "communities = {}\n",
    "for index, row in df.iterrows():\n",
    "    node = int(row['node'])\n",
    "    communities[node] = int(row['community'])\n",
    "\n",
    "nx.set_node_attributes(G, name='community', values=communities) # seems to be faulty!!\n",
    "#print (nx.get_node_attributes(G, name='community'))\n",
    "\n",
    "print (communities)\n",
    "num_communities = max(communities.values()) - min(communities.values()) + 1\n",
    "print (f'We found {num_communities} communities.')\n",
    "\n",
    "\n",
    "# print network\n",
    "\n",
    "plt.close('all')\n",
    "plt.figure()\n",
    "ordered_communities = OrderedDict(sorted(communities.items()))\n",
    "drawNetwork(G, ordered_communities)\n",
    "\n",
    "altmap_cost(G, communities)"
   ]
  }
 ],
 "metadata": {
  "kernelspec": {
   "display_name": "Python 3",
   "language": "python",
   "name": "python3"
  },
  "language_info": {
   "codemirror_mode": {
    "name": "ipython",
    "version": 3
   },
   "file_extension": ".py",
   "mimetype": "text/x-python",
   "name": "python",
   "nbconvert_exporter": "python",
   "pygments_lexer": "ipython3",
   "version": "3.6.8"
  },
  "pycharm": {
   "stem_cell": {
    "cell_type": "raw",
    "source": [],
    "metadata": {
     "collapsed": false
    }
   }
  }
 },
 "nbformat": 4,
 "nbformat_minor": 1
}