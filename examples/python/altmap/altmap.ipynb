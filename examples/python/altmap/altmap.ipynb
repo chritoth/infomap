{
 "cells": [
  {
   "cell_type": "markdown",
   "metadata": {},
   "source": [
    "## Infomap + NetworkX\n",
    "Generate and draw a network with NetworkX, colored\n",
    "according to the community structure found by Infomap.\n"
   ]
  },
  {
   "cell_type": "code",
   "execution_count": 1,
   "outputs": [
    {
     "name": "stdout",
     "text": [
      "Using matplotlib backend: Qt5Agg\nPopulating the interactive namespace from numpy and matplotlib\n"
     ],
     "output_type": "stream"
    }
   ],
   "source": [
    "import networkx as nx\n",
    "import matplotlib.pyplot as plt\n",
    "import numpy as np\n",
    "import os\n",
    "import pandas as pd\n",
    "%pylab\n",
    "\n"
   ],
   "metadata": {
    "collapsed": false,
    "pycharm": {
     "name": "#%%\n",
     "is_executing": false
    }
   }
  },
  {
   "cell_type": "code",
   "execution_count": 20,
   "outputs": [],
   "source": [
    "infomap_path = '~/infomap/Infomap'\n",
    "\n",
    "def infomap(net_path, altmap=False):\n",
    "    out_path = './output/'\n",
    "    args = '-2 -u -vvv'\n",
    "    if altmap:\n",
    "        args += ' --altmap'\n",
    "        \n",
    "    os.system(infomap_path + ' ' + net_path + ' ' + out_path + ' ' + args)\n",
    "\n",
    "def read_tree(tree_path):    \n",
    "    df = pd.read_csv(tree_path, sep=' ', header = 1)\n",
    "    df.columns = ['community', 'flow', 'name', 'node', 'trash']\n",
    "    df = df.drop(['flow', 'trash'], axis=1)\n",
    "    \n",
    "    for i, path in enumerate(df['community']):\n",
    "        df.iloc[i,0] = path[0]\n",
    "        \n",
    "    return df\n",
    "\n",
    "def plogq(p, q):\n",
    "    if q < 1e-18:\n",
    "        print (f'Unexpected zero operand in plogq: p={p}, q={q}\\n.')\n",
    "        return 0.0\n",
    "    \n",
    "    return p*np.log2(q)\n",
    "\n",
    "def plogp(p):\n",
    "    if p < 1e-18:\n",
    "        return 0.0\n",
    "    \n",
    "    return p*np.log2(p)\n",
    "\n",
    "def drawNetwork(G, communities):\n",
    "    # position map\n",
    "    pos = nx.spring_layout(G)\n",
    "    # community ids\n",
    "    #communities = [v for k,v in nx.get_node_attributes(G, 'community').items()]\n",
    "    communities = [v for v in communities.values()]\n",
    "    print (len(communities))\n",
    "    print (len(G.nodes))\n",
    "    # Draw edges\n",
    "    nx.draw_networkx_edges(G, pos)\n",
    "\n",
    "    # Draw nodes\n",
    "    nodeCollection = nx.draw_networkx_nodes(G,\n",
    "        pos = pos,\n",
    "        node_color = communities,\n",
    "        cmap = plt.get_cmap('Set3') \n",
    "    )\n",
    "\n",
    "    # Draw node labels\n",
    "    for n in G.nodes():\n",
    "        plt.annotate(n,\n",
    "            xy = pos[n],\n",
    "            textcoords = 'offset points',\n",
    "            horizontalalignment = 'center',\n",
    "            verticalalignment = 'center',\n",
    "            xytext = [0, 0],\n",
    "            color = 'k'\n",
    "        )\n",
    "\n",
    "    plt.axis('off')\n",
    "    plt.show()\n"
   ],
   "metadata": {
    "collapsed": false,
    "pycharm": {
     "name": "#%% infomap wrappers\n",
     "is_executing": false
    }
   }
  },
  {
   "cell_type": "code",
   "execution_count": 11,
   "outputs": [],
   "source": [
    "\n",
    "# params\n",
    "out_path = './output/'\n",
    "filename = 'test'\n"
   ],
   "metadata": {
    "collapsed": false,
    "pycharm": {
     "name": "#%% generate graph\n",
     "is_executing": false
    }
   }
  },
  {
   "cell_type": "code",
   "execution_count": 72,
   "outputs": [],
   "source": [
    "num_cliques = 3\n",
    "clique_size = 10\n",
    "N = num_cliques * clique_size # num nodes\n",
    "G = nx.ring_of_cliques(num_cliques, clique_size)\n",
    "G = nx.convert_node_labels_to_integers(G, first_label=1)\n"
   ],
   "metadata": {
    "collapsed": false,
    "pycharm": {
     "name": "#%% ring of cliques\n",
     "is_executing": false
    }
   }
  },
  {
   "cell_type": "code",
   "execution_count": 76,
   "outputs": [
    {
     "data": {
      "text/plain": "0"
     },
     "metadata": {},
     "output_type": "execute_result",
     "execution_count": 76
    }
   ],
   "source": [
    "N = 20 # num nodes\n",
    "G = nx.MultiGraph()\n",
    "G.add_nodes_from(range(1, N+1))\n",
    "\n",
    "for n in range(1,N):\n",
    "    G.add_edge(n, n+1, weight=1)\n",
    "\n",
    "G.add_edge(1, int(N/2), weight=1)\n",
    "G.add_edge(int(N/2) + 1, N, weight=1)\n",
    "\n"
   ],
   "metadata": {
    "collapsed": false,
    "pycharm": {
     "name": "#%% Two Rings\n",
     "is_executing": false
    }
   }
  },
  {
   "cell_type": "code",
   "execution_count": 81,
   "outputs": [
    {
     "name": "stderr",
     "text": [
      "/home/chri/anaconda3/lib/python3.6/site-packages/networkx/readwrite/pajek.py:77: UserWarning: Node attribute community is not processed. Non-string attribute.\n  'Non-string attribute'))\n"
     ],
     "output_type": "stream"
    }
   ],
   "source": [
    "\n",
    "nx.write_pajek(G, out_path +  filename + '.net')\n",
    "infomap(out_path +  filename + '.net', altmap=True)\n",
    "\n"
   ],
   "metadata": {
    "collapsed": false,
    "pycharm": {
     "name": "#%% find communities\n",
     "is_executing": false
    }
   }
  },
  {
   "cell_type": "code",
   "execution_count": 83,
   "outputs": [
    {
     "name": "stdout",
     "text": [
      "{11: 1, 20: 1, 12: 1, 13: 1, 14: 1, 15: 1, 3: 2, 4: 2, 5: 2, 6: 2, 7: 2, 8: 2, 10: 3, 1: 3, 2: 3, 9: 3, 16: 4, 17: 4, 18: 4, 19: 4}\nWe found 4 communities.\n20\n20\n"
     ],
     "output_type": "stream"
    },
    {
     "data": {
      "text/plain": "<Figure size 432x288 with 1 Axes>",
      "image/png": "[encoded data removed]"
     },
     "metadata": {},
     "output_type": "display_data"
    }
   ],
   "source": [
    "\n",
    "#G = nx.read_pajek(net_path)\n",
    "df = read_tree(out_path +  filename + '.tree')\n",
    "\n",
    "\n",
    "communities = {}\n",
    "for index, row in df.iterrows():\n",
    "    node = int(row['node'])\n",
    "    communities[node] = int(row['community'])\n",
    "\n",
    "nx.set_node_attributes(G, name='community', values=communities) # seems to be faulty!!\n",
    "#print (nx.get_node_attributes(G, name='community'))\n",
    "\n",
    "print (communities)\n",
    "num_communities = max(communities.values())\n",
    "print (f'We found {num_communities} communities.')\n",
    "\n",
    "\n",
    "# print network\n",
    "plt.close('all')\n",
    "plt.figure()\n",
    "drawNetwork(G, communities)\n",
    "\n"
   ],
   "metadata": {
    "collapsed": false,
    "pycharm": {
     "name": "#%% read results and generate networkx graph\n",
     "is_executing": false
    }
   }
  },
  {
   "cell_type": "code",
   "execution_count": 84,
   "outputs": [
    {
     "name": "stdout",
     "text": [
      "-8.175139784881972\n"
     ],
     "output_type": "stream"
    }
   ],
   "source": [
    "\n",
    "# compute stationary and conditional distribution for the nodes\n",
    "pagerank = nx.pagerank_numpy(G, alpha=0.9)\n",
    "p_nodes = np.array([ val for val in pagerank.values()])\n",
    "\n",
    "p_node_transitions = nx.google_matrix(G, alpha=1.0)\n",
    "\n",
    "\n",
    "# compute stationary and joint distribution for the communities\n",
    "p_comm = np.zeros(num_communities)\n",
    "p_comm_stay = np.zeros(num_communities)\n",
    "for alpha,node in enumerate(G.nodes):\n",
    "    comm_idx = communities[node] - 1\n",
    "    p_comm[comm_idx] += p_nodes[alpha]\n",
    "    \n",
    "    neighbors = nx.all_neighbors(G, node)\n",
    "    for neighbor in neighbors:\n",
    "        beta = neighbor - 1\n",
    "        if communities[node] == communities[neighbor]:\n",
    "            p_comm_stay[comm_idx] += p_nodes[alpha] * p_node_transitions[alpha,beta]\n",
    "\n",
    "# compute altmap cost\n",
    "epsilon = 1e-18 # vicinity threshold for numerical stability\n",
    "\n",
    "cost = 0.0\n",
    "for i in range(num_communities):\n",
    "    \n",
    "    # check for edge cases\n",
    "    if (p_comm_stay[i] < epsilon) or (p_comm_stay[i] + p_comm_stay[i] > 1.0):\n",
    "        continue\n",
    "    \n",
    "    p_comm_leave = 1.0 - p_comm_stay[i]\n",
    "    \n",
    "    cost += plogp(p_comm_stay[i]) - 2.0 * plogq(p_comm_stay[i], p_comm[i])\n",
    "    cost += plogp(p_comm_leave) - plogq(p_comm_leave, p_comm[i] * (1.0 - p_comm[i]))\n",
    "\n",
    "cost = -cost\n",
    "print (cost)"
   ],
   "metadata": {
    "collapsed": false,
    "pycharm": {
     "name": "#%% compute altmap cost\n",
     "is_executing": false
    }
   }
  }
 ],
 "metadata": {
  "kernelspec": {
   "display_name": "Python 3",
   "language": "python",
   "name": "python3"
  },
  "language_info": {
   "codemirror_mode": {
    "name": "ipython",
    "version": 3
   },
   "file_extension": ".py",
   "mimetype": "text/x-python",
   "name": "python",
   "nbconvert_exporter": "python",
   "pygments_lexer": "ipython3",
   "version": "3.6.3"
  },
  "pycharm": {
   "stem_cell": {
    "cell_type": "raw",
    "source": [],
    "metadata": {
     "collapsed": false
    }
   }
  }
 },
 "nbformat": 4,
 "nbformat_minor": 1
}