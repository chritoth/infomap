{
 "cells": [
  {
   "cell_type": "markdown",
   "metadata": {},
   "source": [
    "## Infomap + NetworkX\n",
    "Generate and draw a network with NetworkX, colored\n",
    "according to the community structure found by Infomap.\n"
   ]
  },
  {
   "cell_type": "code",
   "execution_count": 82,
   "metadata": {
    "pycharm": {
     "is_executing": false,
     "name": "#%%\n"
    }
   },
   "outputs": [
    {
     "name": "stdout",
     "text": [
      "Using matplotlib backend: Qt5Agg\nPopulating the interactive namespace from numpy and matplotlib\n"
     ],
     "output_type": "stream"
    }
   ],
   "source": [
    "import networkx as nx\n",
    "import matplotlib.pyplot as plt\n",
    "import numpy as np\n",
    "import os\n",
    "import pandas as pd\n",
    "from collections import OrderedDict\n",
    "%pylab\n"
   ]
  },
  {
   "cell_type": "code",
   "execution_count": 83,
   "metadata": {
    "pycharm": {
     "is_executing": false,
     "name": "#%% infomap wrappers\n"
    }
   },
   "outputs": [],
   "source": [
    "infomap_path = '~/infomap/Infomap'\n",
    "\n",
    "def infomap(net_path, altmap=False):\n",
    "    out_path = './output/'\n",
    "    args = '-2 -u -vvv'\n",
    "    if altmap:\n",
    "        args += ' --altmap --to-nodes -p0.05'\n",
    "        \n",
    "    os.system(infomap_path + ' ' + net_path + ' ' + out_path + ' ' + args)\n",
    "\n",
    "def read_tree(tree_path):    \n",
    "    df = pd.read_csv(tree_path, sep=' ', header = 1)\n",
    "    df.columns = ['community', 'flow', 'name', 'node', 'trash']\n",
    "    df = df.drop(['flow', 'trash'], axis=1)\n",
    "    \n",
    "    for i, path in enumerate(df['community']):\n",
    "        df.iloc[i,0] = path.split(':')[0]\n",
    "        \n",
    "    return df\n",
    "\n",
    "def plogq(p, q):\n",
    "    if q < 1e-18:\n",
    "        print (f'Unexpected zero operand in plogq: p={p}, q={q}\\n.')\n",
    "        return 0.0\n",
    "    \n",
    "    return p*np.log2(q)\n",
    "\n",
    "def plogp(p):\n",
    "    if p < 1e-18:\n",
    "        return 0.0\n",
    "    \n",
    "    return p*np.log2(p)\n",
    "\n",
    "def drawNetwork(G, communities):\n",
    "    # position map\n",
    "    pos = nx.spring_layout(G)\n",
    "    # community ids\n",
    "    communities = [v for v in communities.values()]\n",
    "   \n",
    "    # Draw edges\n",
    "    nx.draw_networkx_edges(G, pos)\n",
    "\n",
    "    # Draw nodes\n",
    "    nodeCollection = nx.draw_networkx_nodes(G,\n",
    "        pos = pos,\n",
    "        node_color = communities,\n",
    "        cmap = plt.get_cmap('Set3') \n",
    "    )\n",
    "\n",
    "    # Draw node labels\n",
    "    for n in G.nodes():\n",
    "        plt.annotate(n,\n",
    "            xy = pos[n],\n",
    "            textcoords = 'offset points',\n",
    "            horizontalalignment = 'center',\n",
    "            verticalalignment = 'center',\n",
    "            xytext = [0, 0],\n",
    "            color = 'k'\n",
    "        )\n",
    "\n",
    "    plt.axis('off')\n",
    "    plt.show()\n"
   ]
  },
  {
   "cell_type": "code",
   "execution_count": 84,
   "metadata": {
    "pycharm": {
     "is_executing": false,
     "name": "#%% compute altmap cost\n"
    }
   },
   "outputs": [],
   "source": [
    "def altmap_cost(G, communities):\n",
    "    # compute stationary and conditional distribution for the nodes\n",
    "    pagerank = nx.pagerank_numpy(G, alpha=0.95)\n",
    "    p_nodes = np.array([ [val] for val in pagerank.values()])\n",
    "    p_node_transitions = nx.google_matrix(G, alpha=1.0).T\n",
    "    \n",
    "    # print (f'Stationary distribution = {p_nodes}')\n",
    "    # print (f'Transition matrix = {p_node_transitions}')\n",
    "    # if we dont trust the page rank results (works for undir networks)\n",
    "    # p_nodes = np.linalg.matrix_power(p_node_transitions, 100000).dot(p_nodes)\n",
    "    # p_nodes /= np.sum(p_nodes)\n",
    "    \n",
    "    # compute stationary and joint distribution for the communities\n",
    "    num_communities = max(communities.values()) - min(communities.values()) + 1\n",
    "    p_comm = np.zeros(num_communities)\n",
    "    p_comm_stay = np.zeros(num_communities)\n",
    "    H_x = 0\n",
    "    H_nodes = 0\n",
    "    for alpha, node in enumerate(G.nodes):\n",
    "        comm_idx = communities[node] - 1\n",
    "        p_comm[comm_idx] += p_nodes[alpha]\n",
    "        H_nodes -= plogp(p_nodes[alpha])\n",
    "        \n",
    "        neighbors = nx.all_neighbors(G, node)\n",
    "        for neighbor in neighbors:\n",
    "            beta = neighbor - 1\n",
    "            H_x += p_nodes[alpha] * plogp(p_node_transitions[beta,alpha])            \n",
    "            if communities[node] == communities[neighbor]:\n",
    "                p_comm_stay[comm_idx] += p_nodes[alpha] * p_node_transitions[beta,alpha]\n",
    "                    \n",
    "    p_comm_leave = p_comm - p_comm_stay\n",
    "    \n",
    "     # compute altmap cost\n",
    "    epsilon = 1e-18 # vicinity threshold for numerical stability\n",
    "    cost_per_module = np.zeros((num_communities,1))\n",
    "    for i in range(num_communities):\n",
    "        \n",
    "        # check for edge cases\n",
    "        if (p_comm[i] <= epsilon) or (p_comm[i] + epsilon >= 1.0):\n",
    "            continue\n",
    "        \n",
    "        cost_per_module[i] -= plogp(p_comm_stay[i])\n",
    "        cost_per_module[i] += 2.0 * plogq(p_comm_stay[i], p_comm[i])\n",
    "        cost_per_module[i] -= plogp(p_comm_leave[i]) \n",
    "        cost_per_module[i] += plogq(p_comm_leave[i], p_comm[i] * (1.0 - p_comm[i]))\n",
    "        #print (f'Cost for module {i+1} is {cost_per_module[i]}.\\n')\n",
    "    \n",
    "    cost = np.sum(cost_per_module)\n",
    "    max_cost = H_x + H_nodes\n",
    "    # print (f'Maximum cost is {max_cost}.\\n')\n",
    "    print (f'AltMap cost is {cost}.')\n",
    "    # print (f'Total cost would be {max_cost + cost}.\\n')\n",
    "    #print (f'Node entropy H(x) =  {H_x}.\\n')\n",
    "    return cost\n",
    "    "
   ]
  },
  {
   "cell_type": "code",
   "execution_count": 85,
   "metadata": {
    "pycharm": {
     "is_executing": false,
     "name": "#%% generate graph\n"
    }
   },
   "outputs": [],
   "source": [
    "\n",
    "# params\n",
    "out_path = './output/'\n",
    "filename = 'test'\n"
   ]
  },
  {
   "cell_type": "code",
   "execution_count": 120,
   "metadata": {
    "pycharm": {
     "is_executing": false,
     "name": "#%% ring of cliques\n"
    }
   },
   "outputs": [
    {
     "name": "stdout",
     "text": [
      "AltMap cost is -1.334991225523328.\nGround Truth L = -1.334991225523328\n\n"
     ],
     "output_type": "stream"
    }
   ],
   "source": [
    "num_cliques = 3\n",
    "clique_size = 8\n",
    "N = num_cliques * clique_size # num nodes\n",
    "G = nx.ring_of_cliques(num_cliques, clique_size)\n",
    "G = nx.convert_node_labels_to_integers(G, first_label=1)\n",
    "\n",
    "communities = {}\n",
    "for c in range(num_cliques):\n",
    "    for n in range(1, clique_size+1):\n",
    "        communities[c*clique_size + n] = c\n",
    "        \n",
    "cost = altmap_cost(G, communities)\n",
    "print (f'Ground Truth L = {cost}\\n')\n"
   ]
  },
  {
   "cell_type": "code",
   "execution_count": 125,
   "metadata": {
    "pycharm": {
     "is_executing": false,
     "name": "#%% barbell network\n"
    }
   },
   "outputs": [
    {
     "name": "stdout",
     "text": [
      "AltMap cost is -0.2750715937227542.\nInitial cost  = -0.2750715937227542\n\nAltMap cost is -0.17197073121878087.\n(1-3) delta L = 0.10310086250397332\n\nAltMap cost is -0.17197073121878087.\n(2-3) delta L = 0.10310086250397332\n\nAltMap cost is -0.13966509926881077.\n(3-4) delta L = 0.13540649445394343\n\nAltMap cost is -0.3959614681818392.\n(3-5) delta L = -0.120889874459085\n\nAltMap cost is -0.3959614681818392.\n(3-6) delta L = -0.120889874459085\n\nAltMap cost is -0.25181271770101543.\n(1-2) delta L = 0.02325887602173876\n\nAltMap cost is -0.3959614681818389.\n(1-4) delta L = -0.12088987445908472\n\nAltMap cost is -0.3514632896157998.\n(1-5) delta L = -0.07639169589304562\n\nAltMap cost is -0.3514632896157998.\n(1-6) delta L = -0.07639169589304562\n\nAltMap cost is -0.41188057085498214.\nGround Truth L = -0.41188057085498214\n\n"
     ],
     "output_type": "stream"
    }
   ],
   "source": [
    "nodes_graph1 = 3\n",
    "nodes_connection = 0\n",
    "N = nodes_graph1 + nodes_connection # num nodes\n",
    "G = nx.barbell_graph(nodes_graph1, nodes_connection)\n",
    "G = nx.convert_node_labels_to_integers(G, first_label=1)\n",
    "\n",
    "communities = {}\n",
    "communities[1] = 0\n",
    "communities[2] = 1\n",
    "communities[3] = 2\n",
    "communities[4] = 3\n",
    "communities[5] = 4\n",
    "communities[6] = 5\n",
    "initial_cost = altmap_cost(G, communities)\n",
    "print (f'Initial cost  = {initial_cost}\\n')\n",
    "#---\n",
    "communities[1] = 3\n",
    "communities[2] = 1\n",
    "communities[3] = 3\n",
    "communities[4] = 2\n",
    "communities[5] = 4\n",
    "communities[6] = 5\n",
    "cost = altmap_cost(G, communities)\n",
    "print (f'(1-3) delta L = {cost - initial_cost}\\n')\n",
    "\n",
    "communities[1] = 1\n",
    "communities[2] = 3\n",
    "communities[3] = 3\n",
    "communities[4] = 2\n",
    "communities[5] = 4\n",
    "communities[6] = 5\n",
    "cost = altmap_cost(G, communities)\n",
    "print (f'(2-3) delta L = {cost - initial_cost}\\n')\n",
    "\n",
    "communities[1] = 1\n",
    "communities[2] = 2\n",
    "communities[3] = 3\n",
    "communities[4] = 3\n",
    "communities[5] = 4\n",
    "communities[6] = 5\n",
    "cost = altmap_cost(G, communities)\n",
    "print (f'(3-4) delta L = {cost - initial_cost}\\n')\n",
    "\n",
    "communities[1] = 1\n",
    "communities[2] = 2\n",
    "communities[3] = 3\n",
    "communities[4] = 4\n",
    "communities[5] = 3\n",
    "communities[6] = 5\n",
    "cost = altmap_cost(G, communities)\n",
    "print (f'(3-5) delta L = {cost - initial_cost}\\n')\n",
    "\n",
    "communities[1] = 1\n",
    "communities[2] = 2\n",
    "communities[3] = 3\n",
    "communities[4] = 4\n",
    "communities[5] = 5\n",
    "communities[6] = 3\n",
    "cost = altmap_cost(G, communities)\n",
    "print (f'(3-6) delta L = {cost - initial_cost}\\n')\n",
    "\n",
    "#-----\n",
    "communities[1] = 1\n",
    "communities[2] = 1\n",
    "communities[3] = 2\n",
    "communities[4] = 3\n",
    "communities[5] = 4\n",
    "communities[6] = 5\n",
    "cost = altmap_cost(G, communities)\n",
    "print (f'(1-2) delta L = {cost - initial_cost}\\n')\n",
    "\n",
    "communities[1] = 1\n",
    "communities[2] = 2\n",
    "communities[3] = 3\n",
    "communities[4] = 1\n",
    "communities[5] = 4\n",
    "communities[6] = 5\n",
    "cost = altmap_cost(G, communities)\n",
    "print (f'(1-4) delta L = {cost - initial_cost}\\n')\n",
    "\n",
    "communities[1] = 1\n",
    "communities[2] = 2\n",
    "communities[3] = 3\n",
    "communities[4] = 4\n",
    "communities[5] = 1\n",
    "communities[6] = 5\n",
    "cost = altmap_cost(G, communities)\n",
    "print (f'(1-5) delta L = {cost - initial_cost}\\n')\n",
    "\n",
    "communities[1] = 1\n",
    "communities[2] = 2\n",
    "communities[3] = 3\n",
    "communities[4] = 4\n",
    "communities[5] = 5\n",
    "communities[6] = 1\n",
    "cost = altmap_cost(G, communities)\n",
    "print (f'(1-6) delta L = {cost - initial_cost}\\n')\n",
    "\n",
    "communities[1] = 1\n",
    "communities[2] = 1\n",
    "communities[3] = 1\n",
    "communities[4] = 2\n",
    "communities[5] = 2\n",
    "communities[6] = 2\n",
    "cost = altmap_cost(G, communities)\n",
    "print (f'Ground Truth L = {cost}\\n')\n"
   ]
  },
  {
   "cell_type": "code",
   "execution_count": 117,
   "metadata": {
    "pycharm": {
     "is_executing": false,
     "name": "#%% Two Rings\n"
    }
   },
   "outputs": [
    {
     "name": "stdout",
     "text": [
      "AltMap cost is -0.7307886207689032.\nGround Truth L = -0.7307886207689032\n\n"
     ],
     "output_type": "stream"
    }
   ],
   "source": [
    "N = 20 # num nodes\n",
    "G = nx.MultiGraph()\n",
    "G.add_nodes_from(range(1, N+1))\n",
    "\n",
    "for n in range(1,N):\n",
    "    G.add_edge(n, n+1, weight=1)\n",
    "\n",
    "G.add_edge(1, int(N/2), weight=1)\n",
    "G.add_edge(int(N/2) + 1, N, weight=1)\n",
    "\n",
    "communities = {}\n",
    "for n in range(1, int(N / 2) + 1):\n",
    "    communities[n] = 0\n",
    "    \n",
    "for n in range(int(N / 2) + 1, N+1):\n",
    "    communities[n] = 1\n",
    "    \n",
    "cost = altmap_cost(G, communities)\n",
    "print (f'Ground Truth L = {cost}\\n')\n",
    "\n"
   ]
  },
  {
   "cell_type": "code",
   "execution_count": 131,
   "metadata": {
    "pycharm": {
     "is_executing": false,
     "name": "#%% find communities\n"
    }
   },
   "outputs": [],
   "source": [
    "\n",
    "nx.write_pajek(G, out_path +  filename + '.net')\n",
    "infomap(out_path +  filename + '.net', altmap=True)\n",
    "\n"
   ]
  },
  {
   "cell_type": "code",
   "execution_count": 123,
   "metadata": {
    "pycharm": {
     "is_executing": false,
     "name": "#%% read results and generate networkx graph\n"
    }
   },
   "outputs": [
    {
     "name": "stdout",
     "text": [
      "{1: 1, 2: 2, 9: 3, 10: 4, 17: 5, 18: 6, 3: 7, 4: 8, 5: 9, 6: 10, 7: 11, 8: 12, 11: 13, 12: 14, 13: 15, 14: 16, 15: 17, 16: 18, 19: 19, 20: 20, 21: 21, 22: 22, 23: 23, 24: 24}\nWe found 24 communities.\nAltMap cost is -0.06160788496378283.\n"
     ],
     "output_type": "stream"
    },
    {
     "data": {
      "text/plain": "-0.06160788496378283"
     },
     "metadata": {},
     "output_type": "execute_result",
     "execution_count": 123
    }
   ],
   "source": [
    "\n",
    "#G = nx.read_pajek(net_path)\n",
    "df = read_tree(out_path +  filename + '.tree')\n",
    "\n",
    "\n",
    "communities = {}\n",
    "for index, row in df.iterrows():\n",
    "    node = int(row['node'])\n",
    "    communities[node] = int(row['community'])\n",
    "\n",
    "nx.set_node_attributes(G, name='community', values=communities) # seems to be faulty!!\n",
    "#print (nx.get_node_attributes(G, name='community'))\n",
    "\n",
    "print (communities)\n",
    "num_communities = max(communities.values()) - min(communities.values()) + 1\n",
    "print (f'We found {num_communities} communities.')\n",
    "\n",
    "\n",
    "# print network\n",
    "plt.close('all')\n",
    "plt.figure()\n",
    "ordered_communities = OrderedDict(sorted(communities.items()))\n",
    "drawNetwork(G, ordered_communities)\n",
    "\n",
    "altmap_cost(G, communities)\n",
    "\n",
    "\n"
   ]
  }
 ],
 "metadata": {
  "kernelspec": {
   "display_name": "Python 3",
   "language": "python",
   "name": "python3"
  },
  "language_info": {
   "codemirror_mode": {
    "name": "ipython",
    "version": 3
   },
   "file_extension": ".py",
   "mimetype": "text/x-python",
   "name": "python",
   "nbconvert_exporter": "python",
   "pygments_lexer": "ipython3",
   "version": "3.6.8"
  },
  "pycharm": {
   "stem_cell": {
    "cell_type": "raw",
    "source": [],
    "metadata": {
     "collapsed": false
    }
   }
  }
 },
 "nbformat": 4,
 "nbformat_minor": 1
}