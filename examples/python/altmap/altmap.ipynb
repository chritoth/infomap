{
 "cells": [
  {
   "cell_type": "markdown",
   "metadata": {},
   "source": [
    "## Altmap Experiments\n",
    "### Compare altmap to map eq using networkx\n"
   ]
  },
  {
   "cell_type": "code",
   "execution_count": 260,
   "outputs": [
    {
     "name": "stdout",
     "text": [
      "Using matplotlib backend: Qt5Agg\nPopulating the interactive namespace from numpy and matplotlib\n"
     ],
     "output_type": "stream"
    }
   ],
   "source": [
    "import networkx as nx\n",
    "import matplotlib.pyplot as plt\n",
    "import numpy as np\n",
    "from collections import OrderedDict\n",
    "\n",
    "plt.rcParams.update({'font.size': 20})\n",
    "%pylab\n",
    "\n",
    "%run helpers.py\n",
    "# loads the following helper functions:\n",
    "# infomap(net_path, altmap=False, additional_args='')\n",
    "# read_tree(tree_path)\n",
    "# plogq(p, q)\n",
    "# plogp(p)\n",
    "# drawNetwork(G, communities)\n",
    "# altmap_cost(G, communities)\n",
    "# create_initfile(G, N_partitions=None, randomized=True)\n",
    "# generate_two_rings(n_ring=10)\n",
    "# "
   ],
   "metadata": {
    "collapsed": false,
    "pycharm": {
     "name": "#%%\n",
     "is_executing": false
    }
   }
  },
  {
   "cell_type": "code",
   "execution_count": 3,
   "metadata": {
    "pycharm": {
     "is_executing": false,
     "name": "#%% ring of cliques\n"
    }
   },
   "outputs": [
    {
     "name": "stdout",
     "text": [
      "Ground Truth L = -2.310761626697072\n\n"
     ],
     "output_type": "stream"
    }
   ],
   "source": [
    "num_cliques = 5\n",
    "clique_size = 50\n",
    "N = num_cliques * clique_size # num nodes\n",
    "G = nx.ring_of_cliques(num_cliques, clique_size)\n",
    "G = nx.convert_node_labels_to_integers(G, first_label=1)\n",
    "\n",
    "communities = {}\n",
    "for c in range(num_cliques):\n",
    "    for n in range(1, clique_size+1):\n",
    "        communities[c*clique_size + n] = c\n",
    "        \n",
    "cost = altmap_cost(G, communities)\n",
    "print (f'Ground Truth L = {cost}\\n')"
   ]
  },
  {
   "cell_type": "code",
   "execution_count": 5,
   "outputs": [
    {
     "name": "stdout",
     "text": [
      "Ground Truth Cost L = -0.9985143509845726\n\n",
      "Mixed Communities Cost L = -7.506413572699877e-05\n\n",
      "Four Mixed Communities Cost L = -0.19950977558666\n\n"
     ],
     "output_type": "stream"
    }
   ],
   "source": [
    "clique_size = 100\n",
    "nodes_connection = 0\n",
    "N = 2 * clique_size + nodes_connection # num nodes\n",
    "G = nx.barbell_graph(clique_size, nodes_connection)\n",
    "G = nx.convert_node_labels_to_integers(G, first_label=1)\n",
    "\n",
    "# ground truth\n",
    "communities = {}\n",
    "for n in range(1, clique_size+1 ):\n",
    "    communities[n] = 1\n",
    "    \n",
    "for n in range(clique_size+1, 2*clique_size+1 ):\n",
    "    communities[n] = 2\n",
    "\n",
    "cost = altmap_cost(G, communities)\n",
    "print (f'Ground Truth Cost L = {cost}\\n')\n",
    "\n",
    "# 2 mixed cliques\n",
    "communities = {}\n",
    "for n in range(1, int(clique_size/2)+1 ):\n",
    "    communities[n] = 1\n",
    "\n",
    "for n in range(clique_size + 1, clique_size + int(clique_size/2)+1 ):\n",
    "    communities[n] = 1\n",
    "    \n",
    "for n in range(int(clique_size/2) + 1, clique_size + 1 ):\n",
    "    communities[n] = 2\n",
    "    \n",
    "for n in range(clique_size + int(clique_size/2) + 1, 2*clique_size + 1 ):\n",
    "    communities[n] = 2\n",
    "\n",
    "cost = altmap_cost(G, communities)\n",
    "print (f'Mixed Communities Cost L = {cost}\\n')\n",
    "\n",
    "# 4 mixed cliques\n",
    "communities = {}\n",
    "for n in range(1, int(clique_size/2)+1 ):\n",
    "    communities[n] = 1\n",
    "    \n",
    "for n in range(int(clique_size/2) + 1, clique_size + 1 ):\n",
    "    communities[n] = 2\n",
    "\n",
    "for n in range(clique_size + 1, clique_size + int(clique_size/2)+1 ):\n",
    "    communities[n] = 3\n",
    "    \n",
    "for n in range(clique_size + int(clique_size/2) + 1, 2*clique_size + 1 ):\n",
    "    communities[n] = 4\n",
    "\n",
    "cost = altmap_cost(G, communities)\n",
    "print (f'Four Mixed Communities Cost L = {cost}\\n')"
   ],
   "metadata": {
    "collapsed": false,
    "pycharm": {
     "name": "#%% barbell network experiment\n",
     "is_executing": false
    }
   }
  },
  {
   "cell_type": "code",
   "execution_count": 6,
   "outputs": [
    {
     "data": {
      "text/plain": "<matplotlib.legend.Legend at 0x7f09e9ae1a20>"
     },
     "metadata": {},
     "output_type": "execute_result",
     "execution_count": 6
    }
   ],
   "source": [
    "# compute essential cost function values for a barbell network with\n",
    "# given clique size\n",
    "def barbell_cost(clique_size = 3, print_output=False):\n",
    "    nc = clique_size\n",
    "    m = nc*(nc-1)+1 # number of edges in the network\n",
    "    p0 = (nc - 1) /(2*m) # stat prob for 'normal' nodes\n",
    "    pc = nc / (2*m) # stat prob for the 2 connecting nodes\n",
    "\n",
    "    J_ind = 2.0 * ((nc -2)*p0*np.log2(1.0-2*p0) + (p0+pc)*np.log2(1-(p0+pc)))\n",
    "    J_true = np.log2(m) - 1.0 - (m-1) / m * np.log2(m-1)\n",
    "    J_init = -1 -np.log2(m) + 1/m * ((m - nc) * np.log2(3*m - nc**2) + nc*np.log2(2*m-nc))\n",
    "    \n",
    "    if print_output:\n",
    "        print (f\"\\nBarbell network with nc = {nc} nodes per clique:\\n\")\n",
    "        print (f\"Each node a module - cost = {J_init}\")\n",
    "        print (f\"Ground truth cost = {J_true}\")\n",
    "        print (f\"Independent sets cost = {J_ind}\\n\")\n",
    "    \n",
    "    return J_init, J_true, J_ind\n",
    "\n",
    "\n",
    "nc_max = 50\n",
    "nc_list = list(range(2, nc_max + 1))\n",
    "J_init_list = np.zeros((nc_max -1, 1))\n",
    "J_true_list = np.zeros((nc_max -1, 1))\n",
    "J_ind_list = np.zeros((nc_max -1, 1))\n",
    "for i,nc in enumerate(nc_list):\n",
    "    J_init_list[i], J_true_list[i], J_ind_list[i] = barbell_cost(nc)\n",
    "\n",
    "plt.figure()\n",
    "plt.plot(nc_list, J_init_list, 'b', label='Initial cost')\n",
    "plt.plot(nc_list, J_true_list, 'm', label='Ground truth cost')\n",
    "plt.plot(nc_list, J_ind_list, 'r', label='Independent sets cost')\n",
    "plt.grid()\n",
    "plt.title('Barbell network - cost over size')\n",
    "plt.xlabel('Nodes per clique')\n",
    "plt.ylabel('Altmap cost')\n",
    "plt.legend()"
   ],
   "metadata": {
    "collapsed": false,
    "pycharm": {
     "name": "#%%\n",
     "is_executing": false
    }
   }
  },
  {
   "cell_type": "code",
   "execution_count": 7,
   "metadata": {
    "pycharm": {
     "is_executing": false,
     "name": "#%% Two Rings\n"
    }
   },
   "outputs": [
    {
     "name": "stdout",
     "text": [
      "Initial Cost L = -0.00724344653766134\n\nGround Truth Cost L = -0.9574362123777358\n\n",
      "Mixed Communities Cost L = -0.8367058739707411\n\n",
      "Four Mixed Communities Cost L = -1.7993140655681912\n\n"
     ],
     "output_type": "stream"
    }
   ],
   "source": [
    "n_ring = 100\n",
    "N = 2*n_ring # num nodes\n",
    "G = generate_two_rings(n_ring)\n",
    "\n",
    "# init\n",
    "communities = {}\n",
    "for n in range(1, N+1 ):\n",
    "    communities[n] = n\n",
    "    \n",
    "cost = altmap_cost(G, communities)\n",
    "print (f'Initial Cost L = {cost}\\n')\n",
    "\n",
    "# ground truth\n",
    "communities = {}\n",
    "for n in range(1, int(N / 2)+1 ):\n",
    "    communities[n] = 1\n",
    "    \n",
    "for n in range(int(N / 2)+1, N+1 ):\n",
    "    communities[n] = 2\n",
    "\n",
    "cost = altmap_cost(G, communities)\n",
    "print (f'Ground Truth Cost L = {cost}\\n')\n",
    "\n",
    "# 2 mixed cliques\n",
    "communities = {}\n",
    "for n in range(1, int(N / 4)+1 ):\n",
    "    communities[n] = 1\n",
    "\n",
    "for n in range(int(N / 2) + 1, int(N / 2) + int(N / 4) + 1 ):\n",
    "    communities[n] = 1\n",
    "    \n",
    "for n in range(int(N / 4)+1, int(N / 2) + 1 ):\n",
    "    communities[n] = 2\n",
    "    \n",
    "for n in range(int(N / 2) + int(N / 4) + 1, N + 1 ):\n",
    "    communities[n] = 2\n",
    "\n",
    "cost = altmap_cost(G, communities)\n",
    "print (f'Mixed Communities Cost L = {cost}\\n')\n",
    "\n",
    "# 4 mixed cliques\n",
    "communities = {}\n",
    "for n in range(1, int(N / 4)+1 ):\n",
    "    communities[n] = 1\n",
    "\n",
    "for n in range(int(N / 2) + 1, int(N / 2) + int(N / 4) + 1 ):\n",
    "    communities[n] = 2\n",
    "    \n",
    "for n in range(int(N / 4)+1, int(N / 2) + 1 ):\n",
    "    communities[n] = 3\n",
    "    \n",
    "for n in range(int(N / 2) + int(N / 4) + 1, N + 1 ):\n",
    "    communities[n] = 4\n",
    "\n",
    "cost = altmap_cost(G, communities)\n",
    "print (f'Four Mixed Communities Cost L = {cost}\\n')"
   ]
  },
  {
   "cell_type": "code",
   "execution_count": 8,
   "outputs": [
    {
     "data": {
      "text/plain": "<matplotlib.legend.Legend at 0x7f09e82e60f0>"
     },
     "metadata": {},
     "output_type": "execute_result",
     "execution_count": 8
    }
   ],
   "source": [
    "# compute essential cost function values for a network of two rings with\n",
    "# given ring size\n",
    "def two_rings_cost(ring_size = 3, print_output=False):\n",
    "    n = ring_size\n",
    "    m = 2*n+1 # number of edges in the network\n",
    "\n",
    "    J_init = ((m-3)*np.log2(m-1) + 3*np.log2(2*m-3) - 3) / m - np.log2(m)\n",
    "    J_true = np.log2(m) - 1.0 - (m-1) / m * np.log2(m-1)\n",
    "    J_ind = -1.0\n",
    "    J_lower_bound = -(3 - 3*np.log2(3) + m*np.log2(m))/m\n",
    "    \n",
    "    p1 =n/(2*m); p2 = (n+1)/(2*m)\n",
    "    p1not1 = 1/m; p11 = p1 - p1not1; \n",
    "    p2not2 = 3/(2*m); p22 = p2 - p2not2; \n",
    "    J_4_comms = -2*(p11*np.log2(p11 / (p1**2)) + p1not1*np.log2(p1not1 / (p1*(1-p1))) +\n",
    "                    p22*np.log2(p22 / (p2**2)) + p2not2*np.log2(p2not2 / (p2*(1-p2))))\n",
    "    \n",
    "    if print_output:\n",
    "        print (f\"\\n2 Rings network with nc = {nc} nodes per clique:\\n\")\n",
    "        print (f\"Each node a module - cost = {J_init}\")\n",
    "        print (f\"Ground truth cost = {J_true}\")\n",
    "        print (f\"Independent sets cost = {J_ind}\\n\")\n",
    "        print (f\"4 communities = {J_4_comms}\\n\")\n",
    "        print (f\"Lower bound = {J_lower_bound}\\n\")\n",
    "    \n",
    "    return J_init, J_true, J_ind, J_4_comms\n",
    "\n",
    "n_max = 50\n",
    "n_list = list(range(3, n_max + 1))\n",
    "J_init_list = np.zeros((len(n_list), 1))\n",
    "J_true_list = np.zeros((len(n_list), 1))\n",
    "J_ind_list = np.zeros((len(n_list), 1))\n",
    "J_4comms_list = np.zeros((len(n_list), 1))\n",
    "for i, n in enumerate(n_list):\n",
    "    J_init_list[i], J_true_list[i], J_ind_list[i], J_4comms_list[i] = two_rings_cost(n)\n",
    "\n",
    "plt.figure()\n",
    "plt.plot(n_list, J_init_list, 'b', label='Initial cost (N ind sets)')\n",
    "plt.plot(n_list, J_true_list, 'm', label='Ground truth cost')\n",
    "plt.plot(n_list, J_ind_list, 'r', label='2 Independent sets cost')\n",
    "plt.plot(n_list, J_4comms_list, 'c', label='4 Communities')\n",
    "plt.grid()\n",
    "plt.title('2 Rings network - cost over size')\n",
    "plt.xlabel('Nodes per clique')\n",
    "plt.ylabel('Altmap cost')\n",
    "plt.legend()"
   ],
   "metadata": {
    "collapsed": false,
    "pycharm": {
     "name": "#%%\n",
     "is_executing": false
    }
   }
  },
  {
   "cell_type": "code",
   "execution_count": 9,
   "outputs": [
    {
     "name": "stdout",
     "text": [
      "Ground Truth 2 communities L = -0.13539149546531296\nAnalytical: -0.3901596952835996\n\n",
      "Ground Truth each node L = -0.00612389163691027\nAnalytical: -0.005782352594006178\n\n"
     ],
     "output_type": "stream"
    }
   ],
   "source": [
    "epsilon = 0.15\n",
    "N1 = 200\n",
    "N2 = 50\n",
    "N = N1 + N2\n",
    "p_self = (1.0 - epsilon) / (N/2 - 1)\n",
    "p_ext = 2.0 *  epsilon / N\n",
    "\n",
    "# generate graph\n",
    "G = nx.MultiGraph()\n",
    "G.add_nodes_from(range(1, N+1))\n",
    "for n1 in range(1, N1+1):\n",
    "    for i in range(n1 + 1, N1+1):\n",
    "        G.add_edge(n1, i, weight=p_self)\n",
    "    \n",
    "    for n2 in range(N1+1, N1+N2+1):\n",
    "        G.add_edge(n1, n2, weight=p_ext)\n",
    "\n",
    "for n2 in range(N1+1, N1+N2+1):\n",
    "    for i in range(n2 + 1, N1+N2+1):\n",
    "        G.add_edge(n2, i, weight=p_self)\n",
    "\n",
    "# 2 communities\n",
    "communities = {}\n",
    "i = 1\n",
    "for c, n in enumerate([N1, N2]):\n",
    "    for a in range(1, n+1):\n",
    "        communities[i] =  c + 1\n",
    "        i = i + 1\n",
    "        \n",
    "cost = altmap_cost(G, communities)\n",
    "print (f'Ground Truth 2 communities L = {cost}')\n",
    "print (f'Analytical: {-1.0 - plogp(1.0-epsilon) - plogp(epsilon)}\\n')\n",
    "\n",
    "# each node a community\n",
    "communities = {}\n",
    "for n in range(1, N + 1):\n",
    "        communities[n] = n\n",
    "        \n",
    "cost = altmap_cost(G, communities)\n",
    "print (f'Ground Truth each node L = {cost}')\n",
    "print (f'Analytical: {-np.log2(N/(N - 1))}\\n')\n",
    "                "
   ],
   "metadata": {
    "collapsed": false,
    "pycharm": {
     "name": "#%% SBM\n",
     "is_executing": false
    }
   }
  },
  {
   "cell_type": "code",
   "execution_count": 10,
   "outputs": [],
   "source": [
    "G = nx.karate_club_graph()\n",
    "G = nx.convert_node_labels_to_integers(G, first_label=1)"
   ],
   "metadata": {
    "collapsed": false,
    "pycharm": {
     "name": "#%% Karate club graph\n",
     "is_executing": false
    }
   }
  },
  {
   "cell_type": "code",
   "execution_count": null,
   "outputs": [],
   "source": [
    "from networkx.algorithms.community.community_generators import LFR_benchmark_graph\n",
    "\n",
    "N = 250\n",
    "max_degree = int(0.2*N)\n",
    "max_community = int(0.2*N)\n",
    "average_degree = 10\n",
    "tau1 = 2.1 # Power law exponent for the degree distribution \n",
    "tau2 = 1.1 # Power law exponent for the community size distribution\n",
    "mu = 0.1 # [0.03, 0.75]\n",
    "    \n",
    "G = LFR_benchmark_graph(N, tau1, tau2, mu, average_degree=average_degree, max_degree=max_degree, \n",
    "                        max_community=max_community, min_community=25)\n",
    "\n",
    "G = nx.convert_node_labels_to_integers(G, first_label=1)"
   ],
   "metadata": {
    "collapsed": false,
    "pycharm": {
     "name": "#%% LFR benchmark\n",
     "is_executing": false
    }
   }
  },
  {
   "cell_type": "code",
   "execution_count": 237,
   "outputs": [
    {
     "name": "stdout",
     "text": [
      "250\nNumber of ground truth communities = 7\nOrderedDict([(1, 1), (2, 2), (3, 1), (4, 3), (5, 4), (6, 2), (7, 5), (8, 3), (9, 3), (10, 3), (11, 1), (12, 4), (13, 4), (14, 5), (15, 4), (16, 1), (17, 3), (18, 2), (19, 6), (20, 5), (21, 4), (22, 5), (23, 5), (24, 5), (25, 4), (26, 2), (27, 1), (28, 5), (29, 3), (30, 5), (31, 5), (32, 2), (33, 2), (34, 2), (35, 2), (36, 3), (37, 4), (38, 3), (39, 6), (40, 6), (41, 1), (42, 1), (43, 4), (44, 2), (45, 4), (46, 2), (47, 2), (48, 4), (49, 3), (50, 4), (51, 7), (52, 2), (53, 1), (54, 5), (55, 7), (56, 5), (57, 1), (58, 6), (59, 6), (60, 1), (61, 6), (62, 7), (63, 7), (64, 7), (65, 6), (66, 6), (67, 4), (68, 4), (69, 7), (70, 1), (71, 4), (72, 4), (73, 1), (74, 7), (75, 7), (76, 1), (77, 5), (78, 7), (79, 5), (80, 7), (81, 5), (82, 4), (83, 5), (84, 4), (85, 6), (86, 7), (87, 4), (88, 4), (89, 7), (90, 1), (91, 7), (92, 3), (93, 4), (94, 1), (95, 5), (96, 6), (97, 4), (98, 7), (99, 7), (100, 6), (101, 5), (102, 6), (103, 5), (104, 7), (105, 4), (106, 5), (107, 6), (108, 6), (109, 6), (110, 5), (111, 2), (112, 5), (113, 6), (114, 7), (115, 6), (116, 5), (117, 4), (118, 1), (119, 2), (120, 2), (121, 1), (122, 2), (123, 4), (124, 6), (125, 1), (126, 1), (127, 1), (128, 6), (129, 4), (130, 5), (131, 2), (132, 4), (133, 3), (134, 4), (135, 3), (136, 6), (137, 2), (138, 4), (139, 4), (140, 2), (141, 3), (142, 5), (143, 4), (144, 7), (145, 2), (146, 1), (147, 2), (148, 7), (149, 7), (150, 4), (151, 1), (152, 7), (153, 3), (154, 3), (155, 3), (156, 2), (157, 4), (158, 4), (159, 7), (160, 7), (161, 7), (162, 3), (163, 3), (164, 4), (165, 7), (166, 4), (167, 2), (168, 3), (169, 1), (170, 1), (171, 1), (172, 7), (173, 7), (174, 3), (175, 3), (176, 3), (177, 6), (178, 1), (179, 6), (180, 7), (181, 7), (182, 1), (183, 6), (184, 4), (185, 4), (186, 2), (187, 7), (188, 4), (189, 1), (190, 6), (191, 7), (192, 1), (193, 5), (194, 4), (195, 6), (196, 6), (197, 1), (198, 4), (199, 2), (200, 6), (201, 7), (202, 1), (203, 4), (204, 5), (205, 6), (206, 1), (207, 4), (208, 6), (209, 6), (210, 7), (211, 3), (212, 4), (213, 1), (214, 5), (215, 6), (216, 4), (217, 5), (218, 5), (219, 7), (220, 6), (221, 7), (222, 7), (223, 5), (224, 5), (225, 7), (226, 7), (227, 7), (228, 4), (229, 1), (230, 7), (231, 3), (232, 6), (233, 6), (234, 7), (235, 5), (236, 4), (237, 5), (238, 4), (239, 5), (240, 2), (241, 7), (242, 5), (243, 4), (244, 1), (245, 7), (246, 6), (247, 3), (248, 1), (249, 5), (250, 7)])\n"
     ],
     "output_type": "stream"
    }
   ],
   "source": [
    "ground_truth_communities = {}\n",
    "num_communities = 1\n",
    "for n in range(1,N+1):\n",
    "    if n in ground_truth_communities:\n",
    "        continue\n",
    "        \n",
    "    community = G.nodes[n]['community']\n",
    "    node_ids = np.asarray(list(community))\n",
    "    node_ids = node_ids + 1\n",
    "    ground_truth_communities.update(dict.fromkeys(node_ids , num_communities))\n",
    "    num_communities = num_communities + 1\n",
    "\n",
    "ground_truth_communities = OrderedDict(sorted(ground_truth_communities.items()))\n",
    "print (len(ground_truth_communities))\n",
    "print (f'Number of ground truth communities = {max(ground_truth_communities.values())}')\n",
    "print (ground_truth_communities)\n",
    "\n",
    "    "
   ],
   "metadata": {
    "collapsed": false,
    "pycharm": {
     "name": "#%%\n",
     "is_executing": false
    }
   }
  },
  {
   "cell_type": "code",
   "execution_count": 257,
   "metadata": {
    "pycharm": {
     "is_executing": false,
     "name": "#%% find communities\n"
    }
   },
   "outputs": [
    {
     "name": "stderr",
     "text": [
      "/home/chri/anaconda3/lib/python3.6/site-packages/networkx/readwrite/pajek.py:77: UserWarning: Node attribute community is not processed. Non-string attribute.\n  'Non-string attribute'))\n"
     ],
     "output_type": "stream"
    },
    {
     "name": "stdout",
     "text": [
      "{201: 1, 63: 1, 89: 1, 152: 1, 99: 1, 98: 1, 245: 1, 51: 1, 144: 1, 161: 1, 69: 1, 148: 1, 149: 1, 80: 1, 62: 1, 64: 1, 74: 1, 165: 1, 181: 1, 222: 1, 104: 1, 219: 1, 187: 1, 191: 1, 234: 1, 78: 1, 159: 1, 210: 1, 55: 1, 172: 1, 173: 1, 226: 1, 230: 1, 241: 1, 86: 1, 114: 1, 160: 1, 225: 1, 75: 1, 91: 1, 227: 1, 250: 1, 180: 1, 221: 1, 105: 2, 45: 2, 228: 2, 157: 2, 71: 2, 43: 2, 88: 2, 138: 2, 25: 2, 166: 2, 50: 2, 67: 2, 93: 2, 21: 2, 37: 2, 132: 2, 212: 2, 15: 2, 68: 2, 12: 2, 13: 2, 139: 2, 150: 2, 164: 2, 5: 2, 143: 2, 158: 2, 203: 2, 84: 2, 129: 2, 185: 2, 72: 2, 184: 2, 198: 2, 243: 2, 48: 2, 123: 2, 207: 2, 216: 2, 236: 2, 87: 2, 97: 2, 134: 2, 188: 2, 194: 2, 82: 2, 117: 2, 238: 2, 59: 3, 196: 3, 40: 3, 209: 3, 96: 3, 113: 3, 233: 3, 58: 3, 39: 3, 85: 3, 136: 3, 177: 3, 215: 3, 102: 3, 200: 3, 179: 3, 190: 3, 195: 3, 183: 3, 66: 3, 107: 3, 246: 3, 19: 3, 108: 3, 128: 3, 205: 3, 100: 3, 109: 3, 115: 3, 124: 3, 208: 3, 232: 3, 61: 3, 65: 3, 220: 3, 27: 4, 121: 4, 213: 4, 229: 4, 53: 4, 125: 4, 171: 4, 169: 4, 11: 4, 1: 4, 127: 4, 202: 4, 41: 4, 57: 4, 170: 4, 42: 4, 76: 4, 178: 4, 244: 4, 248: 4, 3: 4, 118: 4, 151: 4, 197: 4, 16: 4, 146: 4, 182: 4, 192: 4, 60: 4, 94: 4, 206: 4, 73: 4, 90: 4, 126: 4, 70: 4, 189: 4, 23: 5, 106: 5, 14: 5, 56: 5, 54: 5, 31: 5, 193: 5, 242: 5, 20: 5, 83: 5, 22: 5, 79: 5, 24: 5, 77: 5, 142: 5, 116: 5, 130: 5, 204: 5, 218: 5, 237: 5, 7: 5, 28: 5, 30: 5, 101: 5, 103: 5, 110: 5, 239: 5, 217: 5, 223: 5, 224: 5, 235: 5, 249: 5, 81: 5, 112: 5, 214: 5, 95: 5, 32: 6, 46: 6, 47: 6, 35: 6, 52: 6, 186: 6, 34: 6, 33: 6, 137: 6, 2: 6, 145: 6, 26: 6, 156: 6, 119: 6, 131: 6, 199: 6, 120: 6, 147: 6, 111: 6, 6: 6, 44: 6, 140: 6, 167: 6, 18: 6, 240: 6, 122: 6, 8: 7, 163: 7, 49: 7, 168: 7, 155: 7, 175: 7, 36: 7, 141: 7, 211: 7, 17: 7, 133: 7, 135: 7, 174: 7, 231: 7, 4: 7, 29: 7, 38: 7, 176: 7, 153: 7, 247: 7, 9: 7, 10: 7, 92: 7, 154: 7, 162: 7}\nWe found 7 communities.\nAchieved cost L = -1.8059802613350269\n"
     ],
     "output_type": "stream"
    }
   ],
   "source": [
    "nx.write_pajek(G, workspace_path +  filename + '.net')\n",
    "infomap(workspace_path +  filename + '.net', altmap=False)\n",
    "# infomap(workspace_path +  filename + '.net', altmap=True)\n",
    "# communities = create_initfile(G, randomized=True)\n",
    "# altmap_cost(G, communities)\n",
    "# infomap(workspace_path +  filename + '.net', altmap=True, additional_args=' --cluster-data ./workspace/init.tree')\n",
    "\n",
    "# read results and generate networkx graph\n",
    "\n",
    "#G = nx.read_pajek(net_path)\n",
    "df = read_tree(workspace_path +  filename + '.tree')\n",
    "\n",
    "\n",
    "communities = {}\n",
    "for index, row in df.iterrows():\n",
    "    node = int(row['node'])\n",
    "    communities[node] = int(row['community'])\n",
    "\n",
    "print (communities)\n",
    "num_communities = max(communities.values()) - min(communities.values()) + 1\n",
    "print (f'We found {num_communities} communities.')\n",
    "\n",
    "cost = altmap_cost(G, communities)\n",
    "print (f'Achieved cost L = {cost}')"
   ]
  },
  {
   "cell_type": "code",
   "execution_count": 261,
   "outputs": [
    {
     "name": "stdout",
     "text": [
      "OrderedDict([(1, 4), (2, 6), (3, 4), (4, 7), (5, 2), (6, 6), (7, 5), (8, 7), (9, 7), (10, 7), (11, 4), (12, 2), (13, 2), (14, 5), (15, 2), (16, 4), (17, 7), (18, 6), (19, 3), (20, 5), (21, 2), (22, 5), (23, 5), (24, 5), (25, 2), (26, 6), (27, 4), (28, 5), (29, 7), (30, 5), (31, 5), (32, 6), (33, 6), (34, 6), (35, 6), (36, 7), (37, 2), (38, 7), (39, 3), (40, 3), (41, 4), (42, 4), (43, 2), (44, 6), (45, 2), (46, 6), (47, 6), (48, 2), (49, 7), (50, 2), (51, 1), (52, 6), (53, 4), (54, 5), (55, 1), (56, 5), (57, 4), (58, 3), (59, 3), (60, 4), (61, 3), (62, 1), (63, 1), (64, 1), (65, 3), (66, 3), (67, 2), (68, 2), (69, 1), (70, 4), (71, 2), (72, 2), (73, 4), (74, 1), (75, 1), (76, 4), (77, 5), (78, 1), (79, 5), (80, 1), (81, 5), (82, 2), (83, 5), (84, 2), (85, 3), (86, 1), (87, 2), (88, 2), (89, 1), (90, 4), (91, 1), (92, 7), (93, 2), (94, 4), (95, 5), (96, 3), (97, 2), (98, 1), (99, 1), (100, 3), (101, 5), (102, 3), (103, 5), (104, 1), (105, 2), (106, 5), (107, 3), (108, 3), (109, 3), (110, 5), (111, 6), (112, 5), (113, 3), (114, 1), (115, 3), (116, 5), (117, 2), (118, 4), (119, 6), (120, 6), (121, 4), (122, 6), (123, 2), (124, 3), (125, 4), (126, 4), (127, 4), (128, 3), (129, 2), (130, 5), (131, 6), (132, 2), (133, 7), (134, 2), (135, 7), (136, 3), (137, 6), (138, 2), (139, 2), (140, 6), (141, 7), (142, 5), (143, 2), (144, 1), (145, 6), (146, 4), (147, 6), (148, 1), (149, 1), (150, 2), (151, 4), (152, 1), (153, 7), (154, 7), (155, 7), (156, 6), (157, 2), (158, 2), (159, 1), (160, 1), (161, 1), (162, 7), (163, 7), (164, 2), (165, 1), (166, 2), (167, 6), (168, 7), (169, 4), (170, 4), (171, 4), (172, 1), (173, 1), (174, 7), (175, 7), (176, 7), (177, 3), (178, 4), (179, 3), (180, 1), (181, 1), (182, 4), (183, 3), (184, 2), (185, 2), (186, 6), (187, 1), (188, 2), (189, 4), (190, 3), (191, 1), (192, 4), (193, 5), (194, 2), (195, 3), (196, 3), (197, 4), (198, 2), (199, 6), (200, 3), (201, 1), (202, 4), (203, 2), (204, 5), (205, 3), (206, 4), (207, 2), (208, 3), (209, 3), (210, 1), (211, 7), (212, 2), (213, 4), (214, 5), (215, 3), (216, 2), (217, 5), (218, 5), (219, 1), (220, 3), (221, 1), (222, 1), (223, 5), (224, 5), (225, 1), (226, 1), (227, 1), (228, 2), (229, 4), (230, 1), (231, 7), (232, 3), (233, 3), (234, 1), (235, 5), (236, 2), (237, 5), (238, 2), (239, 5), (240, 6), (241, 1), (242, 5), (243, 2), (244, 4), (245, 1), (246, 3), (247, 7), (248, 4), (249, 5), (250, 1)])\nOrderedDict([(1, 1), (2, 2), (3, 1), (4, 3), (5, 4), (6, 2), (7, 5), (8, 3), (9, 3), (10, 3), (11, 1), (12, 4), (13, 4), (14, 5), (15, 4), (16, 1), (17, 3), (18, 2), (19, 6), (20, 5), (21, 4), (22, 5), (23, 5), (24, 5), (25, 4), (26, 2), (27, 1), (28, 5), (29, 3), (30, 5), (31, 5), (32, 2), (33, 2), (34, 2), (35, 2), (36, 3), (37, 4), (38, 3), (39, 6), (40, 6), (41, 1), (42, 1), (43, 4), (44, 2), (45, 4), (46, 2), (47, 2), (48, 4), (49, 3), (50, 4), (51, 7), (52, 2), (53, 1), (54, 5), (55, 7), (56, 5), (57, 1), (58, 6), (59, 6), (60, 1), (61, 6), (62, 7), (63, 7), (64, 7), (65, 6), (66, 6), (67, 4), (68, 4), (69, 7), (70, 1), (71, 4), (72, 4), (73, 1), (74, 7), (75, 7), (76, 1), (77, 5), (78, 7), (79, 5), (80, 7), (81, 5), (82, 4), (83, 5), (84, 4), (85, 6), (86, 7), (87, 4), (88, 4), (89, 7), (90, 1), (91, 7), (92, 3), (93, 4), (94, 1), (95, 5), (96, 6), (97, 4), (98, 7), (99, 7), (100, 6), (101, 5), (102, 6), (103, 5), (104, 7), (105, 4), (106, 5), (107, 6), (108, 6), (109, 6), (110, 5), (111, 2), (112, 5), (113, 6), (114, 7), (115, 6), (116, 5), (117, 4), (118, 1), (119, 2), (120, 2), (121, 1), (122, 2), (123, 4), (124, 6), (125, 1), (126, 1), (127, 1), (128, 6), (129, 4), (130, 5), (131, 2), (132, 4), (133, 3), (134, 4), (135, 3), (136, 6), (137, 2), (138, 4), (139, 4), (140, 2), (141, 3), (142, 5), (143, 4), (144, 7), (145, 2), (146, 1), (147, 2), (148, 7), (149, 7), (150, 4), (151, 1), (152, 7), (153, 3), (154, 3), (155, 3), (156, 2), (157, 4), (158, 4), (159, 7), (160, 7), (161, 7), (162, 3), (163, 3), (164, 4), (165, 7), (166, 4), (167, 2), (168, 3), (169, 1), (170, 1), (171, 1), (172, 7), (173, 7), (174, 3), (175, 3), (176, 3), (177, 6), (178, 1), (179, 6), (180, 7), (181, 7), (182, 1), (183, 6), (184, 4), (185, 4), (186, 2), (187, 7), (188, 4), (189, 1), (190, 6), (191, 7), (192, 1), (193, 5), (194, 4), (195, 6), (196, 6), (197, 1), (198, 4), (199, 2), (200, 6), (201, 7), (202, 1), (203, 4), (204, 5), (205, 6), (206, 1), (207, 4), (208, 6), (209, 6), (210, 7), (211, 3), (212, 4), (213, 1), (214, 5), (215, 6), (216, 4), (217, 5), (218, 5), (219, 7), (220, 6), (221, 7), (222, 7), (223, 5), (224, 5), (225, 7), (226, 7), (227, 7), (228, 4), (229, 1), (230, 7), (231, 3), (232, 6), (233, 6), (234, 7), (235, 5), (236, 4), (237, 5), (238, 4), (239, 5), (240, 2), (241, 7), (242, 5), (243, 4), (244, 1), (245, 7), (246, 6), (247, 3), (248, 1), (249, 5), (250, 7)])\n{(113, 6), (158, 4), (119, 6), (182, 1), (32, 2), (159, 1), (10, 7), (84, 2), (85, 3), (109, 6), (120, 2), (15, 4), (136, 6), (98, 7), (27, 1), (138, 4), (225, 7), (45, 2), (133, 7), (231, 7), (144, 1), (195, 6), (220, 6), (173, 1), (197, 4), (221, 7), (63, 7), (121, 4), (52, 6), (64, 1), (41, 1), (115, 6), (156, 2), (117, 4), (180, 7), (104, 7), (11, 4), (150, 4), (111, 6), (198, 2), (151, 1), (210, 1), (187, 1), (238, 4), (128, 6), (113, 3), (42, 1), (227, 7), (70, 4), (94, 1), (47, 2), (135, 7), (36, 3), (37, 2), (246, 3), (25, 4), (49, 7), (50, 4), (124, 3), (165, 1), (189, 4), (55, 7), (176, 7), (177, 6), (201, 1), (19, 6), (44, 6), (21, 4), (8, 7), (183, 6), (107, 6), (34, 6), (171, 4), (195, 3), (172, 7), (247, 3), (184, 2), (121, 1), (122, 6), (3, 4), (138, 2), (162, 7), (236, 2), (4, 7), (17, 3), (115, 3), (202, 1), (250, 7), (68, 2), (92, 7), (207, 2), (145, 2), (219, 7), (243, 2), (11, 1), (196, 3), (86, 1), (63, 1), (87, 4), (208, 6), (232, 3), (185, 4), (51, 7), (99, 1), (40, 6), (42, 4), (179, 6), (117, 2), (180, 1), (46, 6), (168, 7), (192, 4), (105, 4), (245, 1), (13, 4), (174, 7), (26, 6), (124, 6), (140, 2), (188, 4), (141, 3), (177, 3), (19, 3), (154, 7), (228, 2), (134, 4), (9, 3), (107, 3), (147, 2), (171, 1), (61, 3), (85, 6), (199, 2), (136, 3), (50, 2), (74, 7), (211, 7), (137, 2), (3, 1), (78, 1), (55, 1), (200, 6), (114, 1), (201, 7), (67, 2), (91, 1), (202, 4), (21, 2), (119, 2), (32, 6), (10, 3), (108, 3), (172, 1), (196, 6), (120, 6), (149, 1), (97, 4), (160, 7), (184, 4), (186, 6), (5, 4), (29, 7), (16, 4), (167, 6), (18, 6), (179, 3), (69, 1), (132, 2), (93, 4), (80, 7), (133, 3), (231, 3), (243, 4), (12, 4), (86, 7), (151, 4), (234, 7), (52, 2), (139, 2), (6, 2), (88, 2), (128, 3), (129, 2), (70, 1), (71, 4), (169, 4), (194, 4), (13, 2), (111, 2), (1, 4), (100, 3), (152, 7), (229, 1), (135, 3), (108, 6), (148, 7), (212, 2), (78, 7), (166, 2), (143, 4), (67, 4), (178, 1), (226, 7), (44, 2), (131, 2), (206, 4), (230, 1), (34, 2), (62, 1), (15, 2), (208, 3), (98, 1), (122, 2), (75, 1), (162, 3), (4, 3), (126, 4), (5, 2), (190, 6), (127, 1), (40, 3), (191, 7), (17, 7), (92, 3), (93, 2), (157, 4), (181, 7), (144, 7), (192, 1), (145, 6), (169, 1), (244, 1), (221, 1), (233, 6), (1, 1), (2, 6), (76, 1), (100, 6), (139, 4), (163, 3), (53, 1), (164, 4), (64, 7), (88, 4), (215, 3), (65, 6), (89, 1), (153, 3), (205, 3), (158, 2), (240, 2), (170, 1), (194, 2), (84, 4), (61, 6), (198, 4), (222, 1), (72, 2), (26, 2), (187, 7), (200, 3), (90, 1), (43, 2), (154, 3), (178, 4), (118, 4), (9, 7), (33, 2), (147, 6), (148, 1), (38, 3), (96, 6), (173, 7), (73, 4), (137, 6), (161, 1), (102, 6), (213, 1), (248, 4), (16, 1), (155, 3), (230, 7), (104, 1), (244, 4), (62, 7), (39, 3), (150, 2), (233, 3), (186, 2), (210, 7), (76, 4), (29, 3), (238, 2), (167, 2), (191, 1), (65, 3), (250, 1), (18, 2), (203, 2), (227, 1), (157, 2), (35, 2), (170, 4), (87, 2), (175, 7), (25, 2), (99, 7), (123, 2), (6, 6), (165, 7), (89, 7), (66, 3), (90, 4), (229, 4), (241, 1), (59, 6), (60, 1), (222, 7), (72, 4), (73, 1), (188, 2), (125, 1), (236, 4), (43, 4), (68, 4), (182, 4), (206, 1), (207, 4), (219, 1), (109, 3), (74, 1), (161, 7), (185, 2), (51, 1), (126, 1), (127, 4), (190, 3), (91, 7), (131, 6), (156, 6), (57, 4), (105, 2), (58, 3), (82, 4), (197, 1), (245, 7), (209, 6), (53, 4), (215, 6), (66, 6), (203, 4), (228, 4), (205, 6), (47, 6), (134, 2), (216, 2), (59, 3), (146, 1), (12, 2), (36, 7), (60, 4), (48, 2), (49, 3), (123, 4), (234, 1), (2, 2), (163, 7), (176, 3), (129, 4), (153, 7), (114, 7), (94, 4), (118, 1), (71, 2), (240, 6), (8, 3), (159, 7), (241, 7), (246, 6), (96, 3), (149, 7), (247, 7), (97, 2), (160, 1), (102, 3), (189, 1), (213, 4), (248, 1), (225, 1), (45, 4), (69, 7), (132, 4), (80, 1), (183, 3), (33, 6), (57, 1), (58, 6), (38, 7), (39, 6), (209, 3), (27, 4), (166, 4), (143, 2), (226, 1), (155, 7), (46, 2), (168, 3), (82, 2), (146, 4), (220, 3), (174, 3), (232, 6), (75, 7), (140, 6), (141, 7), (41, 4), (152, 1), (181, 1), (216, 4), (35, 6), (37, 4), (48, 4), (175, 3), (199, 6), (211, 3), (164, 2), (125, 4), (212, 4)}\n428\n"
     ],
     "output_type": "stream"
    }
   ],
   "source": [
    "plt.close('all')\n",
    "plt.figure()\n",
    "plt.title('Ground Truth Communities')\n",
    "drawNetwork(G, ground_truth_communities, labels=False)\n",
    "\n",
    "ordered_communities = OrderedDict(sorted(communities.items()))\n",
    "\n",
    "plt.figure()\n",
    "plt.title('Infomap/Altmap Communities')\n",
    "drawNetwork(G, ordered_communities, labels=False)\n",
    "\n",
    "print (ordered_communities)\n",
    "print (ground_truth_communities)\n",
    "\n",
    "result = ordered_communities.items() ^ ground_truth_communities.items()\n",
    "print (result)\n",
    "print (len(result))"
   ],
   "metadata": {
    "collapsed": false,
    "pycharm": {
     "name": "#%% analyze performance on ground truth\n",
     "is_executing": false
    }
   }
  },
  {
   "cell_type": "code",
   "execution_count": 241,
   "outputs": [],
   "source": [
    "plt.close('all')\n",
    "plt.figure()\n",
    "ordered_communities = OrderedDict(sorted(communities.items()))\n",
    "drawNetwork(G, ordered_communities)\n"
   ],
   "metadata": {
    "collapsed": false,
    "pycharm": {
     "name": "#%% print network\n",
     "is_executing": false
    }
   }
  }
 ],
 "metadata": {
  "kernelspec": {
   "display_name": "Python 3",
   "language": "python",
   "name": "python3"
  },
  "language_info": {
   "codemirror_mode": {
    "name": "ipython",
    "version": 3
   },
   "file_extension": ".py",
   "mimetype": "text/x-python",
   "name": "python",
   "nbconvert_exporter": "python",
   "pygments_lexer": "ipython3",
   "version": "3.6.8"
  },
  "pycharm": {
   "stem_cell": {
    "cell_type": "raw",
    "source": [],
    "metadata": {
     "collapsed": false
    }
   }
  }
 },
 "nbformat": 4,
 "nbformat_minor": 1
}