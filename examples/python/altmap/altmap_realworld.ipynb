{
 "cells": [
  {
   "cell_type": "markdown",
   "metadata": {
    "pycharm": {
     "name": "#%% md\n"
    }
   },
   "source": [
    "## Altmap Experiments\n",
    "### Compare altmap to map eq using networkx on realworld networks\n"
   ]
  },
  {
   "cell_type": "code",
   "execution_count": 19,
   "outputs": [
    {
     "name": "stdout",
     "text": [
      "Using matplotlib backend: Qt5Agg\nPopulating the interactive namespace from numpy and matplotlib\n"
     ],
     "output_type": "stream"
    }
   ],
   "source": [
    "import networkx as nx\n",
    "import numpy as np\n",
    "from sklearn.metrics import adjusted_mutual_info_score as ami_score\n",
    "from sklearn.metrics import normalized_mutual_info_score as nmi_score\n",
    "import itertools\n",
    "from collections import OrderedDict\n",
    "\n",
    "# show plots in separate window\n",
    "%pylab\n",
    "# load helpers and wrappers\n",
    "%run helpers.py \n",
    "\n",
    "# compute adjusted mutual information between two partitions\n",
    "def compute_ami(communities_true, communities_found):\n",
    "    \n",
    "    labels_true = list(communities_true.values())\n",
    "    \n",
    "    # remove nodes from found communities that are not in ground truth comms\n",
    "    communities_clean = {x:communities_found[x] for x in communities_found if x in communities_true} \n",
    "    labels_found = list(communities_clean.values())\n",
    "\n",
    "    # return nmi_score(labels_true,labels_found, average_method='arithmetic')\n",
    "    return ami_score(labels_true,labels_found, average_method='arithmetic')"
   ],
   "metadata": {
    "collapsed": false,
    "pycharm": {
     "name": "#%% imports\n",
     "is_executing": false
    }
   }
  },
  {
   "cell_type": "code",
   "execution_count": 17,
   "outputs": [
    {
     "traceback": [
      "\u001b[0;31m---------------------------------------------------------------------------\u001b[0m",
      "\u001b[0;31mKeyboardInterrupt\u001b[0m                         Traceback (most recent call last)",
      "\u001b[0;32m<ipython-input-17-6cab852182c4>\u001b[0m in \u001b[0;36m<module>\u001b[0;34m\u001b[0m\n\u001b[1;32m      6\u001b[0m \u001b[0;31m# load network\u001b[0m\u001b[0;34m\u001b[0m\u001b[0;34m\u001b[0m\u001b[0;34m\u001b[0m\u001b[0m\n\u001b[1;32m      7\u001b[0m \u001b[0mpath\u001b[0m \u001b[0;34m=\u001b[0m \u001b[0;34m'./realworld/com-'\u001b[0m \u001b[0;34m+\u001b[0m \u001b[0mdataset\u001b[0m \u001b[0;34m+\u001b[0m \u001b[0;34m'.ungraph.txt'\u001b[0m\u001b[0;34m\u001b[0m\u001b[0;34m\u001b[0m\u001b[0m\n\u001b[0;32m----> 8\u001b[0;31m \u001b[0mG\u001b[0m \u001b[0;34m=\u001b[0m \u001b[0mnx\u001b[0m\u001b[0;34m.\u001b[0m\u001b[0mread_adjlist\u001b[0m\u001b[0;34m(\u001b[0m\u001b[0mpath\u001b[0m\u001b[0;34m,\u001b[0m \u001b[0mcreate_using\u001b[0m\u001b[0;34m=\u001b[0m\u001b[0mnx\u001b[0m\u001b[0;34m.\u001b[0m\u001b[0mGraph\u001b[0m\u001b[0;34m,\u001b[0m \u001b[0mnodetype\u001b[0m\u001b[0;34m=\u001b[0m\u001b[0mstr\u001b[0m\u001b[0;34m)\u001b[0m\u001b[0;34m\u001b[0m\u001b[0;34m\u001b[0m\u001b[0m\n\u001b[0m\u001b[1;32m      9\u001b[0m \u001b[0;34m\u001b[0m\u001b[0m\n\u001b[1;32m     10\u001b[0m \u001b[0mprint\u001b[0m\u001b[0;34m(\u001b[0m\u001b[0;34mf'There are {len(G.nodes())} nodes in the network'\u001b[0m\u001b[0;34m)\u001b[0m\u001b[0;34m\u001b[0m\u001b[0;34m\u001b[0m\u001b[0m\n",
      "\u001b[0;32m</home/chri/python_environments/myDevEnv/lib/python3.7/site-packages/decorator.py:decorator-gen-735>\u001b[0m in \u001b[0;36mread_adjlist\u001b[0;34m(path, comments, delimiter, create_using, nodetype, encoding)\u001b[0m\n",
      "\u001b[0;32m~/python_environments/myDevEnv/lib/python3.7/site-packages/networkx/utils/decorators.py\u001b[0m in \u001b[0;36m_open_file\u001b[0;34m(func_to_be_decorated, *args, **kwargs)\u001b[0m\n\u001b[1;32m    238\u001b[0m         \u001b[0;31m# Finally, we call the original function, making sure to close the fobj\u001b[0m\u001b[0;34m\u001b[0m\u001b[0;34m\u001b[0m\u001b[0;34m\u001b[0m\u001b[0m\n\u001b[1;32m    239\u001b[0m         \u001b[0;32mtry\u001b[0m\u001b[0;34m:\u001b[0m\u001b[0;34m\u001b[0m\u001b[0;34m\u001b[0m\u001b[0m\n\u001b[0;32m--> 240\u001b[0;31m             \u001b[0mresult\u001b[0m \u001b[0;34m=\u001b[0m \u001b[0mfunc_to_be_decorated\u001b[0m\u001b[0;34m(\u001b[0m\u001b[0;34m*\u001b[0m\u001b[0mnew_args\u001b[0m\u001b[0;34m,\u001b[0m \u001b[0;34m**\u001b[0m\u001b[0mkwargs\u001b[0m\u001b[0;34m)\u001b[0m\u001b[0;34m\u001b[0m\u001b[0;34m\u001b[0m\u001b[0m\n\u001b[0m\u001b[1;32m    241\u001b[0m         \u001b[0;32mfinally\u001b[0m\u001b[0;34m:\u001b[0m\u001b[0;34m\u001b[0m\u001b[0;34m\u001b[0m\u001b[0m\n\u001b[1;32m    242\u001b[0m             \u001b[0;32mif\u001b[0m \u001b[0mclose_fobj\u001b[0m\u001b[0;34m:\u001b[0m\u001b[0;34m\u001b[0m\u001b[0;34m\u001b[0m\u001b[0m\n",
      "\u001b[0;32m~/python_environments/myDevEnv/lib/python3.7/site-packages/networkx/readwrite/adjlist.py\u001b[0m in \u001b[0;36mread_adjlist\u001b[0;34m(path, comments, delimiter, create_using, nodetype, encoding)\u001b[0m\n\u001b[1;32m    294\u001b[0m                          \u001b[0mdelimiter\u001b[0m\u001b[0;34m=\u001b[0m\u001b[0mdelimiter\u001b[0m\u001b[0;34m,\u001b[0m\u001b[0;34m\u001b[0m\u001b[0;34m\u001b[0m\u001b[0m\n\u001b[1;32m    295\u001b[0m                          \u001b[0mcreate_using\u001b[0m\u001b[0;34m=\u001b[0m\u001b[0mcreate_using\u001b[0m\u001b[0;34m,\u001b[0m\u001b[0;34m\u001b[0m\u001b[0;34m\u001b[0m\u001b[0m\n\u001b[0;32m--> 296\u001b[0;31m                          nodetype=nodetype)\n\u001b[0m\u001b[1;32m    297\u001b[0m \u001b[0;34m\u001b[0m\u001b[0m\n\u001b[1;32m    298\u001b[0m \u001b[0;34m\u001b[0m\u001b[0m\n",
      "\u001b[0;32m~/python_environments/myDevEnv/lib/python3.7/site-packages/networkx/readwrite/adjlist.py\u001b[0m in \u001b[0;36mparse_adjlist\u001b[0;34m(lines, comments, delimiter, create_using, nodetype)\u001b[0m\n\u001b[1;32m    200\u001b[0m             \u001b[0;32mcontinue\u001b[0m\u001b[0;34m\u001b[0m\u001b[0;34m\u001b[0m\u001b[0m\n\u001b[1;32m    201\u001b[0m         \u001b[0mvlist\u001b[0m \u001b[0;34m=\u001b[0m \u001b[0mline\u001b[0m\u001b[0;34m.\u001b[0m\u001b[0mstrip\u001b[0m\u001b[0;34m(\u001b[0m\u001b[0;34m)\u001b[0m\u001b[0;34m.\u001b[0m\u001b[0msplit\u001b[0m\u001b[0;34m(\u001b[0m\u001b[0mdelimiter\u001b[0m\u001b[0;34m)\u001b[0m\u001b[0;34m\u001b[0m\u001b[0;34m\u001b[0m\u001b[0m\n\u001b[0;32m--> 202\u001b[0;31m         \u001b[0mu\u001b[0m \u001b[0;34m=\u001b[0m \u001b[0mvlist\u001b[0m\u001b[0;34m.\u001b[0m\u001b[0mpop\u001b[0m\u001b[0;34m(\u001b[0m\u001b[0;36m0\u001b[0m\u001b[0;34m)\u001b[0m\u001b[0;34m\u001b[0m\u001b[0;34m\u001b[0m\u001b[0m\n\u001b[0m\u001b[1;32m    203\u001b[0m         \u001b[0;31m# convert types\u001b[0m\u001b[0;34m\u001b[0m\u001b[0;34m\u001b[0m\u001b[0;34m\u001b[0m\u001b[0m\n\u001b[1;32m    204\u001b[0m         \u001b[0;32mif\u001b[0m \u001b[0mnodetype\u001b[0m \u001b[0;32mis\u001b[0m \u001b[0;32mnot\u001b[0m \u001b[0;32mNone\u001b[0m\u001b[0;34m:\u001b[0m\u001b[0;34m\u001b[0m\u001b[0;34m\u001b[0m\u001b[0m\n",
      "\u001b[0;31mKeyboardInterrupt\u001b[0m: "
     ],
     "ename": "KeyboardInterrupt",
     "evalue": "",
     "output_type": "error"
    }
   ],
   "source": [
    "# dataset = 'dblp' # citation network; highly overlapping communities\n",
    "# dataset = 'youtube'\n",
    "dataset = 'lj' # live journal\n",
    "# dataset = 'amazon'\n",
    "\n",
    "# load network\n",
    "path = './realworld/com-' + dataset + '.ungraph.txt'\n",
    "G = nx.read_adjlist(path, create_using=nx.Graph, nodetype=str)\n",
    "\n",
    "print(f'There are {len(G.nodes())} nodes in the network')\n",
    "print(f'There are {len(G.edges())} edges in the network')\n",
    "\n",
    "# load groundtruth comms\n",
    "path = './realworld/com-' + dataset + '.top5000.cmty.txt'\n",
    "\n",
    "with open(path, 'r') as file:\n",
    "    lines = file.readlines()\n",
    "\n",
    "comm_list = [list(map(int, line.strip().split('\\t'))) for line in lines]\n",
    "\n",
    "node_ids = list(itertools.chain(*comm_list))\n",
    "labels = [i+1 for i,comm in enumerate(comm_list) for node in comm]\n",
    "communities_true = dict(zip(node_ids, labels))\n",
    "communities_true = OrderedDict(sorted(communities_true.items()))\n",
    "\n",
    "print (len(node_ids))\n",
    "print(len(np.unique(node_ids)))"
   ],
   "metadata": {
    "collapsed": false,
    "pycharm": {
     "name": "#%% load dataset\n",
     "is_executing": false
    }
   }
  },
  {
   "cell_type": "code",
   "execution_count": 15,
   "outputs": [
    {
     "name": "stdout",
     "text": [
      "Found 14221 communities.\nAchieved AMI is 0.9726783706462871.\n",
      "Found 14679 communities.\nAchieved AMI is 0.9712353318971827.\n"
     ],
     "output_type": "stream"
    }
   ],
   "source": [
    "# run community detection\n",
    "communities_found, num_communities_found,_,_ = infomap(G, altmap=False)\n",
    "ami = compute_ami(communities_true, communities_found)\n",
    "print (f'Found {num_communities_found} communities.')\n",
    "print (f'Achieved AMI is {ami}.')\n",
    "\n",
    "communities_found, num_communities_found,_,_ = infomap(G, altmap=True, update_inputfile=False)\n",
    "ami = compute_ami(communities_true, communities_found)\n",
    "print (f'Found {num_communities_found} communities.')\n",
    "print (f'Achieved AMI is {ami}.')\n",
    "\n",
    "# communities_found, num_communities_found,_,_ = infomap(G, altmap=True, init='sc')\n",
    "# print (f'We found {num_communities_found} communities.')\n",
    "\n",
    "# print results\n",
    "\n",
    "\n",
    "\n"
   ],
   "metadata": {
    "collapsed": false,
    "pycharm": {
     "name": "#%% find communities\n",
     "is_executing": false
    }
   }
  }
 ],
 "metadata": {
  "kernelspec": {
   "display_name": "Python 3",
   "language": "python",
   "name": "python3"
  },
  "language_info": {
   "codemirror_mode": {
    "name": "ipython",
    "version": 3
   },
   "file_extension": ".py",
   "mimetype": "text/x-python",
   "name": "python",
   "nbconvert_exporter": "python",
   "pygments_lexer": "ipython3",
   "version": "3.6.8"
  },
  "pycharm": {
   "stem_cell": {
    "cell_type": "raw",
    "source": [],
    "metadata": {
     "collapsed": false
    }
   }
  }
 },
 "nbformat": 4,
 "nbformat_minor": 1
}