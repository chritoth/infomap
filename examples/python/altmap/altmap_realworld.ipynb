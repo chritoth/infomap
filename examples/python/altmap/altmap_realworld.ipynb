{
 "cells": [
  {
   "cell_type": "markdown",
   "metadata": {
    "pycharm": {
     "name": "#%% md\n"
    }
   },
   "source": [
    "## Altmap Experiments\n",
    "### Compare altmap to map eq using networkx on realworld networks\n"
   ]
  },
  {
   "cell_type": "code",
   "execution_count": 2,
   "outputs": [
    {
     "name": "stdout",
     "text": [
      "Using matplotlib backend: Qt5Agg\nPopulating the interactive namespace from numpy and matplotlib\n"
     ],
     "output_type": "stream"
    }
   ],
   "source": [
    "import networkx as nx\n",
    "import numpy as np\n",
    "from sklearn.metrics import adjusted_mutual_info_score as ami_score\n",
    "from sklearn.metrics import normalized_mutual_info_score as nmi_score\n",
    "import itertools\n",
    "from collections import OrderedDict\n",
    "\n",
    "# show plots in separate window\n",
    "%pylab\n",
    "# load helpers and wrappers\n",
    "%run helpers.py \n",
    "\n",
    "# compute adjusted mutual information between two partitions\n",
    "def compute_ami(communities_true, communities_found):\n",
    "    \n",
    "    labels_true = list(communities_true.values())\n",
    "    \n",
    "    # remove nodes from found communities that are not in ground truth comms\n",
    "    communities_clean = {x:communities_found[x] for x in communities_found if x in communities_true} \n",
    "    labels_found = list(communities_clean.values())\n",
    "\n",
    "    # return nmi_score(labels_true,labels_found, average_method='arithmetic')\n",
    "    return ami_score(labels_true,labels_found, average_method='arithmetic')"
   ],
   "metadata": {
    "collapsed": false,
    "pycharm": {
     "name": "#%% imports\n",
     "is_executing": false
    }
   }
  },
  {
   "cell_type": "code",
   "execution_count": null,
   "outputs": [],
   "source": [
    "# dataset = 'dblp' # citation network; highly overlapping communities\n",
    "# dataset = 'youtube'\n",
    "dataset = 'lj' # live journal\n",
    "# dataset = 'amazon'\n",
    "\n",
    "# load network\n",
    "path = './realworld/com-' + dataset + '.ungraph.txt'\n",
    "G = nx.read_adjlist(path, create_using=nx.Graph, nodetype=int)\n",
    "all_nodes = set(G.nodes)\n",
    "\n",
    "print(f'There are {len(G.nodes())} nodes in the network')\n",
    "print(f'There are {len(G.edges())} edges in the network')\n",
    "\n",
    "# load groundtruth comms\n",
    "path = './realworld/com-' + dataset + '.top5000.cmty.txt'\n",
    "with open(path, 'r') as file:\n",
    "    lines = file.readlines()\n",
    "\n",
    "comm_list = [list(map(int, line.strip().split('\\t'))) for line in lines]\n",
    "node_ids = list(itertools.chain(*comm_list))\n",
    "labels = [i+1 for i,comm in enumerate(comm_list) for node in comm]\n",
    "communities_true = dict(zip(node_ids, labels))\n",
    "communities_true = OrderedDict(sorted(communities_true.items()))\n",
    "\n",
    "nodes_in_top = set(np.unique(node_ids)) # node ids occuring in some top community\n",
    "nodes_not_in_top = all_nodes - nodes_in_top\n",
    "\n",
    "G_easy = G.copy()\n",
    "G_easy.remove_nodes_from(nodes_not_in_top)\n",
    "\n",
    "print(f'There are {len(nodes_in_top)} unique nodes in the top 5000 communities.')"
   ],
   "metadata": {
    "collapsed": false,
    "pycharm": {
     "name": "#%% load dataset\n",
     "is_executing": true
    }
   }
  },
  {
   "cell_type": "code",
   "execution_count": 12,
   "outputs": [
    {
     "name": "stdout",
     "text": [
      "Testing Infomap...\n",
      "Found 54434 communities.\n",
      "Found 10311 communities with top 5000 community nodes.\nAchieved RENDC is 1.0621999999999998.\n",
      "Achieved AMI is 0.4668699578832647.\nTesting Altmap...\n",
      "Found 88947 communities.\n",
      "Found 12492 communities with top 5000 community nodes.\nAchieved RENDC is 1.4984000000000002.\n",
      "Achieved AMI is 0.47012862178800996.\n"
     ],
     "output_type": "stream"
    }
   ],
   "source": [
    "reduced_network = False # remove nodes that are not in top 5000 comms from graph\n",
    "\n",
    "G_test = G_easy if reduced_network else G\n",
    "\n",
    "# run community detection for infomap\n",
    "print('Testing Infomap...')\n",
    "communities_found, num_communities_found,_,_ = infomap(G_test, altmap=False)\n",
    "print (f'Found {num_communities_found} communities.')\n",
    "\n",
    "if not reduced_network:\n",
    "    [communities_found.pop(node) for node in nodes_not_in_top]\n",
    "    num_communities_found = get_num_communities(communities_found)\n",
    "\n",
    "print (f'Found {num_communities_found} communities with top 5000 community nodes.')\n",
    "print (f'Achieved RENDC is {num_communities_found/5000.0 - 1}.')\n",
    "\n",
    "ami = compute_ami(communities_true, communities_found)\n",
    "print (f'Achieved AMI is {ami}.')\n",
    "\n",
    "\n",
    "# run community detection for altmap\n",
    "print('Testing Altmap...')\n",
    "communities_found, num_communities_found,_,_ = infomap(G_test, altmap=True, update_inputfile=False)\n",
    "print (f'Found {num_communities_found} communities.')\n",
    "\n",
    "if not reduced_network:\n",
    "    [communities_found.pop(node) for node in nodes_not_in_top]\n",
    "    num_communities_found = get_num_communities(communities_found)\n",
    "    \n",
    "print (f'Found {num_communities_found} communities with top 5000 community nodes.')\n",
    "print (f'Achieved RENDC is {num_communities_found/5000.0 - 1}.')\n",
    "\n",
    "ami = compute_ami(communities_true, communities_found)\n",
    "print (f'Achieved AMI is {ami}.')\n"
   ],
   "metadata": {
    "collapsed": false,
    "pycharm": {
     "name": "#%% find communities\n",
     "is_executing": false
    }
   }
  }
 ],
 "metadata": {
  "kernelspec": {
   "display_name": "Python 3",
   "language": "python",
   "name": "python3"
  },
  "language_info": {
   "codemirror_mode": {
    "name": "ipython",
    "version": 3
   },
   "file_extension": ".py",
   "mimetype": "text/x-python",
   "name": "python",
   "nbconvert_exporter": "python",
   "pygments_lexer": "ipython3",
   "version": "3.6.8"
  },
  "pycharm": {
   "stem_cell": {
    "cell_type": "raw",
    "source": [],
    "metadata": {
     "collapsed": false
    }
   }
  }
 },
 "nbformat": 4,
 "nbformat_minor": 1
}